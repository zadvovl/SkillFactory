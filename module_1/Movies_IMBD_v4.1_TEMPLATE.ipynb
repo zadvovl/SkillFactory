{
 "cells": [
  {
   "cell_type": "code",
   "execution_count": 60,
   "metadata": {
    "_cell_guid": "b1076dfc-b9ad-4769-8c92-a6c4dae69d19",
    "_uuid": "8f2839f25d086af736a60e9eeb907d3b93b6e0e5",
    "colab": {},
    "colab_type": "code",
    "id": "U2D2gTdJVp90"
   },
   "outputs": [],
   "source": [
    "import numpy as np\n",
    "import pandas as pd\n",
    "import seaborn as sns\n",
    "import matplotlib.pyplot as plt\n",
    "from collections import Counter"
   ]
  },
  {
   "cell_type": "code",
   "execution_count": 2,
   "metadata": {
    "_cell_guid": "79c7e3d0-c299-4dcb-8224-4455121ee9b0",
    "_uuid": "d629ff2d2480ee46fbb7e2d37f6b5fab8052498a",
    "colab": {},
    "colab_type": "code",
    "id": "oyGfxL3eVp9-"
   },
   "outputs": [
    {
     "data": {
      "text/html": [
       "<div>\n",
       "<style scoped>\n",
       "    .dataframe tbody tr th:only-of-type {\n",
       "        vertical-align: middle;\n",
       "    }\n",
       "\n",
       "    .dataframe tbody tr th {\n",
       "        vertical-align: top;\n",
       "    }\n",
       "\n",
       "    .dataframe thead th {\n",
       "        text-align: right;\n",
       "    }\n",
       "</style>\n",
       "<table border=\"1\" class=\"dataframe\">\n",
       "  <thead>\n",
       "    <tr style=\"text-align: right;\">\n",
       "      <th></th>\n",
       "      <th>imdb_id</th>\n",
       "      <th>budget</th>\n",
       "      <th>revenue</th>\n",
       "      <th>original_title</th>\n",
       "      <th>cast</th>\n",
       "      <th>director</th>\n",
       "      <th>tagline</th>\n",
       "      <th>overview</th>\n",
       "      <th>runtime</th>\n",
       "      <th>genres</th>\n",
       "      <th>production_companies</th>\n",
       "      <th>release_date</th>\n",
       "      <th>vote_average</th>\n",
       "      <th>release_year</th>\n",
       "    </tr>\n",
       "  </thead>\n",
       "  <tbody>\n",
       "    <tr>\n",
       "      <th>1406</th>\n",
       "      <td>tt0365485</td>\n",
       "      <td>10000000</td>\n",
       "      <td>17297244</td>\n",
       "      <td>The Matador</td>\n",
       "      <td>Pierce Brosnan|Greg Kinnear|Hope Davis|Portia ...</td>\n",
       "      <td>Richard Shepard</td>\n",
       "      <td>A hitman and a salesman walk into a bar...</td>\n",
       "      <td>The life of Danny Wright, a salesman forever o...</td>\n",
       "      <td>96</td>\n",
       "      <td>Action|Comedy|Crime|Drama|Thriller</td>\n",
       "      <td>Miramax Films</td>\n",
       "      <td>5/12/2005</td>\n",
       "      <td>6.0</td>\n",
       "      <td>2005</td>\n",
       "    </tr>\n",
       "    <tr>\n",
       "      <th>672</th>\n",
       "      <td>tt1034331</td>\n",
       "      <td>60000000</td>\n",
       "      <td>73174566</td>\n",
       "      <td>Righteous Kill</td>\n",
       "      <td>Robert De Niro|Carla Gugino|50 Cent|Al Pacino|...</td>\n",
       "      <td>Jon Avnet</td>\n",
       "      <td>Most people respect the badge. Everybody respe...</td>\n",
       "      <td>Two veteran New York City detectives work to i...</td>\n",
       "      <td>101</td>\n",
       "      <td>Action|Adventure|Crime|Drama|Thriller</td>\n",
       "      <td>Grosvenor Park Media Ltd.|InVenture Entertainm...</td>\n",
       "      <td>9/11/2008</td>\n",
       "      <td>5.8</td>\n",
       "      <td>2008</td>\n",
       "    </tr>\n",
       "    <tr>\n",
       "      <th>20</th>\n",
       "      <td>tt1964418</td>\n",
       "      <td>190000000</td>\n",
       "      <td>209035668</td>\n",
       "      <td>Tomorrowland</td>\n",
       "      <td>Britt Robertson|George Clooney|Raffey Cassidy|...</td>\n",
       "      <td>Brad Bird</td>\n",
       "      <td>Imagine a world where nothing is impossible.</td>\n",
       "      <td>Bound by a shared destiny, a bright, optimisti...</td>\n",
       "      <td>130</td>\n",
       "      <td>Action|Family|Science Fiction|Adventure|Mystery</td>\n",
       "      <td>Walt Disney Pictures|Babieka|A113</td>\n",
       "      <td>5/19/2015</td>\n",
       "      <td>6.2</td>\n",
       "      <td>2015</td>\n",
       "    </tr>\n",
       "    <tr>\n",
       "      <th>1816</th>\n",
       "      <td>tt0141926</td>\n",
       "      <td>62000000</td>\n",
       "      <td>127666415</td>\n",
       "      <td>U-571</td>\n",
       "      <td>Matthew McConaughey|Bill Paxton|Harvey Keitel|...</td>\n",
       "      <td>Jonathan Mostow</td>\n",
       "      <td>Heroes are ordinary men who do extraordinary t...</td>\n",
       "      <td>In the midst of World War II, the battle below...</td>\n",
       "      <td>116</td>\n",
       "      <td>Action|Drama|Thriller|War</td>\n",
       "      <td>Universal Pictures|Canal Plus|Dino De Laurenti...</td>\n",
       "      <td>4/20/2000</td>\n",
       "      <td>6.1</td>\n",
       "      <td>2000</td>\n",
       "    </tr>\n",
       "    <tr>\n",
       "      <th>215</th>\n",
       "      <td>tt2103254</td>\n",
       "      <td>20000000</td>\n",
       "      <td>100525432</td>\n",
       "      <td>Tammy</td>\n",
       "      <td>Melissa McCarthy|Susan Sarandon|Kathy Bates|Al...</td>\n",
       "      <td>Ben Falcone</td>\n",
       "      <td>She hit the road. The road hit back.</td>\n",
       "      <td>After losing her job and learning that her hus...</td>\n",
       "      <td>97</td>\n",
       "      <td>Comedy</td>\n",
       "      <td>New Line Cinema|Gary Sanchez Productions</td>\n",
       "      <td>7/2/2014</td>\n",
       "      <td>5.1</td>\n",
       "      <td>2014</td>\n",
       "    </tr>\n",
       "  </tbody>\n",
       "</table>\n",
       "</div>"
      ],
      "text/plain": [
       "        imdb_id     budget    revenue  original_title  \\\n",
       "1406  tt0365485   10000000   17297244     The Matador   \n",
       "672   tt1034331   60000000   73174566  Righteous Kill   \n",
       "20    tt1964418  190000000  209035668    Tomorrowland   \n",
       "1816  tt0141926   62000000  127666415           U-571   \n",
       "215   tt2103254   20000000  100525432           Tammy   \n",
       "\n",
       "                                                   cast         director  \\\n",
       "1406  Pierce Brosnan|Greg Kinnear|Hope Davis|Portia ...  Richard Shepard   \n",
       "672   Robert De Niro|Carla Gugino|50 Cent|Al Pacino|...        Jon Avnet   \n",
       "20    Britt Robertson|George Clooney|Raffey Cassidy|...        Brad Bird   \n",
       "1816  Matthew McConaughey|Bill Paxton|Harvey Keitel|...  Jonathan Mostow   \n",
       "215   Melissa McCarthy|Susan Sarandon|Kathy Bates|Al...      Ben Falcone   \n",
       "\n",
       "                                                tagline  \\\n",
       "1406         A hitman and a salesman walk into a bar...   \n",
       "672   Most people respect the badge. Everybody respe...   \n",
       "20         Imagine a world where nothing is impossible.   \n",
       "1816  Heroes are ordinary men who do extraordinary t...   \n",
       "215                She hit the road. The road hit back.   \n",
       "\n",
       "                                               overview  runtime  \\\n",
       "1406  The life of Danny Wright, a salesman forever o...       96   \n",
       "672   Two veteran New York City detectives work to i...      101   \n",
       "20    Bound by a shared destiny, a bright, optimisti...      130   \n",
       "1816  In the midst of World War II, the battle below...      116   \n",
       "215   After losing her job and learning that her hus...       97   \n",
       "\n",
       "                                               genres  \\\n",
       "1406               Action|Comedy|Crime|Drama|Thriller   \n",
       "672             Action|Adventure|Crime|Drama|Thriller   \n",
       "20    Action|Family|Science Fiction|Adventure|Mystery   \n",
       "1816                        Action|Drama|Thriller|War   \n",
       "215                                            Comedy   \n",
       "\n",
       "                                   production_companies release_date  \\\n",
       "1406                                      Miramax Films    5/12/2005   \n",
       "672   Grosvenor Park Media Ltd.|InVenture Entertainm...    9/11/2008   \n",
       "20                    Walt Disney Pictures|Babieka|A113    5/19/2015   \n",
       "1816  Universal Pictures|Canal Plus|Dino De Laurenti...    4/20/2000   \n",
       "215            New Line Cinema|Gary Sanchez Productions     7/2/2014   \n",
       "\n",
       "      vote_average  release_year  \n",
       "1406           6.0          2005  \n",
       "672            5.8          2008  \n",
       "20             6.2          2015  \n",
       "1816           6.1          2000  \n",
       "215            5.1          2014  "
      ]
     },
     "execution_count": 2,
     "metadata": {},
     "output_type": "execute_result"
    }
   ],
   "source": [
    "data = pd.read_csv('movie_bd_v5.xls')\n",
    "data.sample(5)"
   ]
  },
  {
   "cell_type": "code",
   "execution_count": 99,
   "metadata": {
    "colab": {},
    "colab_type": "code",
    "id": "CoYUnagMVp-C"
   },
   "outputs": [
    {
     "data": {
      "text/html": [
       "<div>\n",
       "<style scoped>\n",
       "    .dataframe tbody tr th:only-of-type {\n",
       "        vertical-align: middle;\n",
       "    }\n",
       "\n",
       "    .dataframe tbody tr th {\n",
       "        vertical-align: top;\n",
       "    }\n",
       "\n",
       "    .dataframe thead th {\n",
       "        text-align: right;\n",
       "    }\n",
       "</style>\n",
       "<table border=\"1\" class=\"dataframe\">\n",
       "  <thead>\n",
       "    <tr style=\"text-align: right;\">\n",
       "      <th></th>\n",
       "      <th>imdb_id</th>\n",
       "      <th>budget</th>\n",
       "      <th>revenue</th>\n",
       "      <th>original_title</th>\n",
       "      <th>cast</th>\n",
       "      <th>director</th>\n",
       "      <th>tagline</th>\n",
       "      <th>overview</th>\n",
       "      <th>runtime</th>\n",
       "      <th>genres</th>\n",
       "      <th>...</th>\n",
       "      <th>release_date</th>\n",
       "      <th>vote_average</th>\n",
       "      <th>release_year</th>\n",
       "      <th>profit</th>\n",
       "      <th>genres_list</th>\n",
       "      <th>director_list</th>\n",
       "      <th>cast_list</th>\n",
       "      <th>release_month</th>\n",
       "      <th>production_companies_list</th>\n",
       "      <th>title_length</th>\n",
       "    </tr>\n",
       "  </thead>\n",
       "  <tbody>\n",
       "    <tr>\n",
       "      <th>0</th>\n",
       "      <td>tt0369610</td>\n",
       "      <td>150000000</td>\n",
       "      <td>1513528810</td>\n",
       "      <td>Jurassic World</td>\n",
       "      <td>Chris Pratt|Bryce Dallas Howard|Irrfan Khan|Vi...</td>\n",
       "      <td>Colin Trevorrow</td>\n",
       "      <td>The park is open.</td>\n",
       "      <td>Twenty-two years after the events of Jurassic ...</td>\n",
       "      <td>124</td>\n",
       "      <td>Action|Adventure|Science Fiction|Thriller</td>\n",
       "      <td>...</td>\n",
       "      <td>2015-06-09</td>\n",
       "      <td>6.5</td>\n",
       "      <td>2015</td>\n",
       "      <td>1363528810</td>\n",
       "      <td>[Action, Adventure, Science Fiction, Thriller]</td>\n",
       "      <td>[Colin Trevorrow]</td>\n",
       "      <td>[Chris Pratt, Bryce Dallas Howard, Irrfan Khan...</td>\n",
       "      <td>June</td>\n",
       "      <td>[Universal Studios, Amblin Entertainment, Lege...</td>\n",
       "      <td>14</td>\n",
       "    </tr>\n",
       "    <tr>\n",
       "      <th>1</th>\n",
       "      <td>tt1392190</td>\n",
       "      <td>150000000</td>\n",
       "      <td>378436354</td>\n",
       "      <td>Mad Max: Fury Road</td>\n",
       "      <td>Tom Hardy|Charlize Theron|Hugh Keays-Byrne|Nic...</td>\n",
       "      <td>George Miller</td>\n",
       "      <td>What a Lovely Day.</td>\n",
       "      <td>An apocalyptic story set in the furthest reach...</td>\n",
       "      <td>120</td>\n",
       "      <td>Action|Adventure|Science Fiction|Thriller</td>\n",
       "      <td>...</td>\n",
       "      <td>2015-05-13</td>\n",
       "      <td>7.1</td>\n",
       "      <td>2015</td>\n",
       "      <td>228436354</td>\n",
       "      <td>[Action, Adventure, Science Fiction, Thriller]</td>\n",
       "      <td>[George Miller]</td>\n",
       "      <td>[Tom Hardy, Charlize Theron, Hugh Keays-Byrne,...</td>\n",
       "      <td>May</td>\n",
       "      <td>[Village Roadshow Pictures, Kennedy Miller Pro...</td>\n",
       "      <td>18</td>\n",
       "    </tr>\n",
       "    <tr>\n",
       "      <th>2</th>\n",
       "      <td>tt2908446</td>\n",
       "      <td>110000000</td>\n",
       "      <td>295238201</td>\n",
       "      <td>Insurgent</td>\n",
       "      <td>Shailene Woodley|Theo James|Kate Winslet|Ansel...</td>\n",
       "      <td>Robert Schwentke</td>\n",
       "      <td>One Choice Can Destroy You</td>\n",
       "      <td>Beatrice Prior must confront her inner demons ...</td>\n",
       "      <td>119</td>\n",
       "      <td>Adventure|Science Fiction|Thriller</td>\n",
       "      <td>...</td>\n",
       "      <td>2015-03-18</td>\n",
       "      <td>6.3</td>\n",
       "      <td>2015</td>\n",
       "      <td>185238201</td>\n",
       "      <td>[Adventure, Science Fiction, Thriller]</td>\n",
       "      <td>[Robert Schwentke]</td>\n",
       "      <td>[Shailene Woodley, Theo James, Kate Winslet, A...</td>\n",
       "      <td>March</td>\n",
       "      <td>[Summit Entertainment, Mandeville Films, Red W...</td>\n",
       "      <td>9</td>\n",
       "    </tr>\n",
       "    <tr>\n",
       "      <th>3</th>\n",
       "      <td>tt2488496</td>\n",
       "      <td>200000000</td>\n",
       "      <td>2068178225</td>\n",
       "      <td>Star Wars: The Force Awakens</td>\n",
       "      <td>Harrison Ford|Mark Hamill|Carrie Fisher|Adam D...</td>\n",
       "      <td>J.J. Abrams</td>\n",
       "      <td>Every generation has a story.</td>\n",
       "      <td>Thirty years after defeating the Galactic Empi...</td>\n",
       "      <td>136</td>\n",
       "      <td>Action|Adventure|Science Fiction|Fantasy</td>\n",
       "      <td>...</td>\n",
       "      <td>2015-12-15</td>\n",
       "      <td>7.5</td>\n",
       "      <td>2015</td>\n",
       "      <td>1868178225</td>\n",
       "      <td>[Action, Adventure, Science Fiction, Fantasy]</td>\n",
       "      <td>[J.J. Abrams]</td>\n",
       "      <td>[Harrison Ford, Mark Hamill, Carrie Fisher, Ad...</td>\n",
       "      <td>December</td>\n",
       "      <td>[Lucasfilm, Truenorth Productions, Bad Robot]</td>\n",
       "      <td>28</td>\n",
       "    </tr>\n",
       "    <tr>\n",
       "      <th>4</th>\n",
       "      <td>tt2820852</td>\n",
       "      <td>190000000</td>\n",
       "      <td>1506249360</td>\n",
       "      <td>Furious 7</td>\n",
       "      <td>Vin Diesel|Paul Walker|Jason Statham|Michelle ...</td>\n",
       "      <td>James Wan</td>\n",
       "      <td>Vengeance Hits Home</td>\n",
       "      <td>Deckard Shaw seeks revenge against Dominic Tor...</td>\n",
       "      <td>137</td>\n",
       "      <td>Action|Crime|Thriller</td>\n",
       "      <td>...</td>\n",
       "      <td>2015-04-01</td>\n",
       "      <td>7.3</td>\n",
       "      <td>2015</td>\n",
       "      <td>1316249360</td>\n",
       "      <td>[Action, Crime, Thriller]</td>\n",
       "      <td>[James Wan]</td>\n",
       "      <td>[Vin Diesel, Paul Walker, Jason Statham, Miche...</td>\n",
       "      <td>April</td>\n",
       "      <td>[Universal Pictures, Original Film, Media Righ...</td>\n",
       "      <td>9</td>\n",
       "    </tr>\n",
       "  </tbody>\n",
       "</table>\n",
       "<p>5 rows × 21 columns</p>\n",
       "</div>"
      ],
      "text/plain": [
       "     imdb_id     budget     revenue                original_title  \\\n",
       "0  tt0369610  150000000  1513528810                Jurassic World   \n",
       "1  tt1392190  150000000   378436354            Mad Max: Fury Road   \n",
       "2  tt2908446  110000000   295238201                     Insurgent   \n",
       "3  tt2488496  200000000  2068178225  Star Wars: The Force Awakens   \n",
       "4  tt2820852  190000000  1506249360                     Furious 7   \n",
       "\n",
       "                                                cast          director  \\\n",
       "0  Chris Pratt|Bryce Dallas Howard|Irrfan Khan|Vi...   Colin Trevorrow   \n",
       "1  Tom Hardy|Charlize Theron|Hugh Keays-Byrne|Nic...     George Miller   \n",
       "2  Shailene Woodley|Theo James|Kate Winslet|Ansel...  Robert Schwentke   \n",
       "3  Harrison Ford|Mark Hamill|Carrie Fisher|Adam D...       J.J. Abrams   \n",
       "4  Vin Diesel|Paul Walker|Jason Statham|Michelle ...         James Wan   \n",
       "\n",
       "                         tagline  \\\n",
       "0              The park is open.   \n",
       "1             What a Lovely Day.   \n",
       "2     One Choice Can Destroy You   \n",
       "3  Every generation has a story.   \n",
       "4            Vengeance Hits Home   \n",
       "\n",
       "                                            overview  runtime  \\\n",
       "0  Twenty-two years after the events of Jurassic ...      124   \n",
       "1  An apocalyptic story set in the furthest reach...      120   \n",
       "2  Beatrice Prior must confront her inner demons ...      119   \n",
       "3  Thirty years after defeating the Galactic Empi...      136   \n",
       "4  Deckard Shaw seeks revenge against Dominic Tor...      137   \n",
       "\n",
       "                                      genres  ... release_date vote_average  \\\n",
       "0  Action|Adventure|Science Fiction|Thriller  ...   2015-06-09          6.5   \n",
       "1  Action|Adventure|Science Fiction|Thriller  ...   2015-05-13          7.1   \n",
       "2         Adventure|Science Fiction|Thriller  ...   2015-03-18          6.3   \n",
       "3   Action|Adventure|Science Fiction|Fantasy  ...   2015-12-15          7.5   \n",
       "4                      Action|Crime|Thriller  ...   2015-04-01          7.3   \n",
       "\n",
       "   release_year      profit                                     genres_list  \\\n",
       "0          2015  1363528810  [Action, Adventure, Science Fiction, Thriller]   \n",
       "1          2015   228436354  [Action, Adventure, Science Fiction, Thriller]   \n",
       "2          2015   185238201          [Adventure, Science Fiction, Thriller]   \n",
       "3          2015  1868178225   [Action, Adventure, Science Fiction, Fantasy]   \n",
       "4          2015  1316249360                       [Action, Crime, Thriller]   \n",
       "\n",
       "        director_list                                          cast_list  \\\n",
       "0   [Colin Trevorrow]  [Chris Pratt, Bryce Dallas Howard, Irrfan Khan...   \n",
       "1     [George Miller]  [Tom Hardy, Charlize Theron, Hugh Keays-Byrne,...   \n",
       "2  [Robert Schwentke]  [Shailene Woodley, Theo James, Kate Winslet, A...   \n",
       "3       [J.J. Abrams]  [Harrison Ford, Mark Hamill, Carrie Fisher, Ad...   \n",
       "4         [James Wan]  [Vin Diesel, Paul Walker, Jason Statham, Miche...   \n",
       "\n",
       "  release_month                          production_companies_list  \\\n",
       "0          June  [Universal Studios, Amblin Entertainment, Lege...   \n",
       "1           May  [Village Roadshow Pictures, Kennedy Miller Pro...   \n",
       "2         March  [Summit Entertainment, Mandeville Films, Red W...   \n",
       "3      December      [Lucasfilm, Truenorth Productions, Bad Robot]   \n",
       "4         April  [Universal Pictures, Original Film, Media Righ...   \n",
       "\n",
       "  title_length  \n",
       "0           14  \n",
       "1           18  \n",
       "2            9  \n",
       "3           28  \n",
       "4            9  \n",
       "\n",
       "[5 rows x 21 columns]"
      ]
     },
     "execution_count": 99,
     "metadata": {},
     "output_type": "execute_result"
    }
   ],
   "source": [
    "#data.describe()\n",
    "#data.head(16)\n",
    "#data.info()\n",
    "data.head(5)"
   ]
  },
  {
   "cell_type": "markdown",
   "metadata": {
    "colab_type": "text",
    "id": "DTIt7ezGVp-G"
   },
   "source": [
    "# Предобработка"
   ]
  },
  {
   "cell_type": "code",
   "execution_count": 98,
   "metadata": {
    "colab": {},
    "colab_type": "code",
    "id": "jNb40DwKVp-H"
   },
   "outputs": [],
   "source": [
    "'''\n",
    "Defining a function that accepts a result \n",
    "and an output type as arguments and returns\n",
    "a result in a way that can be written directly\n",
    "into a dictinary that is used below \n",
    "to store answers.\n",
    "\n",
    "This function is here to avoid copying and\n",
    "pasting the results all the time.\n",
    "\n",
    "More comments inside the function itself.\n",
    "'''\n",
    "\n",
    "def store_answer(result, out_type):\n",
    "    # id_and_movie returns an answer \n",
    "    # formatted like this (example below):\n",
    "    # 'Some movie name (tt123456)'\n",
    "    if out_type == 'id_and_movie':\n",
    "        return f\"{result['original_title'].values[0]} ({result['imdb_id'].values[0]})\"\n",
    "    elif out_type == 'single_value':\n",
    "        return result\n",
    "    else:\n",
    "        return \"Undefined output type. Please fix.\"\n",
    "    \n",
    "# dictionary for the answers\n",
    "#answers = {}\n",
    "\n",
    "# adding a profit column to our dataframe\n",
    "data['profit'] = data['revenue'] - data['budget']\n",
    "\n",
    "# creating a separate column where genres are\n",
    "# stored as lists (not as strings separeted by |)\n",
    "data['genres_list'] = data['genres'].apply(lambda x: x.split(sep='|'))\n",
    "\n",
    "# separate column where directors are stored\n",
    "# as lists (some movies have multiple directors)\n",
    "data['director_list'] = data['director'].apply(lambda x: x.split(sep='|'))\n",
    "\n",
    "# separate column where actors are stored\n",
    "# as lists (movies have multiple actors)\n",
    "data['cast_list'] = data['cast'].apply(lambda x: x.split(sep='|'))\n",
    "\n",
    "# separate column where companies are stored\n",
    "# as lists (movies have multiple production companies)\n",
    "data['production_companies_list'] = data['production_companies'].apply(lambda x: x.split(sep='|'))\n",
    "\n",
    "# changing date string to datetime format\n",
    "data['release_date'] = pd.to_datetime(data['release_date']) \n",
    "\n",
    "# adding a separate release_month column\n",
    "data['release_month'] = pd.DatetimeIndex(data['release_date']).month_name()\n",
    "\n",
    "# adding a separate column with title length\n",
    "data['title_length'] = data['original_title'].str.len()"
   ]
  },
  {
   "cell_type": "markdown",
   "metadata": {
    "colab_type": "text",
    "id": "YxZaH-nPVp-L"
   },
   "source": [
    "# 1. У какого фильма из списка самый большой бюджет?"
   ]
  },
  {
   "cell_type": "markdown",
   "metadata": {
    "colab_type": "text",
    "id": "Nd-G5gX6Vp-M"
   },
   "source": [
    "Использовать варианты ответов в коде решения запрещено.    \n",
    "Вы думаете и в жизни у вас будут варианты ответов?)"
   ]
  },
  {
   "cell_type": "code",
   "execution_count": 28,
   "metadata": {
    "colab": {},
    "colab_type": "code",
    "id": "dZwb3m28Vp-S"
   },
   "outputs": [],
   "source": [
    "answer_1 = data[data['budget'] == data['budget'].max()]\n",
    "answers['1'] = store_answer(answer_1, 'id_and_movie')"
   ]
  },
  {
   "cell_type": "markdown",
   "metadata": {
    "colab_type": "text",
    "id": "FNRbbI3vVp-c"
   },
   "source": [
    "# 2. Какой из фильмов самый длительный (в минутах)?"
   ]
  },
  {
   "cell_type": "code",
   "execution_count": 29,
   "metadata": {
    "colab": {},
    "colab_type": "code",
    "id": "vHAoEXNTVp-d"
   },
   "outputs": [],
   "source": [
    "answer_2 = data[data['runtime'] == data['runtime'].max()]\n",
    "answers['2'] = store_answer(answer_2, 'id_and_movie')"
   ]
  },
  {
   "cell_type": "markdown",
   "metadata": {
    "colab_type": "text",
    "id": "bapLlpW8Vp-k"
   },
   "source": [
    "# 3. Какой из фильмов самый короткий (в минутах)?\n",
    "\n",
    "\n",
    "\n"
   ]
  },
  {
   "cell_type": "code",
   "execution_count": 30,
   "metadata": {},
   "outputs": [],
   "source": [
    "answer_3 = data[data['runtime'] == data['runtime'].min()]\n",
    "answers['3'] = store_answer(answer_3, 'id_and_movie')"
   ]
  },
  {
   "cell_type": "markdown",
   "metadata": {
    "colab_type": "text",
    "id": "TfQbxbfNVp-p"
   },
   "source": [
    "# 4. Какова средняя длительность фильмов?\n"
   ]
  },
  {
   "cell_type": "code",
   "execution_count": 31,
   "metadata": {
    "colab": {},
    "colab_type": "code",
    "id": "5K6dKZYVVp-q"
   },
   "outputs": [],
   "source": [
    "answer_4 = int(round(data['runtime'].mean(),0))\n",
    "answers['4'] = store_answer(answer_4, 'single_value')"
   ]
  },
  {
   "cell_type": "markdown",
   "metadata": {
    "colab_type": "text",
    "id": "r5TvbnT_Vp-u"
   },
   "source": [
    "# 5. Каково медианное значение длительности фильмов? "
   ]
  },
  {
   "cell_type": "code",
   "execution_count": 32,
   "metadata": {
    "colab": {},
    "colab_type": "code",
    "id": "iBROplKnVp-v"
   },
   "outputs": [],
   "source": [
    "answer_5 = int(round(data['runtime'].median(),0))\n",
    "answers['5'] = store_answer(answer_5, 'single_value')"
   ]
  },
  {
   "cell_type": "markdown",
   "metadata": {
    "colab_type": "text",
    "id": "39P-deDSVp-y"
   },
   "source": [
    "# 6. Какой самый прибыльный фильм?\n",
    "#### Внимание! Здесь и далее под «прибылью» или «убытками» понимается разность между сборами и бюджетом фильма. (прибыль = сборы - бюджет) в нашем датасете это будет (profit = revenue - budget) "
   ]
  },
  {
   "cell_type": "code",
   "execution_count": 33,
   "metadata": {
    "colab": {},
    "colab_type": "code",
    "id": "UYZh4T9WVp-y"
   },
   "outputs": [],
   "source": [
    "answer_6 = data[data['profit'] == data['profit'].max()]\n",
    "answers['6'] = store_answer(answer_6, 'id_and_movie')"
   ]
  },
  {
   "cell_type": "markdown",
   "metadata": {
    "colab_type": "text",
    "id": "M99JmIX4Vp-2"
   },
   "source": [
    "# 7. Какой фильм самый убыточный? "
   ]
  },
  {
   "cell_type": "code",
   "execution_count": 34,
   "metadata": {
    "colab": {},
    "colab_type": "code",
    "id": "w-D2m4XPVp-3"
   },
   "outputs": [],
   "source": [
    "answer_7 = data[data['profit'] == data['profit'].min()]\n",
    "answers['7'] = store_answer(answer_7, 'id_and_movie')"
   ]
  },
  {
   "cell_type": "markdown",
   "metadata": {
    "colab_type": "text",
    "id": "wEOM5ERVVp-6"
   },
   "source": [
    "# 8. У скольких фильмов из датасета объем сборов оказался выше бюджета?"
   ]
  },
  {
   "cell_type": "code",
   "execution_count": 35,
   "metadata": {
    "colab": {},
    "colab_type": "code",
    "id": "y00_7HD6Vp-7"
   },
   "outputs": [],
   "source": [
    "answer_8 = len(data[data['profit'] > 0])\n",
    "answers['8'] = store_answer(answer_8, 'single_value')"
   ]
  },
  {
   "cell_type": "markdown",
   "metadata": {
    "colab_type": "text",
    "id": "xhpspA9KVp_A"
   },
   "source": [
    "# 9. Какой фильм оказался самым кассовым в 2008 году?"
   ]
  },
  {
   "cell_type": "code",
   "execution_count": 36,
   "metadata": {
    "colab": {},
    "colab_type": "code",
    "id": "MoUyQr9RVp_B"
   },
   "outputs": [],
   "source": [
    "answer_9 = data[data['release_year'] == 2008].sort_values(by='revenue', ascending=False).head(1)\n",
    "answers['9'] = store_answer(answer_9, 'id_and_movie')"
   ]
  },
  {
   "cell_type": "markdown",
   "metadata": {
    "colab_type": "text",
    "id": "Zi4hDKidVp_F"
   },
   "source": [
    "# 10. Самый убыточный фильм за период с 2012 по 2014 г. (включительно)?\n"
   ]
  },
  {
   "cell_type": "code",
   "execution_count": 37,
   "metadata": {
    "colab": {},
    "colab_type": "code",
    "id": "XqyRmufJVp_F"
   },
   "outputs": [],
   "source": [
    "answer_10 = data[(data['release_year'] >= 2012) & (data['release_year'] <= 2014)].sort_values(by='profit').head(1)\n",
    "answers['10'] = store_answer(answer_10, 'id_and_movie')"
   ]
  },
  {
   "cell_type": "markdown",
   "metadata": {
    "colab_type": "text",
    "id": "EA7Sa9dkVp_I"
   },
   "source": [
    "# 11. Какого жанра фильмов больше всего?"
   ]
  },
  {
   "cell_type": "code",
   "execution_count": 38,
   "metadata": {
    "colab": {},
    "colab_type": "code",
    "id": "zsJAwJ8QVp_J"
   },
   "outputs": [],
   "source": [
    "answer_11 = data['genres_list'].explode().value_counts().index[0]\n",
    "answers['11'] = store_answer(answer_11, 'single_value')"
   ]
  },
  {
   "cell_type": "markdown",
   "metadata": {
    "colab_type": "text",
    "id": "Ax6g2C8SVp_M"
   },
   "source": [
    "ВАРИАНТ 2"
   ]
  },
  {
   "cell_type": "code",
   "execution_count": 15,
   "metadata": {},
   "outputs": [],
   "source": [
    "'''\n",
    "Alternative approach:\n",
    "\n",
    "Creating a concatenated string for all the genres\n",
    "from all the rows of a dataframe (separated by |)\n",
    "and splitting them into a list. Casting a list \n",
    "to Counter and using Counter.most_common() method\n",
    "to get the first entry from the top\n",
    "'''\n",
    "\n",
    "answer_11 = Counter(data['genres'].str.cat(sep='|').split(sep='|')).most_common(1)[0][0]\n",
    "answers['11'] = store_answer(answer_11, 'single_value')"
   ]
  },
  {
   "cell_type": "markdown",
   "metadata": {
    "colab_type": "text",
    "id": "T9_bPWpkVp_Q"
   },
   "source": [
    "# 12. Фильмы какого жанра чаще всего становятся прибыльными? "
   ]
  },
  {
   "cell_type": "code",
   "execution_count": 39,
   "metadata": {
    "colab": {},
    "colab_type": "code",
    "id": "Tmt8MaK1Vp_R"
   },
   "outputs": [],
   "source": [
    "answer_12 = data[data['profit'] > 0]['genres_list'].explode().value_counts().index[0]\n",
    "answers['12'] = store_answer(answer_12, 'single_value')"
   ]
  },
  {
   "cell_type": "markdown",
   "metadata": {
    "colab_type": "text",
    "id": "0F23bgsDVp_U"
   },
   "source": [
    "# 13. У какого режиссера самые большие суммарные кассовые сбооры?"
   ]
  },
  {
   "cell_type": "code",
   "execution_count": 40,
   "metadata": {
    "colab": {},
    "colab_type": "code",
    "id": "K6Z3J8ygVp_X"
   },
   "outputs": [],
   "source": [
    "answer_13 = data.explode('director_list').groupby(by=['director_list'])['revenue'].sum().sort_values(ascending=False).index[0]\n",
    "answers['13'] = store_answer(answer_13, 'single_value')"
   ]
  },
  {
   "cell_type": "markdown",
   "metadata": {
    "colab_type": "text",
    "id": "PsYC9FgRVp_a"
   },
   "source": [
    "# 14. Какой режисер снял больше всего фильмов в стиле Action?"
   ]
  },
  {
   "cell_type": "code",
   "execution_count": 41,
   "metadata": {
    "colab": {},
    "colab_type": "code",
    "id": "wd2M-wHeVp_b"
   },
   "outputs": [],
   "source": [
    "answer_14 = data[data['genres'].str.lower().str.contains('action')]['director_list'].explode().value_counts().index[0]\n",
    "answers['14'] = store_answer(answer_14, 'single_value')"
   ]
  },
  {
   "cell_type": "markdown",
   "metadata": {
    "colab_type": "text",
    "id": "PQ0KciD7Vp_f"
   },
   "source": [
    "# 15. Фильмы с каким актером принесли самые высокие кассовые сборы в 2012 году? "
   ]
  },
  {
   "cell_type": "code",
   "execution_count": 42,
   "metadata": {
    "colab": {},
    "colab_type": "code",
    "id": "aga62oeKVp_g"
   },
   "outputs": [],
   "source": [
    "answer_15 = data[data['release_year'] == 2012].explode('cast_list').groupby(by='cast_list')['revenue'].sum().sort_values(ascending=False).index[0]\n",
    "answers['15'] = store_answer(answer_15, 'single_value')"
   ]
  },
  {
   "cell_type": "markdown",
   "metadata": {
    "colab_type": "text",
    "id": "mWHyyL7QVp_j"
   },
   "source": [
    "# 16. Какой актер снялся в большем количестве высокобюджетных фильмов?"
   ]
  },
  {
   "cell_type": "code",
   "execution_count": 43,
   "metadata": {
    "colab": {},
    "colab_type": "code",
    "id": "qQtmHKTFVp_k"
   },
   "outputs": [],
   "source": [
    "avg_budget = data['budget'].mean()\n",
    "answer_16 = data[data['budget'] > avg_budget].explode('cast_list')['cast_list'].value_counts().index[0]\n",
    "answers['16'] = store_answer(answer_16, 'single_value')"
   ]
  },
  {
   "cell_type": "markdown",
   "metadata": {
    "colab_type": "text",
    "id": "NIh6AaW5Vp_n"
   },
   "source": [
    "# 17. В фильмах какого жанра больше всего снимался Nicolas Cage? "
   ]
  },
  {
   "cell_type": "code",
   "execution_count": 44,
   "metadata": {
    "colab": {},
    "colab_type": "code",
    "id": "H74SJDIBVp_n"
   },
   "outputs": [],
   "source": [
    "answer_17 = data[data['cast'].str.contains('Nicolas Cage')].explode('genres_list')['genres_list'].value_counts().index[0]\n",
    "answers['17'] = store_answer(answer_17, 'single_value')"
   ]
  },
  {
   "cell_type": "markdown",
   "metadata": {
    "colab_type": "text",
    "id": "RqOmPRfWVp_q"
   },
   "source": [
    "# 18. Самый убыточный фильм от Paramount Pictures"
   ]
  },
  {
   "cell_type": "code",
   "execution_count": 46,
   "metadata": {
    "colab": {},
    "colab_type": "code",
    "id": "9E_B0Y96Vp_r"
   },
   "outputs": [],
   "source": [
    "answer_18 = data[data['production_companies'].str.contains('Paramount Pictures')].sort_values(by='profit', ascending=True)\n",
    "answers['18'] = store_answer(answer_18, 'id_and_movie')"
   ]
  },
  {
   "cell_type": "markdown",
   "metadata": {
    "colab_type": "text",
    "id": "vS8Ur6ddVp_u"
   },
   "source": [
    "# 19. Какой год стал самым успешным по суммарным кассовым сборам?"
   ]
  },
  {
   "cell_type": "code",
   "execution_count": 47,
   "metadata": {
    "colab": {},
    "colab_type": "code",
    "id": "Dnbt4GdIVp_v"
   },
   "outputs": [],
   "source": [
    "answer_19 = data.groupby(by=['release_year'])['revenue'].sum().sort_values(ascending=False).index[0]\n",
    "answers['19'] = store_answer(answer_19, 'single_value')"
   ]
  },
  {
   "cell_type": "markdown",
   "metadata": {
    "colab_type": "text",
    "id": "JAzJh4QAVp_z"
   },
   "source": [
    "# 20. Какой самый прибыльный год для студии Warner Bros?"
   ]
  },
  {
   "cell_type": "code",
   "execution_count": 48,
   "metadata": {
    "colab": {},
    "colab_type": "code",
    "id": "wgVu02DEVp_0"
   },
   "outputs": [],
   "source": [
    "answer_20 = data[data['production_companies'].str.contains('Warner Bros')].groupby(by=['release_year'])['profit'].sum().sort_values(ascending=False).index[0]\n",
    "answers['20'] = store_answer(answer_20, 'single_value')"
   ]
  },
  {
   "cell_type": "markdown",
   "metadata": {
    "colab_type": "text",
    "id": "8Im1S2HRVp_4"
   },
   "source": [
    "# 21. В каком месяце за все годы суммарно вышло больше всего фильмов?"
   ]
  },
  {
   "cell_type": "code",
   "execution_count": 74,
   "metadata": {
    "colab": {},
    "colab_type": "code",
    "id": "lev6TH7gVp_4"
   },
   "outputs": [],
   "source": [
    "answer_21 = data['release_month'].value_counts().index[0]\n",
    "answers['21'] = store_answer(answer_21, 'single_value')"
   ]
  },
  {
   "cell_type": "markdown",
   "metadata": {
    "colab_type": "text",
    "id": "uAJsZ_NeVp_7"
   },
   "source": [
    "# 22. Сколько суммарно вышло фильмов летом? (за июнь, июль, август)"
   ]
  },
  {
   "cell_type": "code",
   "execution_count": 81,
   "metadata": {
    "colab": {},
    "colab_type": "code",
    "id": "Aa-hEREoVp_8"
   },
   "outputs": [],
   "source": [
    "answer_22 = len(data[data['release_month'].isin(['June', 'July', 'August'])])\n",
    "answers['22'] = store_answer(answer_22, 'single_value')"
   ]
  },
  {
   "cell_type": "markdown",
   "metadata": {
    "colab_type": "text",
    "id": "G94ppOY1VqAA"
   },
   "source": [
    "# 23. Для какого режиссера зима – самое продуктивное время года? "
   ]
  },
  {
   "cell_type": "code",
   "execution_count": 87,
   "metadata": {
    "colab": {},
    "colab_type": "code",
    "id": "RhNTsamuVqAB"
   },
   "outputs": [],
   "source": [
    "answer_23 = data[data['release_month'].isin(['December', 'January', 'February'])].explode('director_list')['director_list'].value_counts().index[0]\n",
    "answers['23'] = store_answer(answer_23, 'single_value')"
   ]
  },
  {
   "cell_type": "markdown",
   "metadata": {
    "colab_type": "text",
    "id": "RBo0JVjVVqAF"
   },
   "source": [
    "# 24. Какая студия дает самые длинные названия своим фильмам по количеству символов?"
   ]
  },
  {
   "cell_type": "code",
   "execution_count": 102,
   "metadata": {
    "colab": {},
    "colab_type": "code",
    "id": "QRGS8L0iVqAG"
   },
   "outputs": [],
   "source": [
    "answer_24 = data.explode('production_companies_list').groupby(by='production_companies_list')['title_length'].mean().sort_values(ascending=False).index[0]\n",
    "answers['24'] = store_answer(answer_24, 'single_value')"
   ]
  },
  {
   "cell_type": "markdown",
   "metadata": {
    "colab_type": "text",
    "id": "9G0hbvR7VqAK"
   },
   "source": [
    "# 25. Описание фильмов какой студии в среднем самые длинные по количеству слов?"
   ]
  },
  {
   "cell_type": "code",
   "execution_count": 0,
   "metadata": {
    "colab": {},
    "colab_type": "code",
    "id": "Ge2GsLNxVqAK"
   },
   "outputs": [],
   "source": []
  },
  {
   "cell_type": "markdown",
   "metadata": {
    "colab_type": "text",
    "id": "FJ1AFt90VqAP"
   },
   "source": [
    "# 26. Какие фильмы входят в 1 процент лучших по рейтингу? \n",
    "по vote_average"
   ]
  },
  {
   "cell_type": "code",
   "execution_count": 0,
   "metadata": {
    "colab": {},
    "colab_type": "code",
    "id": "8qmJVq4CVqAQ"
   },
   "outputs": [],
   "source": []
  },
  {
   "cell_type": "markdown",
   "metadata": {
    "colab_type": "text",
    "id": "MdXsUXbCVqAV"
   },
   "source": [
    "# 27. Какие актеры чаще всего снимаются в одном фильме вместе?\n"
   ]
  },
  {
   "cell_type": "markdown",
   "metadata": {
    "colab_type": "text",
    "id": "4ymnxEVoVqAW"
   },
   "source": [
    "ВАРИАНТ 2"
   ]
  },
  {
   "cell_type": "markdown",
   "metadata": {
    "colab_type": "text",
    "id": "U0nONFnGVqAX"
   },
   "source": [
    "# Submission"
   ]
  },
  {
   "cell_type": "code",
   "execution_count": 103,
   "metadata": {
    "colab": {},
    "colab_type": "code",
    "id": "IfcaRO9-VqAX",
    "outputId": "0f132912-32bb-4196-c98c-abfbc4ad5a5f"
   },
   "outputs": [
    {
     "data": {
      "text/plain": [
       "{'1': 'Pirates of the Caribbean: On Stranger Tides (tt1298650)',\n",
       " '2': 'Gods and Generals (tt0279111)',\n",
       " '3': 'Winnie the Pooh (tt1449283)',\n",
       " '4': 110,\n",
       " '5': 107,\n",
       " '6': 'Avatar (tt0499549)',\n",
       " '7': 'The Lone Ranger (tt1210819)',\n",
       " '8': 1478,\n",
       " '9': 'The Dark Knight (tt0468569)',\n",
       " '10': 'The Lone Ranger (tt1210819)',\n",
       " '11': 'Drama',\n",
       " '12': 'Drama',\n",
       " '13': 'Peter Jackson',\n",
       " '14': 'Robert Rodriguez',\n",
       " '15': 'Chris Hemsworth',\n",
       " '16': 'Matt Damon',\n",
       " '17': 'Action',\n",
       " '18': 'K-19: The Widowmaker (tt0267626)',\n",
       " '19': 2015,\n",
       " '20': 2014,\n",
       " '21': 'September',\n",
       " '22': 450,\n",
       " '23': 'Peter Jackson',\n",
       " '24': 'Four By Two Productions'}"
      ]
     },
     "execution_count": 103,
     "metadata": {},
     "output_type": "execute_result"
    }
   ],
   "source": [
    "# в конце можно посмотреть свои ответы к каждому вопросу\n",
    "answers"
   ]
  },
  {
   "cell_type": "code",
   "execution_count": 0,
   "metadata": {
    "colab": {},
    "colab_type": "code",
    "id": "SiRmHPl8VqAd"
   },
   "outputs": [],
   "source": [
    "# и убедиться что ни чего не пропустил)\n",
    "len(answers)"
   ]
  },
  {
   "cell_type": "code",
   "execution_count": 0,
   "metadata": {
    "colab": {},
    "colab_type": "code",
    "id": "uCfuTkRbVqAg"
   },
   "outputs": [],
   "source": []
  },
  {
   "cell_type": "code",
   "execution_count": 0,
   "metadata": {
    "colab": {},
    "colab_type": "code",
    "id": "Vwx3NrkSVqAl"
   },
   "outputs": [],
   "source": []
  }
 ],
 "metadata": {
  "colab": {
   "name": "Copy of [SF-DST] Movies IMBD v4.1 TEMPLATE.ipynb",
   "provenance": []
  },
  "kernelspec": {
   "display_name": "Python 3",
   "language": "python",
   "name": "python3"
  },
  "language_info": {
   "codemirror_mode": {
    "name": "ipython",
    "version": 3
   },
   "file_extension": ".py",
   "mimetype": "text/x-python",
   "name": "python",
   "nbconvert_exporter": "python",
   "pygments_lexer": "ipython3",
   "version": "3.7.6"
  }
 },
 "nbformat": 4,
 "nbformat_minor": 1
}
