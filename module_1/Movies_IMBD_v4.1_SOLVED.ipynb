{
 "cells": [
  {
   "cell_type": "code",
   "execution_count": 219,
   "metadata": {
    "_cell_guid": "b1076dfc-b9ad-4769-8c92-a6c4dae69d19",
    "_uuid": "8f2839f25d086af736a60e9eeb907d3b93b6e0e5",
    "colab": {},
    "colab_type": "code",
    "id": "U2D2gTdJVp90"
   },
   "outputs": [],
   "source": [
    "import numpy as np\n",
    "import pandas as pd\n",
    "import seaborn as sns\n",
    "import matplotlib.pyplot as plt\n",
    "from collections import Counter\n",
    "import re"
   ]
  },
  {
   "cell_type": "code",
   "execution_count": 220,
   "metadata": {
    "_cell_guid": "79c7e3d0-c299-4dcb-8224-4455121ee9b0",
    "_uuid": "d629ff2d2480ee46fbb7e2d37f6b5fab8052498a",
    "colab": {},
    "colab_type": "code",
    "id": "oyGfxL3eVp9-"
   },
   "outputs": [
    {
     "data": {
      "text/html": [
       "<div>\n",
       "<style scoped>\n",
       "    .dataframe tbody tr th:only-of-type {\n",
       "        vertical-align: middle;\n",
       "    }\n",
       "\n",
       "    .dataframe tbody tr th {\n",
       "        vertical-align: top;\n",
       "    }\n",
       "\n",
       "    .dataframe thead th {\n",
       "        text-align: right;\n",
       "    }\n",
       "</style>\n",
       "<table border=\"1\" class=\"dataframe\">\n",
       "  <thead>\n",
       "    <tr style=\"text-align: right;\">\n",
       "      <th></th>\n",
       "      <th>imdb_id</th>\n",
       "      <th>budget</th>\n",
       "      <th>revenue</th>\n",
       "      <th>original_title</th>\n",
       "      <th>cast</th>\n",
       "      <th>director</th>\n",
       "      <th>tagline</th>\n",
       "      <th>overview</th>\n",
       "      <th>runtime</th>\n",
       "      <th>genres</th>\n",
       "      <th>production_companies</th>\n",
       "      <th>release_date</th>\n",
       "      <th>vote_average</th>\n",
       "      <th>release_year</th>\n",
       "    </tr>\n",
       "  </thead>\n",
       "  <tbody>\n",
       "    <tr>\n",
       "      <th>30</th>\n",
       "      <td>tt1823672</td>\n",
       "      <td>49000000</td>\n",
       "      <td>102069268</td>\n",
       "      <td>Chappie</td>\n",
       "      <td>Sharlto Copley|Dev Patel|Ninja|Yolandi Visser|...</td>\n",
       "      <td>Neill Blomkamp</td>\n",
       "      <td>I am consciousness. I am alive. I am Chappie.</td>\n",
       "      <td>Every child comes into the world full of promi...</td>\n",
       "      <td>120</td>\n",
       "      <td>Crime|Action|Science Fiction</td>\n",
       "      <td>Columbia Pictures|Media Rights Capital|Sony Pi...</td>\n",
       "      <td>3/4/2015</td>\n",
       "      <td>6.6</td>\n",
       "      <td>2015</td>\n",
       "    </tr>\n",
       "    <tr>\n",
       "      <th>1232</th>\n",
       "      <td>tt1931435</td>\n",
       "      <td>35000000</td>\n",
       "      <td>21819348</td>\n",
       "      <td>The Big Wedding</td>\n",
       "      <td>Robert De Niro|Diane Keaton|Katherine Heigl|Am...</td>\n",
       "      <td>Justin Zackham</td>\n",
       "      <td>It's never too late to start acting like a family</td>\n",
       "      <td>To the amusement of their adult children and f...</td>\n",
       "      <td>90</td>\n",
       "      <td>Comedy</td>\n",
       "      <td>Millenium Films|Two Ton Films</td>\n",
       "      <td>4/25/2013</td>\n",
       "      <td>5.6</td>\n",
       "      <td>2013</td>\n",
       "    </tr>\n",
       "    <tr>\n",
       "      <th>1854</th>\n",
       "      <td>tt0158622</td>\n",
       "      <td>83000000</td>\n",
       "      <td>59468275</td>\n",
       "      <td>The Flintstones in Viva Rock Vegas</td>\n",
       "      <td>Mark Addy|Stephen Baldwin|Kristen Johnston|Jan...</td>\n",
       "      <td>Brian Levant</td>\n",
       "      <td>Get ready to rock!</td>\n",
       "      <td>The Flintstones are at it again. The Flintston...</td>\n",
       "      <td>90</td>\n",
       "      <td>Science Fiction|Comedy|Family|Romance</td>\n",
       "      <td>Universal Pictures|Amblin Entertainment</td>\n",
       "      <td>4/28/2000</td>\n",
       "      <td>4.4</td>\n",
       "      <td>2000</td>\n",
       "    </tr>\n",
       "    <tr>\n",
       "      <th>655</th>\n",
       "      <td>tt0425061</td>\n",
       "      <td>80000000</td>\n",
       "      <td>230685453</td>\n",
       "      <td>Get Smart</td>\n",
       "      <td>Steve Carell|Anne Hathaway|Dwayne Johnson|Alan...</td>\n",
       "      <td>Peter Segal</td>\n",
       "      <td>Saving The World...And Loving It!</td>\n",
       "      <td>When the identities of secret agents from Cont...</td>\n",
       "      <td>110</td>\n",
       "      <td>Action|Comedy|Thriller</td>\n",
       "      <td>Village Roadshow Pictures|Atlas Entertainment|...</td>\n",
       "      <td>6/19/2008</td>\n",
       "      <td>5.9</td>\n",
       "      <td>2008</td>\n",
       "    </tr>\n",
       "    <tr>\n",
       "      <th>1846</th>\n",
       "      <td>tt0204946</td>\n",
       "      <td>28000000</td>\n",
       "      <td>90449929</td>\n",
       "      <td>Bring It On</td>\n",
       "      <td>Kirsten Dunst|Jesse Bradford|Huntley Ritter|El...</td>\n",
       "      <td>Peyton Reed</td>\n",
       "      <td>May the best moves win.</td>\n",
       "      <td>The Toro cheerleading squad from Rancho Carne ...</td>\n",
       "      <td>98</td>\n",
       "      <td>Comedy</td>\n",
       "      <td>Beacon Communications</td>\n",
       "      <td>8/25/2000</td>\n",
       "      <td>5.7</td>\n",
       "      <td>2000</td>\n",
       "    </tr>\n",
       "  </tbody>\n",
       "</table>\n",
       "</div>"
      ],
      "text/plain": [
       "        imdb_id    budget    revenue                      original_title  \\\n",
       "30    tt1823672  49000000  102069268                             Chappie   \n",
       "1232  tt1931435  35000000   21819348                     The Big Wedding   \n",
       "1854  tt0158622  83000000   59468275  The Flintstones in Viva Rock Vegas   \n",
       "655   tt0425061  80000000  230685453                           Get Smart   \n",
       "1846  tt0204946  28000000   90449929                         Bring It On   \n",
       "\n",
       "                                                   cast        director  \\\n",
       "30    Sharlto Copley|Dev Patel|Ninja|Yolandi Visser|...  Neill Blomkamp   \n",
       "1232  Robert De Niro|Diane Keaton|Katherine Heigl|Am...  Justin Zackham   \n",
       "1854  Mark Addy|Stephen Baldwin|Kristen Johnston|Jan...    Brian Levant   \n",
       "655   Steve Carell|Anne Hathaway|Dwayne Johnson|Alan...     Peter Segal   \n",
       "1846  Kirsten Dunst|Jesse Bradford|Huntley Ritter|El...     Peyton Reed   \n",
       "\n",
       "                                                tagline  \\\n",
       "30        I am consciousness. I am alive. I am Chappie.   \n",
       "1232  It's never too late to start acting like a family   \n",
       "1854                                 Get ready to rock!   \n",
       "655                   Saving The World...And Loving It!   \n",
       "1846                            May the best moves win.   \n",
       "\n",
       "                                               overview  runtime  \\\n",
       "30    Every child comes into the world full of promi...      120   \n",
       "1232  To the amusement of their adult children and f...       90   \n",
       "1854  The Flintstones are at it again. The Flintston...       90   \n",
       "655   When the identities of secret agents from Cont...      110   \n",
       "1846  The Toro cheerleading squad from Rancho Carne ...       98   \n",
       "\n",
       "                                     genres  \\\n",
       "30             Crime|Action|Science Fiction   \n",
       "1232                                 Comedy   \n",
       "1854  Science Fiction|Comedy|Family|Romance   \n",
       "655                  Action|Comedy|Thriller   \n",
       "1846                                 Comedy   \n",
       "\n",
       "                                   production_companies release_date  \\\n",
       "30    Columbia Pictures|Media Rights Capital|Sony Pi...     3/4/2015   \n",
       "1232                      Millenium Films|Two Ton Films    4/25/2013   \n",
       "1854            Universal Pictures|Amblin Entertainment    4/28/2000   \n",
       "655   Village Roadshow Pictures|Atlas Entertainment|...    6/19/2008   \n",
       "1846                              Beacon Communications    8/25/2000   \n",
       "\n",
       "      vote_average  release_year  \n",
       "30             6.6          2015  \n",
       "1232           5.6          2013  \n",
       "1854           4.4          2000  \n",
       "655            5.9          2008  \n",
       "1846           5.7          2000  "
      ]
     },
     "execution_count": 220,
     "metadata": {},
     "output_type": "execute_result"
    }
   ],
   "source": [
    "data = pd.read_csv('movie_bd_v5.xls')\n",
    "data.sample(5)"
   ]
  },
  {
   "cell_type": "code",
   "execution_count": 221,
   "metadata": {
    "colab": {},
    "colab_type": "code",
    "id": "CoYUnagMVp-C"
   },
   "outputs": [
    {
     "data": {
      "text/html": [
       "<div>\n",
       "<style scoped>\n",
       "    .dataframe tbody tr th:only-of-type {\n",
       "        vertical-align: middle;\n",
       "    }\n",
       "\n",
       "    .dataframe tbody tr th {\n",
       "        vertical-align: top;\n",
       "    }\n",
       "\n",
       "    .dataframe thead th {\n",
       "        text-align: right;\n",
       "    }\n",
       "</style>\n",
       "<table border=\"1\" class=\"dataframe\">\n",
       "  <thead>\n",
       "    <tr style=\"text-align: right;\">\n",
       "      <th></th>\n",
       "      <th>budget</th>\n",
       "      <th>revenue</th>\n",
       "      <th>runtime</th>\n",
       "      <th>vote_average</th>\n",
       "      <th>release_year</th>\n",
       "    </tr>\n",
       "  </thead>\n",
       "  <tbody>\n",
       "    <tr>\n",
       "      <th>count</th>\n",
       "      <td>1.889000e+03</td>\n",
       "      <td>1.889000e+03</td>\n",
       "      <td>1889.000000</td>\n",
       "      <td>1889.000000</td>\n",
       "      <td>1889.000000</td>\n",
       "    </tr>\n",
       "    <tr>\n",
       "      <th>mean</th>\n",
       "      <td>5.431083e+07</td>\n",
       "      <td>1.553653e+08</td>\n",
       "      <td>109.658549</td>\n",
       "      <td>6.140762</td>\n",
       "      <td>2007.860773</td>\n",
       "    </tr>\n",
       "    <tr>\n",
       "      <th>std</th>\n",
       "      <td>4.858721e+07</td>\n",
       "      <td>2.146698e+08</td>\n",
       "      <td>18.017041</td>\n",
       "      <td>0.764763</td>\n",
       "      <td>4.468841</td>\n",
       "    </tr>\n",
       "    <tr>\n",
       "      <th>min</th>\n",
       "      <td>5.000000e+06</td>\n",
       "      <td>2.033165e+06</td>\n",
       "      <td>63.000000</td>\n",
       "      <td>3.300000</td>\n",
       "      <td>2000.000000</td>\n",
       "    </tr>\n",
       "    <tr>\n",
       "      <th>25%</th>\n",
       "      <td>2.000000e+07</td>\n",
       "      <td>3.456058e+07</td>\n",
       "      <td>97.000000</td>\n",
       "      <td>5.600000</td>\n",
       "      <td>2004.000000</td>\n",
       "    </tr>\n",
       "    <tr>\n",
       "      <th>50%</th>\n",
       "      <td>3.800000e+07</td>\n",
       "      <td>8.361541e+07</td>\n",
       "      <td>107.000000</td>\n",
       "      <td>6.100000</td>\n",
       "      <td>2008.000000</td>\n",
       "    </tr>\n",
       "    <tr>\n",
       "      <th>75%</th>\n",
       "      <td>7.200000e+07</td>\n",
       "      <td>1.782626e+08</td>\n",
       "      <td>120.000000</td>\n",
       "      <td>6.600000</td>\n",
       "      <td>2012.000000</td>\n",
       "    </tr>\n",
       "    <tr>\n",
       "      <th>max</th>\n",
       "      <td>3.800000e+08</td>\n",
       "      <td>2.781506e+09</td>\n",
       "      <td>214.000000</td>\n",
       "      <td>8.100000</td>\n",
       "      <td>2015.000000</td>\n",
       "    </tr>\n",
       "  </tbody>\n",
       "</table>\n",
       "</div>"
      ],
      "text/plain": [
       "             budget       revenue      runtime  vote_average  release_year\n",
       "count  1.889000e+03  1.889000e+03  1889.000000   1889.000000   1889.000000\n",
       "mean   5.431083e+07  1.553653e+08   109.658549      6.140762   2007.860773\n",
       "std    4.858721e+07  2.146698e+08    18.017041      0.764763      4.468841\n",
       "min    5.000000e+06  2.033165e+06    63.000000      3.300000   2000.000000\n",
       "25%    2.000000e+07  3.456058e+07    97.000000      5.600000   2004.000000\n",
       "50%    3.800000e+07  8.361541e+07   107.000000      6.100000   2008.000000\n",
       "75%    7.200000e+07  1.782626e+08   120.000000      6.600000   2012.000000\n",
       "max    3.800000e+08  2.781506e+09   214.000000      8.100000   2015.000000"
      ]
     },
     "execution_count": 221,
     "metadata": {},
     "output_type": "execute_result"
    }
   ],
   "source": [
    "data.describe()\n",
    "#data.head(16)\n",
    "#data.info()\n",
    "#data.head(5)"
   ]
  },
  {
   "cell_type": "markdown",
   "metadata": {
    "colab_type": "text",
    "id": "DTIt7ezGVp-G"
   },
   "source": [
    "# Предобработка"
   ]
  },
  {
   "cell_type": "code",
   "execution_count": 222,
   "metadata": {
    "colab": {},
    "colab_type": "code",
    "id": "jNb40DwKVp-H"
   },
   "outputs": [],
   "source": [
    "'''\n",
    "Defining a function that accepts a result \n",
    "and an output type as arguments and returns\n",
    "a result in a way that can be written directly\n",
    "into a dictinary that is used below \n",
    "to store answers.\n",
    "\n",
    "This function is here to avoid copying and\n",
    "pasting the results all the time.\n",
    "\n",
    "More comments inside the function itself.\n",
    "'''\n",
    "\n",
    "def store_answer(result, out_type):\n",
    "    # id_and_movie returns an answer \n",
    "    # formatted like this (example below):\n",
    "    # 'Some movie name (tt123456)'\n",
    "    if out_type == 'id_and_movie':\n",
    "        return f\"{result['original_title'].values[0]} ({result['imdb_id'].values[0]})\"\n",
    "    elif out_type == 'single_value':\n",
    "        return result\n",
    "    else:\n",
    "        return \"Undefined output type. Please fix.\"\n",
    "    \n",
    "# dictionary for the answers\n",
    "answers = {}\n",
    "\n",
    "# adding a profit column to our dataframe\n",
    "data['profit'] = data['revenue'] - data['budget']\n",
    "\n",
    "# creating a separate column where genres are\n",
    "# stored as lists (not as strings separeted by |)\n",
    "data['genres_list'] = data['genres'].apply(lambda x: x.split(sep='|'))\n",
    "\n",
    "# separate column where directors are stored\n",
    "# as lists (some movies have multiple directors)\n",
    "data['director_list'] = data['director'].apply(lambda x: x.split(sep='|'))\n",
    "\n",
    "# separate column where actors are stored\n",
    "# as lists (movies have multiple actors)\n",
    "data['cast_list'] = data['cast'].apply(lambda x: x.split(sep='|'))\n",
    "\n",
    "# separate column where companies are stored\n",
    "# as lists (movies have multiple production companies)\n",
    "data['production_companies_list'] = data['production_companies'].apply(lambda x: x.split(sep='|'))\n",
    "\n",
    "# changing date string to datetime format\n",
    "data['release_date'] = pd.to_datetime(data['release_date']) \n",
    "\n",
    "# adding a separate release_month column\n",
    "data['release_month'] = pd.DatetimeIndex(data['release_date']).month_name()\n",
    "\n",
    "# adding a separate column with title length\n",
    "data['title_length'] = data['original_title'].str.len()\n",
    "\n",
    "# adding a separate column with title word count\n",
    "# using regex '\\W+' pattern to split the words\n",
    "data['overview_word_count'] = data['overview'].apply(lambda x: len(re.split('\\W+', x)))"
   ]
  },
  {
   "cell_type": "markdown",
   "metadata": {
    "colab_type": "text",
    "id": "YxZaH-nPVp-L"
   },
   "source": [
    "# 1. У какого фильма из списка самый большой бюджет?"
   ]
  },
  {
   "cell_type": "markdown",
   "metadata": {
    "colab_type": "text",
    "id": "Nd-G5gX6Vp-M"
   },
   "source": [
    "Использовать варианты ответов в коде решения запрещено.    \n",
    "Вы думаете и в жизни у вас будут варианты ответов?)"
   ]
  },
  {
   "cell_type": "code",
   "execution_count": 223,
   "metadata": {
    "colab": {},
    "colab_type": "code",
    "id": "dZwb3m28Vp-S"
   },
   "outputs": [],
   "source": [
    "answer_1 = data[data['budget'] == data['budget'].max()]\n",
    "answers['1'] = store_answer(answer_1, 'id_and_movie')"
   ]
  },
  {
   "cell_type": "markdown",
   "metadata": {
    "colab_type": "text",
    "id": "FNRbbI3vVp-c"
   },
   "source": [
    "# 2. Какой из фильмов самый длительный (в минутах)?"
   ]
  },
  {
   "cell_type": "code",
   "execution_count": 224,
   "metadata": {
    "colab": {},
    "colab_type": "code",
    "id": "vHAoEXNTVp-d"
   },
   "outputs": [],
   "source": [
    "answer_2 = data[data['runtime'] == data['runtime'].max()]\n",
    "answers['2'] = store_answer(answer_2, 'id_and_movie')"
   ]
  },
  {
   "cell_type": "markdown",
   "metadata": {
    "colab_type": "text",
    "id": "bapLlpW8Vp-k"
   },
   "source": [
    "# 3. Какой из фильмов самый короткий (в минутах)?\n",
    "\n",
    "\n",
    "\n"
   ]
  },
  {
   "cell_type": "code",
   "execution_count": 225,
   "metadata": {},
   "outputs": [],
   "source": [
    "answer_3 = data[data['runtime'] == data['runtime'].min()]\n",
    "answers['3'] = store_answer(answer_3, 'id_and_movie')"
   ]
  },
  {
   "cell_type": "markdown",
   "metadata": {
    "colab_type": "text",
    "id": "TfQbxbfNVp-p"
   },
   "source": [
    "# 4. Какова средняя длительность фильмов?\n"
   ]
  },
  {
   "cell_type": "code",
   "execution_count": 226,
   "metadata": {
    "colab": {},
    "colab_type": "code",
    "id": "5K6dKZYVVp-q"
   },
   "outputs": [],
   "source": [
    "answer_4 = int(round(data['runtime'].mean(),0))\n",
    "answers['4'] = store_answer(answer_4, 'single_value')"
   ]
  },
  {
   "cell_type": "markdown",
   "metadata": {
    "colab_type": "text",
    "id": "r5TvbnT_Vp-u"
   },
   "source": [
    "# 5. Каково медианное значение длительности фильмов? "
   ]
  },
  {
   "cell_type": "code",
   "execution_count": 227,
   "metadata": {
    "colab": {},
    "colab_type": "code",
    "id": "iBROplKnVp-v"
   },
   "outputs": [],
   "source": [
    "answer_5 = int(round(data['runtime'].median(),0))\n",
    "answers['5'] = store_answer(answer_5, 'single_value')"
   ]
  },
  {
   "cell_type": "markdown",
   "metadata": {
    "colab_type": "text",
    "id": "39P-deDSVp-y"
   },
   "source": [
    "# 6. Какой самый прибыльный фильм?\n",
    "#### Внимание! Здесь и далее под «прибылью» или «убытками» понимается разность между сборами и бюджетом фильма. (прибыль = сборы - бюджет) в нашем датасете это будет (profit = revenue - budget) "
   ]
  },
  {
   "cell_type": "code",
   "execution_count": 228,
   "metadata": {
    "colab": {},
    "colab_type": "code",
    "id": "UYZh4T9WVp-y"
   },
   "outputs": [],
   "source": [
    "answer_6 = data[data['profit'] == data['profit'].max()]\n",
    "answers['6'] = store_answer(answer_6, 'id_and_movie')"
   ]
  },
  {
   "cell_type": "markdown",
   "metadata": {
    "colab_type": "text",
    "id": "M99JmIX4Vp-2"
   },
   "source": [
    "# 7. Какой фильм самый убыточный? "
   ]
  },
  {
   "cell_type": "code",
   "execution_count": 229,
   "metadata": {
    "colab": {},
    "colab_type": "code",
    "id": "w-D2m4XPVp-3"
   },
   "outputs": [],
   "source": [
    "answer_7 = data[data['profit'] == data['profit'].min()]\n",
    "answers['7'] = store_answer(answer_7, 'id_and_movie')"
   ]
  },
  {
   "cell_type": "markdown",
   "metadata": {
    "colab_type": "text",
    "id": "wEOM5ERVVp-6"
   },
   "source": [
    "# 8. У скольких фильмов из датасета объем сборов оказался выше бюджета?"
   ]
  },
  {
   "cell_type": "code",
   "execution_count": 230,
   "metadata": {
    "colab": {},
    "colab_type": "code",
    "id": "y00_7HD6Vp-7"
   },
   "outputs": [],
   "source": [
    "answer_8 = len(data[data['profit'] > 0])\n",
    "answers['8'] = store_answer(answer_8, 'single_value')"
   ]
  },
  {
   "cell_type": "markdown",
   "metadata": {
    "colab_type": "text",
    "id": "xhpspA9KVp_A"
   },
   "source": [
    "# 9. Какой фильм оказался самым кассовым в 2008 году?"
   ]
  },
  {
   "cell_type": "code",
   "execution_count": 231,
   "metadata": {
    "colab": {},
    "colab_type": "code",
    "id": "MoUyQr9RVp_B"
   },
   "outputs": [],
   "source": [
    "answer_9 = data[data['release_year'] == 2008].sort_values(by='revenue', ascending=False).head(1)\n",
    "answers['9'] = store_answer(answer_9, 'id_and_movie')"
   ]
  },
  {
   "cell_type": "markdown",
   "metadata": {
    "colab_type": "text",
    "id": "Zi4hDKidVp_F"
   },
   "source": [
    "# 10. Самый убыточный фильм за период с 2012 по 2014 г. (включительно)?\n"
   ]
  },
  {
   "cell_type": "code",
   "execution_count": 232,
   "metadata": {
    "colab": {},
    "colab_type": "code",
    "id": "XqyRmufJVp_F"
   },
   "outputs": [],
   "source": [
    "answer_10 = data[(data['release_year'] >= 2012) & (data['release_year'] <= 2014)].sort_values(by='profit').head(1)\n",
    "answers['10'] = store_answer(answer_10, 'id_and_movie')"
   ]
  },
  {
   "cell_type": "markdown",
   "metadata": {
    "colab_type": "text",
    "id": "EA7Sa9dkVp_I"
   },
   "source": [
    "# 11. Какого жанра фильмов больше всего?"
   ]
  },
  {
   "cell_type": "code",
   "execution_count": 233,
   "metadata": {
    "colab": {},
    "colab_type": "code",
    "id": "zsJAwJ8QVp_J"
   },
   "outputs": [],
   "source": [
    "answer_11 = data['genres_list'].explode().value_counts().index[0]\n",
    "answers['11'] = store_answer(answer_11, 'single_value')"
   ]
  },
  {
   "cell_type": "markdown",
   "metadata": {
    "colab_type": "text",
    "id": "Ax6g2C8SVp_M"
   },
   "source": [
    "ВАРИАНТ 2"
   ]
  },
  {
   "cell_type": "code",
   "execution_count": 234,
   "metadata": {},
   "outputs": [
    {
     "data": {
      "text/plain": [
       "\"\\nAlternative approach:\\n\\nCreating a concatenated string for all the genres\\nfrom all the rows of a dataframe (separated by |)\\nand splitting them into a list. Casting a list \\nto Counter and using Counter.most_common() method\\nto get the first entry from the top\\n\\nCommenting the code below out because I don't want\\nit to affect the result (both this cell and \\nthe previous one produce the same output\\n\""
      ]
     },
     "execution_count": 234,
     "metadata": {},
     "output_type": "execute_result"
    }
   ],
   "source": [
    "'''\n",
    "Alternative approach:\n",
    "\n",
    "Creating a concatenated string for all the genres\n",
    "from all the rows of a dataframe (separated by |)\n",
    "and splitting them into a list. Casting a list \n",
    "to Counter and using Counter.most_common() method\n",
    "to get the first entry from the top\n",
    "\n",
    "Commenting the code below out because I don't want\n",
    "it to affect the result (both this cell and \n",
    "the previous one produce the same output\n",
    "'''\n",
    "\n",
    "#answer_11 = Counter(data['genres'].str.cat(sep='|').split(sep='|')).most_common(1)[0][0]\n",
    "#answers['11'] = store_answer(answer_11, 'single_value')"
   ]
  },
  {
   "cell_type": "markdown",
   "metadata": {
    "colab_type": "text",
    "id": "T9_bPWpkVp_Q"
   },
   "source": [
    "# 12. Фильмы какого жанра чаще всего становятся прибыльными? "
   ]
  },
  {
   "cell_type": "code",
   "execution_count": 235,
   "metadata": {
    "colab": {},
    "colab_type": "code",
    "id": "Tmt8MaK1Vp_R"
   },
   "outputs": [],
   "source": [
    "answer_12 = data[data['profit'] > 0]['genres_list'].explode().value_counts().index[0]\n",
    "answers['12'] = store_answer(answer_12, 'single_value')"
   ]
  },
  {
   "cell_type": "markdown",
   "metadata": {
    "colab_type": "text",
    "id": "0F23bgsDVp_U"
   },
   "source": [
    "# 13. У какого режиссера самые большие суммарные кассовые сбооры?"
   ]
  },
  {
   "cell_type": "code",
   "execution_count": 236,
   "metadata": {
    "colab": {},
    "colab_type": "code",
    "id": "K6Z3J8ygVp_X"
   },
   "outputs": [],
   "source": [
    "answer_13 = data.explode('director_list').groupby(by=['director_list'])['revenue'].sum().sort_values(ascending=False).index[0]\n",
    "answers['13'] = store_answer(answer_13, 'single_value')"
   ]
  },
  {
   "cell_type": "markdown",
   "metadata": {
    "colab_type": "text",
    "id": "PsYC9FgRVp_a"
   },
   "source": [
    "# 14. Какой режисер снял больше всего фильмов в стиле Action?"
   ]
  },
  {
   "cell_type": "code",
   "execution_count": 237,
   "metadata": {
    "colab": {},
    "colab_type": "code",
    "id": "wd2M-wHeVp_b"
   },
   "outputs": [],
   "source": [
    "answer_14 = data[data['genres'].str.lower().str.contains('action')]['director_list'].explode().value_counts().index[0]\n",
    "answers['14'] = store_answer(answer_14, 'single_value')"
   ]
  },
  {
   "cell_type": "markdown",
   "metadata": {
    "colab_type": "text",
    "id": "PQ0KciD7Vp_f"
   },
   "source": [
    "# 15. Фильмы с каким актером принесли самые высокие кассовые сборы в 2012 году? "
   ]
  },
  {
   "cell_type": "code",
   "execution_count": 238,
   "metadata": {
    "colab": {},
    "colab_type": "code",
    "id": "aga62oeKVp_g"
   },
   "outputs": [],
   "source": [
    "answer_15 = data[data['release_year'] == 2012].explode('cast_list').groupby(by='cast_list')['revenue'].sum().sort_values(ascending=False).index[0]\n",
    "answers['15'] = store_answer(answer_15, 'single_value')"
   ]
  },
  {
   "cell_type": "markdown",
   "metadata": {
    "colab_type": "text",
    "id": "mWHyyL7QVp_j"
   },
   "source": [
    "# 16. Какой актер снялся в большем количестве высокобюджетных фильмов?"
   ]
  },
  {
   "cell_type": "code",
   "execution_count": 239,
   "metadata": {
    "colab": {},
    "colab_type": "code",
    "id": "qQtmHKTFVp_k"
   },
   "outputs": [],
   "source": [
    "avg_budget = data['budget'].mean()\n",
    "answer_16 = data[data['budget'] > avg_budget].explode('cast_list')['cast_list'].value_counts().index[0]\n",
    "answers['16'] = store_answer(answer_16, 'single_value')"
   ]
  },
  {
   "cell_type": "markdown",
   "metadata": {
    "colab_type": "text",
    "id": "NIh6AaW5Vp_n"
   },
   "source": [
    "# 17. В фильмах какого жанра больше всего снимался Nicolas Cage? "
   ]
  },
  {
   "cell_type": "code",
   "execution_count": 240,
   "metadata": {
    "colab": {},
    "colab_type": "code",
    "id": "H74SJDIBVp_n"
   },
   "outputs": [],
   "source": [
    "answer_17 = data[data['cast'].str.contains('Nicolas Cage')].explode('genres_list')['genres_list'].value_counts().index[0]\n",
    "answers['17'] = store_answer(answer_17, 'single_value')"
   ]
  },
  {
   "cell_type": "markdown",
   "metadata": {
    "colab_type": "text",
    "id": "RqOmPRfWVp_q"
   },
   "source": [
    "# 18. Самый убыточный фильм от Paramount Pictures"
   ]
  },
  {
   "cell_type": "code",
   "execution_count": 241,
   "metadata": {
    "colab": {},
    "colab_type": "code",
    "id": "9E_B0Y96Vp_r"
   },
   "outputs": [],
   "source": [
    "answer_18 = data[data['production_companies'].str.contains('Paramount Pictures')].sort_values(by='profit', ascending=True)\n",
    "answers['18'] = store_answer(answer_18, 'id_and_movie')"
   ]
  },
  {
   "cell_type": "markdown",
   "metadata": {
    "colab_type": "text",
    "id": "vS8Ur6ddVp_u"
   },
   "source": [
    "# 19. Какой год стал самым успешным по суммарным кассовым сборам?"
   ]
  },
  {
   "cell_type": "code",
   "execution_count": 242,
   "metadata": {
    "colab": {},
    "colab_type": "code",
    "id": "Dnbt4GdIVp_v"
   },
   "outputs": [],
   "source": [
    "answer_19 = data.groupby(by=['release_year'])['revenue'].sum().sort_values(ascending=False).index[0]\n",
    "answers['19'] = store_answer(answer_19, 'single_value')"
   ]
  },
  {
   "cell_type": "markdown",
   "metadata": {
    "colab_type": "text",
    "id": "JAzJh4QAVp_z"
   },
   "source": [
    "# 20. Какой самый прибыльный год для студии Warner Bros?"
   ]
  },
  {
   "cell_type": "code",
   "execution_count": 243,
   "metadata": {
    "colab": {},
    "colab_type": "code",
    "id": "wgVu02DEVp_0"
   },
   "outputs": [],
   "source": [
    "answer_20 = data[data['production_companies'].str.contains('Warner Bros')].groupby(by=['release_year'])['profit'].sum().sort_values(ascending=False).index[0]\n",
    "answers['20'] = store_answer(answer_20, 'single_value')"
   ]
  },
  {
   "cell_type": "markdown",
   "metadata": {
    "colab_type": "text",
    "id": "8Im1S2HRVp_4"
   },
   "source": [
    "# 21. В каком месяце за все годы суммарно вышло больше всего фильмов?"
   ]
  },
  {
   "cell_type": "code",
   "execution_count": 244,
   "metadata": {
    "colab": {},
    "colab_type": "code",
    "id": "lev6TH7gVp_4"
   },
   "outputs": [],
   "source": [
    "answer_21 = data['release_month'].value_counts().index[0]\n",
    "answers['21'] = store_answer(answer_21, 'single_value')"
   ]
  },
  {
   "cell_type": "markdown",
   "metadata": {
    "colab_type": "text",
    "id": "uAJsZ_NeVp_7"
   },
   "source": [
    "# 22. Сколько суммарно вышло фильмов летом? (за июнь, июль, август)"
   ]
  },
  {
   "cell_type": "code",
   "execution_count": 245,
   "metadata": {
    "colab": {},
    "colab_type": "code",
    "id": "Aa-hEREoVp_8"
   },
   "outputs": [],
   "source": [
    "answer_22 = len(data[data['release_month'].isin(['June', 'July', 'August'])])\n",
    "answers['22'] = store_answer(answer_22, 'single_value')"
   ]
  },
  {
   "cell_type": "markdown",
   "metadata": {
    "colab_type": "text",
    "id": "G94ppOY1VqAA"
   },
   "source": [
    "# 23. Для какого режиссера зима – самое продуктивное время года? "
   ]
  },
  {
   "cell_type": "code",
   "execution_count": 246,
   "metadata": {
    "colab": {},
    "colab_type": "code",
    "id": "RhNTsamuVqAB"
   },
   "outputs": [],
   "source": [
    "answer_23 = data[data['release_month'].isin(['December', 'January', 'February'])].explode('director_list')['director_list'].value_counts().index[0]\n",
    "answers['23'] = store_answer(answer_23, 'single_value')"
   ]
  },
  {
   "cell_type": "markdown",
   "metadata": {
    "colab_type": "text",
    "id": "RBo0JVjVVqAF"
   },
   "source": [
    "# 24. Какая студия дает самые длинные названия своим фильмам по количеству символов?"
   ]
  },
  {
   "cell_type": "code",
   "execution_count": 247,
   "metadata": {
    "colab": {},
    "colab_type": "code",
    "id": "QRGS8L0iVqAG"
   },
   "outputs": [],
   "source": [
    "answer_24 = data.explode('production_companies_list').groupby(by='production_companies_list')['title_length'].mean().sort_values(ascending=False).index[0]\n",
    "answers['24'] = store_answer(answer_24, 'single_value')"
   ]
  },
  {
   "cell_type": "markdown",
   "metadata": {
    "colab_type": "text",
    "id": "9G0hbvR7VqAK"
   },
   "source": [
    "# 25. Описание фильмов какой студии в среднем самые длинные по количеству слов?"
   ]
  },
  {
   "cell_type": "code",
   "execution_count": 248,
   "metadata": {
    "colab": {},
    "colab_type": "code",
    "id": "Ge2GsLNxVqAK"
   },
   "outputs": [],
   "source": [
    "answer_25 = data.explode('production_companies_list').groupby(by='production_companies_list')['overview_word_count'].mean().sort_values(ascending=False).index[0]\n",
    "answers['25'] = store_answer(answer_25, 'single_value')"
   ]
  },
  {
   "cell_type": "markdown",
   "metadata": {
    "colab_type": "text",
    "id": "FJ1AFt90VqAP"
   },
   "source": [
    "# 26. Какие фильмы входят в 1 процент лучших по рейтингу? \n",
    "по vote_average"
   ]
  },
  {
   "cell_type": "code",
   "execution_count": 249,
   "metadata": {
    "colab": {},
    "colab_type": "code",
    "id": "8qmJVq4CVqAQ"
   },
   "outputs": [
    {
     "data": {
      "text/html": [
       "<div>\n",
       "<style scoped>\n",
       "    .dataframe tbody tr th:only-of-type {\n",
       "        vertical-align: middle;\n",
       "    }\n",
       "\n",
       "    .dataframe tbody tr th {\n",
       "        vertical-align: top;\n",
       "    }\n",
       "\n",
       "    .dataframe thead th {\n",
       "        text-align: right;\n",
       "    }\n",
       "</style>\n",
       "<table border=\"1\" class=\"dataframe\">\n",
       "  <thead>\n",
       "    <tr style=\"text-align: right;\">\n",
       "      <th></th>\n",
       "      <th>imdb_id</th>\n",
       "      <th>budget</th>\n",
       "      <th>revenue</th>\n",
       "      <th>original_title</th>\n",
       "      <th>cast</th>\n",
       "      <th>director</th>\n",
       "      <th>tagline</th>\n",
       "      <th>overview</th>\n",
       "      <th>runtime</th>\n",
       "      <th>genres</th>\n",
       "      <th>...</th>\n",
       "      <th>vote_average</th>\n",
       "      <th>release_year</th>\n",
       "      <th>profit</th>\n",
       "      <th>genres_list</th>\n",
       "      <th>director_list</th>\n",
       "      <th>cast_list</th>\n",
       "      <th>production_companies_list</th>\n",
       "      <th>release_month</th>\n",
       "      <th>title_length</th>\n",
       "      <th>overview_word_count</th>\n",
       "    </tr>\n",
       "  </thead>\n",
       "  <tbody>\n",
       "    <tr>\n",
       "      <th>599</th>\n",
       "      <td>tt0468569</td>\n",
       "      <td>185000000</td>\n",
       "      <td>1001921825</td>\n",
       "      <td>The Dark Knight</td>\n",
       "      <td>Christian Bale|Michael Caine|Heath Ledger|Aaro...</td>\n",
       "      <td>Christopher Nolan</td>\n",
       "      <td>Why So Serious?</td>\n",
       "      <td>Batman raises the stakes in his war on crime. ...</td>\n",
       "      <td>152</td>\n",
       "      <td>Drama|Action|Crime|Thriller</td>\n",
       "      <td>...</td>\n",
       "      <td>8.1</td>\n",
       "      <td>2008</td>\n",
       "      <td>816921825</td>\n",
       "      <td>[Drama, Action, Crime, Thriller]</td>\n",
       "      <td>[Christopher Nolan]</td>\n",
       "      <td>[Christian Bale, Michael Caine, Heath Ledger, ...</td>\n",
       "      <td>[DC Comics, Legendary Pictures, Warner Bros., ...</td>\n",
       "      <td>July</td>\n",
       "      <td>15</td>\n",
       "      <td>68</td>\n",
       "    </tr>\n",
       "    <tr>\n",
       "      <th>9</th>\n",
       "      <td>tt2096673</td>\n",
       "      <td>175000000</td>\n",
       "      <td>853708609</td>\n",
       "      <td>Inside Out</td>\n",
       "      <td>Amy Poehler|Phyllis Smith|Richard Kind|Bill Ha...</td>\n",
       "      <td>Pete Docter</td>\n",
       "      <td>Meet the little voices inside your head.</td>\n",
       "      <td>Growing up can be a bumpy road, and it's no ex...</td>\n",
       "      <td>94</td>\n",
       "      <td>Comedy|Animation|Family</td>\n",
       "      <td>...</td>\n",
       "      <td>8.0</td>\n",
       "      <td>2015</td>\n",
       "      <td>678708609</td>\n",
       "      <td>[Comedy, Animation, Family]</td>\n",
       "      <td>[Pete Docter]</td>\n",
       "      <td>[Amy Poehler, Phyllis Smith, Richard Kind, Bil...</td>\n",
       "      <td>[Walt Disney Pictures, Pixar Animation Studios...</td>\n",
       "      <td>June</td>\n",
       "      <td>10</td>\n",
       "      <td>115</td>\n",
       "    </tr>\n",
       "    <tr>\n",
       "      <th>34</th>\n",
       "      <td>tt3170832</td>\n",
       "      <td>6000000</td>\n",
       "      <td>35401758</td>\n",
       "      <td>Room</td>\n",
       "      <td>Brie Larson|Jacob Tremblay|Joan Allen|Sean Bri...</td>\n",
       "      <td>Lenny Abrahamson</td>\n",
       "      <td>Love knows no boundaries</td>\n",
       "      <td>Jack is a young boy of 5 years old who has liv...</td>\n",
       "      <td>117</td>\n",
       "      <td>Drama|Thriller</td>\n",
       "      <td>...</td>\n",
       "      <td>8.0</td>\n",
       "      <td>2015</td>\n",
       "      <td>29401758</td>\n",
       "      <td>[Drama, Thriller]</td>\n",
       "      <td>[Lenny Abrahamson]</td>\n",
       "      <td>[Brie Larson, Jacob Tremblay, Joan Allen, Sean...</td>\n",
       "      <td>[Element Pictures, No Trace Camping, A24, Dupe...</td>\n",
       "      <td>October</td>\n",
       "      <td>4</td>\n",
       "      <td>50</td>\n",
       "    </tr>\n",
       "    <tr>\n",
       "      <th>118</th>\n",
       "      <td>tt0816692</td>\n",
       "      <td>165000000</td>\n",
       "      <td>621752480</td>\n",
       "      <td>Interstellar</td>\n",
       "      <td>Matthew McConaughey|Jessica Chastain|Anne Hath...</td>\n",
       "      <td>Christopher Nolan</td>\n",
       "      <td>Mankind was born on Earth. It was never meant ...</td>\n",
       "      <td>Interstellar chronicles the adventures of a gr...</td>\n",
       "      <td>169</td>\n",
       "      <td>Adventure|Drama|Science Fiction</td>\n",
       "      <td>...</td>\n",
       "      <td>8.0</td>\n",
       "      <td>2014</td>\n",
       "      <td>456752480</td>\n",
       "      <td>[Adventure, Drama, Science Fiction]</td>\n",
       "      <td>[Christopher Nolan]</td>\n",
       "      <td>[Matthew McConaughey, Jessica Chastain, Anne H...</td>\n",
       "      <td>[Paramount Pictures, Legendary Pictures, Warne...</td>\n",
       "      <td>November</td>\n",
       "      <td>12</td>\n",
       "      <td>36</td>\n",
       "    </tr>\n",
       "    <tr>\n",
       "      <th>125</th>\n",
       "      <td>tt2084970</td>\n",
       "      <td>14000000</td>\n",
       "      <td>233555708</td>\n",
       "      <td>The Imitation Game</td>\n",
       "      <td>Benedict Cumberbatch|Keira Knightley|Matthew G...</td>\n",
       "      <td>Morten Tyldum</td>\n",
       "      <td>The true enigma was the man who cracked the code.</td>\n",
       "      <td>Based on the real life story of legendary cryp...</td>\n",
       "      <td>113</td>\n",
       "      <td>History|Drama|Thriller|War</td>\n",
       "      <td>...</td>\n",
       "      <td>8.0</td>\n",
       "      <td>2014</td>\n",
       "      <td>219555708</td>\n",
       "      <td>[History, Drama, Thriller, War]</td>\n",
       "      <td>[Morten Tyldum]</td>\n",
       "      <td>[Benedict Cumberbatch, Keira Knightley, Matthe...</td>\n",
       "      <td>[Black Bear Pictures, Bristol Automotive]</td>\n",
       "      <td>November</td>\n",
       "      <td>18</td>\n",
       "      <td>51</td>\n",
       "    </tr>\n",
       "    <tr>\n",
       "      <th>119</th>\n",
       "      <td>tt2015381</td>\n",
       "      <td>170000000</td>\n",
       "      <td>773312399</td>\n",
       "      <td>Guardians of the Galaxy</td>\n",
       "      <td>Chris Pratt|Zoe Saldana|Dave Bautista|Vin Dies...</td>\n",
       "      <td>James Gunn</td>\n",
       "      <td>All heroes start somewhere.</td>\n",
       "      <td>Light years from Earth, 26 years after being a...</td>\n",
       "      <td>121</td>\n",
       "      <td>Action|Science Fiction|Adventure</td>\n",
       "      <td>...</td>\n",
       "      <td>7.9</td>\n",
       "      <td>2014</td>\n",
       "      <td>603312399</td>\n",
       "      <td>[Action, Science Fiction, Adventure]</td>\n",
       "      <td>[James Gunn]</td>\n",
       "      <td>[Chris Pratt, Zoe Saldana, Dave Bautista, Vin ...</td>\n",
       "      <td>[Marvel Studios, Moving Picture Company (MPC),...</td>\n",
       "      <td>July</td>\n",
       "      <td>23</td>\n",
       "      <td>29</td>\n",
       "    </tr>\n",
       "    <tr>\n",
       "      <th>128</th>\n",
       "      <td>tt2267998</td>\n",
       "      <td>61000000</td>\n",
       "      <td>369330363</td>\n",
       "      <td>Gone Girl</td>\n",
       "      <td>Ben Affleck|Rosamund Pike|Carrie Coon|Neil Pat...</td>\n",
       "      <td>David Fincher</td>\n",
       "      <td>You don't know what you've got 'til it's...</td>\n",
       "      <td>With his wife's disappearance having become th...</td>\n",
       "      <td>145</td>\n",
       "      <td>Mystery|Thriller|Drama</td>\n",
       "      <td>...</td>\n",
       "      <td>7.9</td>\n",
       "      <td>2014</td>\n",
       "      <td>308330363</td>\n",
       "      <td>[Mystery, Thriller, Drama]</td>\n",
       "      <td>[David Fincher]</td>\n",
       "      <td>[Ben Affleck, Rosamund Pike, Carrie Coon, Neil...</td>\n",
       "      <td>[Twentieth Century Fox Film Corporation, Regen...</td>\n",
       "      <td>October</td>\n",
       "      <td>9</td>\n",
       "      <td>33</td>\n",
       "    </tr>\n",
       "    <tr>\n",
       "      <th>138</th>\n",
       "      <td>tt2278388</td>\n",
       "      <td>30000000</td>\n",
       "      <td>174600318</td>\n",
       "      <td>The Grand Budapest Hotel</td>\n",
       "      <td>Ralph Fiennes|Tony Revolori|F. Murray Abraham|...</td>\n",
       "      <td>Wes Anderson</td>\n",
       "      <td>A perfect holiday without leaving home.</td>\n",
       "      <td>The Grand Budapest Hotel tells of a legendary ...</td>\n",
       "      <td>99</td>\n",
       "      <td>Comedy|Drama</td>\n",
       "      <td>...</td>\n",
       "      <td>7.9</td>\n",
       "      <td>2014</td>\n",
       "      <td>144600318</td>\n",
       "      <td>[Comedy, Drama]</td>\n",
       "      <td>[Wes Anderson]</td>\n",
       "      <td>[Ralph Fiennes, Tony Revolori, F. Murray Abrah...</td>\n",
       "      <td>[Fox Searchlight Pictures, Scott Rudin Product...</td>\n",
       "      <td>February</td>\n",
       "      <td>24</td>\n",
       "      <td>68</td>\n",
       "    </tr>\n",
       "    <tr>\n",
       "      <th>370</th>\n",
       "      <td>tt1375666</td>\n",
       "      <td>160000000</td>\n",
       "      <td>825500000</td>\n",
       "      <td>Inception</td>\n",
       "      <td>Leonardo DiCaprio|Joseph Gordon-Levitt|Ellen P...</td>\n",
       "      <td>Christopher Nolan</td>\n",
       "      <td>Your mind is the scene of the crime.</td>\n",
       "      <td>Cobb, a skilled thief who commits corporate es...</td>\n",
       "      <td>148</td>\n",
       "      <td>Action|Thriller|Science Fiction|Mystery|Adventure</td>\n",
       "      <td>...</td>\n",
       "      <td>7.9</td>\n",
       "      <td>2010</td>\n",
       "      <td>665500000</td>\n",
       "      <td>[Action, Thriller, Science Fiction, Mystery, A...</td>\n",
       "      <td>[Christopher Nolan]</td>\n",
       "      <td>[Leonardo DiCaprio, Joseph Gordon-Levitt, Elle...</td>\n",
       "      <td>[Legendary Pictures, Warner Bros., Syncopy]</td>\n",
       "      <td>July</td>\n",
       "      <td>9</td>\n",
       "      <td>47</td>\n",
       "    </tr>\n",
       "    <tr>\n",
       "      <th>872</th>\n",
       "      <td>tt0253474</td>\n",
       "      <td>35000000</td>\n",
       "      <td>120072577</td>\n",
       "      <td>The Pianist</td>\n",
       "      <td>Adrien Brody|Thomas Kretschmann|Frank Finlay|M...</td>\n",
       "      <td>Roman Polanski</td>\n",
       "      <td>Music was his passion. Survival was his master...</td>\n",
       "      <td>The Pianist is a film adapted from the biograp...</td>\n",
       "      <td>150</td>\n",
       "      <td>Drama|War</td>\n",
       "      <td>...</td>\n",
       "      <td>7.9</td>\n",
       "      <td>2002</td>\n",
       "      <td>85072577</td>\n",
       "      <td>[Drama, War]</td>\n",
       "      <td>[Roman Polanski]</td>\n",
       "      <td>[Adrien Brody, Thomas Kretschmann, Frank Finla...</td>\n",
       "      <td>[Bac Films, Canal+Polska, Heritage Films, Stud...</td>\n",
       "      <td>September</td>\n",
       "      <td>11</td>\n",
       "      <td>41</td>\n",
       "    </tr>\n",
       "    <tr>\n",
       "      <th>1081</th>\n",
       "      <td>tt0167260</td>\n",
       "      <td>94000000</td>\n",
       "      <td>1118888979</td>\n",
       "      <td>The Lord of the Rings: The Return of the King</td>\n",
       "      <td>Elijah Wood|Ian McKellen|Viggo Mortensen|Liv T...</td>\n",
       "      <td>Peter Jackson</td>\n",
       "      <td>The eye of the enemy is moving.</td>\n",
       "      <td>Aragorn is revealed as the heir to the ancient...</td>\n",
       "      <td>201</td>\n",
       "      <td>Adventure|Fantasy|Action</td>\n",
       "      <td>...</td>\n",
       "      <td>7.9</td>\n",
       "      <td>2003</td>\n",
       "      <td>1024888979</td>\n",
       "      <td>[Adventure, Fantasy, Action]</td>\n",
       "      <td>[Peter Jackson]</td>\n",
       "      <td>[Elijah Wood, Ian McKellen, Viggo Mortensen, L...</td>\n",
       "      <td>[WingNut Films, New Line Cinema]</td>\n",
       "      <td>December</td>\n",
       "      <td>45</td>\n",
       "      <td>48</td>\n",
       "    </tr>\n",
       "    <tr>\n",
       "      <th>1183</th>\n",
       "      <td>tt0993846</td>\n",
       "      <td>100000000</td>\n",
       "      <td>392000694</td>\n",
       "      <td>The Wolf of Wall Street</td>\n",
       "      <td>Leonardo DiCaprio|Jonah Hill|Margot Robbie|Kyl...</td>\n",
       "      <td>Martin Scorsese</td>\n",
       "      <td>EARN. SPEND. PARTY.</td>\n",
       "      <td>A New York stockbroker refuses to cooperate in...</td>\n",
       "      <td>180</td>\n",
       "      <td>Crime|Drama|Comedy</td>\n",
       "      <td>...</td>\n",
       "      <td>7.9</td>\n",
       "      <td>2013</td>\n",
       "      <td>292000694</td>\n",
       "      <td>[Crime, Drama, Comedy]</td>\n",
       "      <td>[Martin Scorsese]</td>\n",
       "      <td>[Leonardo DiCaprio, Jonah Hill, Margot Robbie,...</td>\n",
       "      <td>[Paramount Pictures, Appian Way, EMJAG Product...</td>\n",
       "      <td>December</td>\n",
       "      <td>23</td>\n",
       "      <td>31</td>\n",
       "    </tr>\n",
       "    <tr>\n",
       "      <th>1191</th>\n",
       "      <td>tt2024544</td>\n",
       "      <td>20000000</td>\n",
       "      <td>187000000</td>\n",
       "      <td>12 Years a Slave</td>\n",
       "      <td>Chiwetel Ejiofor|Michael Fassbender|Lupita Nyo...</td>\n",
       "      <td>Steve McQueen</td>\n",
       "      <td>The extraordinary true story of Solomon Northup</td>\n",
       "      <td>In the pre-Civil War United States, Solomon No...</td>\n",
       "      <td>134</td>\n",
       "      <td>Drama|History</td>\n",
       "      <td>...</td>\n",
       "      <td>7.9</td>\n",
       "      <td>2013</td>\n",
       "      <td>167000000</td>\n",
       "      <td>[Drama, History]</td>\n",
       "      <td>[Steve McQueen]</td>\n",
       "      <td>[Chiwetel Ejiofor, Michael Fassbender, Lupita ...</td>\n",
       "      <td>[Plan B Entertainment, Regency Enterprises, Ri...</td>\n",
       "      <td>October</td>\n",
       "      <td>16</td>\n",
       "      <td>64</td>\n",
       "    </tr>\n",
       "    <tr>\n",
       "      <th>1800</th>\n",
       "      <td>tt0209144</td>\n",
       "      <td>9000000</td>\n",
       "      <td>39723096</td>\n",
       "      <td>Memento</td>\n",
       "      <td>Guy Pearce|Carrie-Anne Moss|Joe Pantoliano|Mar...</td>\n",
       "      <td>Christopher Nolan</td>\n",
       "      <td>Some memories are best forgotten.</td>\n",
       "      <td>Suffering short-term memory loss after a head ...</td>\n",
       "      <td>113</td>\n",
       "      <td>Mystery|Thriller</td>\n",
       "      <td>...</td>\n",
       "      <td>7.9</td>\n",
       "      <td>2000</td>\n",
       "      <td>30723096</td>\n",
       "      <td>[Mystery, Thriller]</td>\n",
       "      <td>[Christopher Nolan]</td>\n",
       "      <td>[Guy Pearce, Carrie-Anne Moss, Joe Pantoliano,...</td>\n",
       "      <td>[Summit Entertainment, Newmarket Capital Group...</td>\n",
       "      <td>October</td>\n",
       "      <td>7</td>\n",
       "      <td>81</td>\n",
       "    </tr>\n",
       "  </tbody>\n",
       "</table>\n",
       "<p>14 rows × 22 columns</p>\n",
       "</div>"
      ],
      "text/plain": [
       "        imdb_id     budget     revenue  \\\n",
       "599   tt0468569  185000000  1001921825   \n",
       "9     tt2096673  175000000   853708609   \n",
       "34    tt3170832    6000000    35401758   \n",
       "118   tt0816692  165000000   621752480   \n",
       "125   tt2084970   14000000   233555708   \n",
       "119   tt2015381  170000000   773312399   \n",
       "128   tt2267998   61000000   369330363   \n",
       "138   tt2278388   30000000   174600318   \n",
       "370   tt1375666  160000000   825500000   \n",
       "872   tt0253474   35000000   120072577   \n",
       "1081  tt0167260   94000000  1118888979   \n",
       "1183  tt0993846  100000000   392000694   \n",
       "1191  tt2024544   20000000   187000000   \n",
       "1800  tt0209144    9000000    39723096   \n",
       "\n",
       "                                     original_title  \\\n",
       "599                                 The Dark Knight   \n",
       "9                                        Inside Out   \n",
       "34                                             Room   \n",
       "118                                    Interstellar   \n",
       "125                              The Imitation Game   \n",
       "119                         Guardians of the Galaxy   \n",
       "128                                       Gone Girl   \n",
       "138                        The Grand Budapest Hotel   \n",
       "370                                       Inception   \n",
       "872                                     The Pianist   \n",
       "1081  The Lord of the Rings: The Return of the King   \n",
       "1183                        The Wolf of Wall Street   \n",
       "1191                               12 Years a Slave   \n",
       "1800                                        Memento   \n",
       "\n",
       "                                                   cast           director  \\\n",
       "599   Christian Bale|Michael Caine|Heath Ledger|Aaro...  Christopher Nolan   \n",
       "9     Amy Poehler|Phyllis Smith|Richard Kind|Bill Ha...        Pete Docter   \n",
       "34    Brie Larson|Jacob Tremblay|Joan Allen|Sean Bri...   Lenny Abrahamson   \n",
       "118   Matthew McConaughey|Jessica Chastain|Anne Hath...  Christopher Nolan   \n",
       "125   Benedict Cumberbatch|Keira Knightley|Matthew G...      Morten Tyldum   \n",
       "119   Chris Pratt|Zoe Saldana|Dave Bautista|Vin Dies...         James Gunn   \n",
       "128   Ben Affleck|Rosamund Pike|Carrie Coon|Neil Pat...      David Fincher   \n",
       "138   Ralph Fiennes|Tony Revolori|F. Murray Abraham|...       Wes Anderson   \n",
       "370   Leonardo DiCaprio|Joseph Gordon-Levitt|Ellen P...  Christopher Nolan   \n",
       "872   Adrien Brody|Thomas Kretschmann|Frank Finlay|M...     Roman Polanski   \n",
       "1081  Elijah Wood|Ian McKellen|Viggo Mortensen|Liv T...      Peter Jackson   \n",
       "1183  Leonardo DiCaprio|Jonah Hill|Margot Robbie|Kyl...    Martin Scorsese   \n",
       "1191  Chiwetel Ejiofor|Michael Fassbender|Lupita Nyo...      Steve McQueen   \n",
       "1800  Guy Pearce|Carrie-Anne Moss|Joe Pantoliano|Mar...  Christopher Nolan   \n",
       "\n",
       "                                                tagline  \\\n",
       "599                                     Why So Serious?   \n",
       "9              Meet the little voices inside your head.   \n",
       "34                             Love knows no boundaries   \n",
       "118   Mankind was born on Earth. It was never meant ...   \n",
       "125   The true enigma was the man who cracked the code.   \n",
       "119                         All heroes start somewhere.   \n",
       "128         You don't know what you've got 'til it's...   \n",
       "138             A perfect holiday without leaving home.   \n",
       "370                Your mind is the scene of the crime.   \n",
       "872   Music was his passion. Survival was his master...   \n",
       "1081                    The eye of the enemy is moving.   \n",
       "1183                                EARN. SPEND. PARTY.   \n",
       "1191    The extraordinary true story of Solomon Northup   \n",
       "1800                  Some memories are best forgotten.   \n",
       "\n",
       "                                               overview  runtime  \\\n",
       "599   Batman raises the stakes in his war on crime. ...      152   \n",
       "9     Growing up can be a bumpy road, and it's no ex...       94   \n",
       "34    Jack is a young boy of 5 years old who has liv...      117   \n",
       "118   Interstellar chronicles the adventures of a gr...      169   \n",
       "125   Based on the real life story of legendary cryp...      113   \n",
       "119   Light years from Earth, 26 years after being a...      121   \n",
       "128   With his wife's disappearance having become th...      145   \n",
       "138   The Grand Budapest Hotel tells of a legendary ...       99   \n",
       "370   Cobb, a skilled thief who commits corporate es...      148   \n",
       "872   The Pianist is a film adapted from the biograp...      150   \n",
       "1081  Aragorn is revealed as the heir to the ancient...      201   \n",
       "1183  A New York stockbroker refuses to cooperate in...      180   \n",
       "1191  In the pre-Civil War United States, Solomon No...      134   \n",
       "1800  Suffering short-term memory loss after a head ...      113   \n",
       "\n",
       "                                                 genres  ... vote_average  \\\n",
       "599                         Drama|Action|Crime|Thriller  ...          8.1   \n",
       "9                               Comedy|Animation|Family  ...          8.0   \n",
       "34                                       Drama|Thriller  ...          8.0   \n",
       "118                     Adventure|Drama|Science Fiction  ...          8.0   \n",
       "125                          History|Drama|Thriller|War  ...          8.0   \n",
       "119                    Action|Science Fiction|Adventure  ...          7.9   \n",
       "128                              Mystery|Thriller|Drama  ...          7.9   \n",
       "138                                        Comedy|Drama  ...          7.9   \n",
       "370   Action|Thriller|Science Fiction|Mystery|Adventure  ...          7.9   \n",
       "872                                           Drama|War  ...          7.9   \n",
       "1081                           Adventure|Fantasy|Action  ...          7.9   \n",
       "1183                                 Crime|Drama|Comedy  ...          7.9   \n",
       "1191                                      Drama|History  ...          7.9   \n",
       "1800                                   Mystery|Thriller  ...          7.9   \n",
       "\n",
       "     release_year      profit  \\\n",
       "599          2008   816921825   \n",
       "9            2015   678708609   \n",
       "34           2015    29401758   \n",
       "118          2014   456752480   \n",
       "125          2014   219555708   \n",
       "119          2014   603312399   \n",
       "128          2014   308330363   \n",
       "138          2014   144600318   \n",
       "370          2010   665500000   \n",
       "872          2002    85072577   \n",
       "1081         2003  1024888979   \n",
       "1183         2013   292000694   \n",
       "1191         2013   167000000   \n",
       "1800         2000    30723096   \n",
       "\n",
       "                                            genres_list        director_list  \\\n",
       "599                    [Drama, Action, Crime, Thriller]  [Christopher Nolan]   \n",
       "9                           [Comedy, Animation, Family]        [Pete Docter]   \n",
       "34                                    [Drama, Thriller]   [Lenny Abrahamson]   \n",
       "118                 [Adventure, Drama, Science Fiction]  [Christopher Nolan]   \n",
       "125                     [History, Drama, Thriller, War]      [Morten Tyldum]   \n",
       "119                [Action, Science Fiction, Adventure]         [James Gunn]   \n",
       "128                          [Mystery, Thriller, Drama]      [David Fincher]   \n",
       "138                                     [Comedy, Drama]       [Wes Anderson]   \n",
       "370   [Action, Thriller, Science Fiction, Mystery, A...  [Christopher Nolan]   \n",
       "872                                        [Drama, War]     [Roman Polanski]   \n",
       "1081                       [Adventure, Fantasy, Action]      [Peter Jackson]   \n",
       "1183                             [Crime, Drama, Comedy]    [Martin Scorsese]   \n",
       "1191                                   [Drama, History]      [Steve McQueen]   \n",
       "1800                                [Mystery, Thriller]  [Christopher Nolan]   \n",
       "\n",
       "                                              cast_list  \\\n",
       "599   [Christian Bale, Michael Caine, Heath Ledger, ...   \n",
       "9     [Amy Poehler, Phyllis Smith, Richard Kind, Bil...   \n",
       "34    [Brie Larson, Jacob Tremblay, Joan Allen, Sean...   \n",
       "118   [Matthew McConaughey, Jessica Chastain, Anne H...   \n",
       "125   [Benedict Cumberbatch, Keira Knightley, Matthe...   \n",
       "119   [Chris Pratt, Zoe Saldana, Dave Bautista, Vin ...   \n",
       "128   [Ben Affleck, Rosamund Pike, Carrie Coon, Neil...   \n",
       "138   [Ralph Fiennes, Tony Revolori, F. Murray Abrah...   \n",
       "370   [Leonardo DiCaprio, Joseph Gordon-Levitt, Elle...   \n",
       "872   [Adrien Brody, Thomas Kretschmann, Frank Finla...   \n",
       "1081  [Elijah Wood, Ian McKellen, Viggo Mortensen, L...   \n",
       "1183  [Leonardo DiCaprio, Jonah Hill, Margot Robbie,...   \n",
       "1191  [Chiwetel Ejiofor, Michael Fassbender, Lupita ...   \n",
       "1800  [Guy Pearce, Carrie-Anne Moss, Joe Pantoliano,...   \n",
       "\n",
       "                              production_companies_list release_month  \\\n",
       "599   [DC Comics, Legendary Pictures, Warner Bros., ...          July   \n",
       "9     [Walt Disney Pictures, Pixar Animation Studios...          June   \n",
       "34    [Element Pictures, No Trace Camping, A24, Dupe...       October   \n",
       "118   [Paramount Pictures, Legendary Pictures, Warne...      November   \n",
       "125           [Black Bear Pictures, Bristol Automotive]      November   \n",
       "119   [Marvel Studios, Moving Picture Company (MPC),...          July   \n",
       "128   [Twentieth Century Fox Film Corporation, Regen...       October   \n",
       "138   [Fox Searchlight Pictures, Scott Rudin Product...      February   \n",
       "370         [Legendary Pictures, Warner Bros., Syncopy]          July   \n",
       "872   [Bac Films, Canal+Polska, Heritage Films, Stud...     September   \n",
       "1081                   [WingNut Films, New Line Cinema]      December   \n",
       "1183  [Paramount Pictures, Appian Way, EMJAG Product...      December   \n",
       "1191  [Plan B Entertainment, Regency Enterprises, Ri...       October   \n",
       "1800  [Summit Entertainment, Newmarket Capital Group...       October   \n",
       "\n",
       "     title_length overview_word_count  \n",
       "599            15                  68  \n",
       "9              10                 115  \n",
       "34              4                  50  \n",
       "118            12                  36  \n",
       "125            18                  51  \n",
       "119            23                  29  \n",
       "128             9                  33  \n",
       "138            24                  68  \n",
       "370             9                  47  \n",
       "872            11                  41  \n",
       "1081           45                  48  \n",
       "1183           23                  31  \n",
       "1191           16                  64  \n",
       "1800            7                  81  \n",
       "\n",
       "[14 rows x 22 columns]"
      ]
     },
     "execution_count": 249,
     "metadata": {},
     "output_type": "execute_result"
    }
   ],
   "source": [
    "quantile_99 = data['vote_average'].quantile(0.99)\n",
    "data[data['vote_average'] > quantile_99].sort_values(by='vote_average', ascending=False)"
   ]
  },
  {
   "cell_type": "code",
   "execution_count": 250,
   "metadata": {},
   "outputs": [],
   "source": [
    "# entering an answer manually\n",
    "# based on the result from a \n",
    "# previous cell\n",
    "answers['26'] = 'Inside Out, The Dark Knight, 12 Years a Slave'"
   ]
  },
  {
   "cell_type": "markdown",
   "metadata": {
    "colab_type": "text",
    "id": "MdXsUXbCVqAV"
   },
   "source": [
    "# 27. Какие актеры чаще всего снимаются в одном фильме вместе?\n"
   ]
  },
  {
   "cell_type": "code",
   "execution_count": 251,
   "metadata": {},
   "outputs": [
    {
     "data": {
      "text/plain": [
       "cast_list_x           cast_list_y         \n",
       "Rupert Grint          Daniel Radcliffe        8\n",
       "Emma Watson           Rupert Grint            8\n",
       "Rupert Grint          Emma Watson             8\n",
       "Daniel Radcliffe      Emma Watson             8\n",
       "Emma Watson           Daniel Radcliffe        8\n",
       "Daniel Radcliffe      Rupert Grint            8\n",
       "Owen Wilson           Ben Stiller             6\n",
       "Helena Bonham Carter  Johnny Depp             6\n",
       "Ben Stiller           Owen Wilson             6\n",
       "Johnny Depp           Helena Bonham Carter    6\n",
       "Kristen Stewart       Taylor Lautner          5\n",
       "Robert Pattinson      Kristen Stewart         5\n",
       "Vin Diesel            Paul Walker             5\n",
       "Hugh Jackman          Ian McKellen            5\n",
       "Ian McKellen          Hugh Jackman            5\n",
       "Robert Pattinson      Taylor Lautner          5\n",
       "Adam Sandler          Kevin James             5\n",
       "Kevin James           Adam Sandler            5\n",
       "Taylor Lautner        Robert Pattinson        5\n",
       "Kristen Stewart       Robert Pattinson        5\n",
       "Name: counter, dtype: int64"
      ]
     },
     "execution_count": 251,
     "metadata": {},
     "output_type": "execute_result"
    }
   ],
   "source": [
    "# two temporary dataframes that \n",
    "# will be joined later\n",
    "df1 = data[['imdb_id','cast_list']].explode('cast_list')\n",
    "df2 = data[['imdb_id','cast_list']].explode('cast_list')\n",
    "\n",
    "df3 = df1.merge(df2, left_on='imdb_id', right_on='imdb_id')\n",
    "\n",
    "# counter will be used for summing later\n",
    "df3['counter'] = 1\n",
    "\n",
    "# leaving only the entries where\n",
    "# cast_list_x != cast_list_y because\n",
    "# they refer to the same actor\n",
    "df3[~(df3['cast_list_x'] == df3['cast_list_y'])].groupby(['cast_list_x', 'cast_list_y'])['counter'].sum().sort_values(ascending=False).head(20)\n"
   ]
  },
  {
   "cell_type": "code",
   "execution_count": 252,
   "metadata": {},
   "outputs": [],
   "source": [
    "# entering an answer manually\n",
    "# based on the result from a \n",
    "# previous cell\n",
    "answers['27'] = 'Rupert Grint & Daniel Radcliffe'"
   ]
  },
  {
   "cell_type": "markdown",
   "metadata": {
    "colab_type": "text",
    "id": "U0nONFnGVqAX"
   },
   "source": [
    "# Submission"
   ]
  },
  {
   "cell_type": "code",
   "execution_count": 253,
   "metadata": {
    "colab": {},
    "colab_type": "code",
    "id": "IfcaRO9-VqAX",
    "outputId": "0f132912-32bb-4196-c98c-abfbc4ad5a5f"
   },
   "outputs": [
    {
     "data": {
      "text/plain": [
       "{'1': 'Pirates of the Caribbean: On Stranger Tides (tt1298650)',\n",
       " '2': 'Gods and Generals (tt0279111)',\n",
       " '3': 'Winnie the Pooh (tt1449283)',\n",
       " '4': 110,\n",
       " '5': 107,\n",
       " '6': 'Avatar (tt0499549)',\n",
       " '7': 'The Lone Ranger (tt1210819)',\n",
       " '8': 1478,\n",
       " '9': 'The Dark Knight (tt0468569)',\n",
       " '10': 'The Lone Ranger (tt1210819)',\n",
       " '11': 'Drama',\n",
       " '12': 'Drama',\n",
       " '13': 'Peter Jackson',\n",
       " '14': 'Robert Rodriguez',\n",
       " '15': 'Chris Hemsworth',\n",
       " '16': 'Matt Damon',\n",
       " '17': 'Action',\n",
       " '18': 'K-19: The Widowmaker (tt0267626)',\n",
       " '19': 2015,\n",
       " '20': 2014,\n",
       " '21': 'September',\n",
       " '22': 450,\n",
       " '23': 'Peter Jackson',\n",
       " '24': 'Four By Two Productions',\n",
       " '25': 'Midnight Picture Show',\n",
       " '26': 'Inside Out, The Dark Knight, 12 Years a Slave',\n",
       " '27': 'Rupert Grint & Daniel Radcliffe'}"
      ]
     },
     "execution_count": 253,
     "metadata": {},
     "output_type": "execute_result"
    }
   ],
   "source": [
    "# в конце можно посмотреть свои ответы к каждому вопросу\n",
    "answers"
   ]
  },
  {
   "cell_type": "code",
   "execution_count": 254,
   "metadata": {
    "colab": {},
    "colab_type": "code",
    "id": "SiRmHPl8VqAd"
   },
   "outputs": [
    {
     "data": {
      "text/plain": [
       "27"
      ]
     },
     "execution_count": 254,
     "metadata": {},
     "output_type": "execute_result"
    }
   ],
   "source": [
    "# и убедиться что ни чего не пропустил)\n",
    "len(answers)"
   ]
  }
 ],
 "metadata": {
  "colab": {
   "name": "Copy of [SF-DST] Movies IMBD v4.1 TEMPLATE.ipynb",
   "provenance": []
  },
  "kernelspec": {
   "display_name": "Python 3",
   "language": "python",
   "name": "python3"
  },
  "language_info": {
   "codemirror_mode": {
    "name": "ipython",
    "version": 3
   },
   "file_extension": ".py",
   "mimetype": "text/x-python",
   "name": "python",
   "nbconvert_exporter": "python",
   "pygments_lexer": "ipython3",
   "version": "3.7.6"
  }
 },
 "nbformat": 4,
 "nbformat_minor": 1
}
