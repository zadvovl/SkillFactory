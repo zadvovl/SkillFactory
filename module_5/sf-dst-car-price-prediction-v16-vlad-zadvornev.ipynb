{
 "cells": [
  {
   "cell_type": "markdown",
   "metadata": {
    "papermill": {
     "duration": 0.029718,
     "end_time": "2020-10-26T12:46:41.276296",
     "exception": false,
     "start_time": "2020-10-26T12:46:41.246578",
     "status": "completed"
    },
    "tags": []
   },
   "source": [
    "<img src=\"https://whatcar.vn/media/2018/09/car-lot-940x470.jpg\"/>\n",
    "\n",
    "## Прогнозирование стоимости автомобиля по характеристикам\n",
    "*Этот Ноутбук является Примером/Шаблоном (Baseline) к этому соревнованию и не служит готовым решением!*   \n",
    "Вы можете использовать его как основу для построения своего решения.\n",
    "\n",
    "\n",
    "> **baseline** создается больше как шаблон, где можно посмотреть как происходит обращение с входящими данными и что нужно получить на выходе. При этом МЛ начинка может быть достаточно простой. Это помогает быстрее приступить к самому МЛ, а не тратить ценное время на чисто инженерные задачи. \n",
    "Также baseline является хорошей опорной точкой по метрике. Если твое решение хуже baseline - ты явно делаешь что-то не то и стоит попробовать другой путь) "
   ]
  },
  {
   "cell_type": "markdown",
   "metadata": {
    "papermill": {
     "duration": 0.028027,
     "end_time": "2020-10-26T12:46:41.334278",
     "exception": false,
     "start_time": "2020-10-26T12:46:41.306251",
     "status": "completed"
    },
    "tags": []
   },
   "source": [
    "Помним, что по условию соревнования, нам нужно самостоятельно собрать обучающий датасет. В этом ноутбуке мы не будем рассматривать сбор данных. Предположим, что мы уже все собрали и просто подключили свой датасет через \"Add Data\", чтобы приступить к самому ML."
   ]
  },
  {
   "cell_type": "code",
   "execution_count": 12,
   "metadata": {
    "_cell_guid": "b1076dfc-b9ad-4769-8c92-a6c4dae69d19",
    "_uuid": "8f2839f25d086af736a60e9eeb907d3b93b6e0e5",
    "execution": {
     "iopub.execute_input": "2020-10-26T12:46:41.400302Z",
     "iopub.status.busy": "2020-10-26T12:46:41.399317Z",
     "iopub.status.idle": "2020-10-26T12:46:42.581426Z",
     "shell.execute_reply": "2020-10-26T12:46:42.580431Z"
    },
    "papermill": {
     "duration": 1.219772,
     "end_time": "2020-10-26T12:46:42.581597",
     "exception": false,
     "start_time": "2020-10-26T12:46:41.361825",
     "status": "completed"
    },
    "tags": []
   },
   "outputs": [],
   "source": [
    "import numpy as np # linear algebra\n",
    "import pandas as pd # data processing, CSV file I/O (e.g. pd.read_csv)\n",
    "import sys\n",
    "from sklearn.model_selection import train_test_split\n",
    "from sklearn.model_selection import KFold\n",
    "from tqdm.notebook import tqdm\n",
    "from catboost import CatBoostRegressor\n",
    "from sklearn.preprocessing import LabelEncoder\n",
    "from matplotlib import pyplot as plt\n",
    "import seaborn as sns\n",
    "import re\n",
    "import datetime as dt\n",
    "from collections import Counter\n",
    "\n",
    "import pprint\n",
    "import json \n",
    "%matplotlib inline"
   ]
  },
  {
   "cell_type": "code",
   "execution_count": 13,
   "metadata": {
    "_kg_hide-input": true,
    "execution": {
     "iopub.execute_input": "2020-10-26T12:46:42.646795Z",
     "iopub.status.busy": "2020-10-26T12:46:42.645765Z",
     "iopub.status.idle": "2020-10-26T12:46:42.649793Z",
     "shell.execute_reply": "2020-10-26T12:46:42.650407Z"
    },
    "papermill": {
     "duration": 0.040034,
     "end_time": "2020-10-26T12:46:42.650603",
     "exception": false,
     "start_time": "2020-10-26T12:46:42.610569",
     "status": "completed"
    },
    "tags": []
   },
   "outputs": [
    {
     "name": "stdout",
     "output_type": "stream",
     "text": [
      "Python       : 3.8.5 (default, Sep  3 2020, 21:29:08) [MSC v.1916 64 bit (AMD64)]\n",
      "Numpy        : 1.19.2\n"
     ]
    }
   ],
   "source": [
    "print('Python       :', sys.version.split('\\n')[0])\n",
    "print('Numpy        :', np.__version__)"
   ]
  },
  {
   "cell_type": "code",
   "execution_count": 14,
   "metadata": {
    "_kg_hide-input": true,
    "execution": {
     "iopub.execute_input": "2020-10-26T12:46:42.716039Z",
     "iopub.status.busy": "2020-10-26T12:46:42.715184Z",
     "iopub.status.idle": "2020-10-26T12:46:47.852433Z",
     "shell.execute_reply": "2020-10-26T12:46:47.851661Z"
    },
    "papermill": {
     "duration": 5.172536,
     "end_time": "2020-10-26T12:46:47.852593",
     "exception": false,
     "start_time": "2020-10-26T12:46:42.680057",
     "status": "completed"
    },
    "tags": []
   },
   "outputs": [],
   "source": [
    "# зафиксируем версию пакетов, чтобы эксперименты были воспроизводимы:\n",
    "# !pip freeze > requirements.txt"
   ]
  },
  {
   "cell_type": "code",
   "execution_count": 15,
   "metadata": {
    "execution": {
     "iopub.execute_input": "2020-10-26T12:46:47.919419Z",
     "iopub.status.busy": "2020-10-26T12:46:47.918168Z",
     "iopub.status.idle": "2020-10-26T12:46:47.922267Z",
     "shell.execute_reply": "2020-10-26T12:46:47.921365Z"
    },
    "papermill": {
     "duration": 0.039842,
     "end_time": "2020-10-26T12:46:47.922434",
     "exception": false,
     "start_time": "2020-10-26T12:46:47.882592",
     "status": "completed"
    },
    "tags": []
   },
   "outputs": [],
   "source": [
    "# всегда фиксируйте RANDOM_SEED, чтобы ваши эксперименты были воспроизводимы!\n",
    "RANDOM_SEED = 42"
   ]
  },
  {
   "cell_type": "markdown",
   "metadata": {},
   "source": [
    "# HELPER FUNCTIONS"
   ]
  },
  {
   "cell_type": "code",
   "execution_count": 16,
   "metadata": {
    "_kg_hide-input": true
   },
   "outputs": [],
   "source": [
    "def mape(y_true, y_pred):\n",
    "    return np.mean(np.abs((y_pred-y_true)/y_true))\n",
    "\n",
    "def from_json_str(cell, val):\n",
    "    \"\"\"\n",
    "    I will use this helper function to retrieve the data from string representations\n",
    "    of JSON responses available in some columns of my dataframes\n",
    "    \n",
    "    cell - cell where json value is stored\n",
    "    val - value to search\n",
    "    \"\"\"\n",
    "    json_acceptable_string = cell.replace(\"'\", \"\\\"\")\n",
    "    temp = json.loads(json_acceptable_string)\n",
    "    \n",
    "    return temp[val]\n",
    "\n",
    "def double_countplot(df, field, w=25):\n",
    "    \"\"\"\n",
    "    Draws 2 countplots one below the other. Useful to visualize test and train data\n",
    "    simultaneously.\n",
    "    \n",
    "    df - dataframe\n",
    "    field - field to visualize\n",
    "    w - width of the countplot\n",
    "    \"\"\"\n",
    "    fig, ax = plt.subplots(nrows=2, ncols=1, figsize=(w,5))\n",
    "    fig.subplots_adjust(hspace=1)\n",
    "    ax[0].set_xticklabels(ax[0].get_xticklabels(), rotation=40, ha=\"right\")\n",
    "    ax[0].set_title('Train')\n",
    "    ax[1].set_xticklabels(ax[1].get_xticklabels(), rotation=40, ha=\"right\")\n",
    "    ax[1].set_title('Test')\n",
    "    sns.countplot(df[df['source']=='train'][field], ax=ax[0])\n",
    "    sns.countplot(df[df['source']=='test'][field], ax=ax[1])\n",
    "    \n",
    "def translate_by_dict(word, dic):\n",
    "    \"\"\"\n",
    "    Translation function\n",
    "    \"\"\"\n",
    "    if word in dic.values():\n",
    "        # nothing to translate - the word is already correct\n",
    "        return word\n",
    "    else:\n",
    "        result = dic.get(word)\n",
    "        if result:\n",
    "            return result\n",
    "        else:\n",
    "            return 'other'    \n",
    "        \n",
    "def get_engine_displacement(x):\n",
    "    \"\"\"\n",
    "    Processes a string description of engine to extract only its volume\n",
    "    \"\"\"  \n",
    "    t = x.split(' ')[0]\n",
    "    t = re.sub(r\"[-,A-Z,a-z,-,_,' ']+\", '', t, flags=re.IGNORECASE)\n",
    "    if len(t) == 0:\n",
    "        return -1\n",
    "    elif (',' in t) or ('.' in t):\n",
    "        return float(t)\n",
    "    else:\n",
    "        try:\n",
    "            return int(t[:2])/10\n",
    "        except ValueError:\n",
    "            return -1        \n",
    "        \n",
    "def ownership_period(r):\n",
    "    \"\"\"\n",
    "    This function converts text representation of ownership period into numeric value.\n",
    "    It deals with 3 cases:\n",
    "     - ownership period represented as dictionary: {'year': 2018, 'month': 12};\n",
    "     - ownership period represented as string: 1 год и 10 месяцев;\n",
    "     - missing value.\n",
    "    \"\"\"\n",
    "    x = r['Владение']\n",
    "    p = r['productionDate']\n",
    "    try:\n",
    "        if np.isnan(x):\n",
    "            # this part will return numner of months since the beginning of production year up to now\n",
    "            prod = dt.date(2020,1,1)\n",
    "            return round((dt.date.today() - prod)/dt.timedelta(days=30))\n",
    "    except TypeError:\n",
    "        json_acceptable_string = x.replace(\"'\", \"\\\"\")\n",
    "        try:\n",
    "            temp = json.loads(json_acceptable_string)\n",
    "            to_dt = round((dt.date.today() - dt.date(temp['year'], temp['month'], 1))/dt.timedelta(days=30))\n",
    "            return to_dt\n",
    "        except ValueError:\n",
    "            temp = x.split(' ')\n",
    "            y, m = 0, 0\n",
    "            for i, t in enumerate(temp):\n",
    "                if i+1 <= len(temp) -1:\n",
    "                    if 'год' in str(temp[i+1]) or 'лет' in str(temp[i+1]):\n",
    "                        y = int(t)\n",
    "                    if 'мес' in str(temp[i+1]): \n",
    "                        m = int(t)\n",
    "            return y*12 + m   \n",
    "        \n",
    "def df_cell_json(cell):\n",
    "    \"\"\"\n",
    "    I will use this helper function to convert dataframe cell content to dictionary if possible\n",
    "    \n",
    "    cell - cell where json value is stored\n",
    "    \"\"\"\n",
    "    try:\n",
    "        #print(cell)\n",
    "        json_acceptable_string = cell.replace(\"'\", \"\\\"\")\n",
    "        json_acceptable_string = json_acceptable_string.replace(\"True\", \"\\\"True\\\"\")\n",
    "        temp = json.loads(json_acceptable_string)\n",
    "        return temp\n",
    "    except (AttributeError, ValueError):\n",
    "        return dict()     \n",
    "    \n",
    "def mass_box(data, lst):\n",
    "    \"\"\"\n",
    "    Draws multiple box plots\n",
    "    \"\"\"  \n",
    "    for i in lst:\n",
    "        print(f\"Average price values : {data.groupby(i)['price'].mean()}\")\n",
    "        plt.ylim(np.min(data['price']), np.mean(data['price'])*3)\n",
    "        sns.boxplot(data = data, y='price', x=i, showmeans=True)\n",
    "        plt.title(i)\n",
    "        plt.show() "
   ]
  },
  {
   "cell_type": "markdown",
   "metadata": {
    "papermill": {
     "duration": 0.028837,
     "end_time": "2020-10-26T12:46:47.981435",
     "exception": false,
     "start_time": "2020-10-26T12:46:47.952598",
     "status": "completed"
    },
    "tags": []
   },
   "source": [
    "# Setup"
   ]
  },
  {
   "cell_type": "code",
   "execution_count": 17,
   "metadata": {
    "execution": {
     "iopub.execute_input": "2020-10-26T12:46:48.05046Z",
     "iopub.status.busy": "2020-10-26T12:46:48.049412Z",
     "iopub.status.idle": "2020-10-26T12:46:48.052578Z",
     "shell.execute_reply": "2020-10-26T12:46:48.051917Z"
    },
    "papermill": {
     "duration": 0.039969,
     "end_time": "2020-10-26T12:46:48.052728",
     "exception": false,
     "start_time": "2020-10-26T12:46:48.012759",
     "status": "completed"
    },
    "tags": []
   },
   "outputs": [],
   "source": [
    "VERSION    = 16\n",
    "#DIR_TRAIN  = '../input/train-set-20210113/' # подключил к ноутбуку внешний датасет\n",
    "#DIR_TEST   = '../input/sf-dst-car-price-prediction/'\n",
    "\n",
    "DIR_TRAIN  = '' # for my local PC (files are in the same folder as notebook)\n",
    "DIR_TEST   = ''\n",
    "VAL_SIZE   = 0.20   # 20%"
   ]
  },
  {
   "cell_type": "markdown",
   "metadata": {
    "papermill": {
     "duration": 0.030254,
     "end_time": "2020-10-26T12:46:48.112586",
     "exception": false,
     "start_time": "2020-10-26T12:46:48.082332",
     "status": "completed"
    },
    "tags": []
   },
   "source": [
    "# Data"
   ]
  },
  {
   "cell_type": "code",
   "execution_count": 18,
   "metadata": {
    "execution": {
     "iopub.execute_input": "2020-10-26T12:46:48.179769Z",
     "iopub.status.busy": "2020-10-26T12:46:48.178918Z",
     "iopub.status.idle": "2020-10-26T12:46:48.924574Z",
     "shell.execute_reply": "2020-10-26T12:46:48.925184Z"
    },
    "papermill": {
     "duration": 0.783211,
     "end_time": "2020-10-26T12:46:48.925418",
     "exception": false,
     "start_time": "2020-10-26T12:46:48.142207",
     "status": "completed"
    },
    "tags": []
   },
   "outputs": [],
   "source": [
    "#!ls '../input'"
   ]
  },
  {
   "cell_type": "code",
   "execution_count": 19,
   "metadata": {
    "_cell_guid": "79c7e3d0-c299-4dcb-8224-4455121ee9b0",
    "_uuid": "d629ff2d2480ee46fbb7e2d37f6b5fab8052498a",
    "execution": {
     "iopub.execute_input": "2020-10-26T12:46:49.007668Z",
     "iopub.status.busy": "2020-10-26T12:46:49.006762Z",
     "iopub.status.idle": "2020-10-26T12:47:02.121152Z",
     "shell.execute_reply": "2020-10-26T12:47:02.120434Z"
    },
    "papermill": {
     "duration": 13.16556,
     "end_time": "2020-10-26T12:47:02.12133",
     "exception": false,
     "start_time": "2020-10-26T12:46:48.95577",
     "status": "completed"
    },
    "tags": []
   },
   "outputs": [],
   "source": [
    "train = pd.read_csv(DIR_TRAIN+'own_train_set_20210115.csv') # this is my training set (downloaded from auto.ru on 20210113)\n",
    "test = pd.read_csv(DIR_TEST+'test.csv')\n",
    "sample_submission = pd.read_csv(DIR_TEST+'sample_submission.csv')"
   ]
  },
  {
   "cell_type": "code",
   "execution_count": 20,
   "metadata": {
    "execution": {
     "iopub.execute_input": "2020-10-26T12:47:02.22557Z",
     "iopub.status.busy": "2020-10-26T12:47:02.21916Z",
     "iopub.status.idle": "2020-10-26T12:47:02.245921Z",
     "shell.execute_reply": "2020-10-26T12:47:02.246559Z"
    },
    "papermill": {
     "duration": 0.09378,
     "end_time": "2020-10-26T12:47:02.246755",
     "exception": false,
     "start_time": "2020-10-26T12:47:02.152975",
     "status": "completed"
    },
    "tags": []
   },
   "outputs": [
    {
     "data": {
      "text/html": [
       "<div>\n",
       "<style scoped>\n",
       "    .dataframe tbody tr th:only-of-type {\n",
       "        vertical-align: middle;\n",
       "    }\n",
       "\n",
       "    .dataframe tbody tr th {\n",
       "        vertical-align: top;\n",
       "    }\n",
       "\n",
       "    .dataframe thead th {\n",
       "        text-align: right;\n",
       "    }\n",
       "</style>\n",
       "<table border=\"1\" class=\"dataframe\">\n",
       "  <thead>\n",
       "    <tr style=\"text-align: right;\">\n",
       "      <th></th>\n",
       "      <th>Unnamed: 0</th>\n",
       "      <th>bodyType</th>\n",
       "      <th>brand</th>\n",
       "      <th>color_hex</th>\n",
       "      <th>complectation_dict</th>\n",
       "      <th>equipment_dict</th>\n",
       "      <th>fuelType</th>\n",
       "      <th>modelDate</th>\n",
       "      <th>model_info</th>\n",
       "      <th>model_name</th>\n",
       "      <th>...</th>\n",
       "      <th>description</th>\n",
       "      <th>mileage</th>\n",
       "      <th>Привод</th>\n",
       "      <th>Руль</th>\n",
       "      <th>Состояние</th>\n",
       "      <th>Владельцы</th>\n",
       "      <th>ПТС</th>\n",
       "      <th>Таможня</th>\n",
       "      <th>Владение</th>\n",
       "      <th>price</th>\n",
       "    </tr>\n",
       "  </thead>\n",
       "  <tbody>\n",
       "    <tr>\n",
       "      <th>0</th>\n",
       "      <td>0</td>\n",
       "      <td>Кабриолет</td>\n",
       "      <td>FORD</td>\n",
       "      <td>007F00</td>\n",
       "      <td>{'id': '0'}</td>\n",
       "      <td>{}</td>\n",
       "      <td>бензин</td>\n",
       "      <td>1908.0</td>\n",
       "      <td>{'code': 'MODEL_T', 'name': 'Model T', 'ru_nam...</td>\n",
       "      <td>Модель Т</td>\n",
       "      <td>...</td>\n",
       "      <td>1 октября 1908 Форд воплотил в жизнь свою мечт...</td>\n",
       "      <td>1000</td>\n",
       "      <td>задний</td>\n",
       "      <td>LEFT</td>\n",
       "      <td>used</td>\n",
       "      <td>1.0</td>\n",
       "      <td>ORIGINAL</td>\n",
       "      <td>True</td>\n",
       "      <td>NaN</td>\n",
       "      <td>3800000.0</td>\n",
       "    </tr>\n",
       "    <tr>\n",
       "      <th>1</th>\n",
       "      <td>1</td>\n",
       "      <td>Хэтчбек 3 дв.</td>\n",
       "      <td>FORD</td>\n",
       "      <td>0000CC</td>\n",
       "      <td>{'id': '0'}</td>\n",
       "      <td>{}</td>\n",
       "      <td>бензин</td>\n",
       "      <td>1927.0</td>\n",
       "      <td>{'code': 'MODEL_A', 'name': 'Model A', 'ru_nam...</td>\n",
       "      <td>Модель А</td>\n",
       "      <td>...</td>\n",
       "      <td>Машина растаможена в лоб\\nНалог низкий\\nМотор ...</td>\n",
       "      <td>5000</td>\n",
       "      <td>задний</td>\n",
       "      <td>LEFT</td>\n",
       "      <td>used</td>\n",
       "      <td>1.0</td>\n",
       "      <td>ORIGINAL</td>\n",
       "      <td>True</td>\n",
       "      <td>{'year': 2007, 'month': 5}</td>\n",
       "      <td>4300000.0</td>\n",
       "    </tr>\n",
       "    <tr>\n",
       "      <th>2</th>\n",
       "      <td>2</td>\n",
       "      <td>Хэтчбек 3 дв.</td>\n",
       "      <td>FORD</td>\n",
       "      <td>C49648</td>\n",
       "      <td>{'id': '0'}</td>\n",
       "      <td>{}</td>\n",
       "      <td>бензин</td>\n",
       "      <td>1927.0</td>\n",
       "      <td>{'code': 'MODEL_A', 'name': 'Model A', 'ru_nam...</td>\n",
       "      <td>Модель А</td>\n",
       "      <td>...</td>\n",
       "      <td>Это Форд А 28 года. Только перебран двигатель....</td>\n",
       "      <td>2000</td>\n",
       "      <td>задний</td>\n",
       "      <td>LEFT</td>\n",
       "      <td>used</td>\n",
       "      <td>1.0</td>\n",
       "      <td>ORIGINAL</td>\n",
       "      <td>True</td>\n",
       "      <td>NaN</td>\n",
       "      <td>3350000.0</td>\n",
       "    </tr>\n",
       "    <tr>\n",
       "      <th>3</th>\n",
       "      <td>3</td>\n",
       "      <td>Седан</td>\n",
       "      <td>FORD</td>\n",
       "      <td>040001</td>\n",
       "      <td>{'id': '0'}</td>\n",
       "      <td>{}</td>\n",
       "      <td>бензин</td>\n",
       "      <td>1932.0</td>\n",
       "      <td>{'code': 'V8', 'name': 'V8', 'ru_name': 'в8', ...</td>\n",
       "      <td>в8</td>\n",
       "      <td>...</td>\n",
       "      <td>Форд А 1930 год. Купил в музее в США. На отлич...</td>\n",
       "      <td>99655</td>\n",
       "      <td>задний</td>\n",
       "      <td>LEFT</td>\n",
       "      <td>used</td>\n",
       "      <td>1.0</td>\n",
       "      <td>ORIGINAL</td>\n",
       "      <td>True</td>\n",
       "      <td>{'year': 2014, 'month': 10}</td>\n",
       "      <td>2700000.0</td>\n",
       "    </tr>\n",
       "    <tr>\n",
       "      <th>4</th>\n",
       "      <td>4</td>\n",
       "      <td>Седан</td>\n",
       "      <td>FORD</td>\n",
       "      <td>040001</td>\n",
       "      <td>{'id': '0'}</td>\n",
       "      <td>{}</td>\n",
       "      <td>бензин</td>\n",
       "      <td>1932.0</td>\n",
       "      <td>{'code': 'V8', 'name': 'V8', 'ru_name': 'в8', ...</td>\n",
       "      <td>в8</td>\n",
       "      <td>...</td>\n",
       "      <td>Форд 8 реплика на базе газ 69, полный привод,в...</td>\n",
       "      <td>15000</td>\n",
       "      <td>задний</td>\n",
       "      <td>LEFT</td>\n",
       "      <td>used</td>\n",
       "      <td>2.0</td>\n",
       "      <td>DUPLICATE</td>\n",
       "      <td>True</td>\n",
       "      <td>NaN</td>\n",
       "      <td>580000.0</td>\n",
       "    </tr>\n",
       "  </tbody>\n",
       "</table>\n",
       "<p>5 rows × 28 columns</p>\n",
       "</div>"
      ],
      "text/plain": [
       "   Unnamed: 0       bodyType brand color_hex complectation_dict  \\\n",
       "0           0      Кабриолет  FORD    007F00        {'id': '0'}   \n",
       "1           1  Хэтчбек 3 дв.  FORD    0000CC        {'id': '0'}   \n",
       "2           2  Хэтчбек 3 дв.  FORD    C49648        {'id': '0'}   \n",
       "3           3          Седан  FORD    040001        {'id': '0'}   \n",
       "4           4          Седан  FORD    040001        {'id': '0'}   \n",
       "\n",
       "  equipment_dict fuelType  modelDate  \\\n",
       "0             {}   бензин     1908.0   \n",
       "1             {}   бензин     1927.0   \n",
       "2             {}   бензин     1927.0   \n",
       "3             {}   бензин     1932.0   \n",
       "4             {}   бензин     1932.0   \n",
       "\n",
       "                                          model_info model_name  ...  \\\n",
       "0  {'code': 'MODEL_T', 'name': 'Model T', 'ru_nam...   Модель Т  ...   \n",
       "1  {'code': 'MODEL_A', 'name': 'Model A', 'ru_nam...   Модель А  ...   \n",
       "2  {'code': 'MODEL_A', 'name': 'Model A', 'ru_nam...   Модель А  ...   \n",
       "3  {'code': 'V8', 'name': 'V8', 'ru_name': 'в8', ...         в8  ...   \n",
       "4  {'code': 'V8', 'name': 'V8', 'ru_name': 'в8', ...         в8  ...   \n",
       "\n",
       "                                         description  mileage  Привод  Руль  \\\n",
       "0  1 октября 1908 Форд воплотил в жизнь свою мечт...     1000  задний  LEFT   \n",
       "1  Машина растаможена в лоб\\nНалог низкий\\nМотор ...     5000  задний  LEFT   \n",
       "2  Это Форд А 28 года. Только перебран двигатель....     2000  задний  LEFT   \n",
       "3  Форд А 1930 год. Купил в музее в США. На отлич...    99655  задний  LEFT   \n",
       "4  Форд 8 реплика на базе газ 69, полный привод,в...    15000  задний  LEFT   \n",
       "\n",
       "  Состояние Владельцы        ПТС  Таможня                     Владение  \\\n",
       "0      used       1.0   ORIGINAL     True                          NaN   \n",
       "1      used       1.0   ORIGINAL     True   {'year': 2007, 'month': 5}   \n",
       "2      used       1.0   ORIGINAL     True                          NaN   \n",
       "3      used       1.0   ORIGINAL     True  {'year': 2014, 'month': 10}   \n",
       "4      used       2.0  DUPLICATE     True                          NaN   \n",
       "\n",
       "       price  \n",
       "0  3800000.0  \n",
       "1  4300000.0  \n",
       "2  3350000.0  \n",
       "3  2700000.0  \n",
       "4   580000.0  \n",
       "\n",
       "[5 rows x 28 columns]"
      ]
     },
     "execution_count": 20,
     "metadata": {},
     "output_type": "execute_result"
    }
   ],
   "source": [
    "train.head(5)"
   ]
  },
  {
   "cell_type": "code",
   "execution_count": 21,
   "metadata": {
    "execution": {
     "iopub.execute_input": "2020-10-26T12:47:02.317036Z",
     "iopub.status.busy": "2020-10-26T12:47:02.316251Z",
     "iopub.status.idle": "2020-10-26T12:47:02.50135Z",
     "shell.execute_reply": "2020-10-26T12:47:02.501985Z"
    },
    "papermill": {
     "duration": 0.22352,
     "end_time": "2020-10-26T12:47:02.502166",
     "exception": false,
     "start_time": "2020-10-26T12:47:02.278646",
     "status": "completed"
    },
    "tags": []
   },
   "outputs": [
    {
     "name": "stdout",
     "output_type": "stream",
     "text": [
      "<class 'pandas.core.frame.DataFrame'>\n",
      "RangeIndex: 60488 entries, 0 to 60487\n",
      "Data columns (total 28 columns):\n",
      " #   Column                Non-Null Count  Dtype  \n",
      "---  ------                --------------  -----  \n",
      " 0   Unnamed: 0            60488 non-null  int64  \n",
      " 1   bodyType              60486 non-null  object \n",
      " 2   brand                 60488 non-null  object \n",
      " 3   color_hex             60488 non-null  object \n",
      " 4   complectation_dict    60488 non-null  object \n",
      " 5   equipment_dict        60488 non-null  object \n",
      " 6   fuelType              60488 non-null  object \n",
      " 7   modelDate             60486 non-null  float64\n",
      " 8   model_info            60488 non-null  object \n",
      " 9   model_name            60488 non-null  object \n",
      " 10  name                  60486 non-null  object \n",
      " 11  numberOfDoors         60486 non-null  float64\n",
      " 12  productionDate        60488 non-null  int64  \n",
      " 13  vehicleConfiguration  60486 non-null  object \n",
      " 14  vehicleTransmission   60486 non-null  object \n",
      " 15  vendor                60488 non-null  object \n",
      " 16  engineDisplacement    60486 non-null  object \n",
      " 17  enginePower           60486 non-null  float64\n",
      " 18  description           57970 non-null  object \n",
      " 19  mileage               60488 non-null  int64  \n",
      " 20  Привод                60486 non-null  object \n",
      " 21  Руль                  60488 non-null  object \n",
      " 22  Состояние             60488 non-null  object \n",
      " 23  Владельцы             46646 non-null  float64\n",
      " 24  ПТС                   60202 non-null  object \n",
      " 25  Таможня               60488 non-null  bool   \n",
      " 26  Владение              14417 non-null  object \n",
      " 27  price                 60237 non-null  float64\n",
      "dtypes: bool(1), float64(5), int64(3), object(19)\n",
      "memory usage: 12.5+ MB\n"
     ]
    }
   ],
   "source": [
    "train.info()"
   ]
  },
  {
   "cell_type": "code",
   "execution_count": 22,
   "metadata": {},
   "outputs": [
    {
     "name": "stdout",
     "output_type": "stream",
     "text": [
      "<class 'pandas.core.frame.DataFrame'>\n",
      "RangeIndex: 60488 entries, 0 to 60487\n",
      "Data columns (total 28 columns):\n",
      " #   Column                Non-Null Count  Dtype  \n",
      "---  ------                --------------  -----  \n",
      " 0   bodyType              60486 non-null  object \n",
      " 1   brand                 60488 non-null  object \n",
      " 2   complectation_dict    60488 non-null  object \n",
      " 3   equipment_dict        60488 non-null  object \n",
      " 4   fuelType              60488 non-null  object \n",
      " 5   modelDate             60486 non-null  float64\n",
      " 6   model_info            60488 non-null  object \n",
      " 7   model_name            60488 non-null  object \n",
      " 8   name                  60486 non-null  object \n",
      " 9   numberOfDoors         60486 non-null  float64\n",
      " 10  productionDate        60488 non-null  int64  \n",
      " 11  vehicleConfiguration  60486 non-null  object \n",
      " 12  vehicleTransmission   60486 non-null  object \n",
      " 13  vendor                60488 non-null  object \n",
      " 14  engineDisplacement    60486 non-null  object \n",
      " 15  enginePower           60486 non-null  float64\n",
      " 16  description           57970 non-null  object \n",
      " 17  mileage               60488 non-null  int64  \n",
      " 18  Привод                60486 non-null  object \n",
      " 19  Руль                  60488 non-null  object \n",
      " 20  Состояние             60488 non-null  object \n",
      " 21  Владельцы             46646 non-null  float64\n",
      " 22  ПТС                   60202 non-null  object \n",
      " 23  Таможня               60488 non-null  bool   \n",
      " 24  Владение              14417 non-null  object \n",
      " 25  price                 60237 non-null  float64\n",
      " 26  color                 60488 non-null  object \n",
      " 27  source                60488 non-null  object \n",
      "dtypes: bool(1), float64(5), int64(2), object(20)\n",
      "memory usage: 12.5+ MB\n"
     ]
    }
   ],
   "source": [
    "# Let's drop unnamed column and rename color_hex to color. Let's also add a 'train' label (called 'source') \n",
    "# because I will merge test and train dataframes later\n",
    "train['color'] = train['color_hex']\n",
    "train.drop(labels=['color_hex', 'Unnamed: 0'], inplace=True, axis=1)\n",
    "train['source'] = 'train'\n",
    "train.info()"
   ]
  },
  {
   "cell_type": "code",
   "execution_count": 23,
   "metadata": {},
   "outputs": [
    {
     "name": "stdout",
     "output_type": "stream",
     "text": [
      "<class 'pandas.core.frame.DataFrame'>\n",
      "RangeIndex: 34686 entries, 0 to 34685\n",
      "Data columns (total 28 columns):\n",
      " #   Column                Non-Null Count  Dtype \n",
      "---  ------                --------------  ----- \n",
      " 0   bodyType              34686 non-null  object\n",
      " 1   brand                 34686 non-null  object\n",
      " 2   complectation_dict    6418 non-null   object\n",
      " 3   equipment_dict        24690 non-null  object\n",
      " 4   fuelType              34686 non-null  object\n",
      " 5   modelDate             34686 non-null  int64 \n",
      " 6   model_info            34686 non-null  object\n",
      " 7   model_name            34686 non-null  object\n",
      " 8   name                  34686 non-null  object\n",
      " 9   numberOfDoors         34686 non-null  int64 \n",
      " 10  productionDate        34686 non-null  int64 \n",
      " 11  vehicleConfiguration  34686 non-null  object\n",
      " 12  vehicleTransmission   34686 non-null  object\n",
      " 13  vendor                34686 non-null  object\n",
      " 14  engineDisplacement    34686 non-null  object\n",
      " 15  enginePower           34686 non-null  object\n",
      " 16  description           34686 non-null  object\n",
      " 17  mileage               34686 non-null  int64 \n",
      " 18  Привод                34686 non-null  object\n",
      " 19  Руль                  34686 non-null  object\n",
      " 20  Состояние             34686 non-null  object\n",
      " 21  Владельцы             34686 non-null  object\n",
      " 22  ПТС                   34685 non-null  object\n",
      " 23  Таможня               34686 non-null  object\n",
      " 24  Владение              11995 non-null  object\n",
      " 25  price                 34686 non-null  int64 \n",
      " 26  color                 34686 non-null  object\n",
      " 27  source                34686 non-null  object\n",
      "dtypes: int64(5), object(23)\n",
      "memory usage: 7.4+ MB\n"
     ]
    }
   ],
   "source": [
    "# Now let's add an empty price column and source='test' to test dataset and merge both dataframes.\n",
    "# I need that to compare contents and perform data pre-processing.\n",
    "test['price'] = -1\n",
    "test['source'] = 'test'\n",
    "\n",
    "# Let's leave only the columns I have in a train dataset.\n",
    "test = test[list(train.columns)]\n",
    "test.info()"
   ]
  },
  {
   "cell_type": "code",
   "execution_count": 24,
   "metadata": {
    "execution": {
     "iopub.execute_input": "2020-10-26T12:47:02.599966Z",
     "iopub.status.busy": "2020-10-26T12:47:02.598892Z",
     "iopub.status.idle": "2020-10-26T12:47:02.604335Z",
     "shell.execute_reply": "2020-10-26T12:47:02.60353Z"
    },
    "papermill": {
     "duration": 0.069985,
     "end_time": "2020-10-26T12:47:02.604497",
     "exception": false,
     "start_time": "2020-10-26T12:47:02.534512",
     "status": "completed"
    },
    "tags": []
   },
   "outputs": [
    {
     "data": {
      "text/html": [
       "<div>\n",
       "<style scoped>\n",
       "    .dataframe tbody tr th:only-of-type {\n",
       "        vertical-align: middle;\n",
       "    }\n",
       "\n",
       "    .dataframe tbody tr th {\n",
       "        vertical-align: top;\n",
       "    }\n",
       "\n",
       "    .dataframe thead th {\n",
       "        text-align: right;\n",
       "    }\n",
       "</style>\n",
       "<table border=\"1\" class=\"dataframe\">\n",
       "  <thead>\n",
       "    <tr style=\"text-align: right;\">\n",
       "      <th></th>\n",
       "      <th>bodyType</th>\n",
       "      <th>brand</th>\n",
       "      <th>complectation_dict</th>\n",
       "      <th>equipment_dict</th>\n",
       "      <th>fuelType</th>\n",
       "      <th>modelDate</th>\n",
       "      <th>model_info</th>\n",
       "      <th>model_name</th>\n",
       "      <th>name</th>\n",
       "      <th>numberOfDoors</th>\n",
       "      <th>...</th>\n",
       "      <th>Привод</th>\n",
       "      <th>Руль</th>\n",
       "      <th>Состояние</th>\n",
       "      <th>Владельцы</th>\n",
       "      <th>ПТС</th>\n",
       "      <th>Таможня</th>\n",
       "      <th>Владение</th>\n",
       "      <th>price</th>\n",
       "      <th>color</th>\n",
       "      <th>source</th>\n",
       "    </tr>\n",
       "  </thead>\n",
       "  <tbody>\n",
       "    <tr>\n",
       "      <th>0</th>\n",
       "      <td>лифтбек</td>\n",
       "      <td>SKODA</td>\n",
       "      <td>NaN</td>\n",
       "      <td>{\"engine-proof\":true,\"tinted-glass\":true,\"airb...</td>\n",
       "      <td>бензин</td>\n",
       "      <td>2013</td>\n",
       "      <td>{\"code\":\"OCTAVIA\",\"name\":\"Octavia\",\"ru_name\":\"...</td>\n",
       "      <td>OCTAVIA</td>\n",
       "      <td>1.2 AMT (105 л.с.)</td>\n",
       "      <td>5</td>\n",
       "      <td>...</td>\n",
       "      <td>передний</td>\n",
       "      <td>Левый</td>\n",
       "      <td>Не требует ремонта</td>\n",
       "      <td>3 или более</td>\n",
       "      <td>Оригинал</td>\n",
       "      <td>Растаможен</td>\n",
       "      <td>NaN</td>\n",
       "      <td>-1</td>\n",
       "      <td>синий</td>\n",
       "      <td>test</td>\n",
       "    </tr>\n",
       "    <tr>\n",
       "      <th>1</th>\n",
       "      <td>лифтбек</td>\n",
       "      <td>SKODA</td>\n",
       "      <td>NaN</td>\n",
       "      <td>{\"cruise-control\":true,\"asr\":true,\"esp\":true,\"...</td>\n",
       "      <td>бензин</td>\n",
       "      <td>2017</td>\n",
       "      <td>{\"code\":\"OCTAVIA\",\"name\":\"Octavia\",\"ru_name\":\"...</td>\n",
       "      <td>OCTAVIA</td>\n",
       "      <td>1.6 MT (110 л.с.)</td>\n",
       "      <td>5</td>\n",
       "      <td>...</td>\n",
       "      <td>передний</td>\n",
       "      <td>Левый</td>\n",
       "      <td>Не требует ремонта</td>\n",
       "      <td>1 владелец</td>\n",
       "      <td>Оригинал</td>\n",
       "      <td>Растаможен</td>\n",
       "      <td>NaN</td>\n",
       "      <td>-1</td>\n",
       "      <td>чёрный</td>\n",
       "      <td>test</td>\n",
       "    </tr>\n",
       "    <tr>\n",
       "      <th>2</th>\n",
       "      <td>лифтбек</td>\n",
       "      <td>SKODA</td>\n",
       "      <td>{\"id\":\"20026336\",\"name\":\"Ambition\",\"available_...</td>\n",
       "      <td>{\"cruise-control\":true,\"tinted-glass\":true,\"es...</td>\n",
       "      <td>бензин</td>\n",
       "      <td>2013</td>\n",
       "      <td>{\"code\":\"SUPERB\",\"name\":\"Superb\",\"ru_name\":\"Су...</td>\n",
       "      <td>SUPERB</td>\n",
       "      <td>DSG 1.8 AMT (152 л.с.)</td>\n",
       "      <td>5</td>\n",
       "      <td>...</td>\n",
       "      <td>передний</td>\n",
       "      <td>Левый</td>\n",
       "      <td>Не требует ремонта</td>\n",
       "      <td>1 владелец</td>\n",
       "      <td>Оригинал</td>\n",
       "      <td>Растаможен</td>\n",
       "      <td>NaN</td>\n",
       "      <td>-1</td>\n",
       "      <td>серый</td>\n",
       "      <td>test</td>\n",
       "    </tr>\n",
       "    <tr>\n",
       "      <th>3</th>\n",
       "      <td>лифтбек</td>\n",
       "      <td>SKODA</td>\n",
       "      <td>{\"id\":\"20803582\",\"name\":\"Ambition\",\"available_...</td>\n",
       "      <td>{\"cruise-control\":true,\"roller-blind-for-rear-...</td>\n",
       "      <td>бензин</td>\n",
       "      <td>2013</td>\n",
       "      <td>{\"code\":\"OCTAVIA\",\"name\":\"Octavia\",\"ru_name\":\"...</td>\n",
       "      <td>OCTAVIA</td>\n",
       "      <td>1.6 AT (110 л.с.)</td>\n",
       "      <td>5</td>\n",
       "      <td>...</td>\n",
       "      <td>передний</td>\n",
       "      <td>Левый</td>\n",
       "      <td>Не требует ремонта</td>\n",
       "      <td>1 владелец</td>\n",
       "      <td>Оригинал</td>\n",
       "      <td>Растаможен</td>\n",
       "      <td>NaN</td>\n",
       "      <td>-1</td>\n",
       "      <td>коричневый</td>\n",
       "      <td>test</td>\n",
       "    </tr>\n",
       "    <tr>\n",
       "      <th>4</th>\n",
       "      <td>лифтбек</td>\n",
       "      <td>SKODA</td>\n",
       "      <td>NaN</td>\n",
       "      <td>{\"cruise-control\":true,\"asr\":true,\"esp\":true,\"...</td>\n",
       "      <td>бензин</td>\n",
       "      <td>2008</td>\n",
       "      <td>{\"code\":\"OCTAVIA\",\"name\":\"Octavia\",\"ru_name\":\"...</td>\n",
       "      <td>OCTAVIA</td>\n",
       "      <td>1.8 AT (152 л.с.)</td>\n",
       "      <td>5</td>\n",
       "      <td>...</td>\n",
       "      <td>передний</td>\n",
       "      <td>Левый</td>\n",
       "      <td>Не требует ремонта</td>\n",
       "      <td>1 владелец</td>\n",
       "      <td>Оригинал</td>\n",
       "      <td>Растаможен</td>\n",
       "      <td>NaN</td>\n",
       "      <td>-1</td>\n",
       "      <td>белый</td>\n",
       "      <td>test</td>\n",
       "    </tr>\n",
       "  </tbody>\n",
       "</table>\n",
       "<p>5 rows × 28 columns</p>\n",
       "</div>"
      ],
      "text/plain": [
       "  bodyType  brand                                 complectation_dict  \\\n",
       "0  лифтбек  SKODA                                                NaN   \n",
       "1  лифтбек  SKODA                                                NaN   \n",
       "2  лифтбек  SKODA  {\"id\":\"20026336\",\"name\":\"Ambition\",\"available_...   \n",
       "3  лифтбек  SKODA  {\"id\":\"20803582\",\"name\":\"Ambition\",\"available_...   \n",
       "4  лифтбек  SKODA                                                NaN   \n",
       "\n",
       "                                      equipment_dict fuelType  modelDate  \\\n",
       "0  {\"engine-proof\":true,\"tinted-glass\":true,\"airb...   бензин       2013   \n",
       "1  {\"cruise-control\":true,\"asr\":true,\"esp\":true,\"...   бензин       2017   \n",
       "2  {\"cruise-control\":true,\"tinted-glass\":true,\"es...   бензин       2013   \n",
       "3  {\"cruise-control\":true,\"roller-blind-for-rear-...   бензин       2013   \n",
       "4  {\"cruise-control\":true,\"asr\":true,\"esp\":true,\"...   бензин       2008   \n",
       "\n",
       "                                          model_info model_name  \\\n",
       "0  {\"code\":\"OCTAVIA\",\"name\":\"Octavia\",\"ru_name\":\"...    OCTAVIA   \n",
       "1  {\"code\":\"OCTAVIA\",\"name\":\"Octavia\",\"ru_name\":\"...    OCTAVIA   \n",
       "2  {\"code\":\"SUPERB\",\"name\":\"Superb\",\"ru_name\":\"Су...     SUPERB   \n",
       "3  {\"code\":\"OCTAVIA\",\"name\":\"Octavia\",\"ru_name\":\"...    OCTAVIA   \n",
       "4  {\"code\":\"OCTAVIA\",\"name\":\"Octavia\",\"ru_name\":\"...    OCTAVIA   \n",
       "\n",
       "                     name  numberOfDoors  ...    Привод   Руль  \\\n",
       "0      1.2 AMT (105 л.с.)              5  ...  передний  Левый   \n",
       "1       1.6 MT (110 л.с.)              5  ...  передний  Левый   \n",
       "2  DSG 1.8 AMT (152 л.с.)              5  ...  передний  Левый   \n",
       "3       1.6 AT (110 л.с.)              5  ...  передний  Левый   \n",
       "4       1.8 AT (152 л.с.)              5  ...  передний  Левый   \n",
       "\n",
       "            Состояние    Владельцы       ПТС     Таможня Владение  price  \\\n",
       "0  Не требует ремонта  3 или более  Оригинал  Растаможен      NaN     -1   \n",
       "1  Не требует ремонта   1 владелец  Оригинал  Растаможен      NaN     -1   \n",
       "2  Не требует ремонта   1 владелец  Оригинал  Растаможен      NaN     -1   \n",
       "3  Не требует ремонта   1 владелец  Оригинал  Растаможен      NaN     -1   \n",
       "4  Не требует ремонта   1 владелец  Оригинал  Растаможен      NaN     -1   \n",
       "\n",
       "        color source  \n",
       "0       синий   test  \n",
       "1      чёрный   test  \n",
       "2       серый   test  \n",
       "3  коричневый   test  \n",
       "4       белый   test  \n",
       "\n",
       "[5 rows x 28 columns]"
      ]
     },
     "execution_count": 24,
     "metadata": {},
     "output_type": "execute_result"
    }
   ],
   "source": [
    "test.head(5)"
   ]
  },
  {
   "cell_type": "code",
   "execution_count": 25,
   "metadata": {
    "execution": {
     "iopub.execute_input": "2020-10-26T12:47:02.7822Z",
     "iopub.status.busy": "2020-10-26T12:47:02.781391Z",
     "iopub.status.idle": "2020-10-26T12:47:02.797734Z",
     "shell.execute_reply": "2020-10-26T12:47:02.798395Z"
    },
    "papermill": {
     "duration": 0.160401,
     "end_time": "2020-10-26T12:47:02.798587",
     "exception": false,
     "start_time": "2020-10-26T12:47:02.638186",
     "status": "completed"
    },
    "tags": []
   },
   "outputs": [
    {
     "data": {
      "text/html": [
       "<div>\n",
       "<style scoped>\n",
       "    .dataframe tbody tr th:only-of-type {\n",
       "        vertical-align: middle;\n",
       "    }\n",
       "\n",
       "    .dataframe tbody tr th {\n",
       "        vertical-align: top;\n",
       "    }\n",
       "\n",
       "    .dataframe thead th {\n",
       "        text-align: right;\n",
       "    }\n",
       "</style>\n",
       "<table border=\"1\" class=\"dataframe\">\n",
       "  <thead>\n",
       "    <tr style=\"text-align: right;\">\n",
       "      <th></th>\n",
       "      <th>bodyType</th>\n",
       "      <th>brand</th>\n",
       "      <th>complectation_dict</th>\n",
       "      <th>equipment_dict</th>\n",
       "      <th>fuelType</th>\n",
       "      <th>modelDate</th>\n",
       "      <th>model_info</th>\n",
       "      <th>model_name</th>\n",
       "      <th>name</th>\n",
       "      <th>numberOfDoors</th>\n",
       "      <th>...</th>\n",
       "      <th>Привод</th>\n",
       "      <th>Руль</th>\n",
       "      <th>Состояние</th>\n",
       "      <th>Владельцы</th>\n",
       "      <th>ПТС</th>\n",
       "      <th>Таможня</th>\n",
       "      <th>Владение</th>\n",
       "      <th>price</th>\n",
       "      <th>color</th>\n",
       "      <th>source</th>\n",
       "    </tr>\n",
       "  </thead>\n",
       "  <tbody>\n",
       "    <tr>\n",
       "      <th>0</th>\n",
       "      <td>Кабриолет</td>\n",
       "      <td>FORD</td>\n",
       "      <td>{'id': '0'}</td>\n",
       "      <td>{}</td>\n",
       "      <td>бензин</td>\n",
       "      <td>1908.0</td>\n",
       "      <td>{'code': 'MODEL_T', 'name': 'Model T', 'ru_nam...</td>\n",
       "      <td>Модель Т</td>\n",
       "      <td>2.9 MT (20 л.с.)</td>\n",
       "      <td>2.0</td>\n",
       "      <td>...</td>\n",
       "      <td>задний</td>\n",
       "      <td>LEFT</td>\n",
       "      <td>used</td>\n",
       "      <td>1.0</td>\n",
       "      <td>ORIGINAL</td>\n",
       "      <td>True</td>\n",
       "      <td>NaN</td>\n",
       "      <td>3800000.0</td>\n",
       "      <td>007F00</td>\n",
       "      <td>train</td>\n",
       "    </tr>\n",
       "    <tr>\n",
       "      <th>1</th>\n",
       "      <td>Хэтчбек 3 дв.</td>\n",
       "      <td>FORD</td>\n",
       "      <td>{'id': '0'}</td>\n",
       "      <td>{}</td>\n",
       "      <td>бензин</td>\n",
       "      <td>1927.0</td>\n",
       "      <td>{'code': 'MODEL_A', 'name': 'Model A', 'ru_nam...</td>\n",
       "      <td>Модель А</td>\n",
       "      <td>3.3 MT (40 л.с.)</td>\n",
       "      <td>3.0</td>\n",
       "      <td>...</td>\n",
       "      <td>задний</td>\n",
       "      <td>LEFT</td>\n",
       "      <td>used</td>\n",
       "      <td>1.0</td>\n",
       "      <td>ORIGINAL</td>\n",
       "      <td>True</td>\n",
       "      <td>{'year': 2007, 'month': 5}</td>\n",
       "      <td>4300000.0</td>\n",
       "      <td>0000CC</td>\n",
       "      <td>train</td>\n",
       "    </tr>\n",
       "    <tr>\n",
       "      <th>2</th>\n",
       "      <td>Хэтчбек 3 дв.</td>\n",
       "      <td>FORD</td>\n",
       "      <td>{'id': '0'}</td>\n",
       "      <td>{}</td>\n",
       "      <td>бензин</td>\n",
       "      <td>1927.0</td>\n",
       "      <td>{'code': 'MODEL_A', 'name': 'Model A', 'ru_nam...</td>\n",
       "      <td>Модель А</td>\n",
       "      <td>3.3 MT (40 л.с.)</td>\n",
       "      <td>3.0</td>\n",
       "      <td>...</td>\n",
       "      <td>задний</td>\n",
       "      <td>LEFT</td>\n",
       "      <td>used</td>\n",
       "      <td>1.0</td>\n",
       "      <td>ORIGINAL</td>\n",
       "      <td>True</td>\n",
       "      <td>NaN</td>\n",
       "      <td>3350000.0</td>\n",
       "      <td>C49648</td>\n",
       "      <td>train</td>\n",
       "    </tr>\n",
       "    <tr>\n",
       "      <th>3</th>\n",
       "      <td>Седан</td>\n",
       "      <td>FORD</td>\n",
       "      <td>{'id': '0'}</td>\n",
       "      <td>{}</td>\n",
       "      <td>бензин</td>\n",
       "      <td>1932.0</td>\n",
       "      <td>{'code': 'V8', 'name': 'V8', 'ru_name': 'в8', ...</td>\n",
       "      <td>в8</td>\n",
       "      <td>3.6 MT (66 л.с.)</td>\n",
       "      <td>2.0</td>\n",
       "      <td>...</td>\n",
       "      <td>задний</td>\n",
       "      <td>LEFT</td>\n",
       "      <td>used</td>\n",
       "      <td>1.0</td>\n",
       "      <td>ORIGINAL</td>\n",
       "      <td>True</td>\n",
       "      <td>{'year': 2014, 'month': 10}</td>\n",
       "      <td>2700000.0</td>\n",
       "      <td>040001</td>\n",
       "      <td>train</td>\n",
       "    </tr>\n",
       "    <tr>\n",
       "      <th>4</th>\n",
       "      <td>Седан</td>\n",
       "      <td>FORD</td>\n",
       "      <td>{'id': '0'}</td>\n",
       "      <td>{}</td>\n",
       "      <td>бензин</td>\n",
       "      <td>1932.0</td>\n",
       "      <td>{'code': 'V8', 'name': 'V8', 'ru_name': 'в8', ...</td>\n",
       "      <td>в8</td>\n",
       "      <td>3.6 MT (66 л.с.)</td>\n",
       "      <td>2.0</td>\n",
       "      <td>...</td>\n",
       "      <td>задний</td>\n",
       "      <td>LEFT</td>\n",
       "      <td>used</td>\n",
       "      <td>2.0</td>\n",
       "      <td>DUPLICATE</td>\n",
       "      <td>True</td>\n",
       "      <td>NaN</td>\n",
       "      <td>580000.0</td>\n",
       "      <td>040001</td>\n",
       "      <td>train</td>\n",
       "    </tr>\n",
       "  </tbody>\n",
       "</table>\n",
       "<p>5 rows × 28 columns</p>\n",
       "</div>"
      ],
      "text/plain": [
       "        bodyType brand complectation_dict equipment_dict fuelType  modelDate  \\\n",
       "0      Кабриолет  FORD        {'id': '0'}             {}   бензин     1908.0   \n",
       "1  Хэтчбек 3 дв.  FORD        {'id': '0'}             {}   бензин     1927.0   \n",
       "2  Хэтчбек 3 дв.  FORD        {'id': '0'}             {}   бензин     1927.0   \n",
       "3          Седан  FORD        {'id': '0'}             {}   бензин     1932.0   \n",
       "4          Седан  FORD        {'id': '0'}             {}   бензин     1932.0   \n",
       "\n",
       "                                          model_info model_name  \\\n",
       "0  {'code': 'MODEL_T', 'name': 'Model T', 'ru_nam...   Модель Т   \n",
       "1  {'code': 'MODEL_A', 'name': 'Model A', 'ru_nam...   Модель А   \n",
       "2  {'code': 'MODEL_A', 'name': 'Model A', 'ru_nam...   Модель А   \n",
       "3  {'code': 'V8', 'name': 'V8', 'ru_name': 'в8', ...         в8   \n",
       "4  {'code': 'V8', 'name': 'V8', 'ru_name': 'в8', ...         в8   \n",
       "\n",
       "               name  numberOfDoors  ...  Привод  Руль Состояние Владельцы  \\\n",
       "0  2.9 MT (20 л.с.)            2.0  ...  задний  LEFT      used       1.0   \n",
       "1  3.3 MT (40 л.с.)            3.0  ...  задний  LEFT      used       1.0   \n",
       "2  3.3 MT (40 л.с.)            3.0  ...  задний  LEFT      used       1.0   \n",
       "3  3.6 MT (66 л.с.)            2.0  ...  задний  LEFT      used       1.0   \n",
       "4  3.6 MT (66 л.с.)            2.0  ...  задний  LEFT      used       2.0   \n",
       "\n",
       "         ПТС  Таможня                     Владение      price   color source  \n",
       "0   ORIGINAL     True                          NaN  3800000.0  007F00  train  \n",
       "1   ORIGINAL     True   {'year': 2007, 'month': 5}  4300000.0  0000CC  train  \n",
       "2   ORIGINAL     True                          NaN  3350000.0  C49648  train  \n",
       "3   ORIGINAL     True  {'year': 2014, 'month': 10}  2700000.0  040001  train  \n",
       "4  DUPLICATE     True                          NaN   580000.0  040001  train  \n",
       "\n",
       "[5 rows x 28 columns]"
      ]
     },
     "execution_count": 25,
     "metadata": {},
     "output_type": "execute_result"
    }
   ],
   "source": [
    "train.head()"
   ]
  },
  {
   "cell_type": "markdown",
   "metadata": {},
   "source": [
    "# Exploring data"
   ]
  },
  {
   "cell_type": "code",
   "execution_count": 26,
   "metadata": {},
   "outputs": [
    {
     "name": "stdout",
     "output_type": "stream",
     "text": [
      "Column bodyType from train: Кабриолет\n",
      "Column bodyType from test: лифтбек\n",
      "\n",
      "Column brand from train: FORD\n",
      "Column brand from test: SKODA\n",
      "\n",
      "Column complectation_dict from train: {'id': '0'}\n",
      "Column complectation_dict from test: nan\n",
      "\n",
      "Column equipment_dict from train: {}\n",
      "Column equipment_dict from test: {\"engine-proof\":true,\"tinted-glass\":true,\"airbag-driver\":true,\"aux\":true,\"isofix\":true,\"electro-window-front\":true,\"ashtray-and-cigarette-lighter\":true,\"airbag-passenger\":true,\"computer\":true,\"high-beam-assist\":true,\"seat-transformation\":true,\"isofix-front\":true,\"wheel-power\":true,\"alarm\":true,\"lock\":true,\"door-sill-panel\":true,\"fabric-seats\":true,\"electro-mirrors\":true,\"airbag-rear-side\":true,\"electro-window-back\":true,\"steel-wheels\":true,\"ptf\":true,\"16-inch-wheels\":true,\"rain-sensor\":true,\"airbag-side\":true,\"audiosystem-cd\":true,\"dark-interior\":true,\"cooling-box\":true,\"condition\":true,\"abs\":true,\"power-child-locks-rear-doors\":true,\"front-seats-heat\":true,\"wheel-configuration2\":true,\"wheel-configuration1\":true,\"12v-socket\":true,\"park-assist-r\":true}\n",
      "\n",
      "Column fuelType from train: бензин\n",
      "Column fuelType from test: бензин\n",
      "\n",
      "Column modelDate from train: 1908.0\n",
      "Column modelDate from test: 2013\n",
      "\n",
      "Column model_info from train: {'code': 'MODEL_T', 'name': 'Model T', 'ru_name': 'Модель Т', 'morphology': {}, 'nameplate': {'code': '', 'name': '', 'semantic_url': ''}}\n",
      "Column model_info from test: {\"code\":\"OCTAVIA\",\"name\":\"Octavia\",\"ru_name\":\"Октавия\",\"morphology\":{\"gender\":\"FEMININE\"},\"nameplate\":{\"code\":\"\",\"name\":\"\",\"semantic_url\":\"\"}}\n",
      "\n",
      "Column model_name from train: Модель Т\n",
      "Column model_name from test: OCTAVIA\n",
      "\n",
      "Column name from train: 2.9 MT (20 л.с.)\n",
      "Column name from test: 1.2 AMT (105 л.с.)\n",
      "\n",
      "Column numberOfDoors from train: 2.0\n",
      "Column numberOfDoors from test: 5\n",
      "\n",
      "Column productionDate from train: 1923\n",
      "Column productionDate from test: 2014\n",
      "\n",
      "Column vehicleConfiguration from train: {'id': '20650970', 'body_type': 'CABRIO', 'doors_count': 2, 'human_name': 'Кабриолет', 'body_type_group': 'CABRIO', 'main_photo': {'sizes': {'orig': '//avatars.mds.yandex.net/get-verba/787013/2a00000160928d0739c0956382fdbfae2e75/orig', 'wizardv3mr': '//avatars.mds.yandex.net/get-verba/787013/2a00000160928d0739c0956382fdbfae2e75/wizardv3mr', 'cattouch': '//avatars.mds.yandex.net/get-verba/787013/2a00000160928d0739c0956382fdbfae2e75/cattouch'}}, 'tags': ['compact', 'style']}\n",
      "Column vehicleConfiguration from test: LIFTBACK ROBOT 1.2\n",
      "\n",
      "Column vehicleTransmission from train: MECHANICAL\n",
      "Column vehicleTransmission from test: роботизированная\n",
      "\n",
      "Column vendor from train: AMERICAN\n",
      "Column vendor from test: EUROPEAN\n",
      "\n",
      "Column engineDisplacement from train: 2.9\n",
      "Column engineDisplacement from test: 1.2 LTR\n",
      "\n",
      "Column enginePower from train: 20.0\n",
      "Column enginePower from test: 105 N12\n",
      "\n",
      "Column description from train: 1 октября 1908 Форд воплотил в жизнь свою мечту создать \"автомобиль для народа\" выпустив модель Т - надежный и недорогой автомобиль , способный пройти там, где другие машины застревали в дорожной грязи.\n",
      "в первый год производства было продано 10 660 машин.\n",
      "Автомобиль в идеальном состоянии.\n",
      "Относится к категории культурных ценностей.\n",
      "Данный автомобиль Вы можете обменять на свой.\n",
      "\n",
      "Возможен торг.\n",
      "Column description from test: Все автомобили, представленные в продаже, проходят тщательную проверку по более 40 параметрам. Предоставляем гарантию юридической чистоты, а так же год технической гарантии на двигатель и КПП. Бесплатный тест-драйв. Возможно оформление автомобиля в кредит!\n",
      "\n",
      "Преимущества автокредитования:\n",
      "— Первоначальный взнос от 0%;\n",
      "— Более 30 кредитных программ;\n",
      "— Процентная ставка от 6% годовых;\n",
      "— Срок кредита от 6 месяцев до 7 лет;\n",
      "— Оформление кредита по двум документам;\n",
      "— Досрочное погашение без штрафов и комиссий;\n",
      "— Сумма кредита до 2 млн рублей;\n",
      "— Оформление КАСКО – по желанию;\n",
      "— Без справок и поручителей.\n",
      "\n",
      "Сотрудничаем с 12 аккредитованными и сертифицированными банками РФ, среднее время ожидания решения банка 20–30 минут.\n",
      "\n",
      "При покупке автомобиля по программе «Trade-in – выгодный обмен» или в кредит, получите дополнительную скидку до 80 000 рублей на данный автомобиль!\n",
      "\n",
      "Записаться на тест-драйв, а так же получить подробную информацию можно у специалистов автоцентра по указанному номеру телефона.\n",
      "\n",
      "Column mileage from train: 1000\n",
      "Column mileage from test: 74000\n",
      "\n",
      "Column Привод from train: задний\n",
      "Column Привод from test: передний\n",
      "\n",
      "Column Руль from train: LEFT\n",
      "Column Руль from test: Левый\n",
      "\n",
      "Column Состояние from train: used\n",
      "Column Состояние from test: Не требует ремонта\n",
      "\n",
      "Column Владельцы from train: 1.0\n",
      "Column Владельцы from test: 3 или более\n",
      "\n",
      "Column ПТС from train: ORIGINAL\n",
      "Column ПТС from test: Оригинал\n",
      "\n",
      "Column Таможня from train: True\n",
      "Column Таможня from test: Растаможен\n",
      "\n",
      "Column Владение from train: nan\n",
      "Column Владение from test: nan\n",
      "\n",
      "Column price from train: 3800000.0\n",
      "Column price from test: -1\n",
      "\n",
      "Column color from train: 007F00\n",
      "Column color from test: синий\n",
      "\n",
      "Column source from train: train\n",
      "Column source from test: test\n",
      "\n"
     ]
    }
   ],
   "source": [
    "# I want to see a row from test and train dataframes side by side to compare them. \n",
    "# I have a suspicion that different languages might be used in these datasets.\n",
    "for c in train.columns:\n",
    "    print(f'Column {c} from train: {train.iloc[0][c]}')\n",
    "    print(f'Column {c} from test: {test.iloc[0][c]}')\n",
    "    print('')"
   ]
  },
  {
   "cell_type": "code",
   "execution_count": 27,
   "metadata": {},
   "outputs": [
    {
     "name": "stdout",
     "output_type": "stream",
     "text": [
      "Unique values for column bodyType from train: ['Кабриолет' 'Хэтчбек 3 дв.' 'Седан' 'Седан 2 дв.' 'Фастбек' 'Купе'\n",
      " 'Седан 2 дв. Styleline' 'Пикап Одинарная кабина' 'Универсал 3 дв. 1201'\n",
      " 'Минивэн' 'Купе-хардтоп' 'Хэтчбек 5 дв.' 'Внедорожник 3 дв.'\n",
      " 'Универсал 5 дв.' 'Внедорожник открытый' 'Внедорожник 5 дв.' 'Фургон'\n",
      " 'Лифтбек' 'Седан 120' 'Седан T140' 'Компактвэн' 'Пикап Полуторная кабина'\n",
      " nan 'Пикап Двойная кабина' 'Родстер' 'Седан-хардтоп' 'Тарга'\n",
      " 'Родстер del Sol' 'Лифтбек Liftback' 'Седан-хардтоп Ceres'\n",
      " 'Пикап Двойная кабина Double cab' 'Хэтчбек 3 дв. Compact' 'Минивэн Emina'\n",
      " 'Минивэн Long' 'Седан Long' 'Минивэн Lucida' 'Компактвэн Joy'\n",
      " 'Седан Premio' 'Купе Asti' 'Хэтчбек 5 дв. Wide' 'Компактвэн Noah'\n",
      " 'Универсал 5 дв. Gracia' 'Микровэн' 'Универсал 5 дв. Qualis'\n",
      " 'Универсал 5 дв. Ardeo' 'Универсал 5 дв. XC' 'Кабриолет Roadster'\n",
      " 'Универсал 5 дв. S-Familia' 'Минивэн Caravan Elgrand'\n",
      " 'Универсал 5 дв. California' 'Минивэн Grand' 'Внедорожник 5 дв. XL-7'\n",
      " 'Компактвэн RX4' 'Универсал 5 дв. Gita' 'Внедорожник 5 дв. EXT'\n",
      " 'Внедорожник 5 дв. Grand' 'Хэтчбек 3 дв. Cooper S' 'Универсал 5 дв. Blit'\n",
      " 'Компактвэн LWB' 'Компактвэн SWB' 'Минивэн Spada' 'Седан US Market'\n",
      " 'Пикап Двойная кабина Crew Cab' 'Пикап Двойная кабина CrewCab'\n",
      " 'Седан Type-S' 'Компактвэн Life' 'Хэтчбек 5 дв. Sportback'\n",
      " 'Хэтчбек 3 дв. GTC' 'Компактвэн Grand' 'Внедорожник 5 дв. SRT8'\n",
      " 'Компактвэн Conquest' 'Пикап Двойная кабина Double Cab'\n",
      " 'Внедорожник 3 дв. 78' 'Компактвэн Life Maxi' 'Лифтбек Gran Turismo'\n",
      " 'Минивэн SWB' 'Внедорожник 5 дв. 76' 'Внедорожник 5 дв. Long'\n",
      " 'Минивэн LWB' 'Компактвэн Cross' 'Фургон Kasten' 'Лифтбек Sportback'\n",
      " 'Универсал 5 дв. Scout' 'Хэтчбек 5 дв. XV' 'Пикап Двойная кабина CrewMax'\n",
      " 'Компактвэн Spike' 'Хэтчбек 4 дв.' 'Внедорожник 5 дв. Cooper S'\n",
      " 'Купе Cooper S' 'Хэтчбек 5 дв. Stepway' 'Седан Japan Market'\n",
      " 'Компактвэн Maxi' 'Седан Gran Coupe'\n",
      " 'Пикап Двойная кабина Raptor CrewCab' 'Пикап Полуторная кабина Raptor'\n",
      " 'Кабриолет Cooper S' 'Пикап Одинарная кабина 79'\n",
      " 'Универсал 5 дв. Alltrack' 'Внедорожник 5 дв. SRT'\n",
      " 'Универсал 5 дв. Country Tourer' 'Лифтбек Gran Coupe' 'Седан Limousine'\n",
      " 'Хэтчбек 5 дв. Cooper S' 'Внедорожник 5 дв. JCW'\n",
      " 'Пикап Полуторная кабина Long Bed' 'Универсал 5 дв. Fielder'\n",
      " 'Пикап Полуторная кабина SuperCab' 'Внедорожник 5 дв. Prime'\n",
      " 'Хэтчбек 3 дв. JCW' 'Тарга Targa' 'Компактвэн Gran Tourer'\n",
      " 'Универсал 5 дв. Cooper S' 'Универсал 5 дв. Crossover 7'\n",
      " 'Минивэн Compact' 'Седан Axio' 'Внедорожник 5 дв. Arctic Trucks'\n",
      " 'Минивэн XL' 'Хэтчбек 5 дв. X-Line' 'Внедорожник 5 дв. L'\n",
      " 'Хэтчбек 5 дв. Executive' 'Внедорожник 5 дв. Allspace'\n",
      " 'Пикап Двойная кабина Raptor SuperCrew' 'Пикап Двойная кабина Super Crew'\n",
      " 'Хэтчбек 5 дв. GT Line' 'Универсал 5 дв. JCW' 'Седан Stepway'\n",
      " 'Хэтчбек 5 дв. X-line' 'Кабриолет JCW' 'Хэтчбек 5 дв. PHV'\n",
      " 'Хэтчбек 5 дв. X' 'Минивэн L' 'Фургон Long']\n",
      "Unique values for column bodyType from test: ['лифтбек' 'внедорожник 5 дв.' 'хэтчбек 5 дв.' 'седан' 'компактвэн'\n",
      " 'универсал 5 дв.' 'пикап одинарная кабина' 'хэтчбек 3 дв.' 'купе'\n",
      " 'кабриолет' 'минивэн' 'пикап двойная кабина' 'внедорожник 3 дв.'\n",
      " 'родстер' 'микровэн' 'седан 2 дв.' 'купе-хардтоп' 'фастбек' 'тарга'\n",
      " 'внедорожник открытый' 'лимузин' 'пикап полуторная кабина'\n",
      " 'седан-хардтоп' 'фургон']\n",
      "\n",
      "Unique values for column brand from train: ['FORD' 'BMW' 'AUDI' 'OPEL' 'CHEVROLET' 'PORSCHE' 'SKODA' 'VOLKSWAGEN'\n",
      " 'CITROEN' 'RENAULT' 'VOLVO' 'NISSAN' 'TOYOTA' 'MITSUBISHI' 'MAZDA'\n",
      " 'HONDA' 'JEEP' 'SUZUKI' 'PEUGEOT' 'INFINITI' 'SUBARU' 'LEXUS' 'HYUNDAI'\n",
      " 'KIA' 'MINI']\n",
      "Unique values for column brand from test: ['SKODA' 'AUDI' 'HONDA' 'VOLVO' 'BMW' 'NISSAN' 'INFINITI' 'MERCEDES'\n",
      " 'TOYOTA' 'LEXUS' 'VOLKSWAGEN' 'MITSUBISHI']\n",
      "\n",
      "Unique values for column fuelType from train: ['бензин' 'дизель' 'универсал' 'минивэн' 'гибрид' 'газ' 'электро']\n",
      "Unique values for column fuelType from test: ['бензин' 'дизель' 'гибрид' 'электро' 'газ']\n",
      "\n",
      "Unique values for column modelDate from train: [1908. 1927. 1932. 1936. 1937. 1938. 1949. 1953. 1955. 1956. 1959. 1952.\n",
      " 1963. 1950. 1968. 1967. 1970. 1969. 1966. 1965. 1973. 1972. 1975. 1978.\n",
      " 1974. 1976. 1979. 1977. 1980. 1981. 1960. 1982. 1983. 1985. 1984. 1986.\n",
      " 1987. 1988. 1971.   nan 1989. 1990. 1991. 1992. 1993. 1994. 1995. 1996.\n",
      " 1997. 1998. 1999. 2000. 2002. 2001. 2003. 2004. 2005. 2006. 2007. 2008.\n",
      " 2009. 2010. 2011. 2012. 2013. 2014. 2015. 2016. 2017. 2018. 2019. 2020.]\n",
      "Unique values for column modelDate from test: [2013 2017 2008 2009 2016 2012 2015 2010 2006 2000 2007 1994 2004 1999\n",
      " 2005 1976 2001 1969 1996 1998 1989 1934 2014 2011 2018 1986 1997 1990\n",
      " 2019 2002 1991 1987 1980 1982 1938 1988 2003 1983 1978 1979 1984 1992\n",
      " 1995 1993 1985 1974 1966 1977 1981 1972 1968 1975 1949 1937 1936 1973\n",
      " 1959 1958 2020 1965 1971 1904 1963 1955 1951 1960]\n",
      "\n",
      "Unique values for column model_name from train: ['Модель Т' 'Модель А' 'в8' '326' '321' '920' 'Супер 6' 'Адмирал' '340'\n",
      " 'Кастом' 'Делюкс' 'Капитан' 'Бел Эйр' '356' 'Зефир' 'эль камино' '1200'\n",
      " 'Корвет' 'тайп 2' 'тайп 1' 'дс' 'е3' 'Рекорд' 'Камаро' 'Импала' 'Таунус'\n",
      " '100 серия' '02' 'Нова' 'GT' 'Кадет' 'Гранада' 'монза' '6' '240 Серия'\n",
      " 'Блейзер K5' 'Президент' '20' 'Марк 2' '100' 'Галант' 'Илтис' '200' '80'\n",
      " '7 серии' 'Коммодор' 'ЛайтЭйс' '3 серии' '5 серии' 'Ленд Крузер' 'Корса'\n",
      " 'Эскорт' '944' 'Креста' 'Транспортер' 'Гольф' 'Купе' 'Блейзер' 'Сиерра'\n",
      " 'RX-7' '626' '928' '25' '105, 120' 'Чайзер' 'Пассат' 'Скорпио' 'Сити'\n",
      " 'Аккорд' '323' 'Бонго' '300ZX' 'Патрол' 'Джетта' '760' '740' '6 серии'\n",
      " 'Рейнджер' 'Тандербёрд' 'Чероки' 'Блюбёрд' '200SX' 'Супра' 'Королла'\n",
      " 'Камри' 'Виста' 'Корона' '90' 'Бронко-2' 'F-150' 'Эконолайн'\n",
      " 'Гранд Вагонер' '929' 'Делика' 'Лаурель' 'Омега' 'Краун' 'Таун Эйс'\n",
      " 'Сирокко' 'Ван' 'Аэростар' 'Цивик' 'Концерто' 'Б-серия' 'Скайлайн'\n",
      " 'Аскона' 'Вектра' '924' '21' 'Самурай' 'Рэнглер' 'Кольт' 'л300' 'Паджеро'\n",
      " 'Террано' 'Глория' 'Датсан' 'Санни' 'Ванэт' '605' 'Эскудо'\n",
      " 'мастер айс сурф' 'Карина' 'Фораннер' 'Хайс' 'з1' 'Bx' 'инспаер' 'Q'\n",
      " 'Файрледи' 'Пульсар' 'урван' 'Калибра' 'Хайлюкс Сурф' 'Сера' 'Селика'\n",
      " 'Каравелла' 'Поло' '8 серии' 'Каприз' '121' 'Спайс Вагон' 'Эклипс'\n",
      " 'Сафари' 'Серена' 'Примера' 'Цедрик' 'Преси' 'Ларго' 'Астра' '405'\n",
      " 'Фаворит' 'Витара' 'МР 2' 'Превиа' 'Ленд Крузер Прадо' 'Спринтер'\n",
      " 'Соарер' 'Терсел' 'Коррадо' '940' '460' 'S2' 'М5' 'Старкрафт'\n",
      " 'Краун Виктория' 'Легенд' 'CR-X' 'Прелюд' 'Гранд Чероки' 'MX-3'\n",
      " 'Кседос 6' 'Лансер' 'Сигма' '100NX' 'Монтерей' 'Фронтера' 'Импреза'\n",
      " 'Легаси' 'Свифт' 'Карина Е' 'Королла Левин' 'Хайлюкс' 'Мультивэн' 'Венто'\n",
      " '850' '960' 'Субурбан' 'Беретта' 'Корсика' 'Таурус' 'Эксплорер' 'Мондео'\n",
      " 'GS' 'MPV' 'Спайс Раннер' 'РВР' 'Либеро' 'Альтима' 'Эспэйс'\n",
      " 'Спринтер Марино' 'А6' 'А4' 'Бронко' 'Мустанг' 'Фиеста' 'Интегра'\n",
      " 'Домани' 'Галлопер' 'Спортейдж' 'Кседос 9' 'Шариот' '3000' 'Сильвия'\n",
      " 'Максима' 'Тигра' 'Калдина' 'Эстима' 'Аристо' 'Виндом' 'Карина ED' 'А8'\n",
      " 'Тахо' 'Люмина' 'Проб' 'Гэлакси' 'Маверик' 'Виндстар' 'Бит' 'Шатл'\n",
      " 'Пасспорт' 'Акцент' 'FTO' 'Спайс Гир' 'Диамант' 'Монтеро' 'Каризма'\n",
      " 'Микра' '806' '406' 'Лагуна' 'Импреза WRX' 'Сайдкик' 'Балено' 'Культус'\n",
      " 'Спринтер Труэно' 'Спринтер Кариб' 'Кавалер' 'Аскот' 'CR-V' 'ортхия'\n",
      " 'Тибурон' 'Лантра' 'Соната' 'I' 'Преджио' 'Сефия' 'Просид Марви' 'Лантис'\n",
      " 'Лансер Эволюшн' 'Паджеро Джуниор' 'Легнум' 'Цефиро' 'Патфайндер'\n",
      " 'Авенир' 'Альмера' 'Прэри' '911' '19' 'Меган' 'Твинго' 'Фелиция' 'Авалон'\n",
      " 'Пасео' 'Мега Крузер' 'Рав4' 'Старлет' 'Ипсум' 'Шаран' 'А3' 'з3'\n",
      " 'Экспресс' 'Экспедишн' 'фреда' 'Одисей' 'Сабер' 'Сантамо' 'Кларус'\n",
      " 'Авелла' 'LX' 'Бонго Френди' 'Капелла' 'Мираж' 'Стайджиа' 'AD' 'Синтра'\n",
      " 'Октавия' 'импреза врх сти' 'Форестер' 'Аутбек' 'Вагон Р' 'Цинос' 'Раум'\n",
      " 'Региус' 'Королла Спасио' 'Кадди' 'S70' 'V70' 'V40' 'S40' 'S8' 'з3м'\n",
      " 'Ксантия' 'Эвазион' 'Пума' 'Ка' 'Торнео' 'HR-V' 'Капа' 'Шума' 'RX'\n",
      " 'Милления' 'Паджеро iO' 'Аспайр' '306' 'Клио' 'Сафран' 'Сценик'\n",
      " 'Гранд Витара' 'эстим' 'Авенсис' 'Альтеза' 'Приус' 'Харриер' 'Гольф GTI'\n",
      " 'Битл' 'Бора' 'C70' 'S90' 'S4' 'ТТ' 'S3' 'Трекер' 'Алеро' 'Берлинго'\n",
      " 'Экскьюршн' 'Фокус' 'Авансьер' 'Лого' 'XG' 'Н-1' 'Элантра' 'Старекс'\n",
      " 'Прайд' 'Фамилия' 'Примаси' 'Спайс Стар' 'Миникэб' 'Монтеро Спорт'\n",
      " 'Паджеро Пинин' 'Динго' 'Л200' 'л400' 'Паджеро Спорт' 'Элгранд' 'Тино'\n",
      " 'Пресаж' 'Вингроуд' 'Бассара' 'Зафира' '206' 'Эвери' 'Ярис' 'Сиенна'\n",
      " 'Ками' 'Прогрес' 'Эхо' 'Гайя' 'Лупо' 'А6 Олроуд' 'Х5' 'Ксара Пикассо'\n",
      " 'Фокус (Северная Америка)' 'Эскейп' 'Контур' 'Степвагон' 'Ку Икс 4'\n",
      " 'Джойс' 'Оптима' 'IS' 'LS' 'Демио' 'Трибьют' 'Дион' 'X-терра' 'Куб'\n",
      " 'Альмера Тино' 'Марч' 'Либерти' 'Агила' '607' '106' 'Бокстер' 'Фанкарго'\n",
      " 'Витц' 'гранд хайс' 'МР-С' 'bB' 'Дуэт' 'Пикник' 'Надя' 'S80' 'Аваланч'\n",
      " 'Ксара' 'C5' 'Кугар' 'Лазер' 'Эксплорер Спорт Трак' 'S2000' 'Цивик Ферио'\n",
      " 'Стрим' 'Фит' 'Партнер' 'Санта Фе' 'Терракан' 'Лавита' 'Траджет'\n",
      " 'Матрикс' 'Маджентис' 'Каренс' 'Спектра' 'Карнивал' 'SC' 'Протеж'\n",
      " 'Аиртрек' 'Блюбёрд Силфи' '307' 'Клио РС' 'трафик' 'Симбол' 'Фабия'\n",
      " 'Вагон Р+' 'Целсиор' 'Краун Маджеста' 'Авенсис Версо' 'Аллекс' 'Секвойя'\n",
      " 'Веросса' 'Спарки' 'Клюгер' 'Опа' 'Евровэн' 'S60' 'XC70' 'РС6' 'М3'\n",
      " 'Трейл блейзер' 'Нива' 'C8' 'C3' 'Джаз' 'Мобилио' 'Гетц' 'Тускани' 'G'\n",
      " 'Соренто' 'Рио' 'Седона' 'Хэтч' 'Аутлендер' 'Паджеро Мини' 'X-трейл'\n",
      " 'Мурано' 'Виваро' 'Вита' 'Авантайм' 'Вел Сатиз' 'Кэнгу' 'Суперб' 'Джимни'\n",
      " 'Альфард' 'Тундра' 'Вилл' 'Премио' 'Хайлендер' 'Ноа' 'Вольтз' 'Ист'\n",
      " 'Саксид' 'Фаетон' 'XC90' 'Х3' 'Турнео Коннект' 'Фьюжн' 'Элемент' 'Пилот'\n",
      " 'Мобилио Спайк' 'FX' 'Опирус' 'GX' 'ES' 'RX-8' 'MX-5' 'Грандис' 'Эндевор'\n",
      " 'Караван' 'Эксперт' 'Тиана' '350Z' 'Сигнум' 'Мерива' 'Кайен' 'Лиана'\n",
      " 'Игнис' 'Аэрио' 'Вокси' 'Туарег' 'Туран' '1 серии' 'З4' 'сильверадо'\n",
      " 'круз (эйчар)' 'Авео' 'Лачетти' 'Эванда' 'C2' 'C-MAX' 'Элюзион'\n",
      " 'Одиссей (Северная Америка)' 'Туксон' 'QX56' 'Церато' '3' 'Вериса'\n",
      " 'Аксела' 'Армада' '407' 'Октавия РС' 'R2' 'Платз' 'Марк X' 'Пассо'\n",
      " 'Поинтер' 'Ку7' 'Спарк' 'Реззо' 'Вива' 'Ланос' 'Эквинокс' 'C4' 'FR-V' 'M'\n",
      " 'Пиканто' 'Миника' 'Навара' '1007' 'Логан' 'Трибека' 'R1' 'Королла Версо'\n",
      " 'ISis' 'РС4' 'М6' 'Эпика' 'Джампи' 'S-MAX' 'Фокус СТ' 'Верна' 'Грандер'\n",
      " 'Коммандер' 'Компас' 'Сид' 'Кабрио' '6 МПС' '3 МПС' 'CX-7' '5'\n",
      " 'Альмера Классик' 'Ноут' 'Отти' '207' 'Стелла' 'SX4' 'Аурис' 'Гольф Плюс'\n",
      " 'C30' 'А5' 'S5' 'Х6' 'Каптива' 'C4 Пикассо' 'Сивик Тайп Р' 'Кроссроуд'\n",
      " 'Гранд Старекс' 'н200' 'Патриот' 'Клубмэн' 'БТ-50' 'Тиида' 'Кашкай'\n",
      " 'вектра опс' 'астра опс' 'Комбо' 'Антара' '107' 'Румстер' 'XL7'\n",
      " 'ФДжи Крузер' 'Блейд' 'Королла Румион' 'Пробокс' 'Калифорния' 'поло гти'\n",
      " 'Фокс' 'Ку5' 'Си кроссер' 'Фиеста СТ' 'Куга' 'Фрид' 'ix55' 'EX' 'Мохав'\n",
      " 'IS F' 'CX-9' '2' 'Лансер Раллиарт' 'Дулика Д:5' 'Кашкай+2' 'NP 300'\n",
      " 'корса опс' 'Инсигния' '4007' '308' '911 GT2' 'Колеос' 'Модус' 'Самбар'\n",
      " 'Такома' 'Вангуард' 'iQ' 'Бельта' 'Тигуан' 'Гольф Р32' 'Пассат СС' 'V50'\n",
      " 'А4 Олроуд' 'ТТС' 'Х1' 'Х5 М' 'Х6 М' 'Круз' 'C3 Пикассо' 'i30'\n",
      " 'Дженесис Купе' 'Дженесис' 'i20' 'Соул' 'GT-R' 'нв200' '3008' 'Кайман'\n",
      " 'Панамера' 'Йети' 'Альто' 'Венза' 'Версо' 'XC60' 'А7' 'А1' 'S6' 'C1'\n",
      " 'DS3' 'Зест' 'CR-Z' 'Инсайт' 'ix35' 'Экус' 'Солярис' 'к5' 'ASX' 'Лафеста'\n",
      " 'RCZ' '5008' 'Флюенс' 'Сандеро' 'Латитюд' 'Сплэш' 'Веллфайр' 'Амарок'\n",
      " 'Ку3' 'РС5' 'HHR' 'Орландо' 'Кросстур' 'Авант' 'Велостер' 'Венга' 'Форте'\n",
      " 'Каунтримэн' 'CX-5' 'лиф' 'Джук' '508' 'Дастер' 'XV' 'Приус Альфа'\n",
      " 'Порте' 'V60' 'Р8' 'РС3' 'Кобальт' 'DS4' 'дс5' 'с4 аиркросс' 'i40'\n",
      " 'Веракруз' 'джей икс' 'Кворис' 'Рэй' 'CT' 'Бианте' 'Рукс' 'Мокка'\n",
      " 'инсигния опс' '408' '4008' 'Меган РС' 'Солио' 'Лэнди' 'GT86' 'Фортунер'\n",
      " 'Приус V (+)' 'Аква' 'Гольф Р' 'S7' 'РС Ку3' '4 серии' 'Вольт' 'Си Элизи'\n",
      " 'фьюжн (северная америка)' 'н-бокс' 'ку икс 80' 'ку икс 70' 'ку икс 50'\n",
      " 'Пейсмэн' 'флэир' 'Джук Нисмо' 'Дайз' '301' '208' 'V40 Кросс Кантри'\n",
      " 'РС7' 'ску5' 'М4' 'Х4' '2 серии' 'и3' 'ЭкоСпорт' 'Эйдж' 'Турнео Кастом'\n",
      " 'Везел' 'акти' 'Q50' 'ку икс 60' 'ку 70' 'Сид GT' 'Н-Икс' 'Карол'\n",
      " 'i-MiEV' 'Делика Д:2' 'Сентра' 'Дейз Рукс' 'клиппер' '2008' 'Макан'\n",
      " 'Рапид' 'WRX STi' 'WRX' 'Леворг' 'Хастлер' 'эсквайр' 'Спейд' 'и8'\n",
      " 'eK Вагон' 'Пиксис Ван' 'Пиксис Спэйс' 'В60 Кросс Кантри' 'ску7'\n",
      " '2 серии гранд турер' 'М2' 'Малибу' 'Н-Вгн' 'Крита' 'Ренегейд'\n",
      " 'Кайман Джи-Ти 4' 'Каптюр' 'Талисман' 'Твизи' 'Эксига' 'Сиента' 'ПроЭйс'\n",
      " 'Х2' '2 серии Актив Турер' 'болт' 'Спейс турер' 'ку 30' 'ку 60'\n",
      " 'ку икс 30' 'LC' 'доккер' 'Кодиак' 'Танк' 'В90 Кросс Кантри' 'Ку8'\n",
      " 'C3 Аиркросс' 'фсх кларити' 'Стингер' 'К900' 'UX' 'Эклипс Кросс'\n",
      " 'Травелер' 'C-HR' 'Терамонт' 'XC40' 'C60 Кросс Кантри' 'Х7' 'Х4 М' 'Х3 М'\n",
      " 'C5 Аиркросс' 'i30 N' 'Просид' 'Селтос' 'Кайен Купе' 'Аркана' 'ску8'\n",
      " 'Ку3 Спортбек' 'И-трон' 'М8' 'Палисад' 'Икс Сид' 'ЛМ' 'сх-30'\n",
      " 'Зафира Лайф' 'Grandland X' 'Тайкан' 'Карок' 'Артеон']\n",
      "Unique values for column model_name from test: ['OCTAVIA' 'SUPERB' 'OCTAVIA_RS' 'YETI' 'KODIAQ' 'RAPID' 'FABIA'\n",
      " 'ROOMSTER' 'FELICIA' 'KAROQ' 'FABIA_RS' '120' '100_SERIES' 'FAVORIT'\n",
      " 'POPULAR' 'Q5' 'R8' 'Q7' 'Q3' 'A4' 'A3' 'A5' 'A6' 'RS7' 'S6' 'RS6'\n",
      " 'ALLROAD' 'TT' 'S5' 'S8' 'A1' 'A8' '80' 'A7' 'RSQ3' 'RS3' 'A4_ALLROAD'\n",
      " 'Q8' '100' 'SQ5' 'S4' 'TT_RS' 'RS4' 'S7' 'RS5' '90' 'COUPE' 'A2' 'TTS'\n",
      " '920' 'S3' '200' 'V8' 'E_TRON' 'CR_V' 'ACCORD' 'PILOT' 'CIVIC' 'ODYSSEY'\n",
      " 'STREAM' 'CROSSTOUR' 'ELYSION' 'ELEMENT' 'RIDGELINE' 'FIT' 'HR_V'\n",
      " 'SHUTTLE' 'FREED' 'ODYSSEY_NA' 'JAZZ' 'Z' 'CIVIC_FERIO' 'S2000' 'CR_Z'\n",
      " 'LEGEND' 'STEPWAGON' 'CIVIC_TYPE_R' 'FR_V' 'CR_X' 'PRELUDE'\n",
      " 'MOBILIO_SPIKE' 'N_BOX' 'ZEST' 'INTEGRA' 'INSPIRE' 'VEZEL' 'N_WGN'\n",
      " 'ASCOT' 'LOGO' 'ACTY' 'CONCERTO' 'AVANCIER' 'SABER' 'MOBILIO' 'CROSSROAD'\n",
      " 'INSIGHT' 'TORNEO' 'AIRWAVE' 'DOMANI' 'RAFAGA' 'CITY' 'VIGOR' 'ORTHIA'\n",
      " 'PARTNER' 'V60_CROSS_COUNTRY' 'XC40' 'XC60' 'C30' 'V50' 'XC90'\n",
      " 'V90_CROSS_COUNTRY' 'S60' 'XC70' 'V40_CC' 'S40' 'S90' 'V40' '240_SERIES'\n",
      " 'S80' 'V70' 'S60_CROSS_COUNTRY' '940' '740' '850' 'V60' 'S70' 'C70' '760'\n",
      " '960' '460' '440' '140' 'X5' 'X6' 'X7' 'X3' '5ER' 'X2' 'Z4' 'X1' '6ER'\n",
      " '7ER' 'X5_M' 'M5' '1ER' '3ER' 'X6_M' '4' 'X4' 'M2' 'M6' 'X4_M' '8ER' 'I8'\n",
      " 'I3' '2ER' 'M3' 'M1' 'M4' 'X3_M' '2GRANDTOURER' 'Z1' '2ACTIVETOURER' '02'\n",
      " 'Z3' 'E3' '340' '321' 'Z3M' '326' 'PATROL' 'TEANA' 'QASHQAI' 'AVENIR'\n",
      " 'X_TRAIL' 'MURANO' 'MAXIMA' 'NAVARA' 'PATHFINDER' 'NOTE' 'TIIDA' 'JUKE'\n",
      " 'TERRANO' 'ALMERA_CLASSIC' 'PRIMERA' 'SKYLINE' 'ALMERA' 'QASHQAI_PLUS_2'\n",
      " 'SERENA' 'AD' 'MICRA' 'LEAF' 'GT_R' 'MARCH' 'SENTRA' 'BLUEBIRD_SYLPHY'\n",
      " 'PRESAGE' 'ALTIMA' 'NP300' 'CLIPPER' 'PRAIRIE' 'ALMERA_TINO' 'DAYZ'\n",
      " 'FAIRLADY_Z' 'QUEST' 'SILVIA' 'ARMADA' '350Z' 'NV200' 'JUKE_NISMO'\n",
      " 'STAGEA' '280ZX' 'ELGRAND' '300ZX' 'CEFIRO' 'PRESIDENT' 'CUBE' 'PULSAR'\n",
      " 'BLUEBIRD' 'FUGA' 'LAUREL' 'WINGROAD' 'CARAVAN_COACH' 'DATSUN' 'GLORIA'\n",
      " 'EXPERT' '100NX' 'SAFARI' 'LIBERTY' 'CEDRIC' 'VANETTE' 'SUNNY' 'OTTI'\n",
      " 'DAYZ_ROOX' 'PRESEA' 'BASSARA' 'TERRANO_REGULUS' 'RNESSA' 'TINO' '200SX'\n",
      " 'LAFESTA' 'KIX' 'LARGO' 'URVAN' 'JX' 'FX' 'G35' 'Q50' 'QX56' 'QX50'\n",
      " 'QX80' 'EX' 'Q70' 'QX70' 'QX60' 'M' 'QX4' 'Q30' 'QX30' 'Q60' 'Q' 'I'\n",
      " 'V_KLASSE' 'C_KLASSE' 'GLE_KLASSE' 'E_KLASSE' 'S_KLASSE' 'GLA_CLASS'\n",
      " 'SLK_KLASSE' 'SLS_AMG' 'G_KLASSE_AMG' 'GLE_KLASSE_COUPE' 'M_KLASSE_AMG'\n",
      " 'E_KLASSE_AMG' 'GLC_KLASSE' 'CLA_KLASSE' 'GL_KLASSE' 'B_KLASSE'\n",
      " 'A_KLASSE' 'GLS_KLASSE' 'GLK_KLASSE' 'M_KLASSE' 'W124' 'VIANO' 'VITO'\n",
      " 'G_KLASSE' 'S_CLASS_MAYBACH' 'C_KLASSE_AMG' 'CLC_KLASSE' 'CLK_KLASSE'\n",
      " 'GL_KLASSE_AMG' 'GLC_COUPE' 'CLS_KLASSE' 'S_KLASSE_AMG'\n",
      " 'GLE_KLASSE_COUPE_AMG' 'AMG_GT' 'W201' 'CLA_KLASSE_AMG' 'SL_KLASSE'\n",
      " 'GLS_KLASSE_AMG' 'CL_KLASSE' 'R_KLASSE' 'GLE_KLASSE_AMG' 'CLS_KLASSE_AMG'\n",
      " 'SL_KLASSE_AMG' 'A_KLASSE_AMG' 'W111' 'W128' 'GLC_KLASSE_AMG'\n",
      " 'SLC_KLASSE' 'GLB_KLASSE' 'GLA_CLASS_AMG' 'AMG_GLC_COUPE' 'X_KLASSE'\n",
      " 'CL_KLASSE_AMG' 'MAYBACH_GLS' 'SLR_KLASSE' 'VANEO' 'W123' 'CITAN' 'W136'\n",
      " 'SIMPLEX' 'W114' '190_SL' 'W186' 'W188' 'CAMRY' 'RAV_4' 'AVENSIS' 'GT86'\n",
      " 'LAND_CRUISER' 'COROLLA' 'LAND_CRUISER_PRADO' 'MATRIX' '4RUNNER'\n",
      " 'SEQUOIA' 'HIGHLANDER' 'CROWN' 'HILUX' 'HILUX_SURF' 'ISIS' 'AURIS' 'VITZ'\n",
      " 'PRIUS' 'YARIS' 'CARINA' 'CHASER' 'ESTIMA' 'ESQUIRE' 'VERSO' 'ECHO'\n",
      " 'TOWN_ACE' 'FJ_CRUISER' 'VENZA' 'TUNDRA' 'SIENNA' 'BB' 'AQUA' 'IQ'\n",
      " 'CALDINA' 'FORTUNER' 'ALPHARD' 'SUPRA' 'C_HR' 'MARK_II' 'CELICA' 'SOARER'\n",
      " 'SERA' 'MARK_X' 'SPRINTER_TRUENO' 'CAMRY_SOLARA' 'VOXY' 'CROWN_MAJESTA'\n",
      " 'ALTEZZA' 'MR2' 'AVENSIS_VERSO' 'ARISTO' 'HARRIER' 'HIACE' 'VERSO_S'\n",
      " 'VELLFIRE' 'COROLLA_VERSO' 'REGIUS' 'IPSUM' 'CRESTA' 'MR_S' 'YARIS_VERSO'\n",
      " 'NOAH' 'LITE_ACE' 'BLADE' 'PICNIC' 'COROLLA_SPACIO' 'CARINA_ED'\n",
      " 'COROLLA_LEVIN' 'COROLLA_RUMION' 'GRAND_HIACE' 'CARINA_E' 'ORIGIN' 'AYGO'\n",
      " 'STARLET' 'VANGUARD' 'WISH' 'PROBOX' 'CURREN' 'VEROSSA' 'SIENTA'\n",
      " 'SCEPTER_SEDAN' 'FUNCARGO' 'PROGRES' 'PASSO' 'OPA' 'SPARKY' 'SUCCEED'\n",
      " 'PREMIO' 'PREVIA' 'WINDOM' 'ALLEX' 'CORONA' 'SPRINTER_CARIB' 'SPADE'\n",
      " 'AVALON' 'TERCEL' 'CYNOS' 'PRIUS_ALPHA' 'SPRINTER' 'MASTER_ACE_SURF'\n",
      " 'SPRINTER_MARINO' 'CAMI' 'COROLLA_II' 'CORSA' 'RAUM' 'VISTA'\n",
      " 'CORONA_EXIV' 'MEGA_CRUISER' 'MARK_X_ZIO' 'PRIUSPLUS' 'IST' 'GRANVIA'\n",
      " 'GAIA' 'CAVALIER' 'DUET' 'RACTIS' 'NADIA' 'PORTE' 'LS' 'GS' 'ES' 'IS'\n",
      " 'LX' 'RX' 'NX' 'GX' 'UX' 'CT' 'LM' 'RC' 'HS' 'SC' 'TOUAREG' 'TIGUAN'\n",
      " 'PASSAT' 'AMAROK' 'POLO' 'CADDY' 'PASSAT_CC' 'JETTA' 'TRANSPORTER'\n",
      " 'SCIROCCO' 'GOLF' 'TOURAN' 'CARAVELLE' 'MULTIVAN' 'SHARAN' 'GOLF_PLUS'\n",
      " 'TERAMONT' 'VENTO' 'ARTEON' 'PHAETON' 'GOLF_GTI' 'BEETLE' 'EUROVAN'\n",
      " 'CALIFORNIA' 'GOLF_R' 'CORRADO' 'GOLF_R32' 'EOS' 'BORA' 'POLO_GTI' 'LUPO'\n",
      " 'TYPE_1' 'POINTER' 'FOX' 'TARO' 'PAJERO_SPORT' 'OUTLANDER' 'L200'\n",
      " 'MONTERO' 'LANCER' 'PAJERO' 'MONTERO_SPORT' 'GALANT' 'PAJERO_MINI'\n",
      " 'PAJERO_IO' 'ASX' 'COLT' 'CARISMA' 'SPACE_STAR' 'PAJERO_PININ' 'FTO'\n",
      " 'LANCER_EVOLUTION' 'GRANDIS' 'ECLIPSE_CROSS' 'ECLIPSE' 'MINICAB'\n",
      " 'DELICA_D_5' 'ENDEAVOR' 'DELICA' 'I_MIEV' 'SPACE_WAGON' 'LANCER_RALLIART'\n",
      " 'LEGNUM' 'AIRTREK' 'SPACE_GEAR' 'DELICA_D2' 'L300' 'SIGMA' 'DIAMANTE'\n",
      " 'L400' 'MIRAGE' 'DINGO' 'SPACE_RUNNER' 'CHARIOT' 'EK_WAGON' 'RVR'\n",
      " 'LIBERO' 'DION' 'EMERAUDE' 'ASPIRE' 'MINICA' 'ATLAS' 'WILL_CYPHA' 'PASEO'\n",
      " 'WILL' 'PLATZ']\n",
      "\n",
      "Unique values for column name from train: ['2.9 MT (20 л.с.)' '3.3 MT (40 л.с.)' '3.6 MT (66 л.с.)' ...\n",
      " '3.5 AT (375 л.с.) 4WD' 'Long 2.0d MT (110 л.с.)'\n",
      " 'Long 2.0d MT (150 л.с.)']\n",
      "Unique values for column name from test: ['1.2 AMT (105 л.с.)' '1.6 MT (110 л.с.)' 'DSG 1.8 AMT (152 л.с.)' ...\n",
      " 'Arctic Trucks AT38 2.8d AT (177 л.с.) 4WD' '2.0 MT (151 л.с.) 4WD'\n",
      " '300 3.0 AT (218 л.с.)']\n",
      "\n",
      "Unique values for column numberOfDoors from train: [ 2.  3.  4.  5. nan]\n",
      "Unique values for column numberOfDoors from test: [5 4 2 3 0]\n",
      "\n",
      "Unique values for column productionDate from train: [1923 1927 1928 1932 1937 1938 1939 1947 1948 1949 1950 1951 1954 1955\n",
      " 1956 1957 1959 1960 1964 1965 1967 1969 1970 1971 1972 1973 1974 1976\n",
      " 1978 1979 1980 1981 1982 1983 1984 1985 1986 1987 1988 1989 1990 1991\n",
      " 1992 1993 1994 1995 1996 1997 1998 1999 2000 2001 2002 2003 2004 2005\n",
      " 2006 2007 2008 2009 2010 2011 2012 2013 2014 2015 2016 2017 2018 2019\n",
      " 2020 2021]\n",
      "Unique values for column productionDate from test: [2014 2017 2012 2011 2019 2018 2010 2020 2016 2013 2006 2007 2015 2005\n",
      " 2008 2009 1997 2004 2002 1987 2003 2001 1976 2000 1998 1995 1999 1993\n",
      " 1939 1996 1984 1990 1991 1992 1989 1982 1985 1994 1938 1981 1988 1983\n",
      " 1980 1986 1978 1970 1979 1977 1972 1975 1969 1950 1953 1949 1937 1959\n",
      " 1968 1936 1904 1974 1967 1961 1960 1965 1963 1957 1952 1973 1948]\n",
      "\n",
      "Unique values for column vehicleTransmission from train: ['MECHANICAL' 'AUTOMATIC' nan 'VARIATOR' 'ROBOT']\n",
      "Unique values for column vehicleTransmission from test: ['роботизированная' 'механическая' 'автоматическая' 'вариатор']\n",
      "\n",
      "Unique values for column vendor from train: ['AMERICAN' 'EUROPEAN' 'JAPANESE' 'KOREAN' 'RUSSIAN']\n",
      "Unique values for column vendor from test: ['EUROPEAN' 'JAPANESE']\n",
      "\n",
      "Unique values for column engineDisplacement from train: ['2.9' '3.3' '3.6' '2.0' '2.5' '3.9' '3.7' '4.3' '1.6' '2.6' '5.7' '1.2'\n",
      " '5.4' '1.5' '1.3' '1.7' '4.1' '110' '1.9' '2.4' '2.3' '3.0' '1.1' '7.0'\n",
      " '250' '2.1' '1.6d' '733i' '1.8' '316' '520i' '315' '518' '3.0d' '3.4d'\n",
      " '323i' '5-speed' '320i' '2.8' '6.2d' '4.7' '2.2' '2.8d' '2.4d' '635i'\n",
      " '735i' '325i' '4.0' 'GT' '730i' '525i' '4.2' '4.9' '5.9' '2.5d' '316i'\n",
      " '318i' '1.4' '4.2d' 'KAT' '1.9d' '750Li' '535i' nan '2.3d' '2.0d' 'Q45'\n",
      " '2.7d' '2.2d' 'Syncro' '1.0' '524d' '850i' '5.0' 'C16NZ' 'GT-Four' '3.5d'\n",
      " 'i' '3.8' '6.5d' '4.6' '3.2' 'del' '5.2' 'Ceres' 'S4' '3.1' '7.4' '300'\n",
      " 'GT-R' '1.7d' '3.1d' '1.5d' '5.8' '1.8d' '3.5' 'Emina' '4.5' 'Long'\n",
      " '328i' '740i' '740Li' '518i' '0.7' 'Lucida' '523i' '528i' 'I30' 'Joy'\n",
      " 'Carrera' '2.7' '3.4' '4.1d' 'Premio' '540i' '728i' '450' '3.2d' '16LZ2'\n",
      " 'X16SZR' 'Europa' 'Wide' 'Noah' 'Gracia' '750i' '725d' '470' '400' 'VR-4'\n",
      " 'Grandis' 'Qualis' '1.5hyb' 'Ardeo' 'XC' '730d' '525d' '6.8' 'S-Wagon'\n",
      " 'Landy' 'Cygnus' '105' '4.4i' '740d' '530d' '3.0i' '320d' '5.3' '200'\n",
      " '430' 'Cedia' 'Grand' 'XL-7' '330xi' '745i' '520d' '325xi' '530i' 'N42'\n",
      " '330i' '745Li' '6.0' 'Sport' 'Protege5' 'RX4' '1.4d' '3.3d' '4.6is' 'EXT'\n",
      " 'Type' '2.9d' 'G35' 'Cooper' 'One' 'Turbo' '760Li' '30i' 'LWB' 'Spada'\n",
      " 'Hybrid' 'US' 'ТагАЗ' 'FX35' 'FX45' '330' '1.3d' 'Classic' 'S' '2.4hyb'\n",
      " '4.9d' 'R' '30d' '118d' '760i' '645i' '4.8is' '545i' '318d' '735Li' '25i'\n",
      " '5.6' 'Cubic' 'STi' '16V' '120i' '525xi' '630i' '118i' '116i' '530xi'\n",
      " '8.1' 'M35' '400h' 'GTC' '4MOTION' '4.4' '530xd' '550i' '20d' '335i'\n",
      " '650i' '3.0si' '0.8' 'Shelby' '350' '460' '450h' 'CZ3' 'Multimode' 'AMT'\n",
      " '4-Seater' '8V' '48i' '35i' '635d' '3.0sd' '330d' '6.6d' '2.3hyb' 'SRT8'\n",
      " '570' 'Hard' 'Conquest' 'Campus' 'Double' '5.9d' '125i' '120d' '4.8i'\n",
      " '35d' '130i' '50i' '135i' '730Li' 'Hydractive' 'EX35' 'G37' 'FX50'\n",
      " '6-speed' '600h' 'GSi' 'RC' 'GTS' 'DSG' '4.5d' '78' 'Axio' '5-Seater'\n",
      " 'Maxi' 'tiptronic' '23d' '730Ld' '23i' '20i' 'Z06' '6.2' '4-speed' '250C'\n",
      " 'CZ1' 'CZ2' 'ecoFLEX' '+' 'Diesel' '4S' 'DSG7' '1.8hyb' '76' 'Cross'\n",
      " 'EcoFuel' '40d' '28i' 'Active' '18i' 'Triomphe' '1.3hyb' 'FX37' 'M25'\n",
      " 'G25' 'EX37' 'M37' '270' '4' 'Scout' 'XV' 'CrewMax' 'clean' 'S-tronic'\n",
      " '8tiptronic' '640i' '535d' '335xi' '6AT' 'Spike' 'EX25' '8-speed'\n",
      " 'Electro' 'Stepway' 'S-Edition' 'Japan' 'V10' 'V8' '2.0hyb' '520Li'\n",
      " '640d' 'M50d' 'SVT' 'FX30d' 'JX35' '200h' 'Soft' '79' 'full-time'\n",
      " 'Alltrack' 'part-time' 'Tiptronic' '7S-tronic' '420d' '428i' '435i'\n",
      " '750Ld' '1.4hyb' 'FX' 'SRT' '300h' 'Super' 'Country' '2.5hyb' '420i'\n",
      " '220d' '25d' '220i' 'M235i' '528Li' 'SWB' 'Limousine' '3.5hyb' '200t'\n",
      " 'John' 'CNG' '1.2d' 'Fielder' '340i' '18d' '450d' '30kWh' 'Start__Stop'\n",
      " 'ACT' '4.0d' '740Ld' '218d' '518d' 'SS' 'Stingray' 'EV' '1.2hyb'\n",
      " 'Compact' 'Arctic' 'e-Golf' 'ultra' 'Euro' 'xDrive28i' '94Ah' 'M550d'\n",
      " '750d' '725Ld' '630d' 'M760Li' 'xDrive20d' '218i' '430i' 'XL' 'X-Line'\n",
      " '350L' '500' 'PHEV' 'Allspace' '55' 'M850i' 'M40i' '620d' '840d'\n",
      " 'sDrive18i' '440i' '0.7hyb' 'Competition' 'xDrive20i' 'Raptor' 'Plug-in'\n",
      " 'T' '35' '60' '45' '40i' '840i' 'M50i' 'M140i' 'M340i' 'Trailhawk'\n",
      " 'E-Hybrid' 'Prime' '40' 'xDrive18d' 'M40d' 'X' 'L']\n",
      "Unique values for column engineDisplacement from test: ['1.2 LTR' '1.6 LTR' '1.8 LTR' '2.0 LTR' '1.4 LTR' '1.3 LTR' '1.0 LTR'\n",
      " '3.6 LTR' '1.5 LTR' '1.9 LTR' '2.8 LTR' '1.1 LTR' '2.5 LTR' '4.2 LTR'\n",
      " '3.0 LTR' '4.0 LTR' '5.9 LTR' '2.7 LTR' '3.1 LTR' '2.4 LTR' '5.2 LTR'\n",
      " '3.2 LTR' '4.1 LTR' '6.3 LTR' '2.3 LTR' '6.0 LTR' '2.2 LTR' '3.7 LTR'\n",
      " '2.9 LTR' '5.0 LTR' '3.3 LTR' '2.1 LTR' '2.6 LTR' ' LTR' '3.5 LTR'\n",
      " '1.7 LTR' '0.7 LTR' '4.4 LTR' '4.8 LTR' '5.4 LTR' '6.6 LTR' '4.9 LTR'\n",
      " '3.8 LTR' '3.4 LTR' '3.9 LTR' '4.6 LTR' '5.6 LTR' '4.5 LTR' '5.5 LTR'\n",
      " '6.2 LTR' '4.7 LTR' '4.3 LTR' '5.8 LTR' '5.3 LTR' '5.7 LTR']\n",
      "\n",
      "Unique values for column mileage from train: [1000 5000 2000 ... 7656 8920 7601]\n",
      "Unique values for column mileage from test: [ 74000  60563  88000 ... 121276 212678 157965]\n",
      "\n",
      "Unique values for column Привод from train: ['задний' 'передний' 'полный' nan]\n",
      "Unique values for column Привод from test: ['передний' 'полный' 'задний']\n",
      "\n",
      "Unique values for column Руль from train: ['LEFT' 'RIGHT']\n",
      "Unique values for column Руль from test: ['Левый' 'Правый']\n",
      "\n",
      "Unique values for column Состояние from train: ['used' 'new']\n",
      "Unique values for column Состояние from test: ['Не требует ремонта']\n",
      "\n",
      "Unique values for column Владельцы from train: [ 1.  2.  3. nan  4.]\n",
      "Unique values for column Владельцы from test: ['3 или более' '1\\xa0владелец' '2\\xa0владельца']\n",
      "\n",
      "Unique values for column ПТС from train: ['ORIGINAL' 'DUPLICATE' nan]\n",
      "Unique values for column ПТС from test: ['Оригинал' 'Дубликат' nan]\n",
      "\n",
      "Unique values for column Таможня from train: [ True]\n",
      "Unique values for column Таможня from test: ['Растаможен']\n",
      "\n",
      "Unique values for column Владение from train: [nan \"{'year': 2007, 'month': 5}\" \"{'year': 2014, 'month': 10}\"\n",
      " \"{'year': 1986, 'month': 8}\" \"{'year': 1989, 'month': 12}\"\n",
      " \"{'year': 2006, 'month': 10}\" \"{'year': 2014, 'month': 2}\"\n",
      " \"{'year': 2011, 'month': 4}\" \"{'year': 1956, 'month': 4}\"\n",
      " \"{'year': 2018, 'month': 4}\" \"{'year': 2017, 'month': 6}\"\n",
      " \"{'year': 2016, 'month': 4}\" \"{'year': 2011, 'month': 1}\"\n",
      " \"{'year': 1978, 'month': 3}\" \"{'year': 2000, 'month': 5}\"\n",
      " \"{'year': 2014, 'month': 8}\" \"{'year': 2012, 'month': 2}\"\n",
      " \"{'year': 2016, 'month': 3}\" \"{'year': 2010, 'month': 3}\"\n",
      " \"{'year': 1977, 'month': 12}\" \"{'year': 2019, 'month': 4}\"\n",
      " \"{'year': 2000, 'month': 12}\" \"{'year': 2017, 'month': 9}\"\n",
      " \"{'year': 2006, 'month': 6}\" \"{'year': 2014, 'month': 5}\"\n",
      " \"{'year': 1974, 'month': 9}\" \"{'year': 1982, 'month': 3}\"\n",
      " \"{'year': 2018, 'month': 7}\" \"{'year': 2018, 'month': 5}\"\n",
      " \"{'year': 1979, 'month': 5}\" \"{'year': 2014, 'month': 9}\"\n",
      " \"{'year': 2012, 'month': 3}\" \"{'year': 1990, 'month': 11}\"\n",
      " \"{'year': 1993, 'month': 1}\" \"{'year': 2013, 'month': 5}\"\n",
      " \"{'year': 2012, 'month': 4}\" \"{'year': 2018, 'month': 3}\"\n",
      " \"{'year': 2013, 'month': 10}\" \"{'year': 1995, 'month': 10}\"\n",
      " \"{'year': 2017, 'month': 10}\" \"{'year': 2013, 'month': 12}\"\n",
      " \"{'year': 1997, 'month': 6}\" \"{'year': 2019, 'month': 8}\"\n",
      " \"{'year': 2010, 'month': 10}\" \"{'year': 2017, 'month': 3}\"\n",
      " \"{'year': 1999, 'month': 3}\" \"{'year': 2015, 'month': 6}\"\n",
      " \"{'year': 2019, 'month': 2}\" \"{'year': 2003, 'month': 4}\"\n",
      " \"{'year': 2013, 'month': 1}\" \"{'year': 2017, 'month': 8}\"\n",
      " \"{'year': 2020, 'month': 9}\" \"{'year': 2008, 'month': 8}\"\n",
      " \"{'year': 2018, 'month': 1}\" \"{'year': 2019, 'month': 11}\"\n",
      " \"{'year': 2020, 'month': 1}\" \"{'year': 2020, 'month': 4}\"\n",
      " \"{'year': 1998, 'month': 11}\" \"{'year': 2019, 'month': 6}\"\n",
      " \"{'year': 2009, 'month': 9}\" \"{'year': 2011, 'month': 11}\"\n",
      " \"{'year': 2020, 'month': 3}\" \"{'year': 2018, 'month': 9}\"\n",
      " \"{'year': 2016, 'month': 1}\" \"{'year': 2001, 'month': 9}\"\n",
      " \"{'year': 2020, 'month': 8}\" \"{'year': 2012, 'month': 12}\"\n",
      " \"{'year': 2020, 'month': 5}\" \"{'year': 2017, 'month': 7}\"\n",
      " \"{'year': 2020, 'month': 6}\" \"{'year': 2019, 'month': 12}\"\n",
      " \"{'year': 2017, 'month': 1}\" \"{'year': 2015, 'month': 3}\"\n",
      " \"{'year': 2004, 'month': 12}\" \"{'year': 2013, 'month': 7}\"\n",
      " \"{'year': 2019, 'month': 3}\" \"{'year': 2012, 'month': 1}\"\n",
      " \"{'year': 2006, 'month': 5}\" \"{'year': 2008, 'month': 3}\"\n",
      " \"{'year': 2017, 'month': 5}\" \"{'year': 2004, 'month': 10}\"\n",
      " \"{'year': 1999, 'month': 12}\" \"{'year': 2020, 'month': 11}\"\n",
      " \"{'year': 2016, 'month': 11}\" \"{'year': 2019, 'month': 10}\"\n",
      " \"{'year': 1988, 'month': 5}\" \"{'year': 2002, 'month': 1}\"\n",
      " \"{'year': 2011, 'month': 10}\" \"{'year': 2018, 'month': 12}\"\n",
      " \"{'year': 2016, 'month': 10}\" \"{'year': 2013, 'month': 6}\"\n",
      " \"{'year': 2004, 'month': 11}\" \"{'year': 2017, 'month': 12}\"\n",
      " \"{'year': 1989, 'month': 10}\" \"{'year': 2018, 'month': 8}\"\n",
      " \"{'year': 2017, 'month': 4}\" \"{'year': 2014, 'month': 4}\"\n",
      " \"{'year': 2001, 'month': 10}\" \"{'year': 1989, 'month': 6}\"\n",
      " \"{'year': 2010, 'month': 2}\" \"{'year': 2002, 'month': 9}\"\n",
      " \"{'year': 2020, 'month': 10}\" \"{'year': 2007, 'month': 4}\"\n",
      " \"{'year': 2020, 'month': 2}\" \"{'year': 2008, 'month': 9}\"\n",
      " \"{'year': 2018, 'month': 2}\" \"{'year': 2018, 'month': 6}\"\n",
      " \"{'year': 2019, 'month': 1}\" \"{'year': 1989, 'month': 5}\"\n",
      " \"{'year': 2014, 'month': 1}\" \"{'year': 2012, 'month': 9}\"\n",
      " \"{'year': 2004, 'month': 9}\" \"{'year': 1997, 'month': 10}\"\n",
      " \"{'year': 2017, 'month': 11}\" \"{'year': 2016, 'month': 7}\"\n",
      " \"{'year': 2015, 'month': 1}\" \"{'year': 2010, 'month': 4}\"\n",
      " \"{'year': 2018, 'month': 10}\" \"{'year': 1990, 'month': 8}\"\n",
      " \"{'year': 2013, 'month': 4}\" \"{'year': 2009, 'month': 4}\"\n",
      " \"{'year': 1999, 'month': 11}\" \"{'year': 2010, 'month': 5}\"\n",
      " \"{'year': 2018, 'month': 11}\" \"{'year': 2012, 'month': 10}\"\n",
      " \"{'year': 2016, 'month': 8}\" \"{'year': 2007, 'month': 12}\"\n",
      " \"{'year': 2013, 'month': 9}\" \"{'year': 2012, 'month': 6}\"\n",
      " \"{'year': 2019, 'month': 7}\" \"{'year': 2008, 'month': 12}\"\n",
      " \"{'year': 2008, 'month': 6}\" \"{'year': 2013, 'month': 3}\"\n",
      " \"{'year': 2019, 'month': 5}\" \"{'year': 2015, 'month': 11}\"\n",
      " \"{'year': 2017, 'month': 2}\" \"{'year': 2010, 'month': 6}\"\n",
      " \"{'year': 2012, 'month': 11}\" \"{'year': 1998, 'month': 12}\"\n",
      " \"{'year': 2014, 'month': 6}\" \"{'year': 2007, 'month': 7}\"\n",
      " \"{'year': 2015, 'month': 10}\" \"{'year': 2011, 'month': 8}\"\n",
      " \"{'year': 2003, 'month': 3}\" \"{'year': 2013, 'month': 2}\"\n",
      " \"{'year': 2015, 'month': 4}\" \"{'year': 2012, 'month': 7}\"\n",
      " \"{'year': 2001, 'month': 4}\" \"{'year': 2004, 'month': 4}\"\n",
      " \"{'year': 2011, 'month': 9}\" \"{'year': 2015, 'month': 8}\"\n",
      " \"{'year': 2015, 'month': 5}\" \"{'year': 1992, 'month': 6}\"\n",
      " \"{'year': 2000, 'month': 11}\" \"{'year': 2003, 'month': 1}\"\n",
      " \"{'year': 2008, 'month': 7}\" \"{'year': 2000, 'month': 7}\"\n",
      " \"{'year': 2009, 'month': 7}\" \"{'year': 2010, 'month': 9}\"\n",
      " \"{'year': 2005, 'month': 1}\" \"{'year': 2012, 'month': 8}\"\n",
      " \"{'year': 2009, 'month': 6}\" \"{'year': 2010, 'month': 11}\"\n",
      " \"{'year': 2005, 'month': 9}\" \"{'year': 2016, 'month': 6}\"\n",
      " \"{'year': 2004, 'month': 6}\" \"{'year': 2016, 'month': 12}\"\n",
      " \"{'year': 2019, 'month': 9}\" \"{'year': 2015, 'month': 12}\"\n",
      " \"{'year': 2005, 'month': 8}\" \"{'year': 2009, 'month': 8}\"\n",
      " \"{'year': 2020, 'month': 7}\" \"{'year': 2014, 'month': 7}\"\n",
      " \"{'year': 2011, 'month': 12}\" \"{'year': 2014, 'month': 3}\"\n",
      " \"{'year': 1994, 'month': 6}\" \"{'year': 2003, 'month': 11}\"\n",
      " \"{'year': 2016, 'month': 5}\" \"{'year': 2015, 'month': 9}\"\n",
      " \"{'year': 2002, 'month': 3}\" \"{'year': 2009, 'month': 5}\"\n",
      " \"{'year': 2016, 'month': 9}\" \"{'year': 2005, 'month': 3}\"\n",
      " \"{'year': 2004, 'month': 5}\" \"{'year': 2011, 'month': 5}\"\n",
      " \"{'year': 2009, 'month': 3}\" \"{'year': 1996, 'month': 7}\"\n",
      " \"{'year': 1996, 'month': 8}\" \"{'year': 2005, 'month': 10}\"\n",
      " \"{'year': 2011, 'month': 2}\" \"{'year': 1996, 'month': 1}\"\n",
      " \"{'year': 2013, 'month': 11}\" \"{'year': 2014, 'month': 11}\"\n",
      " \"{'year': 2007, 'month': 9}\" \"{'year': 1996, 'month': 5}\"\n",
      " \"{'year': 2005, 'month': 6}\" \"{'year': 2001, 'month': 1}\"\n",
      " \"{'year': 2006, 'month': 9}\" \"{'year': 2008, 'month': 11}\"\n",
      " \"{'year': 2011, 'month': 7}\" \"{'year': 2006, 'month': 4}\"\n",
      " \"{'year': 2004, 'month': 3}\" \"{'year': 2008, 'month': 1}\"\n",
      " \"{'year': 1998, 'month': 6}\" \"{'year': 2014, 'month': 12}\"\n",
      " \"{'year': 2016, 'month': 2}\" \"{'year': 2000, 'month': 9}\"\n",
      " \"{'year': 2008, 'month': 2}\" \"{'year': 2003, 'month': 5}\"\n",
      " \"{'year': 2020, 'month': 12}\" \"{'year': 2010, 'month': 7}\"\n",
      " \"{'year': 2001, 'month': 3}\" \"{'year': 1998, 'month': 2}\"\n",
      " \"{'year': 2001, 'month': 6}\" \"{'year': 1997, 'month': 12}\"\n",
      " \"{'year': 2015, 'month': 7}\" \"{'year': 2008, 'month': 10}\"\n",
      " \"{'year': 2002, 'month': 10}\" \"{'year': 2011, 'month': 3}\"\n",
      " \"{'year': 2003, 'month': 10}\" \"{'year': 2005, 'month': 11}\"\n",
      " \"{'year': 2013, 'month': 8}\" \"{'year': 2002, 'month': 6}\"\n",
      " \"{'year': 2006, 'month': 8}\" \"{'year': 2009, 'month': 1}\"\n",
      " \"{'year': 2010, 'month': 12}\" \"{'year': 2015, 'month': 2}\"\n",
      " \"{'year': 2002, 'month': 5}\" \"{'year': 2007, 'month': 10}\"\n",
      " \"{'year': 1999, 'month': 6}\" \"{'year': 2004, 'month': 1}\"\n",
      " \"{'year': 2007, 'month': 8}\" \"{'year': 1998, 'month': 8}\"\n",
      " \"{'year': 2001, 'month': 5}\" \"{'year': 2009, 'month': 10}\"\n",
      " \"{'year': 2006, 'month': 11}\" \"{'year': 2010, 'month': 1}\"\n",
      " \"{'year': 2007, 'month': 1}\" \"{'year': 2012, 'month': 5}\"\n",
      " \"{'year': 2021, 'month': 1}\" \"{'year': 1999, 'month': 4}\"\n",
      " \"{'year': 2002, 'month': 8}\" \"{'year': 2005, 'month': 5}\"\n",
      " \"{'year': 2008, 'month': 5}\" \"{'year': 2003, 'month': 9}\"\n",
      " \"{'year': 2006, 'month': 12}\" \"{'year': 2009, 'month': 2}\"\n",
      " \"{'year': 2009, 'month': 11}\" \"{'year': 2000, 'month': 8}\"\n",
      " \"{'year': 2007, 'month': 3}\" \"{'year': 2000, 'month': 6}\"\n",
      " \"{'year': 2007, 'month': 2}\" \"{'year': 2006, 'month': 7}\"\n",
      " \"{'year': 2001, 'month': 2}\" \"{'year': 2008, 'month': 4}\"\n",
      " \"{'year': 2011, 'month': 6}\" \"{'year': 2009, 'month': 12}\"\n",
      " \"{'year': 2002, 'month': 12}\" \"{'year': 2002, 'month': 11}\"\n",
      " \"{'year': 2005, 'month': 4}\" \"{'year': 2003, 'month': 12}\"\n",
      " \"{'year': 2003, 'month': 8}\" \"{'year': 2010, 'month': 8}\"\n",
      " \"{'year': 2003, 'month': 2}\" \"{'year': 2004, 'month': 8}\"\n",
      " \"{'year': 2004, 'month': 2}\" \"{'year': 2005, 'month': 2}\"\n",
      " \"{'year': 2006, 'month': 2}\" \"{'year': 2007, 'month': 11}\"\n",
      " \"{'year': 2007, 'month': 6}\" \"{'year': 2005, 'month': 12}\"\n"
     ]
    },
    {
     "name": "stdout",
     "output_type": "stream",
     "text": [
      " \"{'year': 2005, 'month': 7}\" \"{'year': 2006, 'month': 1}\"]\n",
      "Unique values for column Владение from test: [nan '3 года и 2 месяца' '11 месяцев' '4 года и 1 месяц'\n",
      " '2 года и 4 месяца' '1 месяц' '3 года и 10 месяцев' '2 года и 6 месяцев'\n",
      " '6 лет и 4 месяца' '2 месяца' '4 месяца' '1 год и 10 месяцев'\n",
      " '2 года и 7 месяцев' '7 лет и 11 месяцев' '7 лет и 5 месяцев'\n",
      " '1 год и 11 месяцев' '2 года и 1 месяц' '7 лет' '4 года и 2 месяца'\n",
      " '2 года и 8 месяцев' '2 года и 5 месяцев' '12 лет и 11 месяцев'\n",
      " '5 лет и 11 месяцев' '2 года и 11 месяцев' '3 года и 1 месяц'\n",
      " '1 год и 1 месяц' '1 год' '1 год и 7 месяцев' '3 месяца'\n",
      " '1 год и 5 месяцев' '1 год и 2 месяца' '7 лет и 8 месяцев'\n",
      " '3 года и 4 месяца' '1 год и 6 месяцев' '12 лет и 8 месяцев'\n",
      " '6 лет и 1 месяц' '6 лет и 11 месяцев' '5 лет и 4 месяца'\n",
      " '3 года и 5 месяцев' '6 лет и 2 месяца' '4 года и 6 месяцев'\n",
      " '3 года и 6 месяцев' '1 год и 8 месяцев' '1 год и 9 месяцев'\n",
      " '3 года и 11 месяцев' '2 года и 2 месяца' '3 года' '5 лет и 5 месяцев'\n",
      " '2 года и 9 месяцев' '6 лет и 9 месяцев' '9 месяцев' '1 год и 3 месяца'\n",
      " '4 года и 3 месяца' '8 месяцев' '6 лет' '1 год и 4 месяца'\n",
      " '5 лет и 2 месяца' '2 года и 10 месяцев' '3 года и 8 месяцев'\n",
      " '4 года и 5 месяцев' '5 лет и 1 месяц' '4 года и 10 месяцев' '10 месяцев'\n",
      " '8 лет' '6 лет и 10 месяцев' '4 года и 8 месяцев' '7 лет и 10 месяцев'\n",
      " '5 лет и 10 месяцев' '10 лет и 5 месяцев' '3 года и 7 месяцев'\n",
      " '7 лет и 3 месяца' '5 лет и 9 месяцев' '3 года и 9 месяцев' '6 месяцев'\n",
      " '6 лет и 7 месяцев' '8 лет и 2 месяца' '8 лет и 4 месяца'\n",
      " '2 года и 3 месяца' '2 года' '4 года и 4 месяца' '4 года и 9 месяцев'\n",
      " '28 лет и 8 месяцев' '11 лет и 9 месяцев' '16 лет и 7 месяцев'\n",
      " '6 лет и 6 месяцев' '5 лет и 8 месяцев' '8 лет и 6 месяцев'\n",
      " '12 лет и 7 месяцев' '8 лет и 1 месяц' '7 лет и 2 месяца'\n",
      " '7 лет и 1 месяц' '10 лет и 9 месяцев' '6 лет и 5 месяцев' '5 месяцев'\n",
      " '14 лет и 10 месяцев' '3 года и 3 месяца' '8 лет и 3 месяца' '5 лет'\n",
      " '17 лет и 7 месяцев' '11 лет и 3 месяца' '13 лет и 1 месяц'\n",
      " '9 лет и 1 месяц' '9 лет и 5 месяцев' '7 месяцев' '9 лет и 11 месяцев'\n",
      " '9 лет и 2 месяца' '4 года и 7 месяцев' '12 лет и 4 месяца' '10 лет'\n",
      " '9 лет и 3 месяца' '8 лет и 9 месяцев' '9 лет и 7 месяцев'\n",
      " '4 года и 11 месяцев' '8 лет и 5 месяцев' '5 лет и 6 месяцев'\n",
      " '7 лет и 7 месяцев' '7 лет и 4 месяца' '7 лет и 6 месяцев' '4 года'\n",
      " '10 лет и 4 месяца' '9 лет и 4 месяца' '8 лет и 10 месяцев'\n",
      " '5 лет и 7 месяцев' '11 лет и 4 месяца' '11 лет и 11 месяцев' '11 лет'\n",
      " '10 лет и 3 месяца' '12 лет и 2 месяца' '9 лет' '10 лет и 6 месяцев'\n",
      " '5 лет и 3 месяца' '15 лет и 10 месяцев' '8 лет и 8 месяцев'\n",
      " '11 лет и 8 месяцев' '9 лет и 10 месяцев' '11 лет и 5 месяцев'\n",
      " '7 лет и 9 месяцев' '11 лет и 7 месяцев' '9 лет и 6 месяцев'\n",
      " '12 лет и 5 месяцев' '6 лет и 8 месяцев' '11 лет и 2 месяца'\n",
      " '10 лет и 8 месяцев' '6 лет и 3 месяца' '10 лет и 10 месяцев'\n",
      " '34 года и 2 месяца' '22 года и 6 месяцев' '10 лет и 1 месяц'\n",
      " '11 лет и 10 месяцев' '8 лет и 7 месяцев' '23 года и 4 месяца'\n",
      " '14 лет и 1 месяц' '12 лет' '13 лет и 8 месяцев' '20 лет и 10 месяцев'\n",
      " '8 лет и 11 месяцев' '14 лет и 5 месяцев' '10 лет и 7 месяцев'\n",
      " '12 лет и 10 месяцев' '18 лет' '13 лет и 10 месяцев' '17 лет и 4 месяца'\n",
      " '9 лет и 9 месяцев' '18 лет и 1 месяц' '27 лет и 9 месяцев'\n",
      " '12 лет и 9 месяцев' '13 лет' '13 лет и 11 месяцев' '16 лет и 1 месяц'\n",
      " '19 лет и 8 месяцев' '10 лет и 11 месяцев' '14 лет и 6 месяцев'\n",
      " '15 лет и 11 месяцев' '15 лет' '11 лет и 6 месяцев' '20 лет и 8 месяцев'\n",
      " '12 лет и 6 месяцев' '10 лет и 2 месяца' '14 лет и 3 месяца'\n",
      " '15 лет и 3 месяца' '13 лет и 2 месяца' '16 лет и 3 месяца'\n",
      " '20 лет и 3 месяца' '12 лет и 3 месяца' '15 лет и 9 месяцев'\n",
      " '16 лет и 6 месяцев' '13 лет и 6 месяцев' '13 лет и 3 месяца'\n",
      " '9 лет и 8 месяцев' '12 лет и 1 месяц' '15 лет и 8 месяцев'\n",
      " '19 лет и 11 месяцев' '19 лет и 4 месяца' '11 лет и 1 месяц'\n",
      " '25 лет и 9 месяцев' '16 лет и 10 месяцев' '17 лет и 6 месяцев'\n",
      " '31 год и 5 месяцев' '29 лет и 11 месяцев' '16 лет и 4 месяца'\n",
      " '13 лет и 7 месяцев' '19 лет и 7 месяцев' '42 года и 10 месяцев'\n",
      " '20 лет и 5 месяцев' '14 лет и 11 месяцев' '13 лет и 5 месяцев' '16 лет'\n",
      " '26 лет и 7 месяцев' '18 лет и 5 месяцев' '13 лет и 9 месяцев'\n",
      " '17 лет и 10 месяцев' '15 лет и 5 месяцев' '17 лет и 5 месяцев' '14 лет'\n",
      " '15 лет и 2 месяца' '13 лет и 4 месяца' '15 лет и 1 месяц'\n",
      " '18 лет и 6 месяцев' '18 лет и 2 месяца' '14 лет и 9 месяцев'\n",
      " '14 лет и 4 месяца' '18 лет и 4 месяца' '24 года и 2 месяца' '19 лет'\n",
      " '14 лет и 7 месяцев' '14 лет и 8 месяцев' '16 лет и 9 месяцев'\n",
      " '15 лет и 4 месяца' '14 лет и 2 месяца' '23 года и 6 месяцев'\n",
      " '29 лет и 9 месяцев' '15 лет и 7 месяцев' '19 лет и 6 месяцев'\n",
      " '24 года и 3 месяца' '18 лет и 11 месяцев' '20 лет и 4 месяца' '17 лет'\n",
      " '26 лет и 3 месяца' '22 года и 3 месяца' '23 года и 3 месяца'\n",
      " '19 лет и 2 месяца' '16 лет и 2 месяца' '23 года и 2 месяца'\n",
      " '15 лет и 6 месяцев' '16 лет и 11 месяцев' '17 лет и 2 месяца'\n",
      " '20 лет и 9 месяцев' '19 лет и 10 месяцев' '20 лет и 11 месяцев'\n",
      " '18 лет и 10 месяцев' '17 лет и 1 месяц' '21 год и 6 месяцев'\n",
      " '20 лет и 2 месяца' '20 лет и 1 месяц' '21 год и 9 месяцев'\n",
      " '21 год и 8 месяцев' '20 лет и 7 месяцев' '17 лет и 3 месяца'\n",
      " '21 год и 2 месяца' '18 лет и 3 месяца' '23 года и 9 месяцев'\n",
      " '18 лет и 8 месяцев' '22 года и 10 месяцев' '19 лет и 9 месяцев'\n",
      " '21 год и 4 месяца' '16 лет и 5 месяцев' '18 лет и 7 месяцев'\n",
      " '22 года и 2 месяца' '19 лет и 5 месяцев' '21 год и 11 месяцев'\n",
      " '17 лет и 9 месяцев' '18 лет и 9 месяцев' '16 лет и 8 месяцев'\n",
      " '26 лет и 5 месяцев' '20 лет' '22 года и 9 месяцев']\n",
      "\n",
      "Unique values for column price from train: [3800000. 4300000. 3350000. ... 4022000. 4244000. 4994000.]\n",
      "Unique values for column price from test: [-1]\n",
      "\n",
      "Unique values for column color from train: ['007F00' '0000CC' 'C49648' '040001' 'FAFBFB' '200204' 'EE1D19' '660099'\n",
      " '97948F' '22A0F8' 'FFD600' 'FF8649' 'DEA522' 'CACECB' '4A2197' 'FFC0CB']\n",
      "Unique values for column color from test: ['синий' 'чёрный' 'серый' 'коричневый' 'белый' 'пурпурный' 'бежевый'\n",
      " 'серебристый' 'красный' 'зелёный' 'жёлтый' 'голубой' 'оранжевый'\n",
      " 'фиолетовый' 'золотистый' 'розовый']\n",
      "\n",
      "Unique values for column enginePower from train: [ 20.  40.  66.  51.  46.  75.  85.  86. 100.  95.  92.  68. 162. 105.\n",
      " 335.  60.  45. 365.  42.  90. 150. 155. 167. 300.  52. 101. 203.  89.\n",
      "  48. 145. 124. 107. 213. 180.  70. 210. 441. 200. 109. 110. 122. 115.\n",
      "  73.  98. 170. 197. 182. 130. 125. 160.  80. 139.  54.  50. 136. 135.\n",
      " 102. 310. 103.  53. 129.  44. 121.  91.  78. 112. 113. 218. 192. 171.\n",
      " 282. 190. 173. 140. 120.  74.  83.  72.  55. 143. 131. 117.  88. 137.\n",
      " 188. 202. 295. 128.  82.  84.  79. 211. 147.  76.  69. 165.  nan 184.\n",
      " 169. 215. 149.  67.  94. 133. 220. 278. 141. 280. 230. 260. 151. 174.\n",
      " 172.  71.  99. 116.  58. 245. 225. 132.  97. 108. 111. 340. 193. 205.\n",
      " 239. 144. 177. 235. 114.  96. 233. 238. 212. 154. 195. 324. 126. 161.\n",
      " 185. 214. 158. 222. 208. 242. 175. 204. 286. 258. 279. 152. 157.  64.\n",
      " 255. 264. 250. 285. 178. 254. 232. 118. 241. 228. 194. 138. 240. 326.\n",
      " 321. 249. 234. 223. 294. 163.  87. 201. 265. 400. 314.  65. 156. 360.\n",
      " 231. 273.  77. 243. 290. 207. 209. 333. 288. 304. 263. 179. 219. 268.\n",
      " 303. 106. 450. 343. 347. 272.  81. 146. 284. 198. 127. 166. 199. 248.\n",
      " 186. 183. 275. 320. 445. 299. 283. 315. 142. 420.  93. 159. 313. 507.\n",
      " 355. 305. 309. 224. 367. 306. 405. 325.  63. 270. 153. 164. 104. 350.\n",
      " 500. 189. 328. 187. 276. 380. 296. 244. 277. 354.  61. 425. 385. 252.\n",
      " 269. 381. 407. 301. 257. 302. 307. 266. 394. 423. 317. 227. 550. 480.\n",
      " 530. 308. 580. 256. 555. 312. 513. 426. 274. 485. 372. 435. 271. 544.\n",
      " 437. 373. 123. 330. 352.  62. 148. 560. 134. 261. 181. 520. 525. 430.\n",
      " 403. 411. 468. 370. 292. 540. 318. 662. 281. 334.  49. 440. 382. 431.\n",
      " 262. 575. 409. 345. 221. 424. 570. 605. 455. 323. 466.  11. 610. 600.\n",
      " 477. 462. 410. 395. 247. 421. 460. 625. 510. 609. 387. 422. 408. 571.\n",
      " 374. 680. 761. 375.]\n",
      "Unique values for column enginePower from test: ['105 N12' '110 N12' '152 N12' '200 N12' '102 N12' '150 N12' '90 N12'\n",
      " '180 N12' '220 N12' '122 N12' '70 N12' '140 N12' '125 N12' '54 N12'\n",
      " '86 N12' '75 N12' '64 N12' '95 N12' '260 N12' '170 N12' '80 N12' '68 N12'\n",
      " '160 N12' '115 N12' '280 N12' '53 N12' '60 N12' '143 N12' '42 N12'\n",
      " '101 N12' '58 N12' '193 N12' '79 N12' '30 N12' '100 N12' '50 N12'\n",
      " '163 N12' '225 N12' '420 N12' '211 N12' '245 N12' '560 N12' '500 N12'\n",
      " '249 N12' '450 N12' '605 N12' '250 N12' '354 N12' '120 N12' '290 N12'\n",
      " '230 N12' '350 N12' '204 N12' '255 N12' '340 N12' '177 N12' '272 N12'\n",
      " '372 N12' '210 N12' '130 N12' '300 N12' '190 N12' '239 N12' '435 N12'\n",
      " '333 N12' '271 N12' '326 N12' '238 N12' '310 N12' '233 N12' '252 N12'\n",
      " '133 N12' '460 N12' '520 N12' '400 N12' '525 N12' '367 N12' '265 N12'\n",
      " '550 N12' '580 N12' '88 N12' '165 N12' '430 N12' '335 N12' '174 N12'\n",
      " '224 N12' '136 N12' '256 N12' '338 N12' '112 N12' '218 N12' '360 N12'\n",
      " '93 N12' '182 N12' '113 N12' '240 N12' '270 N12' '137 N12' '155 N12'\n",
      " '61 N12' '254 N12' '116 N12' '71 N12' '285 N12' '408 N12' '166 N12'\n",
      " '156 N12' '257 N12' '201 N12' '162 N12' '194 N12' '142 N12' '154 N12'\n",
      " '147 N12' '281 N12' '243 N12' '118 N12' '128 N12' '91 N12' '83 N12'\n",
      " '205 N12' '247 N12' '188 N12' '295 N12' '275 N12' '78 N12' '109 N12'\n",
      " '94 N12' '185 N12' '258 N12' '145 N12' '132 N12' '135 N12' '52 N12'\n",
      " '66 N12' '124 N12' '98 N12' '215 N12' '158 N12' '99 N12' '103 N12'\n",
      " '131 N12' '126 N12' '235 N12' '181 N12' '315 N12' '203 N12' '231 N12'\n",
      " '82 N12' '304 N12' '175 N12' '320 N12' '213 N12' '144 N12' '146 N12'\n",
      " '151 N12' '111 N12' '286 N12' '306 N12' '107 N12' '184 N12' '313 N12'\n",
      " '264 N12' '575 N12' '407 N12' '192 N12' '129 N12' '555 N12' '625 N12'\n",
      " '329 N12' '370 N12' '381 N12' '269 N12' '600 N12' '510 N12' '544 N12'\n",
      " '462 N12' '355 N12' '507 N12' '609 N12' '431 N12' '530 N12' '387 N12'\n",
      " '610 N12' '197 N12' '343 N12' '445 N12' '171 N12' '51 N12' '46 N12'\n",
      " '347 N12' '321 N12' '167 N12' '141 N12' '169 N12' '405 N12' '117 N12'\n",
      " '114 N12' '173 N12' '234 N12' '540 N12' '106 N12' '49 N12' '248 N12'\n",
      " '317 N12' '309 N12' '97 N12' '121 N12' '268 N12' '149 N12' '87 N12'\n",
      " '85 N12' '65 N12' '67 N12' '127 N12' '485 N12' '186 N12' '222 N12'\n",
      " '307 N12' '262 N12' '302 N12' '284 N12' '325 N12' '168 N12' '221 N12'\n",
      " '330 N12' '283 N12' '328 N12' '303 N12' '278 N12' '388 N12' '571 N12'\n",
      " '585 N12' '612 N12' '401 N12' '279 N12' '455 N12' '382 N12' '557 N12'\n",
      " '517 N12' '394 N12' '422 N12' '292 N12' '469 N12' '522 N12' '296 N12'\n",
      " '639 N12' '390 N12' '476 N12' '630 N12' '402 N12' '487 N12' '558 N12'\n",
      " '421 N12' '316 N12' '514 N12' '457 N12' '626 N12' '242 N12' '38 N12'\n",
      " '32 N12' '223 N12' '72 N12' '305 N12' '183 N12' '273 N12' '159 N12'\n",
      " '76 N12' '148 N12' '179 N12' '73 N12' '277 N12' '282 N12' '178 N12'\n",
      " '288 N12' '199 N12' '266 N12' '92 N12' '74 N12' '324 N12' '232 N12'\n",
      " '157 N12' '69 N12' '212 N12' '276 N12' '202 N12' '77 N12' '164 N12'\n",
      " '96 N12' '84 N12' '228 N12' '108 N12' '208 N12' '263 N12' '294 N12'\n",
      " '318 N12' '380 N12' '219 N12' '214 N12' '383 N12' '241 N12' '57 N12'\n",
      " '55 N12' '104 N12' '48 N12' '40 N12' '44 N12' '227 N12' '139 N12'\n",
      " '209 N12' '195 N12' '189 N12' '480 N12' '591 N12' '301 N12']\n",
      "\n"
     ]
    }
   ],
   "source": [
    "# I definitely see some attributes written in different languages. Let's check if the language is unique \n",
    "# within each dataset\n",
    "for c in ['bodyType', 'brand', 'fuelType', 'modelDate', 'model_name', 'name', 'numberOfDoors', 'productionDate', 'vehicleTransmission', \n",
    "          'vendor', 'engineDisplacement', 'mileage', 'Привод', 'Руль', 'Состояние', 'Владельцы', 'ПТС', 'Таможня', 'Владение', 'price', 'color', 'enginePower']:\n",
    "    print(f'Unique values for column {c} from train: {train[c].unique()}')\n",
    "    print(f'Unique values for column {c} from test: {test[c].unique()}')\n",
    "    print('')"
   ]
  },
  {
   "cell_type": "markdown",
   "metadata": {},
   "source": [
    "# Comments after running a previous cell (strikestrough means that I have done that):\n",
    "\n",
    "~~1) BodyType should be casted to lowercase and only the first word should be used.~~\n",
    "\n",
    "~~2) Train set contains 'универсал' and 'минивэн' as fuelTypes. This is clearly wrong. Need to check if I can fix this, or these records can simply be removed.~~\n",
    "\n",
    "~~3) modelDate is float in a train set. Don't think it's a big issue, but still needs to be casted to int for convenience~~\n",
    "\n",
    "~~4) model_name from train set should be converted to UPPERCASE English name somehow. Maybe I have this data in some dictionaries that were extracted from auto.ru - **YES I do ( model_info : {'code': 'CAMARO', 'name': 'Camaro', 'ru_name': 'Камаро', 'morphology': {}, 'nameplate': {'code': '', 'name': '', 'semantic_url': ''}})**~~\n",
    "\n",
    "~~5) name is a weird column. I think all of this data should be available in other columns. Will check that and just remove it if that's really the case.~~\n",
    "\n",
    "~~6) numberOfDoors needs to be converted to int in train. There are also some missing values there.~~\n",
    "\n",
    "~~7) vehicleTransmission has to be transformed to lowercase russian somehow. Missing values should also be treated properly.~~\n",
    "\n",
    "~~8) Engine displacement is weird in train. Need to look for other source of this data.~~\n",
    "\n",
    "~~9) Руль values should be translated to Russian in train. Both train and test should be cast to lowercase.~~\n",
    "\n",
    "~~10) Состояние either have to be ignored or should be somehow aligned between train and test. Right now there's only 1 unique value for this feature, but it doesn't mean I should ignore it right away.~~\n",
    "\n",
    "~~11) Владельцы should be cleaned in test (they should be numeric instead of text).~~\n",
    "\n",
    "~~12) Таможня doesn't look like a meaningful feature because only 1 unique value exists both in test and train. Will remove it.~~\n",
    "\n",
    "~~13) Владение should be converted to numeric.~~\n",
    "\n",
    "~~14) Need to find a way to get Russian lowercase color names for train set.~~\n",
    "\n",
    "~~15) enginePower in test has N12 (stands for metric horsepower). It needs to be removed and the whole column needs to be casted to numeric.~~"
   ]
  },
  {
   "cell_type": "code",
   "execution_count": 28,
   "metadata": {},
   "outputs": [
    {
     "name": "stdout",
     "output_type": "stream",
     "text": [
      "<class 'pandas.core.frame.DataFrame'>\n",
      "Int64Index: 95174 entries, 0 to 34685\n",
      "Data columns (total 28 columns):\n",
      " #   Column                Non-Null Count  Dtype  \n",
      "---  ------                --------------  -----  \n",
      " 0   bodyType              95172 non-null  object \n",
      " 1   brand                 95174 non-null  object \n",
      " 2   complectation_dict    66906 non-null  object \n",
      " 3   equipment_dict        85178 non-null  object \n",
      " 4   fuelType              95174 non-null  object \n",
      " 5   modelDate             95172 non-null  float64\n",
      " 6   model_info            95174 non-null  object \n",
      " 7   model_name            95174 non-null  object \n",
      " 8   name                  95172 non-null  object \n",
      " 9   numberOfDoors         95172 non-null  float64\n",
      " 10  productionDate        95174 non-null  int64  \n",
      " 11  vehicleConfiguration  95172 non-null  object \n",
      " 12  vehicleTransmission   95172 non-null  object \n",
      " 13  vendor                95174 non-null  object \n",
      " 14  engineDisplacement    95172 non-null  object \n",
      " 15  enginePower           95172 non-null  object \n",
      " 16  description           92656 non-null  object \n",
      " 17  mileage               95174 non-null  int64  \n",
      " 18  Привод                95172 non-null  object \n",
      " 19  Руль                  95174 non-null  object \n",
      " 20  Состояние             95174 non-null  object \n",
      " 21  Владельцы             81332 non-null  object \n",
      " 22  ПТС                   94887 non-null  object \n",
      " 23  Таможня               95174 non-null  object \n",
      " 24  Владение              26412 non-null  object \n",
      " 25  price                 94923 non-null  float64\n",
      " 26  color                 95174 non-null  object \n",
      " 27  source                95174 non-null  object \n",
      "dtypes: float64(3), int64(2), object(23)\n",
      "memory usage: 21.1+ MB\n"
     ]
    }
   ],
   "source": [
    "# Let's merge train and test datasets and apply modifications where necessary. \n",
    "df_merged = pd.concat([train, test])\n",
    "df_merged.info()"
   ]
  },
  {
   "cell_type": "markdown",
   "metadata": {},
   "source": [
    "## bodyType"
   ]
  },
  {
   "cell_type": "code",
   "execution_count": 29,
   "metadata": {},
   "outputs": [
    {
     "data": {
      "text/plain": [
       "source  bodyType     \n",
       "test    внедорожник      12346\n",
       "        кабриолет           90\n",
       "        компактвэн         489\n",
       "        купе               824\n",
       "        купе-хардтоп       158\n",
       "        лимузин              6\n",
       "        лифтбек           2232\n",
       "        микровэн             7\n",
       "        минивэн            995\n",
       "        пикап              290\n",
       "        родстер             99\n",
       "        седан            13153\n",
       "        седан-хардтоп       12\n",
       "        тарга                2\n",
       "        универсал         1276\n",
       "        фастбек              1\n",
       "        фургон              97\n",
       "        хэтчбек           2609\n",
       "train   внедорожник      24223\n",
       "        кабриолет          111\n",
       "        компактвэн        1436\n",
       "        купе               739\n",
       "        купе-хардтоп         2\n",
       "        лифтбек           3412\n",
       "        микровэн            25\n",
       "        минивэн           1650\n",
       "        пикап              286\n",
       "        родстер             42\n",
       "        седан            18165\n",
       "        седан-хардтоп       12\n",
       "        тарга                5\n",
       "        универсал         2385\n",
       "        фастбек              1\n",
       "        фургон              94\n",
       "        хэтчбек           7898\n",
       "dtype: int64"
      ]
     },
     "execution_count": 29,
     "metadata": {},
     "output_type": "execute_result"
    }
   ],
   "source": [
    "# Looking at bodyType I see that it has a massive number of unique types. However, the details that come in a bodyType string after\n",
    "# the first word are really not required. I will leave only the first word and cast to lowercase.\n",
    "df_merged['bodyType'] = df_merged['bodyType'].str.split(' ').str[0].str.lower()\n",
    "df_merged.groupby(['source', 'bodyType']).size()"
   ]
  },
  {
   "cell_type": "markdown",
   "metadata": {},
   "source": [
    "## fuelType"
   ]
  },
  {
   "cell_type": "code",
   "execution_count": 30,
   "metadata": {},
   "outputs": [
    {
     "data": {
      "text/plain": [
       "source  fuelType \n",
       "test    бензин       28601\n",
       "        газ              7\n",
       "        гибрид         223\n",
       "        дизель        5800\n",
       "        электро         55\n",
       "train   бензин       52142\n",
       "        газ             12\n",
       "        гибрид         196\n",
       "        дизель        8041\n",
       "        минивэн          1\n",
       "        универсал        1\n",
       "        электро         95\n",
       "dtype: int64"
      ]
     },
     "execution_count": 30,
     "metadata": {},
     "output_type": "execute_result"
    }
   ],
   "source": [
    "# Let's check weird fuel types in train\n",
    "df_merged.groupby(['source', 'fuelType']).size()"
   ]
  },
  {
   "cell_type": "code",
   "execution_count": 31,
   "metadata": {},
   "outputs": [
    {
     "data": {
      "text/plain": [
       "source  fuelType\n",
       "test    бензин      28601\n",
       "        газ             7\n",
       "        гибрид        223\n",
       "        дизель       5800\n",
       "        электро        55\n",
       "train   бензин      52142\n",
       "        газ            12\n",
       "        гибрид        196\n",
       "        дизель       8041\n",
       "        электро        95\n",
       "dtype: int64"
      ]
     },
     "execution_count": 31,
     "metadata": {},
     "output_type": "execute_result"
    }
   ],
   "source": [
    "# 'универсал','минивэн' are definitely not fuel types. Looks like we can drop them (only 2 values in total)\n",
    "df_merged = df_merged[~df_merged['fuelType'].isin(['универсал','минивэн'])]\n",
    "df_merged.groupby(['source', 'fuelType']).size()"
   ]
  },
  {
   "cell_type": "markdown",
   "metadata": {},
   "source": [
    "## modelDate"
   ]
  },
  {
   "cell_type": "code",
   "execution_count": 32,
   "metadata": {},
   "outputs": [
    {
     "data": {
      "text/html": [
       "<div>\n",
       "<style scoped>\n",
       "    .dataframe tbody tr th:only-of-type {\n",
       "        vertical-align: middle;\n",
       "    }\n",
       "\n",
       "    .dataframe tbody tr th {\n",
       "        vertical-align: top;\n",
       "    }\n",
       "\n",
       "    .dataframe thead th {\n",
       "        text-align: right;\n",
       "    }\n",
       "</style>\n",
       "<table border=\"1\" class=\"dataframe\">\n",
       "  <thead>\n",
       "    <tr style=\"text-align: right;\">\n",
       "      <th></th>\n",
       "      <th>bodyType</th>\n",
       "      <th>brand</th>\n",
       "      <th>complectation_dict</th>\n",
       "      <th>equipment_dict</th>\n",
       "      <th>fuelType</th>\n",
       "      <th>modelDate</th>\n",
       "      <th>model_info</th>\n",
       "      <th>model_name</th>\n",
       "      <th>name</th>\n",
       "      <th>numberOfDoors</th>\n",
       "      <th>...</th>\n",
       "      <th>Привод</th>\n",
       "      <th>Руль</th>\n",
       "      <th>Состояние</th>\n",
       "      <th>Владельцы</th>\n",
       "      <th>ПТС</th>\n",
       "      <th>Таможня</th>\n",
       "      <th>Владение</th>\n",
       "      <th>price</th>\n",
       "      <th>color</th>\n",
       "      <th>source</th>\n",
       "    </tr>\n",
       "  </thead>\n",
       "  <tbody>\n",
       "  </tbody>\n",
       "</table>\n",
       "<p>0 rows × 28 columns</p>\n",
       "</div>"
      ],
      "text/plain": [
       "Empty DataFrame\n",
       "Columns: [bodyType, brand, complectation_dict, equipment_dict, fuelType, modelDate, model_info, model_name, name, numberOfDoors, productionDate, vehicleConfiguration, vehicleTransmission, vendor, engineDisplacement, enginePower, description, mileage, Привод, Руль, Состояние, Владельцы, ПТС, Таможня, Владение, price, color, source]\n",
       "Index: []\n",
       "\n",
       "[0 rows x 28 columns]"
      ]
     },
     "execution_count": 32,
     "metadata": {},
     "output_type": "execute_result"
    }
   ],
   "source": [
    "# Let's look at modelDate. Are there any missing values\n",
    "df_merged[df_merged['modelDate'].isna()]"
   ]
  },
  {
   "cell_type": "code",
   "execution_count": 33,
   "metadata": {},
   "outputs": [
    {
     "name": "stderr",
     "output_type": "stream",
     "text": [
      "<ipython-input-16-68cb8a68848a>:28: UserWarning: FixedFormatter should only be used together with FixedLocator\n",
      "  ax[0].set_xticklabels(ax[0].get_xticklabels(), rotation=40, ha=\"right\")\n",
      "<ipython-input-16-68cb8a68848a>:30: UserWarning: FixedFormatter should only be used together with FixedLocator\n",
      "  ax[1].set_xticklabels(ax[1].get_xticklabels(), rotation=40, ha=\"right\")\n",
      "C:\\Users\\User\\Anaconda3\\lib\\site-packages\\seaborn\\_decorators.py:36: FutureWarning: Pass the following variable as a keyword arg: x. From version 0.12, the only valid positional argument will be `data`, and passing other arguments without an explicit keyword will result in an error or misinterpretation.\n",
      "  warnings.warn(\n",
      "C:\\Users\\User\\Anaconda3\\lib\\site-packages\\seaborn\\_decorators.py:36: FutureWarning: Pass the following variable as a keyword arg: x. From version 0.12, the only valid positional argument will be `data`, and passing other arguments without an explicit keyword will result in an error or misinterpretation.\n",
      "  warnings.warn(\n"
     ]
    },
    {
     "data": {
      "image/png": "[encoded data removed]",
      "text/plain": [
       "<Figure size 1800x360 with 2 Axes>"
      ]
     },
     "metadata": {
      "needs_background": "light"
     },
     "output_type": "display_data"
    }
   ],
   "source": [
    "# Let's visualize modelDate.\n",
    "double_countplot(df_merged, 'modelDate')"
   ]
  },
  {
   "cell_type": "markdown",
   "metadata": {},
   "source": [
    "## model_name"
   ]
  },
  {
   "cell_type": "code",
   "execution_count": 34,
   "metadata": {},
   "outputs": [
    {
     "data": {
      "text/html": [
       "<div>\n",
       "<style scoped>\n",
       "    .dataframe tbody tr th:only-of-type {\n",
       "        vertical-align: middle;\n",
       "    }\n",
       "\n",
       "    .dataframe tbody tr th {\n",
       "        vertical-align: top;\n",
       "    }\n",
       "\n",
       "    .dataframe thead th {\n",
       "        text-align: right;\n",
       "    }\n",
       "</style>\n",
       "<table border=\"1\" class=\"dataframe\">\n",
       "  <thead>\n",
       "    <tr style=\"text-align: right;\">\n",
       "      <th></th>\n",
       "      <th>bodyType</th>\n",
       "      <th>brand</th>\n",
       "      <th>complectation_dict</th>\n",
       "      <th>equipment_dict</th>\n",
       "      <th>fuelType</th>\n",
       "      <th>modelDate</th>\n",
       "      <th>model_info</th>\n",
       "      <th>model_name</th>\n",
       "      <th>name</th>\n",
       "      <th>numberOfDoors</th>\n",
       "      <th>...</th>\n",
       "      <th>Привод</th>\n",
       "      <th>Руль</th>\n",
       "      <th>Состояние</th>\n",
       "      <th>Владельцы</th>\n",
       "      <th>ПТС</th>\n",
       "      <th>Таможня</th>\n",
       "      <th>Владение</th>\n",
       "      <th>price</th>\n",
       "      <th>color</th>\n",
       "      <th>source</th>\n",
       "    </tr>\n",
       "  </thead>\n",
       "  <tbody>\n",
       "  </tbody>\n",
       "</table>\n",
       "<p>0 rows × 28 columns</p>\n",
       "</div>"
      ],
      "text/plain": [
       "Empty DataFrame\n",
       "Columns: [bodyType, brand, complectation_dict, equipment_dict, fuelType, modelDate, model_info, model_name, name, numberOfDoors, productionDate, vehicleConfiguration, vehicleTransmission, vendor, engineDisplacement, enginePower, description, mileage, Привод, Руль, Состояние, Владельцы, ПТС, Таможня, Владение, price, color, source]\n",
       "Index: []\n",
       "\n",
       "[0 rows x 28 columns]"
      ]
     },
     "execution_count": 34,
     "metadata": {},
     "output_type": "execute_result"
    }
   ],
   "source": [
    "# Let's replace model_name with UPPERCASE English names \n",
    "train = df_merged[df_merged['source']=='train'].copy()\n",
    "train['model_name'] = train['model_info'].map(lambda x: from_json_str(x, 'code'))\n",
    "df_merged[df_merged['source']=='train'] = train\n",
    "\n",
    "# just checking that there are no NaN\n",
    "df_merged[df_merged['model_name'].isna()]"
   ]
  },
  {
   "cell_type": "code",
   "execution_count": 35,
   "metadata": {},
   "outputs": [
    {
     "data": {
      "text/plain": [
       "POLO         1575\n",
       "FOCUS        1423\n",
       "RIO          1394\n",
       "X_TRAIL      1183\n",
       "QASHQAI      1179\n",
       "             ... \n",
       "NOVA            1\n",
       "STARCRAFT       1\n",
       "928             1\n",
       "AVANTIME        1\n",
       "AGILA           1\n",
       "Name: model_name, Length: 849, dtype: int64"
      ]
     },
     "execution_count": 35,
     "metadata": {},
     "output_type": "execute_result"
    }
   ],
   "source": [
    "df_merged[df_merged['source']=='train']['model_name'].value_counts()"
   ]
  },
  {
   "cell_type": "markdown",
   "metadata": {},
   "source": [
    "## numberOfDoors"
   ]
  },
  {
   "cell_type": "code",
   "execution_count": 36,
   "metadata": {},
   "outputs": [
    {
     "data": {
      "text/plain": [
       "5.0    57408\n",
       "4.0    33288\n",
       "3.0     2336\n",
       "2.0     2139\n",
       "0.0        1\n",
       "Name: numberOfDoors, dtype: int64"
      ]
     },
     "execution_count": 36,
     "metadata": {},
     "output_type": "execute_result"
    }
   ],
   "source": [
    "# let's check out numberOfDoors - looks like there are no more missing values \n",
    "df_merged['numberOfDoors'].value_counts(dropna=False)"
   ]
  },
  {
   "cell_type": "markdown",
   "metadata": {},
   "source": [
    "## productionDate"
   ]
  },
  {
   "cell_type": "code",
   "execution_count": 37,
   "metadata": {},
   "outputs": [
    {
     "name": "stderr",
     "output_type": "stream",
     "text": [
      "<ipython-input-16-68cb8a68848a>:28: UserWarning: FixedFormatter should only be used together with FixedLocator\n",
      "  ax[0].set_xticklabels(ax[0].get_xticklabels(), rotation=40, ha=\"right\")\n",
      "<ipython-input-16-68cb8a68848a>:30: UserWarning: FixedFormatter should only be used together with FixedLocator\n",
      "  ax[1].set_xticklabels(ax[1].get_xticklabels(), rotation=40, ha=\"right\")\n",
      "C:\\Users\\User\\Anaconda3\\lib\\site-packages\\seaborn\\_decorators.py:36: FutureWarning: Pass the following variable as a keyword arg: x. From version 0.12, the only valid positional argument will be `data`, and passing other arguments without an explicit keyword will result in an error or misinterpretation.\n",
      "  warnings.warn(\n",
      "C:\\Users\\User\\Anaconda3\\lib\\site-packages\\seaborn\\_decorators.py:36: FutureWarning: Pass the following variable as a keyword arg: x. From version 0.12, the only valid positional argument will be `data`, and passing other arguments without an explicit keyword will result in an error or misinterpretation.\n",
      "  warnings.warn(\n"
     ]
    },
    {
     "data": {
      "image/png": "[encoded data removed]",
      "text/plain": [
       "<Figure size 1800x360 with 2 Axes>"
      ]
     },
     "metadata": {
      "needs_background": "light"
     },
     "output_type": "display_data"
    }
   ],
   "source": [
    "# Let's visualize productionDate. It looks suspiciosly similar to modelDate\n",
    "double_countplot(df_merged, 'productionDate')"
   ]
  },
  {
   "cell_type": "code",
   "execution_count": 38,
   "metadata": {},
   "outputs": [
    {
     "data": {
      "text/html": [
       "<div>\n",
       "<style scoped>\n",
       "    .dataframe tbody tr th:only-of-type {\n",
       "        vertical-align: middle;\n",
       "    }\n",
       "\n",
       "    .dataframe tbody tr th {\n",
       "        vertical-align: top;\n",
       "    }\n",
       "\n",
       "    .dataframe thead th {\n",
       "        text-align: right;\n",
       "    }\n",
       "</style>\n",
       "<table border=\"1\" class=\"dataframe\">\n",
       "  <thead>\n",
       "    <tr style=\"text-align: right;\">\n",
       "      <th></th>\n",
       "      <th>bodyType</th>\n",
       "      <th>brand</th>\n",
       "      <th>complectation_dict</th>\n",
       "      <th>equipment_dict</th>\n",
       "      <th>fuelType</th>\n",
       "      <th>modelDate</th>\n",
       "      <th>model_info</th>\n",
       "      <th>model_name</th>\n",
       "      <th>name</th>\n",
       "      <th>numberOfDoors</th>\n",
       "      <th>...</th>\n",
       "      <th>Привод</th>\n",
       "      <th>Руль</th>\n",
       "      <th>Состояние</th>\n",
       "      <th>Владельцы</th>\n",
       "      <th>ПТС</th>\n",
       "      <th>Таможня</th>\n",
       "      <th>Владение</th>\n",
       "      <th>price</th>\n",
       "      <th>color</th>\n",
       "      <th>source</th>\n",
       "    </tr>\n",
       "  </thead>\n",
       "  <tbody>\n",
       "    <tr>\n",
       "      <th>1</th>\n",
       "      <td>хэтчбек</td>\n",
       "      <td>FORD</td>\n",
       "      <td>{'id': '0'}</td>\n",
       "      <td>{}</td>\n",
       "      <td>бензин</td>\n",
       "      <td>1927.0</td>\n",
       "      <td>{'code': 'MODEL_A', 'name': 'Model A', 'ru_nam...</td>\n",
       "      <td>MODEL_A</td>\n",
       "      <td>3.3 MT (40 л.с.)</td>\n",
       "      <td>3.0</td>\n",
       "      <td>...</td>\n",
       "      <td>задний</td>\n",
       "      <td>LEFT</td>\n",
       "      <td>used</td>\n",
       "      <td>1</td>\n",
       "      <td>ORIGINAL</td>\n",
       "      <td>True</td>\n",
       "      <td>{'year': 2007, 'month': 5}</td>\n",
       "      <td>4300000.0</td>\n",
       "      <td>0000CC</td>\n",
       "      <td>train</td>\n",
       "    </tr>\n",
       "    <tr>\n",
       "      <th>3</th>\n",
       "      <td>седан</td>\n",
       "      <td>FORD</td>\n",
       "      <td>{'id': '0'}</td>\n",
       "      <td>{}</td>\n",
       "      <td>бензин</td>\n",
       "      <td>1932.0</td>\n",
       "      <td>{'code': 'V8', 'name': 'V8', 'ru_name': 'в8', ...</td>\n",
       "      <td>V8</td>\n",
       "      <td>3.6 MT (66 л.с.)</td>\n",
       "      <td>2.0</td>\n",
       "      <td>...</td>\n",
       "      <td>задний</td>\n",
       "      <td>LEFT</td>\n",
       "      <td>used</td>\n",
       "      <td>1</td>\n",
       "      <td>ORIGINAL</td>\n",
       "      <td>True</td>\n",
       "      <td>{'year': 2014, 'month': 10}</td>\n",
       "      <td>2700000.0</td>\n",
       "      <td>040001</td>\n",
       "      <td>train</td>\n",
       "    </tr>\n",
       "    <tr>\n",
       "      <th>4</th>\n",
       "      <td>седан</td>\n",
       "      <td>FORD</td>\n",
       "      <td>{'id': '0'}</td>\n",
       "      <td>{}</td>\n",
       "      <td>бензин</td>\n",
       "      <td>1932.0</td>\n",
       "      <td>{'code': 'V8', 'name': 'V8', 'ru_name': 'в8', ...</td>\n",
       "      <td>V8</td>\n",
       "      <td>3.6 MT (66 л.с.)</td>\n",
       "      <td>2.0</td>\n",
       "      <td>...</td>\n",
       "      <td>задний</td>\n",
       "      <td>LEFT</td>\n",
       "      <td>used</td>\n",
       "      <td>2</td>\n",
       "      <td>DUPLICATE</td>\n",
       "      <td>True</td>\n",
       "      <td>NaN</td>\n",
       "      <td>580000.0</td>\n",
       "      <td>040001</td>\n",
       "      <td>train</td>\n",
       "    </tr>\n",
       "    <tr>\n",
       "      <th>6</th>\n",
       "      <td>седан</td>\n",
       "      <td>BMW</td>\n",
       "      <td>{'id': '0'}</td>\n",
       "      <td>{'condition': True, 'abs': True, 'bluetooth': ...</td>\n",
       "      <td>бензин</td>\n",
       "      <td>1937.0</td>\n",
       "      <td>{'code': '321', 'name': '321', 'ru_name': '321...</td>\n",
       "      <td>321</td>\n",
       "      <td>2.0 MT (46 л.с.)</td>\n",
       "      <td>2.0</td>\n",
       "      <td>...</td>\n",
       "      <td>задний</td>\n",
       "      <td>LEFT</td>\n",
       "      <td>used</td>\n",
       "      <td>3</td>\n",
       "      <td>ORIGINAL</td>\n",
       "      <td>True</td>\n",
       "      <td>NaN</td>\n",
       "      <td>2000000.0</td>\n",
       "      <td>040001</td>\n",
       "      <td>train</td>\n",
       "    </tr>\n",
       "    <tr>\n",
       "      <th>7</th>\n",
       "      <td>седан</td>\n",
       "      <td>AUDI</td>\n",
       "      <td>{'id': '0'}</td>\n",
       "      <td>{}</td>\n",
       "      <td>бензин</td>\n",
       "      <td>1938.0</td>\n",
       "      <td>{'code': '920', 'name': '920', 'ru_name': '920...</td>\n",
       "      <td>920</td>\n",
       "      <td>3.3 MT (75 л.с.)</td>\n",
       "      <td>4.0</td>\n",
       "      <td>...</td>\n",
       "      <td>задний</td>\n",
       "      <td>LEFT</td>\n",
       "      <td>used</td>\n",
       "      <td>2</td>\n",
       "      <td>ORIGINAL</td>\n",
       "      <td>True</td>\n",
       "      <td>{'year': 1986, 'month': 8}</td>\n",
       "      <td>2000000.0</td>\n",
       "      <td>040001</td>\n",
       "      <td>train</td>\n",
       "    </tr>\n",
       "    <tr>\n",
       "      <th>...</th>\n",
       "      <td>...</td>\n",
       "      <td>...</td>\n",
       "      <td>...</td>\n",
       "      <td>...</td>\n",
       "      <td>...</td>\n",
       "      <td>...</td>\n",
       "      <td>...</td>\n",
       "      <td>...</td>\n",
       "      <td>...</td>\n",
       "      <td>...</td>\n",
       "      <td>...</td>\n",
       "      <td>...</td>\n",
       "      <td>...</td>\n",
       "      <td>...</td>\n",
       "      <td>...</td>\n",
       "      <td>...</td>\n",
       "      <td>...</td>\n",
       "      <td>...</td>\n",
       "      <td>...</td>\n",
       "      <td>...</td>\n",
       "      <td>...</td>\n",
       "    </tr>\n",
       "    <tr>\n",
       "      <th>34657</th>\n",
       "      <td>купе</td>\n",
       "      <td>BMW</td>\n",
       "      <td>NaN</td>\n",
       "      <td>{\"engine-proof\":true,\"asr\":true,\"esp\":true,\"ai...</td>\n",
       "      <td>дизель</td>\n",
       "      <td>2014.0</td>\n",
       "      <td>{\"code\":\"2ER\",\"name\":\"2 серии\",\"ru_name\":\"2 се...</td>\n",
       "      <td>2ER</td>\n",
       "      <td>220d 2.0d AT (184 л.с.)</td>\n",
       "      <td>2.0</td>\n",
       "      <td>...</td>\n",
       "      <td>задний</td>\n",
       "      <td>Левый</td>\n",
       "      <td>Не требует ремонта</td>\n",
       "      <td>3 или более</td>\n",
       "      <td>Оригинал</td>\n",
       "      <td>Растаможен</td>\n",
       "      <td>1 год и 8 месяцев</td>\n",
       "      <td>-1.0</td>\n",
       "      <td>синий</td>\n",
       "      <td>test</td>\n",
       "    </tr>\n",
       "    <tr>\n",
       "      <th>34672</th>\n",
       "      <td>хэтчбек</td>\n",
       "      <td>BMW</td>\n",
       "      <td>NaN</td>\n",
       "      <td>{\"cruise-control\":true,\"asr\":true,\"roller-blin...</td>\n",
       "      <td>бензин</td>\n",
       "      <td>2007.0</td>\n",
       "      <td>{\"code\":\"1ER\",\"name\":\"1 серии\",\"ru_name\":\"1 се...</td>\n",
       "      <td>1ER</td>\n",
       "      <td>130i 3.0 AT (265 л.с.)</td>\n",
       "      <td>5.0</td>\n",
       "      <td>...</td>\n",
       "      <td>задний</td>\n",
       "      <td>Левый</td>\n",
       "      <td>Не требует ремонта</td>\n",
       "      <td>3 или более</td>\n",
       "      <td>Оригинал</td>\n",
       "      <td>Растаможен</td>\n",
       "      <td>5 лет и 10 месяцев</td>\n",
       "      <td>-1.0</td>\n",
       "      <td>чёрный</td>\n",
       "      <td>test</td>\n",
       "    </tr>\n",
       "    <tr>\n",
       "      <th>34673</th>\n",
       "      <td>седан</td>\n",
       "      <td>BMW</td>\n",
       "      <td>NaN</td>\n",
       "      <td>NaN</td>\n",
       "      <td>бензин</td>\n",
       "      <td>2005.0</td>\n",
       "      <td>{\"code\":\"7ER\",\"name\":\"7 серии\",\"ru_name\":\"7 се...</td>\n",
       "      <td>7ER</td>\n",
       "      <td>750Li 4.8 AT (367 л.с.)</td>\n",
       "      <td>4.0</td>\n",
       "      <td>...</td>\n",
       "      <td>задний</td>\n",
       "      <td>Левый</td>\n",
       "      <td>Не требует ремонта</td>\n",
       "      <td>1 владелец</td>\n",
       "      <td>Оригинал</td>\n",
       "      <td>Растаможен</td>\n",
       "      <td>NaN</td>\n",
       "      <td>-1.0</td>\n",
       "      <td>чёрный</td>\n",
       "      <td>test</td>\n",
       "    </tr>\n",
       "    <tr>\n",
       "      <th>34676</th>\n",
       "      <td>внедорожник</td>\n",
       "      <td>BMW</td>\n",
       "      <td>NaN</td>\n",
       "      <td>NaN</td>\n",
       "      <td>дизель</td>\n",
       "      <td>2003.0</td>\n",
       "      <td>{\"code\":\"X5\",\"name\":\"X5\",\"ru_name\":\"Х5\",\"morph...</td>\n",
       "      <td>X5</td>\n",
       "      <td>3.0d 3.0d AT (218 л.с.) 4WD</td>\n",
       "      <td>5.0</td>\n",
       "      <td>...</td>\n",
       "      <td>полный</td>\n",
       "      <td>Левый</td>\n",
       "      <td>Не требует ремонта</td>\n",
       "      <td>3 или более</td>\n",
       "      <td>Дубликат</td>\n",
       "      <td>Растаможен</td>\n",
       "      <td>NaN</td>\n",
       "      <td>-1.0</td>\n",
       "      <td>серебристый</td>\n",
       "      <td>test</td>\n",
       "    </tr>\n",
       "    <tr>\n",
       "      <th>34678</th>\n",
       "      <td>седан</td>\n",
       "      <td>BMW</td>\n",
       "      <td>NaN</td>\n",
       "      <td>{\"esp\":true,\"adaptive-light\":true,\"sport-seats...</td>\n",
       "      <td>бензин</td>\n",
       "      <td>2013.0</td>\n",
       "      <td>{\"code\":\"5ER\",\"name\":\"5 серии\",\"ru_name\":\"5 се...</td>\n",
       "      <td>5ER</td>\n",
       "      <td>528i xDrive 2.0 AT (245 л.с.) 4WD</td>\n",
       "      <td>4.0</td>\n",
       "      <td>...</td>\n",
       "      <td>полный</td>\n",
       "      <td>Левый</td>\n",
       "      <td>Не требует ремонта</td>\n",
       "      <td>1 владелец</td>\n",
       "      <td>Оригинал</td>\n",
       "      <td>Растаможен</td>\n",
       "      <td>6 лет и 8 месяцев</td>\n",
       "      <td>-1.0</td>\n",
       "      <td>чёрный</td>\n",
       "      <td>test</td>\n",
       "    </tr>\n",
       "  </tbody>\n",
       "</table>\n",
       "<p>11970 rows × 28 columns</p>\n",
       "</div>"
      ],
      "text/plain": [
       "          bodyType brand complectation_dict  \\\n",
       "1          хэтчбек  FORD        {'id': '0'}   \n",
       "3            седан  FORD        {'id': '0'}   \n",
       "4            седан  FORD        {'id': '0'}   \n",
       "6            седан   BMW        {'id': '0'}   \n",
       "7            седан  AUDI        {'id': '0'}   \n",
       "...            ...   ...                ...   \n",
       "34657         купе   BMW                NaN   \n",
       "34672      хэтчбек   BMW                NaN   \n",
       "34673        седан   BMW                NaN   \n",
       "34676  внедорожник   BMW                NaN   \n",
       "34678        седан   BMW                NaN   \n",
       "\n",
       "                                          equipment_dict fuelType  modelDate  \\\n",
       "1                                                     {}   бензин     1927.0   \n",
       "3                                                     {}   бензин     1932.0   \n",
       "4                                                     {}   бензин     1932.0   \n",
       "6      {'condition': True, 'abs': True, 'bluetooth': ...   бензин     1937.0   \n",
       "7                                                     {}   бензин     1938.0   \n",
       "...                                                  ...      ...        ...   \n",
       "34657  {\"engine-proof\":true,\"asr\":true,\"esp\":true,\"ai...   дизель     2014.0   \n",
       "34672  {\"cruise-control\":true,\"asr\":true,\"roller-blin...   бензин     2007.0   \n",
       "34673                                                NaN   бензин     2005.0   \n",
       "34676                                                NaN   дизель     2003.0   \n",
       "34678  {\"esp\":true,\"adaptive-light\":true,\"sport-seats...   бензин     2013.0   \n",
       "\n",
       "                                              model_info model_name  \\\n",
       "1      {'code': 'MODEL_A', 'name': 'Model A', 'ru_nam...    MODEL_A   \n",
       "3      {'code': 'V8', 'name': 'V8', 'ru_name': 'в8', ...         V8   \n",
       "4      {'code': 'V8', 'name': 'V8', 'ru_name': 'в8', ...         V8   \n",
       "6      {'code': '321', 'name': '321', 'ru_name': '321...        321   \n",
       "7      {'code': '920', 'name': '920', 'ru_name': '920...        920   \n",
       "...                                                  ...        ...   \n",
       "34657  {\"code\":\"2ER\",\"name\":\"2 серии\",\"ru_name\":\"2 се...        2ER   \n",
       "34672  {\"code\":\"1ER\",\"name\":\"1 серии\",\"ru_name\":\"1 се...        1ER   \n",
       "34673  {\"code\":\"7ER\",\"name\":\"7 серии\",\"ru_name\":\"7 се...        7ER   \n",
       "34676  {\"code\":\"X5\",\"name\":\"X5\",\"ru_name\":\"Х5\",\"morph...         X5   \n",
       "34678  {\"code\":\"5ER\",\"name\":\"5 серии\",\"ru_name\":\"5 се...        5ER   \n",
       "\n",
       "                                    name  numberOfDoors  ...  Привод   Руль  \\\n",
       "1                       3.3 MT (40 л.с.)            3.0  ...  задний   LEFT   \n",
       "3                       3.6 MT (66 л.с.)            2.0  ...  задний   LEFT   \n",
       "4                       3.6 MT (66 л.с.)            2.0  ...  задний   LEFT   \n",
       "6                       2.0 MT (46 л.с.)            2.0  ...  задний   LEFT   \n",
       "7                       3.3 MT (75 л.с.)            4.0  ...  задний   LEFT   \n",
       "...                                  ...            ...  ...     ...    ...   \n",
       "34657            220d 2.0d AT (184 л.с.)            2.0  ...  задний  Левый   \n",
       "34672             130i 3.0 AT (265 л.с.)            5.0  ...  задний  Левый   \n",
       "34673            750Li 4.8 AT (367 л.с.)            4.0  ...  задний  Левый   \n",
       "34676        3.0d 3.0d AT (218 л.с.) 4WD            5.0  ...  полный  Левый   \n",
       "34678  528i xDrive 2.0 AT (245 л.с.) 4WD            4.0  ...  полный  Левый   \n",
       "\n",
       "                Состояние    Владельцы        ПТС     Таможня  \\\n",
       "1                    used            1   ORIGINAL        True   \n",
       "3                    used            1   ORIGINAL        True   \n",
       "4                    used            2  DUPLICATE        True   \n",
       "6                    used            3   ORIGINAL        True   \n",
       "7                    used            2   ORIGINAL        True   \n",
       "...                   ...          ...        ...         ...   \n",
       "34657  Не требует ремонта  3 или более   Оригинал  Растаможен   \n",
       "34672  Не требует ремонта  3 или более   Оригинал  Растаможен   \n",
       "34673  Не требует ремонта   1 владелец   Оригинал  Растаможен   \n",
       "34676  Не требует ремонта  3 или более   Дубликат  Растаможен   \n",
       "34678  Не требует ремонта   1 владелец   Оригинал  Растаможен   \n",
       "\n",
       "                          Владение      price        color source  \n",
       "1       {'year': 2007, 'month': 5}  4300000.0       0000CC  train  \n",
       "3      {'year': 2014, 'month': 10}  2700000.0       040001  train  \n",
       "4                              NaN   580000.0       040001  train  \n",
       "6                              NaN  2000000.0       040001  train  \n",
       "7       {'year': 1986, 'month': 8}  2000000.0       040001  train  \n",
       "...                            ...        ...          ...    ...  \n",
       "34657            1 год и 8 месяцев       -1.0        синий   test  \n",
       "34672           5 лет и 10 месяцев       -1.0       чёрный   test  \n",
       "34673                          NaN       -1.0       чёрный   test  \n",
       "34676                          NaN       -1.0  серебристый   test  \n",
       "34678            6 лет и 8 месяцев       -1.0       чёрный   test  \n",
       "\n",
       "[11970 rows x 28 columns]"
      ]
     },
     "execution_count": 38,
     "metadata": {},
     "output_type": "execute_result"
    }
   ],
   "source": [
    "# Looks like only a small part of modelDates equals to productionDates.\n",
    "# In fact, it makes sense. For example, a model from 2018 can still be in production in 2019 and even 2020.\n",
    "df_merged[df_merged['modelDate'] == df_merged['productionDate']]"
   ]
  },
  {
   "cell_type": "markdown",
   "metadata": {},
   "source": [
    "## vehicleTransmission"
   ]
  },
  {
   "cell_type": "code",
   "execution_count": 39,
   "metadata": {},
   "outputs": [
    {
     "data": {
      "text/plain": [
       "source  vehicleTransmission\n",
       "test    автоматическая         19596\n",
       "        вариатор                3999\n",
       "        механическая            7209\n",
       "        роботизированная        3882\n",
       "train   AUTOMATIC              30681\n",
       "        MECHANICAL             16990\n",
       "        ROBOT                   6502\n",
       "        VARIATOR                6313\n",
       "dtype: int64"
      ]
     },
     "execution_count": 39,
     "metadata": {},
     "output_type": "execute_result"
    }
   ],
   "source": [
    "# vehicleTransmission has a different language. Let's simply translate it here instead of \n",
    "# re-running a web service and trying to figure out where to find Russian name\n",
    "df_merged.groupby(['source', 'vehicleTransmission']).size()"
   ]
  },
  {
   "cell_type": "code",
   "execution_count": 40,
   "metadata": {},
   "outputs": [
    {
     "data": {
      "text/plain": [
       "source  vehicleTransmission\n",
       "test    автоматическая         19596\n",
       "        вариатор                3999\n",
       "        механическая            7209\n",
       "        роботизированная        3882\n",
       "train   автоматическая         30681\n",
       "        вариатор                6313\n",
       "        механическая           16990\n",
       "        роботизированная        6502\n",
       "dtype: int64"
      ]
     },
     "execution_count": 40,
     "metadata": {},
     "output_type": "execute_result"
    }
   ],
   "source": [
    "russian_dict = {'AUTOMATIC':'автоматическая', 'MECHANICAL': 'механическая','ROBOT': 'роботизированная', 'VARIATOR': 'вариатор'}\n",
    "df_merged['vehicleTransmission'] = df_merged['vehicleTransmission'].map(lambda x: translate_by_dict(x, russian_dict))\n",
    "df_merged.groupby(['source', 'vehicleTransmission']).size()"
   ]
  },
  {
   "cell_type": "markdown",
   "metadata": {},
   "source": [
    "## vendor"
   ]
  },
  {
   "cell_type": "code",
   "execution_count": 41,
   "metadata": {},
   "outputs": [
    {
     "data": {
      "text/plain": [
       "source  vendor  \n",
       "test    EUROPEAN    20682\n",
       "        JAPANESE    14004\n",
       "train   AMERICAN     5282\n",
       "        EUROPEAN    28450\n",
       "        JAPANESE    16847\n",
       "        KOREAN       9415\n",
       "        RUSSIAN       492\n",
       "dtype: int64"
      ]
     },
     "execution_count": 41,
     "metadata": {},
     "output_type": "execute_result"
    }
   ],
   "source": [
    "# Let's look at vendor. It's strange - I removed all the russian brands before crawling auto.ru.\n",
    "# Need to look closer.\n",
    "df_merged.groupby(['source', 'vendor']).size()"
   ]
  },
  {
   "cell_type": "code",
   "execution_count": 42,
   "metadata": {},
   "outputs": [
    {
     "data": {
      "text/plain": [
       "CHEVROLET    491\n",
       "SUZUKI         1\n",
       "Name: brand, dtype: int64"
      ]
     },
     "execution_count": 42,
     "metadata": {},
     "output_type": "execute_result"
    }
   ],
   "source": [
    "# Since when is SUZUKI and CHEVROLET Russian brands??? Looks like a mistake to me. \n",
    "df_merged[df_merged['vendor']=='RUSSIAN']['brand'].value_counts()"
   ]
  },
  {
   "cell_type": "code",
   "execution_count": 43,
   "metadata": {},
   "outputs": [
    {
     "data": {
      "text/plain": [
       "source  vendor  \n",
       "test    EUROPEAN    20682\n",
       "        JAPANESE    14004\n",
       "train   AMERICAN     5282\n",
       "        EUROPEAN    28450\n",
       "        JAPANESE    16847\n",
       "        KOREAN       9415\n",
       "dtype: int64"
      ]
     },
     "execution_count": 43,
     "metadata": {},
     "output_type": "execute_result"
    }
   ],
   "source": [
    "# Dropping erroneous Russian brands\n",
    "df_merged = df_merged[df_merged['vendor'] != 'RUSSIAN']\n",
    "df_merged.groupby(['source', 'vendor']).size()"
   ]
  },
  {
   "cell_type": "markdown",
   "metadata": {},
   "source": [
    "## engineDisplacement"
   ]
  },
  {
   "cell_type": "code",
   "execution_count": 44,
   "metadata": {},
   "outputs": [
    {
     "data": {
      "text/plain": [
       "source  engineDisplacement\n",
       "test     LTR                   55\n",
       "        0.7 LTR                53\n",
       "        1.0 LTR                57\n",
       "        1.1 LTR                 4\n",
       "        1.2 LTR               485\n",
       "                             ... \n",
       "train   xDrive18d              67\n",
       "        xDrive20d               3\n",
       "        xDrive20i              57\n",
       "        xDrive28i               1\n",
       "        ТагАЗ                 222\n",
       "Length: 478, dtype: int64"
      ]
     },
     "execution_count": 44,
     "metadata": {},
     "output_type": "execute_result"
    }
   ],
   "source": [
    "# Let's look at engineDisplacement. As seen before, engineDisplacement in test simply needs conversion to numeric.\n",
    "# However train data needs a propper modification because it's a mess (especially with all the BMW cars and their model naming). \n",
    "df_merged.groupby(['source', 'engineDisplacement']).size()"
   ]
  },
  {
   "cell_type": "code",
   "execution_count": 45,
   "metadata": {},
   "outputs": [
    {
     "name": "stderr",
     "output_type": "stream",
     "text": [
      "<ipython-input-16-68cb8a68848a>:28: UserWarning: FixedFormatter should only be used together with FixedLocator\n",
      "  ax[0].set_xticklabels(ax[0].get_xticklabels(), rotation=40, ha=\"right\")\n",
      "<ipython-input-16-68cb8a68848a>:30: UserWarning: FixedFormatter should only be used together with FixedLocator\n",
      "  ax[1].set_xticklabels(ax[1].get_xticklabels(), rotation=40, ha=\"right\")\n",
      "C:\\Users\\User\\Anaconda3\\lib\\site-packages\\seaborn\\_decorators.py:36: FutureWarning: Pass the following variable as a keyword arg: x. From version 0.12, the only valid positional argument will be `data`, and passing other arguments without an explicit keyword will result in an error or misinterpretation.\n",
      "  warnings.warn(\n",
      "C:\\Users\\User\\Anaconda3\\lib\\site-packages\\seaborn\\_decorators.py:36: FutureWarning: Pass the following variable as a keyword arg: x. From version 0.12, the only valid positional argument will be `data`, and passing other arguments without an explicit keyword will result in an error or misinterpretation.\n",
      "  warnings.warn(\n"
     ]
    },
    {
     "data": {
      "image/png": "[encoded data removed]",
      "text/plain": [
       "<Figure size 1800x360 with 2 Axes>"
      ]
     },
     "metadata": {
      "needs_background": "light"
     },
     "output_type": "display_data"
    }
   ],
   "source": [
    "# modifying engineDisplacement.\n",
    "df_merged['engineDisplacement'] = df_merged['name'].map(lambda x: get_engine_displacement(x))\n",
    "double_countplot(df_merged, 'engineDisplacement')"
   ]
  },
  {
   "cell_type": "code",
   "execution_count": 46,
   "metadata": {},
   "outputs": [
    {
     "data": {
      "text/plain": [
       "brand       engineDisplacement\n",
       "AUDI        -1.0                  215\n",
       "BMW         -1.0                  111\n",
       "CHEVROLET   -1.0                   25\n",
       "CITROEN     -1.0                  125\n",
       "FORD        -1.0                   38\n",
       "HONDA       -1.0                  129\n",
       "HYUNDAI     -1.0                  284\n",
       "INFINITI    -1.0                    9\n",
       "JEEP        -1.0                   16\n",
       "KIA         -1.0                  297\n",
       "LEXUS       -1.0                    2\n",
       "MAZDA       -1.0                   10\n",
       "MERCEDES    -1.0                   13\n",
       "MINI        -1.0                  515\n",
       "MITSUBISHI  -1.0                   77\n",
       "NISSAN      -1.0                   87\n",
       "OPEL        -1.0                  298\n",
       "PEUGEOT     -1.0                   28\n",
       "PORSCHE     -1.0                  409\n",
       "RENAULT     -1.0                  906\n",
       "SKODA       -1.0                  147\n",
       "SUBARU      -1.0                   22\n",
       "SUZUKI      -1.0                    7\n",
       "TOYOTA      -1.0                  354\n",
       "VOLKSWAGEN  -1.0                  269\n",
       "VOLVO       -1.0                   13\n",
       "dtype: int64"
      ]
     },
     "execution_count": 46,
     "metadata": {},
     "output_type": "execute_result"
    }
   ],
   "source": [
    "# There were some cars with missing engine displacements (or I might have processed it incorrectly in the previous step). They got -1.\n",
    "# Actually, there might be some electric cars among them. But we have a separate feature for that.\n",
    "df_merged[df_merged['engineDisplacement']==-1].groupby(['brand', 'engineDisplacement']).size()"
   ]
  },
  {
   "cell_type": "markdown",
   "metadata": {},
   "source": [
    "## enginePower"
   ]
  },
  {
   "cell_type": "code",
   "execution_count": 47,
   "metadata": {},
   "outputs": [
    {
     "data": {
      "text/plain": [
       "array([20.0, 40.0, 66.0, 51.0, 46.0, 75.0, 85.0, 86.0, 100.0, 95.0, 92.0,\n",
       "       68.0, 162.0, 105.0, 335.0, 60.0, 45.0, 365.0, 42.0, 90.0, 150.0,\n",
       "       155.0, 167.0, 300.0, 52.0, 101.0, 203.0, 89.0, 48.0, 145.0, 124.0,\n",
       "       107.0, 213.0, 180.0, 70.0, 210.0, 441.0, 200.0, 109.0, 110.0,\n",
       "       122.0, 115.0, 73.0, 98.0, 170.0, 197.0, 182.0, 130.0, 125.0, 160.0,\n",
       "       80.0, 139.0, 54.0, 50.0, 136.0, 135.0, 102.0, 310.0, 103.0, 53.0,\n",
       "       129.0, 44.0, 121.0, 91.0, 78.0, 112.0, 113.0, 218.0, 192.0, 171.0,\n",
       "       282.0, 190.0, 173.0, 140.0, 120.0, 74.0, 83.0, 72.0, 55.0, 143.0,\n",
       "       131.0, 117.0, 88.0, 137.0, 188.0, 202.0, 295.0, 128.0, 82.0, 84.0,\n",
       "       79.0, 211.0, 147.0, 76.0, 69.0, 165.0, 184.0, 169.0, 215.0, 149.0,\n",
       "       67.0, 94.0, 133.0, 220.0, 278.0, 141.0, 280.0, 230.0, 260.0, 151.0,\n",
       "       174.0, 172.0, 71.0, 99.0, 116.0, 58.0, 245.0, 225.0, 132.0, 97.0,\n",
       "       108.0, 111.0, 340.0, 193.0, 205.0, 239.0, 144.0, 177.0, 235.0,\n",
       "       114.0, 96.0, 233.0, 238.0, 212.0, 154.0, 195.0, 324.0, 126.0,\n",
       "       161.0, 185.0, 214.0, 158.0, 222.0, 208.0, 242.0, 175.0, 204.0,\n",
       "       286.0, 258.0, 279.0, 152.0, 157.0, 64.0, 255.0, 264.0, 250.0,\n",
       "       285.0, 178.0, 254.0, 232.0, 118.0, 241.0, 228.0, 194.0, 138.0,\n",
       "       240.0, 326.0, 321.0, 249.0, 234.0, 223.0, 294.0, 163.0, 87.0,\n",
       "       201.0, 265.0, 400.0, 314.0, 65.0, 156.0, 360.0, 231.0, 273.0, 77.0,\n",
       "       243.0, 290.0, 207.0, 209.0, 333.0, 288.0, 304.0, 263.0, 179.0,\n",
       "       219.0, 268.0, 303.0, 106.0, 450.0, 343.0, 347.0, 272.0, 81.0,\n",
       "       146.0, 284.0, 198.0, 127.0, 166.0, 199.0, 248.0, 186.0, 183.0,\n",
       "       275.0, 320.0, 445.0, 299.0, 283.0, 315.0, 142.0, 420.0, 93.0,\n",
       "       159.0, 313.0, 507.0, 355.0, 305.0, 309.0, 224.0, 367.0, 306.0,\n",
       "       405.0, 325.0, 63.0, 270.0, 153.0, 164.0, 104.0, 350.0, 500.0,\n",
       "       189.0, 328.0, 187.0, 276.0, 380.0, 296.0, 244.0, 277.0, 354.0,\n",
       "       61.0, 425.0, 385.0, 252.0, 269.0, 381.0, 407.0, 301.0, 257.0,\n",
       "       302.0, 307.0, 266.0, 394.0, 423.0, 317.0, 227.0, 550.0, 480.0,\n",
       "       530.0, 308.0, 580.0, 256.0, 555.0, 312.0, 513.0, 426.0, 274.0,\n",
       "       485.0, 372.0, 435.0, 271.0, 544.0, 437.0, 373.0, 123.0, 330.0,\n",
       "       352.0, 62.0, 148.0, 560.0, 134.0, 261.0, 181.0, 520.0, 525.0,\n",
       "       430.0, 403.0, 411.0, 468.0, 370.0, 292.0, 540.0, 318.0, 662.0,\n",
       "       281.0, 334.0, 49.0, 440.0, 382.0, 431.0, 262.0, 575.0, 409.0,\n",
       "       345.0, 221.0, 424.0, 570.0, 605.0, 455.0, 323.0, 466.0, 11.0,\n",
       "       610.0, 600.0, 477.0, 462.0, 410.0, 395.0, 247.0, 421.0, 460.0,\n",
       "       625.0, 510.0, 609.0, 387.0, 422.0, 408.0, 571.0, 374.0, 680.0,\n",
       "       761.0, 375.0, 30.0, 338.0, 329.0, 168.0, 388.0, 585.0, 612.0,\n",
       "       401.0, 557.0, 517.0, 469.0, 522.0, 639.0, 390.0, 476.0, 630.0,\n",
       "       402.0, 487.0, 558.0, 316.0, 514.0, 457.0, 626.0, 38.0, 32.0, 383.0,\n",
       "       57.0, 591.0], dtype=object)"
      ]
     },
     "execution_count": 47,
     "metadata": {},
     "output_type": "execute_result"
    }
   ],
   "source": [
    "# We know that enginePower in test needs N12 removed\n",
    "test = df_merged[df_merged['source']=='test'].copy()\n",
    "test['enginePower'] = test['enginePower'].str.split(' ').str[0].astype(float)\n",
    "df_merged[df_merged['source']=='test'] = test\n",
    "df_merged['enginePower'].unique()"
   ]
  },
  {
   "cell_type": "code",
   "execution_count": 48,
   "metadata": {},
   "outputs": [
    {
     "name": "stderr",
     "output_type": "stream",
     "text": [
      "<ipython-input-16-68cb8a68848a>:28: UserWarning: FixedFormatter should only be used together with FixedLocator\n",
      "  ax[0].set_xticklabels(ax[0].get_xticklabels(), rotation=40, ha=\"right\")\n",
      "<ipython-input-16-68cb8a68848a>:30: UserWarning: FixedFormatter should only be used together with FixedLocator\n",
      "  ax[1].set_xticklabels(ax[1].get_xticklabels(), rotation=40, ha=\"right\")\n",
      "C:\\Users\\User\\Anaconda3\\lib\\site-packages\\seaborn\\_decorators.py:36: FutureWarning: Pass the following variable as a keyword arg: x. From version 0.12, the only valid positional argument will be `data`, and passing other arguments without an explicit keyword will result in an error or misinterpretation.\n",
      "  warnings.warn(\n",
      "C:\\Users\\User\\Anaconda3\\lib\\site-packages\\seaborn\\_decorators.py:36: FutureWarning: Pass the following variable as a keyword arg: x. From version 0.12, the only valid positional argument will be `data`, and passing other arguments without an explicit keyword will result in an error or misinterpretation.\n",
      "  warnings.warn(\n"
     ]
    },
    {
     "data": {
      "image/png": "[encoded data removed]",
      "text/plain": [
       "<Figure size 5400x360 with 2 Axes>"
      ]
     },
     "metadata": {
      "needs_background": "light"
     },
     "output_type": "display_data"
    }
   ],
   "source": [
    "df_merged['enginePower'] = df_merged['enginePower'].astype(float)\n",
    "double_countplot(df_merged, 'enginePower', 75)"
   ]
  },
  {
   "cell_type": "code",
   "execution_count": 49,
   "metadata": {},
   "outputs": [
    {
     "data": {
      "text/plain": [
       "<AxesSubplot:>"
      ]
     },
     "execution_count": 49,
     "metadata": {},
     "output_type": "execute_result"
    },
    {
     "data": {
      "image/png": "[encoded data removed]",
      "text/plain": [
       "<Figure size 432x288 with 1 Axes>"
      ]
     },
     "metadata": {
      "needs_background": "light"
     },
     "output_type": "display_data"
    }
   ],
   "source": [
    "# I don't see anything extraordinary\n",
    "df_merged['enginePower'].hist(bins=30)"
   ]
  },
  {
   "cell_type": "code",
   "execution_count": 50,
   "metadata": {},
   "outputs": [
    {
     "name": "stdout",
     "output_type": "stream",
     "text": [
      "<class 'pandas.core.frame.DataFrame'>\n",
      "Int64Index: 94680 entries, 0 to 34685\n",
      "Data columns (total 28 columns):\n",
      " #   Column                Non-Null Count  Dtype  \n",
      "---  ------                --------------  -----  \n",
      " 0   bodyType              94680 non-null  object \n",
      " 1   brand                 94680 non-null  object \n",
      " 2   complectation_dict    66412 non-null  object \n",
      " 3   equipment_dict        84684 non-null  object \n",
      " 4   fuelType              94680 non-null  object \n",
      " 5   modelDate             94680 non-null  float64\n",
      " 6   model_info            94680 non-null  object \n",
      " 7   model_name            94680 non-null  object \n",
      " 8   name                  94680 non-null  object \n",
      " 9   numberOfDoors         94680 non-null  float64\n",
      " 10  productionDate        94680 non-null  int64  \n",
      " 11  vehicleConfiguration  94680 non-null  object \n",
      " 12  vehicleTransmission   94680 non-null  object \n",
      " 13  vendor                94680 non-null  object \n",
      " 14  engineDisplacement    94680 non-null  float64\n",
      " 15  enginePower           94680 non-null  float64\n",
      " 16  description           92180 non-null  object \n",
      " 17  mileage               94680 non-null  int64  \n",
      " 18  Привод                94680 non-null  object \n",
      " 19  Руль                  94680 non-null  object \n",
      " 20  Состояние             94680 non-null  object \n",
      " 21  Владельцы             80838 non-null  object \n",
      " 22  ПТС                   94393 non-null  object \n",
      " 23  Таможня               94680 non-null  object \n",
      " 24  Владение              26283 non-null  object \n",
      " 25  price                 94432 non-null  float64\n",
      " 26  color                 94680 non-null  object \n",
      " 27  source                94680 non-null  object \n",
      "dtypes: float64(5), int64(2), object(21)\n",
      "memory usage: 20.9+ MB\n"
     ]
    }
   ],
   "source": [
    "df_merged.info()"
   ]
  },
  {
   "cell_type": "markdown",
   "metadata": {},
   "source": [
    "## mileage"
   ]
  },
  {
   "cell_type": "code",
   "execution_count": 51,
   "metadata": {},
   "outputs": [
    {
     "data": {
      "text/plain": [
       "<AxesSubplot:>"
      ]
     },
     "execution_count": 51,
     "metadata": {},
     "output_type": "execute_result"
    },
    {
     "data": {
      "image/png": "[encoded data removed]",
      "text/plain": [
       "<Figure size 432x288 with 1 Axes>"
      ]
     },
     "metadata": {
      "needs_background": "light"
     },
     "output_type": "display_data"
    }
   ],
   "source": [
    "# Let's look at the mileage. \n",
    "df_merged['mileage'].hist(bins=50)"
   ]
  },
  {
   "cell_type": "code",
   "execution_count": 52,
   "metadata": {},
   "outputs": [
    {
     "data": {
      "text/plain": [
       "count      94680.000000\n",
       "mean      132887.750306\n",
       "std       104711.438199\n",
       "min            0.000000\n",
       "25%        50529.000000\n",
       "50%       124667.500000\n",
       "75%       193000.000000\n",
       "max      1000000.000000\n",
       "Name: mileage, dtype: float64"
      ]
     },
     "execution_count": 52,
     "metadata": {},
     "output_type": "execute_result"
    }
   ],
   "source": [
    "# Looks like the distribution is a bit skewed to the right. However, there are also a lot of new cars. No negative mileages - that's good (no error). \n",
    "df_merged['mileage'].describe()"
   ]
  },
  {
   "cell_type": "markdown",
   "metadata": {},
   "source": [
    "## Привод"
   ]
  },
  {
   "cell_type": "code",
   "execution_count": 53,
   "metadata": {},
   "outputs": [
    {
     "data": {
      "text/plain": [
       "source  Привод  \n",
       "test    задний       4101\n",
       "        передний    15565\n",
       "        полный      15020\n",
       "train   задний       2907\n",
       "        передний    35229\n",
       "        полный      21858\n",
       "dtype: int64"
      ]
     },
     "execution_count": 53,
     "metadata": {},
     "output_type": "execute_result"
    }
   ],
   "source": [
    "# Let's look at Привод\n",
    "df_merged.groupby(['source', 'Привод']).size()"
   ]
  },
  {
   "cell_type": "markdown",
   "metadata": {},
   "source": [
    "## Руль"
   ]
  },
  {
   "cell_type": "code",
   "execution_count": 54,
   "metadata": {},
   "outputs": [
    {
     "data": {
      "text/plain": [
       "source  Руль  \n",
       "test    Левый     33287\n",
       "        Правый     1399\n",
       "train   LEFT      58775\n",
       "        RIGHT      1219\n",
       "dtype: int64"
      ]
     },
     "execution_count": 54,
     "metadata": {},
     "output_type": "execute_result"
    }
   ],
   "source": [
    "# Let's look at Руль. Looks like it needs translation\n",
    "df_merged.groupby(['source', 'Руль']).size()"
   ]
  },
  {
   "cell_type": "code",
   "execution_count": 55,
   "metadata": {},
   "outputs": [
    {
     "data": {
      "text/plain": [
       "source  Руль  \n",
       "test    левый     33287\n",
       "        правый     1399\n",
       "train   левый     58775\n",
       "        правый     1219\n",
       "dtype: int64"
      ]
     },
     "execution_count": 55,
     "metadata": {},
     "output_type": "execute_result"
    }
   ],
   "source": [
    "russian_dict = {'LEFT':'Левый', 'RIGHT': 'Правый'}\n",
    "df_merged['Руль'] = df_merged['Руль'].map(lambda x: translate_by_dict(x, russian_dict))\n",
    "df_merged['Руль'] = df_merged['Руль'].str.lower()\n",
    "df_merged.groupby(['source', 'Руль']).size()"
   ]
  },
  {
   "cell_type": "markdown",
   "metadata": {},
   "source": [
    "## Состояние"
   ]
  },
  {
   "cell_type": "code",
   "execution_count": 56,
   "metadata": {},
   "outputs": [
    {
     "data": {
      "text/plain": [
       "source  Состояние         \n",
       "test    Не требует ремонта    34686\n",
       "train   new                   13835\n",
       "        used                  46159\n",
       "dtype: int64"
      ]
     },
     "execution_count": 56,
     "metadata": {},
     "output_type": "execute_result"
    }
   ],
   "source": [
    "# Let's look at Состояние\n",
    "df_merged.groupby(['source', 'Состояние']).size()"
   ]
  },
  {
   "cell_type": "code",
   "execution_count": 57,
   "metadata": {},
   "outputs": [
    {
     "name": "stdout",
     "output_type": "stream",
     "text": [
      "<class 'pandas.core.frame.DataFrame'>\n",
      "Int64Index: 94680 entries, 0 to 34685\n",
      "Data columns (total 27 columns):\n",
      " #   Column                Non-Null Count  Dtype  \n",
      "---  ------                --------------  -----  \n",
      " 0   bodyType              94680 non-null  object \n",
      " 1   brand                 94680 non-null  object \n",
      " 2   complectation_dict    66412 non-null  object \n",
      " 3   equipment_dict        84684 non-null  object \n",
      " 4   fuelType              94680 non-null  object \n",
      " 5   modelDate             94680 non-null  float64\n",
      " 6   model_info            94680 non-null  object \n",
      " 7   model_name            94680 non-null  object \n",
      " 8   name                  94680 non-null  object \n",
      " 9   numberOfDoors         94680 non-null  float64\n",
      " 10  productionDate        94680 non-null  int64  \n",
      " 11  vehicleConfiguration  94680 non-null  object \n",
      " 12  vehicleTransmission   94680 non-null  object \n",
      " 13  vendor                94680 non-null  object \n",
      " 14  engineDisplacement    94680 non-null  float64\n",
      " 15  enginePower           94680 non-null  float64\n",
      " 16  description           92180 non-null  object \n",
      " 17  mileage               94680 non-null  int64  \n",
      " 18  Привод                94680 non-null  object \n",
      " 19  Руль                  94680 non-null  object \n",
      " 20  Владельцы             80838 non-null  object \n",
      " 21  ПТС                   94393 non-null  object \n",
      " 22  Таможня               94680 non-null  object \n",
      " 23  Владение              26283 non-null  object \n",
      " 24  price                 94432 non-null  float64\n",
      " 25  color                 94680 non-null  object \n",
      " 26  source                94680 non-null  object \n",
      "dtypes: float64(5), int64(2), object(20)\n",
      "memory usage: 20.2+ MB\n"
     ]
    }
   ],
   "source": [
    "# Looks like it's inconsistent and needs dropping\n",
    "df_merged.drop('Состояние', inplace=True, axis=1)\n",
    "df_merged.info()"
   ]
  },
  {
   "cell_type": "markdown",
   "metadata": {},
   "source": [
    "## Владельцы"
   ]
  },
  {
   "cell_type": "code",
   "execution_count": 58,
   "metadata": {},
   "outputs": [
    {
     "data": {
      "text/plain": [
       "source  Владельцы  \n",
       "test    1 владелец      9459\n",
       "        2 владельца     9270\n",
       "        3 или более    15957\n",
       "train   1.0            14663\n",
       "        2.0            12239\n",
       "        3.0            17975\n",
       "        4.0             1275\n",
       "dtype: int64"
      ]
     },
     "execution_count": 58,
     "metadata": {},
     "output_type": "execute_result"
    }
   ],
   "source": [
    "# Let's look at Владельцы\n",
    "df_merged.groupby(['source', 'Владельцы']).size()"
   ]
  },
  {
   "cell_type": "code",
   "execution_count": 59,
   "metadata": {},
   "outputs": [
    {
     "data": {
      "text/plain": [
       "productionDate\n",
       "1980        1\n",
       "2000        1\n",
       "2001        1\n",
       "2006        2\n",
       "2007        1\n",
       "2011        1\n",
       "2018        5\n",
       "2019      140\n",
       "2020    10437\n",
       "2021     3253\n",
       "dtype: int64"
      ]
     },
     "execution_count": 59,
     "metadata": {},
     "output_type": "execute_result"
    }
   ],
   "source": [
    "# There are a lot of missing values and test data needs to be modified. Let's look at the missing values first.\n",
    "# Looks like most of these missing values actually come from 2020 and 2021 - that makes sense. \n",
    "df_merged[df_merged['Владельцы'].isna()].groupby('productionDate').size()"
   ]
  },
  {
   "cell_type": "code",
   "execution_count": 60,
   "metadata": {},
   "outputs": [],
   "source": [
    "# I'll be looking at test and train set separately here\n",
    "test = df_merged[df_merged['source']=='test'].copy()\n",
    "train = df_merged[df_merged['source']=='train'].copy()"
   ]
  },
  {
   "cell_type": "code",
   "execution_count": 61,
   "metadata": {},
   "outputs": [
    {
     "data": {
      "text/plain": [
       "productionDate  mileage\n",
       "1980            100000         1\n",
       "2000            220000         1\n",
       "2001            160000         1\n",
       "2006            87499          1\n",
       "                179000         1\n",
       "2007            180000         1\n",
       "2011            107500         1\n",
       "2018            0              5\n",
       "2019            0            140\n",
       "2020            0          10437\n",
       "2021            0           3253\n",
       "dtype: int64"
      ]
     },
     "execution_count": 61,
     "metadata": {},
     "output_type": "execute_result"
    }
   ],
   "source": [
    "train[train['Владельцы'].isna()].groupby(['productionDate', 'mileage']).size()"
   ]
  },
  {
   "cell_type": "code",
   "execution_count": 62,
   "metadata": {},
   "outputs": [
    {
     "data": {
      "text/plain": [
       "productionDate  mileage\n",
       "2018            0              5\n",
       "2019            0            140\n",
       "2020            0          10437\n",
       "2021            0           3253\n",
       "dtype: int64"
      ]
     },
     "execution_count": 62,
     "metadata": {},
     "output_type": "execute_result"
    }
   ],
   "source": [
    "# Looks like mileage is a great attribute to use for filling a part of missing values of Владельцы\n",
    "tmp = train[(train['Владельцы'].isna()) & (train['mileage']==0)].copy()\n",
    "tmp['Владельцы'] = 0\n",
    "train[(train['Владельцы'].isna()) & (train['mileage']==0)] = tmp\n",
    "train[train['Владельцы']==0].groupby(['productionDate', 'mileage']).size()"
   ]
  },
  {
   "cell_type": "code",
   "execution_count": 63,
   "metadata": {},
   "outputs": [],
   "source": [
    "# Let's replace the rest of NaN in train with 1 (at least 1 owner)\n",
    "train['Владельцы'].fillna(1, inplace=True)"
   ]
  },
  {
   "cell_type": "code",
   "execution_count": 64,
   "metadata": {},
   "outputs": [
    {
     "data": {
      "text/plain": [
       "count    59994.000000\n",
       "mean         1.615128\n",
       "std          1.157459\n",
       "min          0.000000\n",
       "25%          1.000000\n",
       "50%          2.000000\n",
       "75%          3.000000\n",
       "max          3.000000\n",
       "Name: Владельцы, dtype: float64"
      ]
     },
     "execution_count": 64,
     "metadata": {},
     "output_type": "execute_result"
    }
   ],
   "source": [
    "# We know that the number of owners > 3 is put into one group in a test dataset. Let's do the same in train.\n",
    "train.loc[train['Владельцы'] > 3, 'Владельцы'] = 3\n",
    "train['Владельцы'].describe()"
   ]
  },
  {
   "cell_type": "code",
   "execution_count": 65,
   "metadata": {},
   "outputs": [
    {
     "data": {
      "text/plain": [
       "Series([], dtype: int64)"
      ]
     },
     "execution_count": 65,
     "metadata": {},
     "output_type": "execute_result"
    }
   ],
   "source": [
    "# We don't have missing values in test\n",
    "test[test['Владельцы'].isna()].groupby(['productionDate', 'mileage']).size()"
   ]
  },
  {
   "cell_type": "code",
   "execution_count": 66,
   "metadata": {},
   "outputs": [
    {
     "data": {
      "text/plain": [
       "3 или более    15957\n",
       "1 владелец      9459\n",
       "2 владельца     9270\n",
       "Name: Владельцы, dtype: int64"
      ]
     },
     "execution_count": 66,
     "metadata": {},
     "output_type": "execute_result"
    }
   ],
   "source": [
    "# What looks weird though is that we don't have new cars in a test set at all\n",
    "test['Владельцы'].value_counts()"
   ]
  },
  {
   "cell_type": "code",
   "execution_count": 67,
   "metadata": {},
   "outputs": [
    {
     "data": {
      "text/plain": [
       "count    34686.000000\n",
       "mean         2.187338\n",
       "std          0.835266\n",
       "min          1.000000\n",
       "25%          1.000000\n",
       "50%          2.000000\n",
       "75%          3.000000\n",
       "max          3.000000\n",
       "Name: Владельцы, dtype: float64"
      ]
     },
     "execution_count": 67,
     "metadata": {},
     "output_type": "execute_result"
    }
   ],
   "source": [
    "# First of all, let's replace string values for Владельцы in test with 1, 2 and 3 \n",
    "test['Владельцы'] = test['Владельцы'].str[:1].astype(int)\n",
    "test['Владельцы'].describe()"
   ]
  },
  {
   "cell_type": "code",
   "execution_count": 68,
   "metadata": {},
   "outputs": [
    {
     "data": {
      "text/plain": [
       "productionDate  Владельцы  mileage\n",
       "1936            1          1          1\n",
       "1948            3          10         1\n",
       "2018            1          10         1\n",
       "2019            1          1          2\n",
       "                           10         1\n",
       "                           11         1\n",
       "                           21         1\n",
       "                           23         1\n",
       "                           24         1\n",
       "                           25         1\n",
       "                           26         1\n",
       "                           27         1\n",
       "                           30         1\n",
       "2020            1          1          8\n",
       "                           5          1\n",
       "                           6          4\n",
       "                           7          3\n",
       "                           9          7\n",
       "                           10         8\n",
       "                           11         3\n",
       "                           12         1\n",
       "                           13         1\n",
       "                           14         1\n",
       "                           15         6\n",
       "                           17         3\n",
       "                           19         4\n",
       "                           20         3\n",
       "                           21         2\n",
       "                           22         2\n",
       "                           23         2\n",
       "                           25         1\n",
       "                           26         1\n",
       "                           28         2\n",
       "                           30         1\n",
       "                3          21         1\n",
       "                           30         1\n",
       "dtype: int64"
      ]
     },
     "execution_count": 68,
     "metadata": {},
     "output_type": "execute_result"
    }
   ],
   "source": [
    "# Let's take a closer look at this issue. There are a lot of cars with 1 or even multiple owners and mileage\n",
    "# <= 30 km. That doesn't look right.\n",
    "test[test['mileage']<=30].groupby(['productionDate', 'Владельцы', 'mileage']).size()"
   ]
  },
  {
   "cell_type": "code",
   "execution_count": 69,
   "metadata": {},
   "outputs": [
    {
     "data": {
      "text/plain": [
       "productionDate  Владельцы  mileage\n",
       "1936            1          1          1\n",
       "1948            3          10         1\n",
       "2018            0          10         1\n",
       "2019            0          1          2\n",
       "                           10         1\n",
       "                           11         1\n",
       "                           21         1\n",
       "                           23         1\n",
       "                           24         1\n",
       "                           25         1\n",
       "                           26         1\n",
       "                           27         1\n",
       "                           30         1\n",
       "2020            0          1          8\n",
       "                           5          1\n",
       "                           6          4\n",
       "                           7          3\n",
       "                           9          7\n",
       "                           10         8\n",
       "                           11         3\n",
       "                           12         1\n",
       "                           13         1\n",
       "                           14         1\n",
       "                           15         6\n",
       "                           17         3\n",
       "                           19         4\n",
       "                           20         3\n",
       "                           21         3\n",
       "                           22         2\n",
       "                           23         2\n",
       "                           25         1\n",
       "                           26         1\n",
       "                           28         2\n",
       "                           30         2\n",
       "dtype: int64"
      ]
     },
     "execution_count": 69,
     "metadata": {},
     "output_type": "execute_result"
    }
   ],
   "source": [
    "# I will change a test dataset and replace Владельцы for all the cases where mileage is <= 30 and year >=2018 with 0\n",
    "tmp = test[(test['mileage']<=30) & (test['productionDate']>=2018)].copy()\n",
    "tmp['Владельцы'] = 0\n",
    "test[(test['mileage']<=30) & (test['productionDate']>=2018)] = tmp\n",
    "test[test['mileage']<=30].groupby(['productionDate', 'Владельцы', 'mileage']).size()"
   ]
  },
  {
   "cell_type": "code",
   "execution_count": 70,
   "metadata": {},
   "outputs": [
    {
     "name": "stdout",
     "output_type": "stream",
     "text": [
      "<class 'pandas.core.frame.DataFrame'>\n",
      "Int64Index: 94680 entries, 0 to 34685\n",
      "Data columns (total 27 columns):\n",
      " #   Column                Non-Null Count  Dtype  \n",
      "---  ------                --------------  -----  \n",
      " 0   bodyType              94680 non-null  object \n",
      " 1   brand                 94680 non-null  object \n",
      " 2   complectation_dict    66412 non-null  object \n",
      " 3   equipment_dict        84684 non-null  object \n",
      " 4   fuelType              94680 non-null  object \n",
      " 5   modelDate             94680 non-null  float64\n",
      " 6   model_info            94680 non-null  object \n",
      " 7   model_name            94680 non-null  object \n",
      " 8   name                  94680 non-null  object \n",
      " 9   numberOfDoors         94680 non-null  float64\n",
      " 10  productionDate        94680 non-null  int64  \n",
      " 11  vehicleConfiguration  94680 non-null  object \n",
      " 12  vehicleTransmission   94680 non-null  object \n",
      " 13  vendor                94680 non-null  object \n",
      " 14  engineDisplacement    94680 non-null  float64\n",
      " 15  enginePower           94680 non-null  float64\n",
      " 16  description           92180 non-null  object \n",
      " 17  mileage               94680 non-null  int64  \n",
      " 18  Привод                94680 non-null  object \n",
      " 19  Руль                  94680 non-null  object \n",
      " 20  Владельцы             94680 non-null  object \n",
      " 21  ПТС                   94393 non-null  object \n",
      " 22  Таможня               94680 non-null  object \n",
      " 23  Владение              26283 non-null  object \n",
      " 24  price                 94432 non-null  float64\n",
      " 25  color                 94680 non-null  object \n",
      " 26  source                94680 non-null  object \n",
      "dtypes: float64(5), int64(2), object(20)\n",
      "memory usage: 20.2+ MB\n"
     ]
    }
   ],
   "source": [
    "# Merging back together\n",
    "df_merged[df_merged['source']=='train'] = train\n",
    "df_merged[df_merged['source']=='test'] = test\n",
    "df_merged.info()"
   ]
  },
  {
   "cell_type": "code",
   "execution_count": 71,
   "metadata": {},
   "outputs": [
    {
     "name": "stderr",
     "output_type": "stream",
     "text": [
      "<ipython-input-16-68cb8a68848a>:28: UserWarning: FixedFormatter should only be used together with FixedLocator\n",
      "  ax[0].set_xticklabels(ax[0].get_xticklabels(), rotation=40, ha=\"right\")\n",
      "<ipython-input-16-68cb8a68848a>:30: UserWarning: FixedFormatter should only be used together with FixedLocator\n",
      "  ax[1].set_xticklabels(ax[1].get_xticklabels(), rotation=40, ha=\"right\")\n",
      "C:\\Users\\User\\Anaconda3\\lib\\site-packages\\seaborn\\_decorators.py:36: FutureWarning: Pass the following variable as a keyword arg: x. From version 0.12, the only valid positional argument will be `data`, and passing other arguments without an explicit keyword will result in an error or misinterpretation.\n",
      "  warnings.warn(\n",
      "C:\\Users\\User\\Anaconda3\\lib\\site-packages\\seaborn\\_decorators.py:36: FutureWarning: Pass the following variable as a keyword arg: x. From version 0.12, the only valid positional argument will be `data`, and passing other arguments without an explicit keyword will result in an error or misinterpretation.\n",
      "  warnings.warn(\n"
     ]
    },
    {
     "data": {
      "image/png": "[encoded data removed]",
      "text/plain": [
       "<Figure size 720x360 with 2 Axes>"
      ]
     },
     "metadata": {
      "needs_background": "light"
     },
     "output_type": "display_data"
    }
   ],
   "source": [
    "# Fun fact: looks like test dataset still almost doesn't have new cars. Let it be.\n",
    "double_countplot(df_merged, 'Владельцы', 10)"
   ]
  },
  {
   "cell_type": "markdown",
   "metadata": {},
   "source": [
    "## ПТС"
   ]
  },
  {
   "cell_type": "code",
   "execution_count": 72,
   "metadata": {},
   "outputs": [
    {
     "data": {
      "text/plain": [
       "source  ПТС      \n",
       "test    Дубликат      4587\n",
       "        Оригинал     30098\n",
       "train   DUPLICATE     5774\n",
       "        ORIGINAL     53934\n",
       "dtype: int64"
      ]
     },
     "execution_count": 72,
     "metadata": {},
     "output_type": "execute_result"
    }
   ],
   "source": [
    "df_merged.groupby(['source', 'ПТС']).size()"
   ]
  },
  {
   "cell_type": "code",
   "execution_count": 73,
   "metadata": {},
   "outputs": [
    {
     "data": {
      "text/plain": [
       "source  ПТС     \n",
       "test    other           1\n",
       "        дубликат     4587\n",
       "        оригинал    30098\n",
       "train   other         286\n",
       "        дубликат     5774\n",
       "        оригинал    53934\n",
       "dtype: int64"
      ]
     },
     "execution_count": 73,
     "metadata": {},
     "output_type": "execute_result"
    }
   ],
   "source": [
    "# let's translate train data\n",
    "russian_dict = {'DUPLICATE':'Дубликат', 'ORIGINAL': 'Оригинал'}\n",
    "df_merged['ПТС'] = df_merged['ПТС'].map(lambda x: translate_by_dict(x, russian_dict))\n",
    "df_merged['ПТС'] = df_merged['ПТС'].str.lower()\n",
    "df_merged.groupby(['source', 'ПТС']).size()"
   ]
  },
  {
   "cell_type": "markdown",
   "metadata": {},
   "source": [
    "## Таможня"
   ]
  },
  {
   "cell_type": "code",
   "execution_count": 74,
   "metadata": {},
   "outputs": [
    {
     "data": {
      "text/plain": [
       "source  Таможня   \n",
       "test    Растаможен    34686\n",
       "train   True          59994\n",
       "dtype: int64"
      ]
     },
     "execution_count": 74,
     "metadata": {},
     "output_type": "execute_result"
    }
   ],
   "source": [
    "df_merged.groupby(['source', 'Таможня']).size()"
   ]
  },
  {
   "cell_type": "code",
   "execution_count": 75,
   "metadata": {},
   "outputs": [
    {
     "name": "stdout",
     "output_type": "stream",
     "text": [
      "<class 'pandas.core.frame.DataFrame'>\n",
      "Int64Index: 94680 entries, 0 to 34685\n",
      "Data columns (total 26 columns):\n",
      " #   Column                Non-Null Count  Dtype  \n",
      "---  ------                --------------  -----  \n",
      " 0   bodyType              94680 non-null  object \n",
      " 1   brand                 94680 non-null  object \n",
      " 2   complectation_dict    66412 non-null  object \n",
      " 3   equipment_dict        84684 non-null  object \n",
      " 4   fuelType              94680 non-null  object \n",
      " 5   modelDate             94680 non-null  float64\n",
      " 6   model_info            94680 non-null  object \n",
      " 7   model_name            94680 non-null  object \n",
      " 8   name                  94680 non-null  object \n",
      " 9   numberOfDoors         94680 non-null  float64\n",
      " 10  productionDate        94680 non-null  int64  \n",
      " 11  vehicleConfiguration  94680 non-null  object \n",
      " 12  vehicleTransmission   94680 non-null  object \n",
      " 13  vendor                94680 non-null  object \n",
      " 14  engineDisplacement    94680 non-null  float64\n",
      " 15  enginePower           94680 non-null  float64\n",
      " 16  description           92180 non-null  object \n",
      " 17  mileage               94680 non-null  int64  \n",
      " 18  Привод                94680 non-null  object \n",
      " 19  Руль                  94680 non-null  object \n",
      " 20  Владельцы             94680 non-null  object \n",
      " 21  ПТС                   94680 non-null  object \n",
      " 22  Владение              26283 non-null  object \n",
      " 23  price                 94432 non-null  float64\n",
      " 24  color                 94680 non-null  object \n",
      " 25  source                94680 non-null  object \n",
      "dtypes: float64(5), int64(2), object(19)\n",
      "memory usage: 19.5+ MB\n"
     ]
    }
   ],
   "source": [
    "# this feature is useless in our case - let's drop it\n",
    "df_merged.drop('Таможня', inplace=True, axis=1)\n",
    "df_merged.info()"
   ]
  },
  {
   "cell_type": "markdown",
   "metadata": {},
   "source": [
    "## Владение"
   ]
  },
  {
   "cell_type": "code",
   "execution_count": 76,
   "metadata": {},
   "outputs": [
    {
     "data": {
      "text/plain": [
       "source  Владение                  \n",
       "test    1 год                         194\n",
       "        1 год и 1 месяц               193\n",
       "        1 год и 10 месяцев            209\n",
       "        1 год и 11 месяцев            179\n",
       "        1 год и 2 месяца              187\n",
       "                                     ... \n",
       "train   {'year': 2020, 'month': 6}    173\n",
       "        {'year': 2020, 'month': 7}    144\n",
       "        {'year': 2020, 'month': 8}    179\n",
       "        {'year': 2020, 'month': 9}    151\n",
       "        {'year': 2021, 'month': 1}     65\n",
       "Length: 545, dtype: int64"
      ]
     },
     "execution_count": 76,
     "metadata": {},
     "output_type": "execute_result"
    }
   ],
   "source": [
    "df_merged.groupby(['source', 'Владение']).size()"
   ]
  },
  {
   "cell_type": "code",
   "execution_count": 77,
   "metadata": {},
   "outputs": [],
   "source": [
    "# This one is tricky. First of all, it contains text data. Second of all, it has a lot of missing values.\n",
    "# This function converts text to duration also deals with NaN values.\n",
    "df_merged['Владение'] = df_merged.apply(lambda x: ownership_period(x), axis=1)"
   ]
  },
  {
   "cell_type": "code",
   "execution_count": 78,
   "metadata": {},
   "outputs": [
    {
     "data": {
      "text/plain": [
       "count    94680.000000\n",
       "mean        24.657615\n",
       "std         30.251145\n",
       "min          1.000000\n",
       "25%         13.000000\n",
       "50%         13.000000\n",
       "75%         13.000000\n",
       "max        789.000000\n",
       "Name: Владение, dtype: float64"
      ]
     },
     "execution_count": 78,
     "metadata": {},
     "output_type": "execute_result"
    }
   ],
   "source": [
    "df_merged['Владение'].describe()"
   ]
  },
  {
   "cell_type": "code",
   "execution_count": 79,
   "metadata": {},
   "outputs": [
    {
     "name": "stdout",
     "output_type": "stream",
     "text": [
      "<class 'pandas.core.frame.DataFrame'>\n",
      "Int64Index: 94680 entries, 0 to 34685\n",
      "Data columns (total 26 columns):\n",
      " #   Column                Non-Null Count  Dtype  \n",
      "---  ------                --------------  -----  \n",
      " 0   bodyType              94680 non-null  object \n",
      " 1   brand                 94680 non-null  object \n",
      " 2   complectation_dict    66412 non-null  object \n",
      " 3   equipment_dict        84684 non-null  object \n",
      " 4   fuelType              94680 non-null  object \n",
      " 5   modelDate             94680 non-null  float64\n",
      " 6   model_info            94680 non-null  object \n",
      " 7   model_name            94680 non-null  object \n",
      " 8   name                  94680 non-null  object \n",
      " 9   numberOfDoors         94680 non-null  float64\n",
      " 10  productionDate        94680 non-null  int64  \n",
      " 11  vehicleConfiguration  94680 non-null  object \n",
      " 12  vehicleTransmission   94680 non-null  object \n",
      " 13  vendor                94680 non-null  object \n",
      " 14  engineDisplacement    94680 non-null  float64\n",
      " 15  enginePower           94680 non-null  float64\n",
      " 16  description           92180 non-null  object \n",
      " 17  mileage               94680 non-null  int64  \n",
      " 18  Привод                94680 non-null  object \n",
      " 19  Руль                  94680 non-null  object \n",
      " 20  Владельцы             94680 non-null  object \n",
      " 21  ПТС                   94680 non-null  object \n",
      " 22  Владение              94680 non-null  int64  \n",
      " 23  price                 94432 non-null  float64\n",
      " 24  color                 94680 non-null  object \n",
      " 25  source                94680 non-null  object \n",
      "dtypes: float64(5), int64(3), object(18)\n",
      "memory usage: 19.5+ MB\n"
     ]
    }
   ],
   "source": [
    "df_merged.info()"
   ]
  },
  {
   "cell_type": "markdown",
   "metadata": {},
   "source": [
    "## price"
   ]
  },
  {
   "cell_type": "code",
   "execution_count": 80,
   "metadata": {},
   "outputs": [
    {
     "data": {
      "text/html": [
       "<div>\n",
       "<style scoped>\n",
       "    .dataframe tbody tr th:only-of-type {\n",
       "        vertical-align: middle;\n",
       "    }\n",
       "\n",
       "    .dataframe tbody tr th {\n",
       "        vertical-align: top;\n",
       "    }\n",
       "\n",
       "    .dataframe thead th {\n",
       "        text-align: right;\n",
       "    }\n",
       "</style>\n",
       "<table border=\"1\" class=\"dataframe\">\n",
       "  <thead>\n",
       "    <tr style=\"text-align: right;\">\n",
       "      <th></th>\n",
       "      <th>bodyType</th>\n",
       "      <th>brand</th>\n",
       "      <th>complectation_dict</th>\n",
       "      <th>equipment_dict</th>\n",
       "      <th>fuelType</th>\n",
       "      <th>modelDate</th>\n",
       "      <th>model_info</th>\n",
       "      <th>model_name</th>\n",
       "      <th>name</th>\n",
       "      <th>numberOfDoors</th>\n",
       "      <th>...</th>\n",
       "      <th>description</th>\n",
       "      <th>mileage</th>\n",
       "      <th>Привод</th>\n",
       "      <th>Руль</th>\n",
       "      <th>Владельцы</th>\n",
       "      <th>ПТС</th>\n",
       "      <th>Владение</th>\n",
       "      <th>price</th>\n",
       "      <th>color</th>\n",
       "      <th>source</th>\n",
       "    </tr>\n",
       "  </thead>\n",
       "  <tbody>\n",
       "    <tr>\n",
       "      <th>681</th>\n",
       "      <td>седан</td>\n",
       "      <td>VOLKSWAGEN</td>\n",
       "      <td>{'id': '0'}</td>\n",
       "      <td>{}</td>\n",
       "      <td>бензин</td>\n",
       "      <td>1988.0</td>\n",
       "      <td>{'code': 'PASSAT', 'name': 'Passat', 'ru_name'...</td>\n",
       "      <td>PASSAT</td>\n",
       "      <td>1.8 MT (90 л.с.)</td>\n",
       "      <td>4.0</td>\n",
       "      <td>...</td>\n",
       "      <td>Двигатель откапитален(проехал на нем около 32 ...</td>\n",
       "      <td>352000</td>\n",
       "      <td>передний</td>\n",
       "      <td>левый</td>\n",
       "      <td>3</td>\n",
       "      <td>дубликат</td>\n",
       "      <td>13</td>\n",
       "      <td>NaN</td>\n",
       "      <td>EE1D19</td>\n",
       "      <td>train</td>\n",
       "    </tr>\n",
       "    <tr>\n",
       "      <th>750</th>\n",
       "      <td>универсал</td>\n",
       "      <td>BMW</td>\n",
       "      <td>{'id': '0'}</td>\n",
       "      <td>{'steel-wheels': True, 'abs': True, 'roof-rail...</td>\n",
       "      <td>бензин</td>\n",
       "      <td>1987.0</td>\n",
       "      <td>{'code': '5ER', 'name': '5 серии', 'ru_name': ...</td>\n",
       "      <td>5ER</td>\n",
       "      <td>525i 2.5 AT (192 л.с.)</td>\n",
       "      <td>5.0</td>\n",
       "      <td>...</td>\n",
       "      <td>По документам:птс,стс.Я собственник. Штрафов,з...</td>\n",
       "      <td>300000</td>\n",
       "      <td>задний</td>\n",
       "      <td>левый</td>\n",
       "      <td>3</td>\n",
       "      <td>оригинал</td>\n",
       "      <td>13</td>\n",
       "      <td>NaN</td>\n",
       "      <td>EE1D19</td>\n",
       "      <td>train</td>\n",
       "    </tr>\n",
       "    <tr>\n",
       "      <th>846</th>\n",
       "      <td>седан</td>\n",
       "      <td>TOYOTA</td>\n",
       "      <td>{'id': '0'}</td>\n",
       "      <td>{'electro-window-back': True, 'ptf': True, 'us...</td>\n",
       "      <td>бензин</td>\n",
       "      <td>1988.0</td>\n",
       "      <td>{'code': 'CHASER', 'name': 'Chaser', 'ru_name'...</td>\n",
       "      <td>CHASER</td>\n",
       "      <td>2.0 MT (150 л.с.)</td>\n",
       "      <td>4.0</td>\n",
       "      <td>...</td>\n",
       "      <td>Всем привет и с Новым Годом! \\nПродам:\\nЧайзер...</td>\n",
       "      <td>330000</td>\n",
       "      <td>задний</td>\n",
       "      <td>правый</td>\n",
       "      <td>2</td>\n",
       "      <td>оригинал</td>\n",
       "      <td>13</td>\n",
       "      <td>NaN</td>\n",
       "      <td>FAFBFB</td>\n",
       "      <td>train</td>\n",
       "    </tr>\n",
       "    <tr>\n",
       "      <th>1037</th>\n",
       "      <td>седан</td>\n",
       "      <td>TOYOTA</td>\n",
       "      <td>{'id': '0'}</td>\n",
       "      <td>{'electro-window-back': True, 'feedback-alarm'...</td>\n",
       "      <td>дизель</td>\n",
       "      <td>1992.0</td>\n",
       "      <td>{'code': 'CRESTA', 'name': 'Cresta', 'ru_name'...</td>\n",
       "      <td>CRESTA</td>\n",
       "      <td>2.5d AT (97 л.с.)</td>\n",
       "      <td>4.0</td>\n",
       "      <td>...</td>\n",
       "      <td>На полном ходу</td>\n",
       "      <td>312000</td>\n",
       "      <td>задний</td>\n",
       "      <td>правый</td>\n",
       "      <td>3</td>\n",
       "      <td>оригинал</td>\n",
       "      <td>13</td>\n",
       "      <td>NaN</td>\n",
       "      <td>040001</td>\n",
       "      <td>train</td>\n",
       "    </tr>\n",
       "    <tr>\n",
       "      <th>1076</th>\n",
       "      <td>универсал</td>\n",
       "      <td>VOLKSWAGEN</td>\n",
       "      <td>{'id': '0'}</td>\n",
       "      <td>{'velvet-seats': True, 'roof-rails': True, '14...</td>\n",
       "      <td>бензин</td>\n",
       "      <td>1991.0</td>\n",
       "      <td>{'code': 'GOLF', 'name': 'Golf', 'ru_name': 'Г...</td>\n",
       "      <td>GOLF</td>\n",
       "      <td>1.8 MT (75 л.с.)</td>\n",
       "      <td>5.0</td>\n",
       "      <td>...</td>\n",
       "      <td>Продам машину на летних колёсах, для своих лет...</td>\n",
       "      <td>453000</td>\n",
       "      <td>передний</td>\n",
       "      <td>левый</td>\n",
       "      <td>3</td>\n",
       "      <td>дубликат</td>\n",
       "      <td>26</td>\n",
       "      <td>NaN</td>\n",
       "      <td>040001</td>\n",
       "      <td>train</td>\n",
       "    </tr>\n",
       "    <tr>\n",
       "      <th>...</th>\n",
       "      <td>...</td>\n",
       "      <td>...</td>\n",
       "      <td>...</td>\n",
       "      <td>...</td>\n",
       "      <td>...</td>\n",
       "      <td>...</td>\n",
       "      <td>...</td>\n",
       "      <td>...</td>\n",
       "      <td>...</td>\n",
       "      <td>...</td>\n",
       "      <td>...</td>\n",
       "      <td>...</td>\n",
       "      <td>...</td>\n",
       "      <td>...</td>\n",
       "      <td>...</td>\n",
       "      <td>...</td>\n",
       "      <td>...</td>\n",
       "      <td>...</td>\n",
       "      <td>...</td>\n",
       "      <td>...</td>\n",
       "      <td>...</td>\n",
       "    </tr>\n",
       "    <tr>\n",
       "      <th>48604</th>\n",
       "      <td>внедорожник</td>\n",
       "      <td>HYUNDAI</td>\n",
       "      <td>{'id': '0'}</td>\n",
       "      <td>{}</td>\n",
       "      <td>бензин</td>\n",
       "      <td>2020.0</td>\n",
       "      <td>{'code': 'CRETA', 'name': 'Creta', 'ru_name': ...</td>\n",
       "      <td>CRETA</td>\n",
       "      <td>1.6 AT (123 л.с.)</td>\n",
       "      <td>5.0</td>\n",
       "      <td>...</td>\n",
       "      <td>NaN</td>\n",
       "      <td>5000</td>\n",
       "      <td>передний</td>\n",
       "      <td>левый</td>\n",
       "      <td>1</td>\n",
       "      <td>оригинал</td>\n",
       "      <td>13</td>\n",
       "      <td>NaN</td>\n",
       "      <td>FAFBFB</td>\n",
       "      <td>train</td>\n",
       "    </tr>\n",
       "    <tr>\n",
       "      <th>49669</th>\n",
       "      <td>внедорожник</td>\n",
       "      <td>KIA</td>\n",
       "      <td>{'id': '0'}</td>\n",
       "      <td>{'cruise-control': True, 'esp': True, 'isofix'...</td>\n",
       "      <td>бензин</td>\n",
       "      <td>2018.0</td>\n",
       "      <td>{'code': 'SPORTAGE', 'name': 'Sportage', 'ru_n...</td>\n",
       "      <td>SPORTAGE</td>\n",
       "      <td>2.0 AT (150 л.с.)</td>\n",
       "      <td>5.0</td>\n",
       "      <td>...</td>\n",
       "      <td>Авто в отличном состоянии без ДТП, покрасов  и...</td>\n",
       "      <td>19800</td>\n",
       "      <td>передний</td>\n",
       "      <td>левый</td>\n",
       "      <td>1</td>\n",
       "      <td>оригинал</td>\n",
       "      <td>13</td>\n",
       "      <td>NaN</td>\n",
       "      <td>0000CC</td>\n",
       "      <td>train</td>\n",
       "    </tr>\n",
       "    <tr>\n",
       "      <th>50827</th>\n",
       "      <td>универсал</td>\n",
       "      <td>MINI</td>\n",
       "      <td>{'id': '0'}</td>\n",
       "      <td>{'cruise-control': True, '16-inch-wheels': Tru...</td>\n",
       "      <td>бензин</td>\n",
       "      <td>2019.0</td>\n",
       "      <td>{'code': 'CLUBMAN', 'name': 'Clubman', 'ru_nam...</td>\n",
       "      <td>CLUBMAN</td>\n",
       "      <td>Cooper 1.5 AMT (136 л.с.)</td>\n",
       "      <td>5.0</td>\n",
       "      <td>...</td>\n",
       "      <td>Автомобиль приобретён в сентябре 2020 г.\\nСост...</td>\n",
       "      <td>3500</td>\n",
       "      <td>передний</td>\n",
       "      <td>левый</td>\n",
       "      <td>1</td>\n",
       "      <td>оригинал</td>\n",
       "      <td>13</td>\n",
       "      <td>NaN</td>\n",
       "      <td>CACECB</td>\n",
       "      <td>train</td>\n",
       "    </tr>\n",
       "    <tr>\n",
       "      <th>56036</th>\n",
       "      <td>седан</td>\n",
       "      <td>TOYOTA</td>\n",
       "      <td>{'id': '21221843', 'name': 'Престиж Safety', '...</td>\n",
       "      <td>{'asr': True, 'tinted-glass': True, 'esp': Tru...</td>\n",
       "      <td>бензин</td>\n",
       "      <td>2017.0</td>\n",
       "      <td>{'code': 'CAMRY', 'name': 'Camry', 'ru_name': ...</td>\n",
       "      <td>CAMRY</td>\n",
       "      <td>2.5 AT (181 л.с.)</td>\n",
       "      <td>4.0</td>\n",
       "      <td>...</td>\n",
       "      <td>ЦЕНА СНИЖЕНА ПО ПРИЧИНЕ НАЛИЧИЯ ИНТЕРЕСУЮЩЕГО ...</td>\n",
       "      <td>3100</td>\n",
       "      <td>передний</td>\n",
       "      <td>левый</td>\n",
       "      <td>1</td>\n",
       "      <td>оригинал</td>\n",
       "      <td>2</td>\n",
       "      <td>NaN</td>\n",
       "      <td>FAFBFB</td>\n",
       "      <td>train</td>\n",
       "    </tr>\n",
       "    <tr>\n",
       "      <th>56110</th>\n",
       "      <td>лифтбек</td>\n",
       "      <td>VOLKSWAGEN</td>\n",
       "      <td>{'id': '0'}</td>\n",
       "      <td>{'tinted-glass': True, 'esp': True, 'adaptive-...</td>\n",
       "      <td>бензин</td>\n",
       "      <td>2020.0</td>\n",
       "      <td>{'code': 'POLO', 'name': 'Polo', 'ru_name': 'П...</td>\n",
       "      <td>POLO</td>\n",
       "      <td>1.6 AT (110 л.с.)</td>\n",
       "      <td>5.0</td>\n",
       "      <td>...</td>\n",
       "      <td>Добрый день. Продаю свой авто. Авто в кредите ...</td>\n",
       "      <td>11000</td>\n",
       "      <td>передний</td>\n",
       "      <td>левый</td>\n",
       "      <td>1</td>\n",
       "      <td>оригинал</td>\n",
       "      <td>6</td>\n",
       "      <td>NaN</td>\n",
       "      <td>FAFBFB</td>\n",
       "      <td>train</td>\n",
       "    </tr>\n",
       "  </tbody>\n",
       "</table>\n",
       "<p>248 rows × 26 columns</p>\n",
       "</div>"
      ],
      "text/plain": [
       "          bodyType       brand  \\\n",
       "681          седан  VOLKSWAGEN   \n",
       "750      универсал         BMW   \n",
       "846          седан      TOYOTA   \n",
       "1037         седан      TOYOTA   \n",
       "1076     универсал  VOLKSWAGEN   \n",
       "...            ...         ...   \n",
       "48604  внедорожник     HYUNDAI   \n",
       "49669  внедорожник         KIA   \n",
       "50827    универсал        MINI   \n",
       "56036        седан      TOYOTA   \n",
       "56110      лифтбек  VOLKSWAGEN   \n",
       "\n",
       "                                      complectation_dict  \\\n",
       "681                                          {'id': '0'}   \n",
       "750                                          {'id': '0'}   \n",
       "846                                          {'id': '0'}   \n",
       "1037                                         {'id': '0'}   \n",
       "1076                                         {'id': '0'}   \n",
       "...                                                  ...   \n",
       "48604                                        {'id': '0'}   \n",
       "49669                                        {'id': '0'}   \n",
       "50827                                        {'id': '0'}   \n",
       "56036  {'id': '21221843', 'name': 'Престиж Safety', '...   \n",
       "56110                                        {'id': '0'}   \n",
       "\n",
       "                                          equipment_dict fuelType  modelDate  \\\n",
       "681                                                   {}   бензин     1988.0   \n",
       "750    {'steel-wheels': True, 'abs': True, 'roof-rail...   бензин     1987.0   \n",
       "846    {'electro-window-back': True, 'ptf': True, 'us...   бензин     1988.0   \n",
       "1037   {'electro-window-back': True, 'feedback-alarm'...   дизель     1992.0   \n",
       "1076   {'velvet-seats': True, 'roof-rails': True, '14...   бензин     1991.0   \n",
       "...                                                  ...      ...        ...   \n",
       "48604                                                 {}   бензин     2020.0   \n",
       "49669  {'cruise-control': True, 'esp': True, 'isofix'...   бензин     2018.0   \n",
       "50827  {'cruise-control': True, '16-inch-wheels': Tru...   бензин     2019.0   \n",
       "56036  {'asr': True, 'tinted-glass': True, 'esp': Tru...   бензин     2017.0   \n",
       "56110  {'tinted-glass': True, 'esp': True, 'adaptive-...   бензин     2020.0   \n",
       "\n",
       "                                              model_info model_name  \\\n",
       "681    {'code': 'PASSAT', 'name': 'Passat', 'ru_name'...     PASSAT   \n",
       "750    {'code': '5ER', 'name': '5 серии', 'ru_name': ...        5ER   \n",
       "846    {'code': 'CHASER', 'name': 'Chaser', 'ru_name'...     CHASER   \n",
       "1037   {'code': 'CRESTA', 'name': 'Cresta', 'ru_name'...     CRESTA   \n",
       "1076   {'code': 'GOLF', 'name': 'Golf', 'ru_name': 'Г...       GOLF   \n",
       "...                                                  ...        ...   \n",
       "48604  {'code': 'CRETA', 'name': 'Creta', 'ru_name': ...      CRETA   \n",
       "49669  {'code': 'SPORTAGE', 'name': 'Sportage', 'ru_n...   SPORTAGE   \n",
       "50827  {'code': 'CLUBMAN', 'name': 'Clubman', 'ru_nam...    CLUBMAN   \n",
       "56036  {'code': 'CAMRY', 'name': 'Camry', 'ru_name': ...      CAMRY   \n",
       "56110  {'code': 'POLO', 'name': 'Polo', 'ru_name': 'П...       POLO   \n",
       "\n",
       "                            name  numberOfDoors  ...  \\\n",
       "681             1.8 MT (90 л.с.)            4.0  ...   \n",
       "750       525i 2.5 AT (192 л.с.)            5.0  ...   \n",
       "846            2.0 MT (150 л.с.)            4.0  ...   \n",
       "1037           2.5d AT (97 л.с.)            4.0  ...   \n",
       "1076            1.8 MT (75 л.с.)            5.0  ...   \n",
       "...                          ...            ...  ...   \n",
       "48604          1.6 AT (123 л.с.)            5.0  ...   \n",
       "49669          2.0 AT (150 л.с.)            5.0  ...   \n",
       "50827  Cooper 1.5 AMT (136 л.с.)            5.0  ...   \n",
       "56036          2.5 AT (181 л.с.)            4.0  ...   \n",
       "56110          1.6 AT (110 л.с.)            5.0  ...   \n",
       "\n",
       "                                             description mileage    Привод  \\\n",
       "681    Двигатель откапитален(проехал на нем около 32 ...  352000  передний   \n",
       "750    По документам:птс,стс.Я собственник. Штрафов,з...  300000    задний   \n",
       "846    Всем привет и с Новым Годом! \\nПродам:\\nЧайзер...  330000    задний   \n",
       "1037                                      На полном ходу  312000    задний   \n",
       "1076   Продам машину на летних колёсах, для своих лет...  453000  передний   \n",
       "...                                                  ...     ...       ...   \n",
       "48604                                                NaN    5000  передний   \n",
       "49669  Авто в отличном состоянии без ДТП, покрасов  и...   19800  передний   \n",
       "50827  Автомобиль приобретён в сентябре 2020 г.\\nСост...    3500  передний   \n",
       "56036  ЦЕНА СНИЖЕНА ПО ПРИЧИНЕ НАЛИЧИЯ ИНТЕРЕСУЮЩЕГО ...    3100  передний   \n",
       "56110  Добрый день. Продаю свой авто. Авто в кредите ...   11000  передний   \n",
       "\n",
       "         Руль  Владельцы       ПТС Владение  price   color source  \n",
       "681     левый          3  дубликат       13    NaN  EE1D19  train  \n",
       "750     левый          3  оригинал       13    NaN  EE1D19  train  \n",
       "846    правый          2  оригинал       13    NaN  FAFBFB  train  \n",
       "1037   правый          3  оригинал       13    NaN  040001  train  \n",
       "1076    левый          3  дубликат       26    NaN  040001  train  \n",
       "...       ...        ...       ...      ...    ...     ...    ...  \n",
       "48604   левый          1  оригинал       13    NaN  FAFBFB  train  \n",
       "49669   левый          1  оригинал       13    NaN  0000CC  train  \n",
       "50827   левый          1  оригинал       13    NaN  CACECB  train  \n",
       "56036   левый          1  оригинал        2    NaN  FAFBFB  train  \n",
       "56110   левый          1  оригинал        6    NaN  FAFBFB  train  \n",
       "\n",
       "[248 rows x 26 columns]"
      ]
     },
     "execution_count": 80,
     "metadata": {},
     "output_type": "execute_result"
    }
   ],
   "source": [
    "# We have missing 248 missing values for price in our train set. Let's simply get rid of them\n",
    "df_merged[df_merged['price'].isna()]"
   ]
  },
  {
   "cell_type": "code",
   "execution_count": 81,
   "metadata": {},
   "outputs": [
    {
     "name": "stdout",
     "output_type": "stream",
     "text": [
      "<class 'pandas.core.frame.DataFrame'>\n",
      "Int64Index: 94432 entries, 0 to 34685\n",
      "Data columns (total 26 columns):\n",
      " #   Column                Non-Null Count  Dtype  \n",
      "---  ------                --------------  -----  \n",
      " 0   bodyType              94432 non-null  object \n",
      " 1   brand                 94432 non-null  object \n",
      " 2   complectation_dict    66164 non-null  object \n",
      " 3   equipment_dict        84436 non-null  object \n",
      " 4   fuelType              94432 non-null  object \n",
      " 5   modelDate             94432 non-null  float64\n",
      " 6   model_info            94432 non-null  object \n",
      " 7   model_name            94432 non-null  object \n",
      " 8   name                  94432 non-null  object \n",
      " 9   numberOfDoors         94432 non-null  float64\n",
      " 10  productionDate        94432 non-null  int64  \n",
      " 11  vehicleConfiguration  94432 non-null  object \n",
      " 12  vehicleTransmission   94432 non-null  object \n",
      " 13  vendor                94432 non-null  object \n",
      " 14  engineDisplacement    94432 non-null  float64\n",
      " 15  enginePower           94432 non-null  float64\n",
      " 16  description           91942 non-null  object \n",
      " 17  mileage               94432 non-null  int64  \n",
      " 18  Привод                94432 non-null  object \n",
      " 19  Руль                  94432 non-null  object \n",
      " 20  Владельцы             94432 non-null  object \n",
      " 21  ПТС                   94432 non-null  object \n",
      " 22  Владение              94432 non-null  int64  \n",
      " 23  price                 94432 non-null  float64\n",
      " 24  color                 94432 non-null  object \n",
      " 25  source                94432 non-null  object \n",
      "dtypes: float64(5), int64(3), object(18)\n",
      "memory usage: 19.5+ MB\n"
     ]
    }
   ],
   "source": [
    "df_merged = df_merged[~df_merged['price'].isna()]\n",
    "df_merged.info()"
   ]
  },
  {
   "cell_type": "markdown",
   "metadata": {},
   "source": [
    "## color"
   ]
  },
  {
   "cell_type": "code",
   "execution_count": 82,
   "metadata": {},
   "outputs": [
    {
     "data": {
      "text/plain": [
       "source  color      \n",
       "test    бежевый          639\n",
       "        белый           6133\n",
       "        голубой          457\n",
       "        жёлтый           194\n",
       "        зелёный          952\n",
       "        золотистый       266\n",
       "        коричневый      1501\n",
       "        красный         1531\n",
       "        оранжевый        131\n",
       "        пурпурный        254\n",
       "        розовый           13\n",
       "        серебристый     4113\n",
       "        серый           3984\n",
       "        синий           3289\n",
       "        фиолетовый       219\n",
       "        чёрный         11010\n",
       "train   0000CC          5979\n",
       "        007F00          1614\n",
       "        040001         14496\n",
       "        200204          2802\n",
       "        22A0F8           972\n",
       "        4A2197           306\n",
       "        660099           339\n",
       "        97948F          8252\n",
       "        C49648          1470\n",
       "        CACECB          6829\n",
       "        DEA522           365\n",
       "        EE1D19          3401\n",
       "        FAFBFB         12002\n",
       "        FF8649           450\n",
       "        FFC0CB            14\n",
       "        FFD600           455\n",
       "dtype: int64"
      ]
     },
     "execution_count": 82,
     "metadata": {},
     "output_type": "execute_result"
    }
   ],
   "source": [
    "# We obviously need to do something with colors in a train set. \n",
    "# Unfortunately, webcolor library can't be used for that because most of these colors are not from CSS.\n",
    "# Luckily we only have 16 hex values to match. I will do that manually using https://encycolorpedia.com/ (using my own impresion of the result).\n",
    "df_merged.groupby(['source', 'color']).size()"
   ]
  },
  {
   "cell_type": "code",
   "execution_count": 83,
   "metadata": {},
   "outputs": [
    {
     "data": {
      "text/plain": [
       "{'0000CC': 'синий',\n",
       " '007F00': 'зелёный',\n",
       " '040001': 'чёрный',\n",
       " '200204': 'красный',\n",
       " '22A0F8': 'голубой',\n",
       " '4A2197': 'пурпурный',\n",
       " '660099': 'фиолетовый',\n",
       " '97948F': 'серый',\n",
       " 'C49648': 'коричневый',\n",
       " 'CACECB': 'серебристый',\n",
       " 'DEA522': 'бежевый',\n",
       " 'EE1D19': 'красный',\n",
       " 'FAFBFB': 'белый',\n",
       " 'FF8649': 'оранжевый',\n",
       " 'FFC0CB': 'розовый',\n",
       " 'FFD600': 'жёлтый'}"
      ]
     },
     "execution_count": 83,
     "metadata": {},
     "output_type": "execute_result"
    }
   ],
   "source": [
    "colors = {'0000CC' : 'синий', '007F00' : 'зелёный', '040001' : 'чёрный', '200204' : 'красный', '22A0F8' : 'голубой'\n",
    "          , '4A2197' : 'пурпурный',  '660099' : 'фиолетовый', '97948F' : 'серый', 'C49648' : 'коричневый', 'CACECB' : 'серебристый'\n",
    "          , 'DEA522' : 'бежевый', 'EE1D19' : 'красный', 'FAFBFB' : 'белый', 'FF8649' : 'оранжевый', 'FFC0CB' : 'розовый', 'FFD600' : 'жёлтый'}\n",
    "colors"
   ]
  },
  {
   "cell_type": "code",
   "execution_count": 84,
   "metadata": {},
   "outputs": [
    {
     "data": {
      "text/plain": [
       "source  color      \n",
       "test    бежевый          639\n",
       "        белый           6133\n",
       "        голубой          457\n",
       "        жёлтый           194\n",
       "        зелёный          952\n",
       "        золотистый       266\n",
       "        коричневый      1501\n",
       "        красный         1531\n",
       "        оранжевый        131\n",
       "        пурпурный        254\n",
       "        розовый           13\n",
       "        серебристый     4113\n",
       "        серый           3984\n",
       "        синий           3289\n",
       "        фиолетовый       219\n",
       "        чёрный         11010\n",
       "train   бежевый          365\n",
       "        белый          12002\n",
       "        голубой          972\n",
       "        жёлтый           455\n",
       "        зелёный         1614\n",
       "        коричневый      1470\n",
       "        красный         6203\n",
       "        оранжевый        450\n",
       "        пурпурный        306\n",
       "        розовый           14\n",
       "        серебристый     6829\n",
       "        серый           8252\n",
       "        синий           5979\n",
       "        фиолетовый       339\n",
       "        чёрный         14496\n",
       "dtype: int64"
      ]
     },
     "execution_count": 84,
     "metadata": {},
     "output_type": "execute_result"
    }
   ],
   "source": [
    "df_merged['color'] = df_merged['color'].map(lambda x: colors.get(x) if colors.get(x) else x)\n",
    "df_merged.groupby(['source', 'color']).size()"
   ]
  },
  {
   "cell_type": "code",
   "execution_count": 85,
   "metadata": {},
   "outputs": [
    {
     "name": "stderr",
     "output_type": "stream",
     "text": [
      "<ipython-input-16-68cb8a68848a>:28: UserWarning: FixedFormatter should only be used together with FixedLocator\n",
      "  ax[0].set_xticklabels(ax[0].get_xticklabels(), rotation=40, ha=\"right\")\n",
      "<ipython-input-16-68cb8a68848a>:30: UserWarning: FixedFormatter should only be used together with FixedLocator\n",
      "  ax[1].set_xticklabels(ax[1].get_xticklabels(), rotation=40, ha=\"right\")\n",
      "C:\\Users\\User\\Anaconda3\\lib\\site-packages\\seaborn\\_decorators.py:36: FutureWarning: Pass the following variable as a keyword arg: x. From version 0.12, the only valid positional argument will be `data`, and passing other arguments without an explicit keyword will result in an error or misinterpretation.\n",
      "  warnings.warn(\n",
      "C:\\Users\\User\\Anaconda3\\lib\\site-packages\\seaborn\\_decorators.py:36: FutureWarning: Pass the following variable as a keyword arg: x. From version 0.12, the only valid positional argument will be `data`, and passing other arguments without an explicit keyword will result in an error or misinterpretation.\n",
      "  warnings.warn(\n"
     ]
    },
    {
     "data": {
      "image/png": "[encoded data removed]",
      "text/plain": [
       "<Figure size 1800x360 with 2 Axes>"
      ]
     },
     "metadata": {
      "needs_background": "light"
     },
     "output_type": "display_data"
    }
   ],
   "source": [
    "double_countplot(df_merged, 'color')"
   ]
  },
  {
   "cell_type": "code",
   "execution_count": 86,
   "metadata": {},
   "outputs": [
    {
     "name": "stdout",
     "output_type": "stream",
     "text": [
      "<class 'pandas.core.frame.DataFrame'>\n",
      "Int64Index: 94432 entries, 0 to 34685\n",
      "Data columns (total 26 columns):\n",
      " #   Column                Non-Null Count  Dtype  \n",
      "---  ------                --------------  -----  \n",
      " 0   bodyType              94432 non-null  object \n",
      " 1   brand                 94432 non-null  object \n",
      " 2   complectation_dict    66164 non-null  object \n",
      " 3   equipment_dict        84436 non-null  object \n",
      " 4   fuelType              94432 non-null  object \n",
      " 5   modelDate             94432 non-null  float64\n",
      " 6   model_info            94432 non-null  object \n",
      " 7   model_name            94432 non-null  object \n",
      " 8   name                  94432 non-null  object \n",
      " 9   numberOfDoors         94432 non-null  float64\n",
      " 10  productionDate        94432 non-null  int64  \n",
      " 11  vehicleConfiguration  94432 non-null  object \n",
      " 12  vehicleTransmission   94432 non-null  object \n",
      " 13  vendor                94432 non-null  object \n",
      " 14  engineDisplacement    94432 non-null  float64\n",
      " 15  enginePower           94432 non-null  float64\n",
      " 16  description           91942 non-null  object \n",
      " 17  mileage               94432 non-null  int64  \n",
      " 18  Привод                94432 non-null  object \n",
      " 19  Руль                  94432 non-null  object \n",
      " 20  Владельцы             94432 non-null  object \n",
      " 21  ПТС                   94432 non-null  object \n",
      " 22  Владение              94432 non-null  int64  \n",
      " 23  price                 94432 non-null  float64\n",
      " 24  color                 94432 non-null  object \n",
      " 25  source                94432 non-null  object \n",
      "dtypes: float64(5), int64(3), object(18)\n",
      "memory usage: 19.5+ MB\n"
     ]
    }
   ],
   "source": [
    "df_merged.info()"
   ]
  },
  {
   "cell_type": "markdown",
   "metadata": {},
   "source": [
    "# Feature engineering"
   ]
  },
  {
   "cell_type": "markdown",
   "metadata": {},
   "source": [
    "## descriptionLength"
   ]
  },
  {
   "cell_type": "code",
   "execution_count": 87,
   "metadata": {},
   "outputs": [
    {
     "data": {
      "text/plain": [
       "<AxesSubplot:>"
      ]
     },
     "execution_count": 87,
     "metadata": {},
     "output_type": "execute_result"
    },
    {
     "data": {
      "image/png": "[encoded data removed]",
      "text/plain": [
       "<Figure size 432x288 with 1 Axes>"
      ]
     },
     "metadata": {
      "needs_background": "light"
     },
     "output_type": "display_data"
    }
   ],
   "source": [
    "# The most obvious feature that comes to my mind when looking at description\n",
    "df_merged['descriptionLength'] = df_merged['description'].str.len()\n",
    "df_merged['descriptionLength'].fillna(0, inplace=True)\n",
    "df_merged['descriptionLength'].hist(bins=10)"
   ]
  },
  {
   "cell_type": "code",
   "execution_count": 88,
   "metadata": {},
   "outputs": [
    {
     "data": {
      "text/html": [
       "<div>\n",
       "<style scoped>\n",
       "    .dataframe tbody tr th:only-of-type {\n",
       "        vertical-align: middle;\n",
       "    }\n",
       "\n",
       "    .dataframe tbody tr th {\n",
       "        vertical-align: top;\n",
       "    }\n",
       "\n",
       "    .dataframe thead th {\n",
       "        text-align: right;\n",
       "    }\n",
       "</style>\n",
       "<table border=\"1\" class=\"dataframe\">\n",
       "  <thead>\n",
       "    <tr style=\"text-align: right;\">\n",
       "      <th></th>\n",
       "      <th>bodyType</th>\n",
       "      <th>brand</th>\n",
       "      <th>complectation_dict</th>\n",
       "      <th>equipment_dict</th>\n",
       "      <th>fuelType</th>\n",
       "      <th>modelDate</th>\n",
       "      <th>model_info</th>\n",
       "      <th>model_name</th>\n",
       "      <th>name</th>\n",
       "      <th>numberOfDoors</th>\n",
       "      <th>...</th>\n",
       "      <th>mileage</th>\n",
       "      <th>Привод</th>\n",
       "      <th>Руль</th>\n",
       "      <th>Владельцы</th>\n",
       "      <th>ПТС</th>\n",
       "      <th>Владение</th>\n",
       "      <th>price</th>\n",
       "      <th>color</th>\n",
       "      <th>source</th>\n",
       "      <th>descriptionLength</th>\n",
       "    </tr>\n",
       "  </thead>\n",
       "  <tbody>\n",
       "  </tbody>\n",
       "</table>\n",
       "<p>0 rows × 27 columns</p>\n",
       "</div>"
      ],
      "text/plain": [
       "Empty DataFrame\n",
       "Columns: [bodyType, brand, complectation_dict, equipment_dict, fuelType, modelDate, model_info, model_name, name, numberOfDoors, productionDate, vehicleConfiguration, vehicleTransmission, vendor, engineDisplacement, enginePower, description, mileage, Привод, Руль, Владельцы, ПТС, Владение, price, color, source, descriptionLength]\n",
       "Index: []\n",
       "\n",
       "[0 rows x 27 columns]"
      ]
     },
     "execution_count": 88,
     "metadata": {},
     "output_type": "execute_result"
    }
   ],
   "source": [
    "# no missing values - that's good\n",
    "df_merged[df_merged['descriptionLength'].isna()]"
   ]
  },
  {
   "cell_type": "markdown",
   "metadata": {},
   "source": [
    "## officialDealerMentioned"
   ]
  },
  {
   "cell_type": "code",
   "execution_count": 89,
   "metadata": {},
   "outputs": [
    {
     "data": {
      "text/plain": [
       "source  officialDealerMentioned\n",
       "test    False                      28955\n",
       "        True                        5731\n",
       "train   False                      47211\n",
       "        True                       12535\n",
       "dtype: int64"
      ]
     },
     "execution_count": 89,
     "metadata": {},
     "output_type": "execute_result"
    }
   ],
   "source": [
    "# is official dealer mentioned in description?\n",
    "df_merged['officialDealerMentioned'] = df_merged['description'].str.lower().str.contains('официальн.*дилер')\n",
    "df_merged['officialDealerMentioned'].fillna(False, inplace=True)\n",
    "df_merged.groupby(['source', 'officialDealerMentioned']).size()"
   ]
  },
  {
   "cell_type": "code",
   "execution_count": 90,
   "metadata": {},
   "outputs": [
    {
     "name": "stdout",
     "output_type": "stream",
     "text": [
      "Average price values : officialDealerMentioned\n",
      "False    7.947188e+05\n",
      "True     1.152277e+06\n",
      "Name: price, dtype: float64\n"
     ]
    },
    {
     "data": {
      "image/png": "[encoded data removed]",
      "text/plain": [
       "<Figure size 432x288 with 1 Axes>"
      ]
     },
     "metadata": {
      "needs_background": "light"
     },
     "output_type": "display_data"
    }
   ],
   "source": [
    "mass_box(df_merged, ['officialDealerMentioned'])"
   ]
  },
  {
   "cell_type": "markdown",
   "metadata": {},
   "source": [
    "## equipmentDictLength"
   ]
  },
  {
   "cell_type": "code",
   "execution_count": 91,
   "metadata": {},
   "outputs": [],
   "source": [
    "# This feature will show how many positions are available in equipment dictionary\n",
    "df_merged['equipmentDictLength'] = df_merged['equipment_dict'].map(lambda x: len(list(df_cell_json(x).keys())) if df_cell_json(x) else 0)"
   ]
  },
  {
   "cell_type": "code",
   "execution_count": 92,
   "metadata": {},
   "outputs": [
    {
     "data": {
      "text/plain": [
       "<AxesSubplot:>"
      ]
     },
     "execution_count": 92,
     "metadata": {},
     "output_type": "execute_result"
    },
    {
     "data": {
      "image/png": "[encoded data removed]",
      "text/plain": [
       "<Figure size 432x288 with 1 Axes>"
      ]
     },
     "metadata": {
      "needs_background": "light"
     },
     "output_type": "display_data"
    }
   ],
   "source": [
    "df_merged['equipmentDictLength'].hist()"
   ]
  },
  {
   "cell_type": "code",
   "execution_count": 93,
   "metadata": {},
   "outputs": [
    {
     "name": "stdout",
     "output_type": "stream",
     "text": [
      "<class 'pandas.core.frame.DataFrame'>\n",
      "Int64Index: 94432 entries, 0 to 34685\n",
      "Data columns (total 29 columns):\n",
      " #   Column                   Non-Null Count  Dtype  \n",
      "---  ------                   --------------  -----  \n",
      " 0   bodyType                 94432 non-null  object \n",
      " 1   brand                    94432 non-null  object \n",
      " 2   complectation_dict       66164 non-null  object \n",
      " 3   equipment_dict           84436 non-null  object \n",
      " 4   fuelType                 94432 non-null  object \n",
      " 5   modelDate                94432 non-null  float64\n",
      " 6   model_info               94432 non-null  object \n",
      " 7   model_name               94432 non-null  object \n",
      " 8   name                     94432 non-null  object \n",
      " 9   numberOfDoors            94432 non-null  float64\n",
      " 10  productionDate           94432 non-null  int64  \n",
      " 11  vehicleConfiguration     94432 non-null  object \n",
      " 12  vehicleTransmission      94432 non-null  object \n",
      " 13  vendor                   94432 non-null  object \n",
      " 14  engineDisplacement       94432 non-null  float64\n",
      " 15  enginePower              94432 non-null  float64\n",
      " 16  description              91942 non-null  object \n",
      " 17  mileage                  94432 non-null  int64  \n",
      " 18  Привод                   94432 non-null  object \n",
      " 19  Руль                     94432 non-null  object \n",
      " 20  Владельцы                94432 non-null  object \n",
      " 21  ПТС                      94432 non-null  object \n",
      " 22  Владение                 94432 non-null  int64  \n",
      " 23  price                    94432 non-null  float64\n",
      " 24  color                    94432 non-null  object \n",
      " 25  source                   94432 non-null  object \n",
      " 26  descriptionLength        94432 non-null  float64\n",
      " 27  officialDealerMentioned  94432 non-null  bool   \n",
      " 28  equipmentDictLength      94432 non-null  int64  \n",
      "dtypes: bool(1), float64(6), int64(4), object(18)\n",
      "memory usage: 23.5+ MB\n"
     ]
    }
   ],
   "source": [
    "df_merged.info()"
   ]
  },
  {
   "cell_type": "markdown",
   "metadata": {},
   "source": [
    "## features from equipment_dict"
   ]
  },
  {
   "cell_type": "code",
   "execution_count": 94,
   "metadata": {},
   "outputs": [
    {
     "name": "stdout",
     "output_type": "stream",
     "text": [
      "Counter({'lock': 65286, 'abs': 64195, 'electro-mirrors': 58935, 'computer': 56142, 'airbag-driver': 55457, 'electro-window-front': 54486, 'airbag-passenger': 53635, 'front-seats-heat': 53145, 'immo': 52547, 'ptf': 49609, 'mirrors-heat': 46034, 'electro-window-back': 45910, 'usb': 45366, 'esp': 44742, 'wheel-power': 43861, 'aux': 43368, 'multi-wheel': 43128, 'wheel-configuration1': 43120, 'wheel-leather': 43051, 'airbag-side': 43004, '12v-socket': 41665, 'bluetooth': 40394, 'front-centre-armrest': 40264, 'isofix': 37774, 'seat-transformation': 37463, 'cruise-control': 36756, 'light-sensor': 36703, 'rain-sensor': 36174, 'wheel-configuration2': 34689, 'tinted-glass': 33672, 'audiosystem-cd': 33181, 'alloy-wheel-disks': 32606, 'fabric-seats': 30347, 'park-assist-r': 30021, 'dark-interior': 29797, 'leather-gear-stick': 29040, 'airbag-curtain': 28925, 'asr': 28580, 'auto-mirrors': 28426, 'third-rear-headrest': 27557, 'alarm': 27150, 'light-cleaner': 26797, 'automatic-lighting-control': 25986, 'leather': 25770, 'climate-control-2': 24572, 'drl': 23744, 'engine-proof': 23352, 'hcc': 23320, 'tyre-pressure': 22935, 'ashtray-and-cigarette-lighter': 21875, 'power-child-locks-rear-doors': 21673, 'passenger-seat-updown': 21502, 'roof-rails': 21224, 'start-button': 21175, 'wheel-heat': 20893, 'navigation': 20195, 'passenger-seat-electric': 19574, 'keyless-entry': 19034, 'rear-camera': 18445, 'park-assist-f': 18419, 'servo': 17716, 'xenon': 17683, 'climate-control-1': 17449, 'spare-wheel': 17237, 'led-lights': 17181, 'bas': 16817, 'glonass': 16355, 'driver-seat-updown': 15872, 'airbag-rear-side': 15505, 'audiosystem-tv': 15028, 'heated-wash-system': 14711, 'condition': 14661, 'windscreen-heat': 14481, 'electro-trunk': 13341, 'door-sill-panel': 12263, 'paint-metallic': 11891, 'volume-sensor': 11875, 'adaptive-light': 11856, '17-inch-wheels': 11817, 'body-mouldings': 11807, 'start-stop-function': 10807, 'rear-seats-heat': 10627, 'knee-airbag': 10346, 'music-super': 10289, 'hatch': 10197, '16-inch-wheels': 9951, '18-inch-wheels': 9290, 'high-beam-assist': 9149, 'cooling-box': 8987, 'apple-carplay': 8604, 'steel-wheels': 8386, 'seat-memory': 7924, 'steering-wheel-gear-shift-paddles': 7908, 'decorative-interior-lighting': 7301, 'voice-recognition': 7123, 'multizone-climate-control': 7031, 'android-auto': 6910, 'combo-interior': 6734, 'audiopreparation': 6476, 'electronic-gage-panel': 6230, 'sport-seats': 6051, 'front-seat-support': 6016, 'reduce-spare-wheel': 5887, 'remote-engine-start': 5725, 'e-adjustment-wheel': 5641, 'collision-prevention-assist': 5638, 'front-seats-heat-vent': 5637, '15-inch-wheels': 5590, 'panorama-roof': 5066, 'light-interior': 5055, 'black-roof': 4974, 'auto-park': 4940, 'dha': 4884, 'drive-mode-sys': 4868, 'driver-seat-memory': 4857, '360-camera': 4786, 'auto-cruise': 4485, 'feedback-alarm': 4436, 'windcleaner-heat': 4386, 'blind-spot': 4202, 'turnbuckle': 4131, 'folding-front-passenger-seat': 4050, 'drowsy-driver-alert-system': 3957, 'third-row-seats': 3941, '19-inch-wheels': 3755, 'lane-keeping-assist': 3675, 'easy-trunk-opening': 3661, 'sport-pedals': 3532, 'vsm': 3406, 'roller-blinds-for-rear-side-windows': 3269, 'seats-5': 3092, 'air-suspension': 2986, 'activ-suspension': 2877, 'driver-seat-support': 2870, 'programmed-block-heater': 2693, '20-inch-wheels': 2687, 'body-kit': 2610, 'power-latching-doors': 2592, 'projection-display': 2578, 'wireless-charger': 2509, 'wheel-memory': 2381, 'roller-blind-for-rear-window': 2374, 'velvet-seats': 2354, 'isofix-front': 2340, 'driver-seat-electric': 2236, 'traffic-sign-recognition': 2148, 'entertainment-system-for-rear-seat-passengers': 2047, 'ya-auto': 1997, 'electro-rear-seat': 1893, 'seats-7': 1670, 'eco-leather': 1521, '220v-socket': 1517, 'sport-suspension': 1340, 'seats-4': 1320, 'laser-lights': 1103, '21-inch-wheels': 1009, 'folding-tables-rear': 985, 'gbo': 930, 'rear-seat-heat-vent': 910, '14-inch-wheels': 840, 'night-vision': 834, 'massage-seats': 805, 'alcantara': 676, 'adj-pedals': 653, 'seats-2': 401, 'laminated-safety-glass': 393, '22-inch-wheels': 390, 'duo-body-color': 282, 'seats-8': 263, 'airbrush': 205, 'seats-6': 178, 'front-camera': 174, 'armored': 127, '13-inch-wheels': 121, 'electro-window-all': 95, 'seats-heat': 92, '12-inch-wheels': 85, '9VS': 78, 'KA2': 64, 'seats-9': 58, 'N4M': 58, '6XF': 56, 'parktronik': 48, '3L5': 44, 'climate-control': 42, '6XE': 38, 'passenger-seat-manual': 36, '6NQ': 36, 'PX2': 34, 'halogen': 33, 'driver-seat-manual': 33, 'immobiliser-not-standard': 31, '3FB': 26, 'wheel-configuration3': 24, 'PRG': 24, 'electro-seat': 23, '4X4': 22, '23-inch-wheels': 18, 'advanced-frontlighting-system': 17, 'passenger-seat-memory': 16, 'PRL': 16, '8RM': 16, 'audiosystem': 12, '7X5': 12, '3S1': 10, '4D3': 9, '9R1': 9, 'climate-control-3': 6, '8T2': 6, 'airbag-4': 4, '8RF': 4, 'PCH': 4, 'KA6': 4, 'airbag-2': 3, '27-inch-wheels': 3, '8T6': 3, 'airbag-6': 2, '25-inch-wheels': 2, 'S7N': 2, '8X1': 2, '9JD': 2, 'CJ4': 2, '42D': 2, '6E3': 2, 'PA1': 1, 'PW1': 1, 'PL2': 1, '9S6': 1, '9P5': 1, 'RAB': 1, 'PN0': 1, 'PB0': 1, 'PNQ': 1, '235': 1, '242': 1, '246': 1, '249': 1, '270': 1, '274': 1, '351': 1, '364': 1, '367': 1, '431': 1, '448': 1, '475': 1, '500': 1, '501': 1, '513': 1, '551': 1, '670': 1, '728': 1, '772': 1, '776': 1, '807': 1, '810': 1, '824': 1, '871': 1, '873': 1, '881': 1, '882': 1, '883': 1, '889': 1, '927': 1, '989': 1, 'U09': 1, '51U': 1, 'H06': 1, 'U22': 1, 'DZ9': 1, 'P17': 1, 'B63': 1, 'RVR': 1, '14U': 1, 'R66': 1, 'P29': 1, '03B': 1, 'P31': 1, '16U': 1, 'P44': 1, 'R01': 1, 'B16': 1, '17U': 1, 'L5C': 1, 'WVA': 1, 'E0P': 1, '24-inch-wheels': 1, '2C5': 1, '1N1': 1, '7AA': 1, '9AB': 1, 'UI4': 1, '6XD': 1, '3B3': 1, '7B2': 1, '9S3': 1, '4I2': 1, '3NZ': 1, '4UC': 1, '4UE': 1, '4A3': 1, '4R2': 1, '4R3': 1, '6R1': 1, '9T1': 1, '3Q6': 1})\n"
     ]
    }
   ],
   "source": [
    "# Let's create a counter with all the equipment available in all the equipment dictionaries\n",
    "all_equipment = Counter()\n",
    "for row in df_merged.itertuples():\n",
    "    try:\n",
    "        json_acceptable_string = row.equipment_dict.replace(\"'\", \"\\\"\")\n",
    "        json_acceptable_string = json_acceptable_string.replace(\"True\", \"\\\"True\\\"\")\n",
    "        for i in list(json.loads(json_acceptable_string).keys()):\n",
    "            all_equipment[i] += 1\n",
    "    except AttributeError:\n",
    "        continue\n",
    "print(all_equipment)"
   ]
  },
  {
   "cell_type": "code",
   "execution_count": 95,
   "metadata": {},
   "outputs": [
    {
     "data": {
      "text/plain": [
       "305"
      ]
     },
     "execution_count": 95,
     "metadata": {},
     "output_type": "execute_result"
    }
   ],
   "source": [
    "# Number of unique pieces of equipment\n",
    "len(all_equipment)"
   ]
  },
  {
   "cell_type": "code",
   "execution_count": 96,
   "metadata": {},
   "outputs": [
    {
     "data": {
      "text/html": [
       "<div>\n",
       "<style scoped>\n",
       "    .dataframe tbody tr th:only-of-type {\n",
       "        vertical-align: middle;\n",
       "    }\n",
       "\n",
       "    .dataframe tbody tr th {\n",
       "        vertical-align: top;\n",
       "    }\n",
       "\n",
       "    .dataframe thead th {\n",
       "        text-align: right;\n",
       "    }\n",
       "</style>\n",
       "<table border=\"1\" class=\"dataframe\">\n",
       "  <thead>\n",
       "    <tr style=\"text-align: right;\">\n",
       "      <th></th>\n",
       "      <th>equipment_dict</th>\n",
       "      <th>price</th>\n",
       "      <th>has_lock</th>\n",
       "      <th>has_abs</th>\n",
       "      <th>has_electro-mirrors</th>\n",
       "      <th>has_computer</th>\n",
       "      <th>has_airbag-driver</th>\n",
       "      <th>has_electro-window-front</th>\n",
       "      <th>has_airbag-passenger</th>\n",
       "      <th>has_front-seats-heat</th>\n",
       "      <th>...</th>\n",
       "      <th>has_mirrors-heat</th>\n",
       "      <th>has_electro-window-back</th>\n",
       "      <th>has_usb</th>\n",
       "      <th>has_esp</th>\n",
       "      <th>has_wheel-power</th>\n",
       "      <th>has_aux</th>\n",
       "      <th>has_multi-wheel</th>\n",
       "      <th>has_wheel-configuration1</th>\n",
       "      <th>has_wheel-leather</th>\n",
       "      <th>has_airbag-side</th>\n",
       "    </tr>\n",
       "  </thead>\n",
       "  <tbody>\n",
       "    <tr>\n",
       "      <th>0</th>\n",
       "      <td>{}</td>\n",
       "      <td>3800000.0</td>\n",
       "      <td>0</td>\n",
       "      <td>0</td>\n",
       "      <td>0</td>\n",
       "      <td>0</td>\n",
       "      <td>0</td>\n",
       "      <td>0</td>\n",
       "      <td>0</td>\n",
       "      <td>0</td>\n",
       "      <td>...</td>\n",
       "      <td>0</td>\n",
       "      <td>0</td>\n",
       "      <td>0</td>\n",
       "      <td>0</td>\n",
       "      <td>0</td>\n",
       "      <td>0</td>\n",
       "      <td>0</td>\n",
       "      <td>0</td>\n",
       "      <td>0</td>\n",
       "      <td>0</td>\n",
       "    </tr>\n",
       "    <tr>\n",
       "      <th>1</th>\n",
       "      <td>{}</td>\n",
       "      <td>4300000.0</td>\n",
       "      <td>0</td>\n",
       "      <td>0</td>\n",
       "      <td>0</td>\n",
       "      <td>0</td>\n",
       "      <td>0</td>\n",
       "      <td>0</td>\n",
       "      <td>0</td>\n",
       "      <td>0</td>\n",
       "      <td>...</td>\n",
       "      <td>0</td>\n",
       "      <td>0</td>\n",
       "      <td>0</td>\n",
       "      <td>0</td>\n",
       "      <td>0</td>\n",
       "      <td>0</td>\n",
       "      <td>0</td>\n",
       "      <td>0</td>\n",
       "      <td>0</td>\n",
       "      <td>0</td>\n",
       "    </tr>\n",
       "    <tr>\n",
       "      <th>2</th>\n",
       "      <td>{}</td>\n",
       "      <td>3350000.0</td>\n",
       "      <td>0</td>\n",
       "      <td>0</td>\n",
       "      <td>0</td>\n",
       "      <td>0</td>\n",
       "      <td>0</td>\n",
       "      <td>0</td>\n",
       "      <td>0</td>\n",
       "      <td>0</td>\n",
       "      <td>...</td>\n",
       "      <td>0</td>\n",
       "      <td>0</td>\n",
       "      <td>0</td>\n",
       "      <td>0</td>\n",
       "      <td>0</td>\n",
       "      <td>0</td>\n",
       "      <td>0</td>\n",
       "      <td>0</td>\n",
       "      <td>0</td>\n",
       "      <td>0</td>\n",
       "    </tr>\n",
       "    <tr>\n",
       "      <th>3</th>\n",
       "      <td>{}</td>\n",
       "      <td>2700000.0</td>\n",
       "      <td>0</td>\n",
       "      <td>0</td>\n",
       "      <td>0</td>\n",
       "      <td>0</td>\n",
       "      <td>0</td>\n",
       "      <td>0</td>\n",
       "      <td>0</td>\n",
       "      <td>0</td>\n",
       "      <td>...</td>\n",
       "      <td>0</td>\n",
       "      <td>0</td>\n",
       "      <td>0</td>\n",
       "      <td>0</td>\n",
       "      <td>0</td>\n",
       "      <td>0</td>\n",
       "      <td>0</td>\n",
       "      <td>0</td>\n",
       "      <td>0</td>\n",
       "      <td>0</td>\n",
       "    </tr>\n",
       "    <tr>\n",
       "      <th>4</th>\n",
       "      <td>{}</td>\n",
       "      <td>580000.0</td>\n",
       "      <td>0</td>\n",
       "      <td>0</td>\n",
       "      <td>0</td>\n",
       "      <td>0</td>\n",
       "      <td>0</td>\n",
       "      <td>0</td>\n",
       "      <td>0</td>\n",
       "      <td>0</td>\n",
       "      <td>...</td>\n",
       "      <td>0</td>\n",
       "      <td>0</td>\n",
       "      <td>0</td>\n",
       "      <td>0</td>\n",
       "      <td>0</td>\n",
       "      <td>0</td>\n",
       "      <td>0</td>\n",
       "      <td>0</td>\n",
       "      <td>0</td>\n",
       "      <td>0</td>\n",
       "    </tr>\n",
       "    <tr>\n",
       "      <th>...</th>\n",
       "      <td>...</td>\n",
       "      <td>...</td>\n",
       "      <td>...</td>\n",
       "      <td>...</td>\n",
       "      <td>...</td>\n",
       "      <td>...</td>\n",
       "      <td>...</td>\n",
       "      <td>...</td>\n",
       "      <td>...</td>\n",
       "      <td>...</td>\n",
       "      <td>...</td>\n",
       "      <td>...</td>\n",
       "      <td>...</td>\n",
       "      <td>...</td>\n",
       "      <td>...</td>\n",
       "      <td>...</td>\n",
       "      <td>...</td>\n",
       "      <td>...</td>\n",
       "      <td>...</td>\n",
       "      <td>...</td>\n",
       "      <td>...</td>\n",
       "    </tr>\n",
       "    <tr>\n",
       "      <th>60483</th>\n",
       "      <td>{'asr': True, 'esp': True, 'usb': True, 'multi...</td>\n",
       "      <td>4270000.0</td>\n",
       "      <td>1</td>\n",
       "      <td>1</td>\n",
       "      <td>1</td>\n",
       "      <td>1</td>\n",
       "      <td>1</td>\n",
       "      <td>1</td>\n",
       "      <td>1</td>\n",
       "      <td>1</td>\n",
       "      <td>...</td>\n",
       "      <td>1</td>\n",
       "      <td>1</td>\n",
       "      <td>1</td>\n",
       "      <td>1</td>\n",
       "      <td>0</td>\n",
       "      <td>1</td>\n",
       "      <td>1</td>\n",
       "      <td>1</td>\n",
       "      <td>1</td>\n",
       "      <td>1</td>\n",
       "    </tr>\n",
       "    <tr>\n",
       "      <th>60484</th>\n",
       "      <td>{'cruise-control': True, 'asr': True, 'esp': T...</td>\n",
       "      <td>4022000.0</td>\n",
       "      <td>1</td>\n",
       "      <td>1</td>\n",
       "      <td>1</td>\n",
       "      <td>1</td>\n",
       "      <td>1</td>\n",
       "      <td>1</td>\n",
       "      <td>1</td>\n",
       "      <td>1</td>\n",
       "      <td>...</td>\n",
       "      <td>1</td>\n",
       "      <td>1</td>\n",
       "      <td>1</td>\n",
       "      <td>1</td>\n",
       "      <td>0</td>\n",
       "      <td>1</td>\n",
       "      <td>1</td>\n",
       "      <td>1</td>\n",
       "      <td>1</td>\n",
       "      <td>1</td>\n",
       "    </tr>\n",
       "    <tr>\n",
       "      <th>60485</th>\n",
       "      <td>{'cruise-control': True, 'asr': True, 'esp': T...</td>\n",
       "      <td>3872000.0</td>\n",
       "      <td>1</td>\n",
       "      <td>1</td>\n",
       "      <td>1</td>\n",
       "      <td>1</td>\n",
       "      <td>1</td>\n",
       "      <td>1</td>\n",
       "      <td>1</td>\n",
       "      <td>1</td>\n",
       "      <td>...</td>\n",
       "      <td>1</td>\n",
       "      <td>1</td>\n",
       "      <td>1</td>\n",
       "      <td>1</td>\n",
       "      <td>0</td>\n",
       "      <td>1</td>\n",
       "      <td>1</td>\n",
       "      <td>1</td>\n",
       "      <td>1</td>\n",
       "      <td>1</td>\n",
       "    </tr>\n",
       "    <tr>\n",
       "      <th>60486</th>\n",
       "      <td>{'asr': True, 'esp': True, 'usb': True, 'multi...</td>\n",
       "      <td>4994000.0</td>\n",
       "      <td>1</td>\n",
       "      <td>1</td>\n",
       "      <td>1</td>\n",
       "      <td>1</td>\n",
       "      <td>1</td>\n",
       "      <td>1</td>\n",
       "      <td>1</td>\n",
       "      <td>1</td>\n",
       "      <td>...</td>\n",
       "      <td>1</td>\n",
       "      <td>1</td>\n",
       "      <td>1</td>\n",
       "      <td>1</td>\n",
       "      <td>0</td>\n",
       "      <td>1</td>\n",
       "      <td>1</td>\n",
       "      <td>1</td>\n",
       "      <td>1</td>\n",
       "      <td>1</td>\n",
       "    </tr>\n",
       "    <tr>\n",
       "      <th>60487</th>\n",
       "      <td>{'multi-wheel': True, 'heated-wash-system': Tr...</td>\n",
       "      <td>5484000.0</td>\n",
       "      <td>1</td>\n",
       "      <td>1</td>\n",
       "      <td>1</td>\n",
       "      <td>1</td>\n",
       "      <td>1</td>\n",
       "      <td>1</td>\n",
       "      <td>1</td>\n",
       "      <td>1</td>\n",
       "      <td>...</td>\n",
       "      <td>1</td>\n",
       "      <td>1</td>\n",
       "      <td>1</td>\n",
       "      <td>1</td>\n",
       "      <td>0</td>\n",
       "      <td>1</td>\n",
       "      <td>1</td>\n",
       "      <td>1</td>\n",
       "      <td>1</td>\n",
       "      <td>1</td>\n",
       "    </tr>\n",
       "  </tbody>\n",
       "</table>\n",
       "<p>59746 rows × 22 columns</p>\n",
       "</div>"
      ],
      "text/plain": [
       "                                          equipment_dict      price  has_lock  \\\n",
       "0                                                     {}  3800000.0         0   \n",
       "1                                                     {}  4300000.0         0   \n",
       "2                                                     {}  3350000.0         0   \n",
       "3                                                     {}  2700000.0         0   \n",
       "4                                                     {}   580000.0         0   \n",
       "...                                                  ...        ...       ...   \n",
       "60483  {'asr': True, 'esp': True, 'usb': True, 'multi...  4270000.0         1   \n",
       "60484  {'cruise-control': True, 'asr': True, 'esp': T...  4022000.0         1   \n",
       "60485  {'cruise-control': True, 'asr': True, 'esp': T...  3872000.0         1   \n",
       "60486  {'asr': True, 'esp': True, 'usb': True, 'multi...  4994000.0         1   \n",
       "60487  {'multi-wheel': True, 'heated-wash-system': Tr...  5484000.0         1   \n",
       "\n",
       "       has_abs  has_electro-mirrors  has_computer  has_airbag-driver  \\\n",
       "0            0                    0             0                  0   \n",
       "1            0                    0             0                  0   \n",
       "2            0                    0             0                  0   \n",
       "3            0                    0             0                  0   \n",
       "4            0                    0             0                  0   \n",
       "...        ...                  ...           ...                ...   \n",
       "60483        1                    1             1                  1   \n",
       "60484        1                    1             1                  1   \n",
       "60485        1                    1             1                  1   \n",
       "60486        1                    1             1                  1   \n",
       "60487        1                    1             1                  1   \n",
       "\n",
       "       has_electro-window-front  has_airbag-passenger  has_front-seats-heat  \\\n",
       "0                             0                     0                     0   \n",
       "1                             0                     0                     0   \n",
       "2                             0                     0                     0   \n",
       "3                             0                     0                     0   \n",
       "4                             0                     0                     0   \n",
       "...                         ...                   ...                   ...   \n",
       "60483                         1                     1                     1   \n",
       "60484                         1                     1                     1   \n",
       "60485                         1                     1                     1   \n",
       "60486                         1                     1                     1   \n",
       "60487                         1                     1                     1   \n",
       "\n",
       "       ...  has_mirrors-heat  has_electro-window-back  has_usb  has_esp  \\\n",
       "0      ...                 0                        0        0        0   \n",
       "1      ...                 0                        0        0        0   \n",
       "2      ...                 0                        0        0        0   \n",
       "3      ...                 0                        0        0        0   \n",
       "4      ...                 0                        0        0        0   \n",
       "...    ...               ...                      ...      ...      ...   \n",
       "60483  ...                 1                        1        1        1   \n",
       "60484  ...                 1                        1        1        1   \n",
       "60485  ...                 1                        1        1        1   \n",
       "60486  ...                 1                        1        1        1   \n",
       "60487  ...                 1                        1        1        1   \n",
       "\n",
       "       has_wheel-power  has_aux  has_multi-wheel  has_wheel-configuration1  \\\n",
       "0                    0        0                0                         0   \n",
       "1                    0        0                0                         0   \n",
       "2                    0        0                0                         0   \n",
       "3                    0        0                0                         0   \n",
       "4                    0        0                0                         0   \n",
       "...                ...      ...              ...                       ...   \n",
       "60483                0        1                1                         1   \n",
       "60484                0        1                1                         1   \n",
       "60485                0        1                1                         1   \n",
       "60486                0        1                1                         1   \n",
       "60487                0        1                1                         1   \n",
       "\n",
       "       has_wheel-leather  has_airbag-side  \n",
       "0                      0                0  \n",
       "1                      0                0  \n",
       "2                      0                0  \n",
       "3                      0                0  \n",
       "4                      0                0  \n",
       "...                  ...              ...  \n",
       "60483                  1                1  \n",
       "60484                  1                1  \n",
       "60485                  1                1  \n",
       "60486                  1                1  \n",
       "60487                  1                1  \n",
       "\n",
       "[59746 rows x 22 columns]"
      ]
     },
     "execution_count": 96,
     "metadata": {},
     "output_type": "execute_result"
    }
   ],
   "source": [
    "# Let's see if top 20 pieces of equipment actualy affect the price in some way\n",
    "temp = df_merged[df_merged['source']=='train'][['equipment_dict', 'price']].copy()\n",
    "\n",
    "for i in all_equipment.most_common(20):\n",
    "    temp[f\"has_{i[0]}\"] = temp['equipment_dict'].map(lambda x: 1 if i[0] in list(df_cell_json(x).keys()) else 0)                                                        \n",
    "    \n",
    "temp"
   ]
  },
  {
   "cell_type": "code",
   "execution_count": 97,
   "metadata": {},
   "outputs": [
    {
     "data": {
      "text/html": [
       "<div>\n",
       "<style scoped>\n",
       "    .dataframe tbody tr th:only-of-type {\n",
       "        vertical-align: middle;\n",
       "    }\n",
       "\n",
       "    .dataframe tbody tr th {\n",
       "        vertical-align: top;\n",
       "    }\n",
       "\n",
       "    .dataframe thead th {\n",
       "        text-align: right;\n",
       "    }\n",
       "</style>\n",
       "<table border=\"1\" class=\"dataframe\">\n",
       "  <thead>\n",
       "    <tr style=\"text-align: right;\">\n",
       "      <th></th>\n",
       "      <th>price</th>\n",
       "      <th>has_lock</th>\n",
       "      <th>has_abs</th>\n",
       "      <th>has_electro-mirrors</th>\n",
       "      <th>has_computer</th>\n",
       "      <th>has_airbag-driver</th>\n",
       "      <th>has_electro-window-front</th>\n",
       "      <th>has_airbag-passenger</th>\n",
       "      <th>has_front-seats-heat</th>\n",
       "      <th>has_immo</th>\n",
       "      <th>...</th>\n",
       "      <th>has_mirrors-heat</th>\n",
       "      <th>has_electro-window-back</th>\n",
       "      <th>has_usb</th>\n",
       "      <th>has_esp</th>\n",
       "      <th>has_wheel-power</th>\n",
       "      <th>has_aux</th>\n",
       "      <th>has_multi-wheel</th>\n",
       "      <th>has_wheel-configuration1</th>\n",
       "      <th>has_wheel-leather</th>\n",
       "      <th>has_airbag-side</th>\n",
       "    </tr>\n",
       "  </thead>\n",
       "  <tbody>\n",
       "    <tr>\n",
       "      <th>count</th>\n",
       "      <td>5.974600e+04</td>\n",
       "      <td>59746.000000</td>\n",
       "      <td>59746.000000</td>\n",
       "      <td>59746.000000</td>\n",
       "      <td>59746.000000</td>\n",
       "      <td>59746.000000</td>\n",
       "      <td>59746.000000</td>\n",
       "      <td>59746.000000</td>\n",
       "      <td>59746.000000</td>\n",
       "      <td>59746.000000</td>\n",
       "      <td>...</td>\n",
       "      <td>59746.000000</td>\n",
       "      <td>59746.000000</td>\n",
       "      <td>59746.000000</td>\n",
       "      <td>59746.000000</td>\n",
       "      <td>59746.000000</td>\n",
       "      <td>59746.000000</td>\n",
       "      <td>59746.000000</td>\n",
       "      <td>59746.000000</td>\n",
       "      <td>59746.000000</td>\n",
       "      <td>59746.000000</td>\n",
       "    </tr>\n",
       "    <tr>\n",
       "      <th>mean</th>\n",
       "      <td>1.365415e+06</td>\n",
       "      <td>0.738794</td>\n",
       "      <td>0.726944</td>\n",
       "      <td>0.671928</td>\n",
       "      <td>0.647073</td>\n",
       "      <td>0.632779</td>\n",
       "      <td>0.620226</td>\n",
       "      <td>0.609882</td>\n",
       "      <td>0.599605</td>\n",
       "      <td>0.612777</td>\n",
       "      <td>...</td>\n",
       "      <td>0.537157</td>\n",
       "      <td>0.513206</td>\n",
       "      <td>0.542647</td>\n",
       "      <td>0.512068</td>\n",
       "      <td>0.494075</td>\n",
       "      <td>0.484099</td>\n",
       "      <td>0.503816</td>\n",
       "      <td>0.511432</td>\n",
       "      <td>0.493272</td>\n",
       "      <td>0.474258</td>\n",
       "    </tr>\n",
       "    <tr>\n",
       "      <th>std</th>\n",
       "      <td>1.540523e+06</td>\n",
       "      <td>0.439296</td>\n",
       "      <td>0.445533</td>\n",
       "      <td>0.469515</td>\n",
       "      <td>0.477884</td>\n",
       "      <td>0.482052</td>\n",
       "      <td>0.485335</td>\n",
       "      <td>0.487781</td>\n",
       "      <td>0.489983</td>\n",
       "      <td>0.487119</td>\n",
       "      <td>...</td>\n",
       "      <td>0.498622</td>\n",
       "      <td>0.499830</td>\n",
       "      <td>0.498182</td>\n",
       "      <td>0.499859</td>\n",
       "      <td>0.499969</td>\n",
       "      <td>0.499751</td>\n",
       "      <td>0.499990</td>\n",
       "      <td>0.499873</td>\n",
       "      <td>0.499959</td>\n",
       "      <td>0.499341</td>\n",
       "    </tr>\n",
       "    <tr>\n",
       "      <th>min</th>\n",
       "      <td>2.000000e+04</td>\n",
       "      <td>0.000000</td>\n",
       "      <td>0.000000</td>\n",
       "      <td>0.000000</td>\n",
       "      <td>0.000000</td>\n",
       "      <td>0.000000</td>\n",
       "      <td>0.000000</td>\n",
       "      <td>0.000000</td>\n",
       "      <td>0.000000</td>\n",
       "      <td>0.000000</td>\n",
       "      <td>...</td>\n",
       "      <td>0.000000</td>\n",
       "      <td>0.000000</td>\n",
       "      <td>0.000000</td>\n",
       "      <td>0.000000</td>\n",
       "      <td>0.000000</td>\n",
       "      <td>0.000000</td>\n",
       "      <td>0.000000</td>\n",
       "      <td>0.000000</td>\n",
       "      <td>0.000000</td>\n",
       "      <td>0.000000</td>\n",
       "    </tr>\n",
       "    <tr>\n",
       "      <th>25%</th>\n",
       "      <td>4.700000e+05</td>\n",
       "      <td>0.000000</td>\n",
       "      <td>0.000000</td>\n",
       "      <td>0.000000</td>\n",
       "      <td>0.000000</td>\n",
       "      <td>0.000000</td>\n",
       "      <td>0.000000</td>\n",
       "      <td>0.000000</td>\n",
       "      <td>0.000000</td>\n",
       "      <td>0.000000</td>\n",
       "      <td>...</td>\n",
       "      <td>0.000000</td>\n",
       "      <td>0.000000</td>\n",
       "      <td>0.000000</td>\n",
       "      <td>0.000000</td>\n",
       "      <td>0.000000</td>\n",
       "      <td>0.000000</td>\n",
       "      <td>0.000000</td>\n",
       "      <td>0.000000</td>\n",
       "      <td>0.000000</td>\n",
       "      <td>0.000000</td>\n",
       "    </tr>\n",
       "    <tr>\n",
       "      <th>50%</th>\n",
       "      <td>9.000000e+05</td>\n",
       "      <td>1.000000</td>\n",
       "      <td>1.000000</td>\n",
       "      <td>1.000000</td>\n",
       "      <td>1.000000</td>\n",
       "      <td>1.000000</td>\n",
       "      <td>1.000000</td>\n",
       "      <td>1.000000</td>\n",
       "      <td>1.000000</td>\n",
       "      <td>1.000000</td>\n",
       "      <td>...</td>\n",
       "      <td>1.000000</td>\n",
       "      <td>1.000000</td>\n",
       "      <td>1.000000</td>\n",
       "      <td>1.000000</td>\n",
       "      <td>0.000000</td>\n",
       "      <td>0.000000</td>\n",
       "      <td>1.000000</td>\n",
       "      <td>1.000000</td>\n",
       "      <td>0.000000</td>\n",
       "      <td>0.000000</td>\n",
       "    </tr>\n",
       "    <tr>\n",
       "      <th>75%</th>\n",
       "      <td>1.720000e+06</td>\n",
       "      <td>1.000000</td>\n",
       "      <td>1.000000</td>\n",
       "      <td>1.000000</td>\n",
       "      <td>1.000000</td>\n",
       "      <td>1.000000</td>\n",
       "      <td>1.000000</td>\n",
       "      <td>1.000000</td>\n",
       "      <td>1.000000</td>\n",
       "      <td>1.000000</td>\n",
       "      <td>...</td>\n",
       "      <td>1.000000</td>\n",
       "      <td>1.000000</td>\n",
       "      <td>1.000000</td>\n",
       "      <td>1.000000</td>\n",
       "      <td>1.000000</td>\n",
       "      <td>1.000000</td>\n",
       "      <td>1.000000</td>\n",
       "      <td>1.000000</td>\n",
       "      <td>1.000000</td>\n",
       "      <td>1.000000</td>\n",
       "    </tr>\n",
       "    <tr>\n",
       "      <th>max</th>\n",
       "      <td>5.960435e+07</td>\n",
       "      <td>1.000000</td>\n",
       "      <td>1.000000</td>\n",
       "      <td>1.000000</td>\n",
       "      <td>1.000000</td>\n",
       "      <td>1.000000</td>\n",
       "      <td>1.000000</td>\n",
       "      <td>1.000000</td>\n",
       "      <td>1.000000</td>\n",
       "      <td>1.000000</td>\n",
       "      <td>...</td>\n",
       "      <td>1.000000</td>\n",
       "      <td>1.000000</td>\n",
       "      <td>1.000000</td>\n",
       "      <td>1.000000</td>\n",
       "      <td>1.000000</td>\n",
       "      <td>1.000000</td>\n",
       "      <td>1.000000</td>\n",
       "      <td>1.000000</td>\n",
       "      <td>1.000000</td>\n",
       "      <td>1.000000</td>\n",
       "    </tr>\n",
       "  </tbody>\n",
       "</table>\n",
       "<p>8 rows × 21 columns</p>\n",
       "</div>"
      ],
      "text/plain": [
       "              price      has_lock       has_abs  has_electro-mirrors  \\\n",
       "count  5.974600e+04  59746.000000  59746.000000         59746.000000   \n",
       "mean   1.365415e+06      0.738794      0.726944             0.671928   \n",
       "std    1.540523e+06      0.439296      0.445533             0.469515   \n",
       "min    2.000000e+04      0.000000      0.000000             0.000000   \n",
       "25%    4.700000e+05      0.000000      0.000000             0.000000   \n",
       "50%    9.000000e+05      1.000000      1.000000             1.000000   \n",
       "75%    1.720000e+06      1.000000      1.000000             1.000000   \n",
       "max    5.960435e+07      1.000000      1.000000             1.000000   \n",
       "\n",
       "       has_computer  has_airbag-driver  has_electro-window-front  \\\n",
       "count  59746.000000       59746.000000              59746.000000   \n",
       "mean       0.647073           0.632779                  0.620226   \n",
       "std        0.477884           0.482052                  0.485335   \n",
       "min        0.000000           0.000000                  0.000000   \n",
       "25%        0.000000           0.000000                  0.000000   \n",
       "50%        1.000000           1.000000                  1.000000   \n",
       "75%        1.000000           1.000000                  1.000000   \n",
       "max        1.000000           1.000000                  1.000000   \n",
       "\n",
       "       has_airbag-passenger  has_front-seats-heat      has_immo  ...  \\\n",
       "count          59746.000000          59746.000000  59746.000000  ...   \n",
       "mean               0.609882              0.599605      0.612777  ...   \n",
       "std                0.487781              0.489983      0.487119  ...   \n",
       "min                0.000000              0.000000      0.000000  ...   \n",
       "25%                0.000000              0.000000      0.000000  ...   \n",
       "50%                1.000000              1.000000      1.000000  ...   \n",
       "75%                1.000000              1.000000      1.000000  ...   \n",
       "max                1.000000              1.000000      1.000000  ...   \n",
       "\n",
       "       has_mirrors-heat  has_electro-window-back       has_usb       has_esp  \\\n",
       "count      59746.000000             59746.000000  59746.000000  59746.000000   \n",
       "mean           0.537157                 0.513206      0.542647      0.512068   \n",
       "std            0.498622                 0.499830      0.498182      0.499859   \n",
       "min            0.000000                 0.000000      0.000000      0.000000   \n",
       "25%            0.000000                 0.000000      0.000000      0.000000   \n",
       "50%            1.000000                 1.000000      1.000000      1.000000   \n",
       "75%            1.000000                 1.000000      1.000000      1.000000   \n",
       "max            1.000000                 1.000000      1.000000      1.000000   \n",
       "\n",
       "       has_wheel-power       has_aux  has_multi-wheel  \\\n",
       "count     59746.000000  59746.000000     59746.000000   \n",
       "mean          0.494075      0.484099         0.503816   \n",
       "std           0.499969      0.499751         0.499990   \n",
       "min           0.000000      0.000000         0.000000   \n",
       "25%           0.000000      0.000000         0.000000   \n",
       "50%           0.000000      0.000000         1.000000   \n",
       "75%           1.000000      1.000000         1.000000   \n",
       "max           1.000000      1.000000         1.000000   \n",
       "\n",
       "       has_wheel-configuration1  has_wheel-leather  has_airbag-side  \n",
       "count              59746.000000       59746.000000     59746.000000  \n",
       "mean                   0.511432           0.493272         0.474258  \n",
       "std                    0.499873           0.499959         0.499341  \n",
       "min                    0.000000           0.000000         0.000000  \n",
       "25%                    0.000000           0.000000         0.000000  \n",
       "50%                    1.000000           0.000000         0.000000  \n",
       "75%                    1.000000           1.000000         1.000000  \n",
       "max                    1.000000           1.000000         1.000000  \n",
       "\n",
       "[8 rows x 21 columns]"
      ]
     },
     "execution_count": 97,
     "metadata": {},
     "output_type": "execute_result"
    }
   ],
   "source": [
    "temp.describe()"
   ]
  },
  {
   "cell_type": "code",
   "execution_count": 98,
   "metadata": {},
   "outputs": [],
   "source": [
    "temp.drop('equipment_dict', inplace=True, axis=1)"
   ]
  },
  {
   "cell_type": "code",
   "execution_count": 99,
   "metadata": {},
   "outputs": [
    {
     "data": {
      "text/plain": [
       "['has_lock',\n",
       " 'has_abs',\n",
       " 'has_electro-mirrors',\n",
       " 'has_computer',\n",
       " 'has_airbag-driver',\n",
       " 'has_electro-window-front',\n",
       " 'has_airbag-passenger',\n",
       " 'has_front-seats-heat',\n",
       " 'has_immo',\n",
       " 'has_ptf',\n",
       " 'has_mirrors-heat',\n",
       " 'has_electro-window-back',\n",
       " 'has_usb',\n",
       " 'has_esp',\n",
       " 'has_wheel-power',\n",
       " 'has_aux',\n",
       " 'has_multi-wheel',\n",
       " 'has_wheel-configuration1',\n",
       " 'has_wheel-leather',\n",
       " 'has_airbag-side']"
      ]
     },
     "execution_count": 99,
     "metadata": {},
     "output_type": "execute_result"
    }
   ],
   "source": [
    "cols = list(temp.columns)\n",
    "cols.remove('price')\n",
    "cols"
   ]
  },
  {
   "cell_type": "code",
   "execution_count": 100,
   "metadata": {},
   "outputs": [
    {
     "name": "stdout",
     "output_type": "stream",
     "text": [
      "Average price values : has_lock\n",
      "0    8.005324e+05\n",
      "1    1.565133e+06\n",
      "Name: price, dtype: float64\n"
     ]
    },
    {
     "data": {
      "image/png": "[encoded data removed]",
      "text/plain": [
       "<Figure size 432x288 with 1 Axes>"
      ]
     },
     "metadata": {
      "needs_background": "light"
     },
     "output_type": "display_data"
    },
    {
     "name": "stdout",
     "output_type": "stream",
     "text": [
      "Average price values : has_abs\n",
      "0    7.554871e+05\n",
      "1    1.594517e+06\n",
      "Name: price, dtype: float64\n"
     ]
    },
    {
     "data": {
      "image/png": "[encoded data removed]",
      "text/plain": [
       "<Figure size 432x288 with 1 Axes>"
      ]
     },
     "metadata": {
      "needs_background": "light"
     },
     "output_type": "display_data"
    },
    {
     "name": "stdout",
     "output_type": "stream",
     "text": [
      "Average price values : has_electro-mirrors\n",
      "0    7.805501e+05\n",
      "1    1.650978e+06\n",
      "Name: price, dtype: float64\n"
     ]
    },
    {
     "data": {
      "image/png": "[encoded data removed]",
      "text/plain": [
       "<Figure size 432x288 with 1 Axes>"
      ]
     },
     "metadata": {
      "needs_background": "light"
     },
     "output_type": "display_data"
    },
    {
     "name": "stdout",
     "output_type": "stream",
     "text": [
      "Average price values : has_computer\n",
      "0    7.251666e+05\n",
      "1    1.714620e+06\n",
      "Name: price, dtype: float64\n"
     ]
    },
    {
     "data": {
      "image/png": "[encoded data removed]",
      "text/plain": [
       "<Figure size 432x288 with 1 Axes>"
      ]
     },
     "metadata": {
      "needs_background": "light"
     },
     "output_type": "display_data"
    },
    {
     "name": "stdout",
     "output_type": "stream",
     "text": [
      "Average price values : has_airbag-driver\n",
      "0    8.058732e+05\n",
      "1    1.690134e+06\n",
      "Name: price, dtype: float64\n"
     ]
    },
    {
     "data": {
      "image/png": "[encoded data removed]",
      "text/plain": [
       "<Figure size 432x288 with 1 Axes>"
      ]
     },
     "metadata": {
      "needs_background": "light"
     },
     "output_type": "display_data"
    },
    {
     "name": "stdout",
     "output_type": "stream",
     "text": [
      "Average price values : has_electro-window-front\n",
      "0    8.539571e+05\n",
      "1    1.678589e+06\n",
      "Name: price, dtype: float64\n"
     ]
    },
    {
     "data": {
      "image/png": "[encoded data removed]",
      "text/plain": [
       "<Figure size 432x288 with 1 Axes>"
      ]
     },
     "metadata": {
      "needs_background": "light"
     },
     "output_type": "display_data"
    },
    {
     "name": "stdout",
     "output_type": "stream",
     "text": [
      "Average price values : has_airbag-passenger\n",
      "0    7.898977e+05\n",
      "1    1.733551e+06\n",
      "Name: price, dtype: float64\n"
     ]
    },
    {
     "data": {
      "image/png": "[encoded data removed]",
      "text/plain": [
       "<Figure size 432x288 with 1 Axes>"
      ]
     },
     "metadata": {
      "needs_background": "light"
     },
     "output_type": "display_data"
    },
    {
     "name": "stdout",
     "output_type": "stream",
     "text": [
      "Average price values : has_front-seats-heat\n",
      "0    7.885305e+05\n",
      "1    1.750638e+06\n",
      "Name: price, dtype: float64\n"
     ]
    },
    {
     "data": {
      "image/png": "[encoded data removed]",
      "text/plain": [
       "<Figure size 432x288 with 1 Axes>"
      ]
     },
     "metadata": {
      "needs_background": "light"
     },
     "output_type": "display_data"
    },
    {
     "name": "stdout",
     "output_type": "stream",
     "text": [
      "Average price values : has_immo\n",
      "0    8.173380e+05\n",
      "1    1.711752e+06\n",
      "Name: price, dtype: float64\n"
     ]
    },
    {
     "data": {
      "image/png": "[encoded data removed]",
      "text/plain": [
       "<Figure size 432x288 with 1 Axes>"
      ]
     },
     "metadata": {
      "needs_background": "light"
     },
     "output_type": "display_data"
    },
    {
     "name": "stdout",
     "output_type": "stream",
     "text": [
      "Average price values : has_ptf\n",
      "0    1.063470e+06\n",
      "1    1.602815e+06\n",
      "Name: price, dtype: float64\n"
     ]
    },
    {
     "data": {
      "image/png": "[encoded data removed]",
      "text/plain": [
       "<Figure size 432x288 with 1 Axes>"
      ]
     },
     "metadata": {
      "needs_background": "light"
     },
     "output_type": "display_data"
    },
    {
     "name": "stdout",
     "output_type": "stream",
     "text": [
      "Average price values : has_mirrors-heat\n",
      "0    8.666117e+05\n",
      "1    1.795210e+06\n",
      "Name: price, dtype: float64\n"
     ]
    },
    {
     "data": {
      "image/png": "[encoded data removed]",
      "text/plain": [
       "<Figure size 432x288 with 1 Axes>"
      ]
     },
     "metadata": {
      "needs_background": "light"
     },
     "output_type": "display_data"
    },
    {
     "name": "stdout",
     "output_type": "stream",
     "text": [
      "Average price values : has_electro-window-back\n",
      "0    8.944488e+05\n",
      "1    1.812143e+06\n",
      "Name: price, dtype: float64\n"
     ]
    },
    {
     "data": {
      "image/png": "[encoded data removed]",
      "text/plain": [
       "<Figure size 432x288 with 1 Axes>"
      ]
     },
     "metadata": {
      "needs_background": "light"
     },
     "output_type": "display_data"
    },
    {
     "name": "stdout",
     "output_type": "stream",
     "text": [
      "Average price values : has_usb\n",
      "0    7.941649e+05\n",
      "1    1.846875e+06\n",
      "Name: price, dtype: float64\n"
     ]
    },
    {
     "data": {
      "image/png": "[encoded data removed]",
      "text/plain": [
       "<Figure size 432x288 with 1 Axes>"
      ]
     },
     "metadata": {
      "needs_background": "light"
     },
     "output_type": "display_data"
    },
    {
     "name": "stdout",
     "output_type": "stream",
     "text": [
      "Average price values : has_esp\n",
      "0    8.087230e+05\n",
      "1    1.895868e+06\n",
      "Name: price, dtype: float64\n"
     ]
    },
    {
     "data": {
      "image/png": "[encoded data removed]",
      "text/plain": [
       "<Figure size 432x288 with 1 Axes>"
      ]
     },
     "metadata": {
      "needs_background": "light"
     },
     "output_type": "display_data"
    },
    {
     "name": "stdout",
     "output_type": "stream",
     "text": [
      "Average price values : has_wheel-power\n",
      "0    1.581946e+06\n",
      "1    1.143690e+06\n",
      "Name: price, dtype: float64\n"
     ]
    },
    {
     "data": {
      "image/png": "[encoded data removed]",
      "text/plain": [
       "<Figure size 432x288 with 1 Axes>"
      ]
     },
     "metadata": {
      "needs_background": "light"
     },
     "output_type": "display_data"
    },
    {
     "name": "stdout",
     "output_type": "stream",
     "text": [
      "Average price values : has_aux\n",
      "0    1.034529e+06\n",
      "1    1.718038e+06\n",
      "Name: price, dtype: float64\n"
     ]
    },
    {
     "data": {
      "image/png": "[encoded data removed]",
      "text/plain": [
       "<Figure size 432x288 with 1 Axes>"
      ]
     },
     "metadata": {
      "needs_background": "light"
     },
     "output_type": "display_data"
    },
    {
     "name": "stdout",
     "output_type": "stream",
     "text": [
      "Average price values : has_multi-wheel\n",
      "0    7.556280e+05\n",
      "1    1.965964e+06\n",
      "Name: price, dtype: float64\n"
     ]
    },
    {
     "data": {
      "image/png": "[encoded data removed]",
      "text/plain": [
       "<Figure size 432x288 with 1 Axes>"
      ]
     },
     "metadata": {
      "needs_background": "light"
     },
     "output_type": "display_data"
    },
    {
     "name": "stdout",
     "output_type": "stream",
     "text": [
      "Average price values : has_wheel-configuration1\n",
      "0    1.106461e+06\n",
      "1    1.612792e+06\n",
      "Name: price, dtype: float64\n"
     ]
    },
    {
     "data": {
      "image/png": "[encoded data removed]",
      "text/plain": [
       "<Figure size 432x288 with 1 Axes>"
      ]
     },
     "metadata": {
      "needs_background": "light"
     },
     "output_type": "display_data"
    },
    {
     "name": "stdout",
     "output_type": "stream",
     "text": [
      "Average price values : has_wheel-leather\n",
      "0    7.860416e+05\n",
      "1    1.960594e+06\n",
      "Name: price, dtype: float64\n"
     ]
    },
    {
     "data": {
      "image/png": "[encoded data removed]",
      "text/plain": [
       "<Figure size 432x288 with 1 Axes>"
      ]
     },
     "metadata": {
      "needs_background": "light"
     },
     "output_type": "display_data"
    },
    {
     "name": "stdout",
     "output_type": "stream",
     "text": [
      "Average price values : has_airbag-side\n",
      "0    8.094439e+05\n",
      "1    1.981741e+06\n",
      "Name: price, dtype: float64\n"
     ]
    },
    {
     "data": {
      "image/png": "[encoded data removed]",
      "text/plain": [
       "<Figure size 432x288 with 1 Axes>"
      ]
     },
     "metadata": {
      "needs_background": "light"
     },
     "output_type": "display_data"
    }
   ],
   "source": [
    "# SCROLL DOWN to see all the results\n",
    "# It seems that all the features from top 20 except for has_wheel-power might make some difference.\n",
    "mass_box(temp, cols)"
   ]
  },
  {
   "cell_type": "code",
   "execution_count": 101,
   "metadata": {},
   "outputs": [],
   "source": [
    "# let's add these features to df_merged\n",
    "cols.remove('has_wheel-power')\n",
    "for i in cols:\n",
    "    df_merged[i] = df_merged['equipment_dict'].map(lambda x: 1 if i in list(df_cell_json(x).keys()) else 0)    "
   ]
  },
  {
   "cell_type": "code",
   "execution_count": 102,
   "metadata": {},
   "outputs": [
    {
     "name": "stdout",
     "output_type": "stream",
     "text": [
      "<class 'pandas.core.frame.DataFrame'>\n",
      "Int64Index: 94432 entries, 0 to 34685\n",
      "Data columns (total 42 columns):\n",
      " #   Column                    Non-Null Count  Dtype  \n",
      "---  ------                    --------------  -----  \n",
      " 0   bodyType                  94432 non-null  object \n",
      " 1   brand                     94432 non-null  object \n",
      " 2   fuelType                  94432 non-null  object \n",
      " 3   modelDate                 94432 non-null  float64\n",
      " 4   model_name                94432 non-null  object \n",
      " 5   numberOfDoors             94432 non-null  float64\n",
      " 6   productionDate            94432 non-null  int64  \n",
      " 7   vehicleTransmission       94432 non-null  object \n",
      " 8   vendor                    94432 non-null  object \n",
      " 9   engineDisplacement        94432 non-null  float64\n",
      " 10  enginePower               94432 non-null  float64\n",
      " 11  mileage                   94432 non-null  int64  \n",
      " 12  Привод                    94432 non-null  object \n",
      " 13  Руль                      94432 non-null  object \n",
      " 14  Владельцы                 94432 non-null  object \n",
      " 15  ПТС                       94432 non-null  object \n",
      " 16  Владение                  94432 non-null  int64  \n",
      " 17  price                     94432 non-null  float64\n",
      " 18  color                     94432 non-null  object \n",
      " 19  source                    94432 non-null  object \n",
      " 20  descriptionLength         94432 non-null  float64\n",
      " 21  officialDealerMentioned   94432 non-null  bool   \n",
      " 22  equipmentDictLength       94432 non-null  int64  \n",
      " 23  has_lock                  94432 non-null  int64  \n",
      " 24  has_abs                   94432 non-null  int64  \n",
      " 25  has_electro-mirrors       94432 non-null  int64  \n",
      " 26  has_computer              94432 non-null  int64  \n",
      " 27  has_airbag-driver         94432 non-null  int64  \n",
      " 28  has_electro-window-front  94432 non-null  int64  \n",
      " 29  has_airbag-passenger      94432 non-null  int64  \n",
      " 30  has_front-seats-heat      94432 non-null  int64  \n",
      " 31  has_immo                  94432 non-null  int64  \n",
      " 32  has_ptf                   94432 non-null  int64  \n",
      " 33  has_mirrors-heat          94432 non-null  int64  \n",
      " 34  has_electro-window-back   94432 non-null  int64  \n",
      " 35  has_usb                   94432 non-null  int64  \n",
      " 36  has_esp                   94432 non-null  int64  \n",
      " 37  has_aux                   94432 non-null  int64  \n",
      " 38  has_multi-wheel           94432 non-null  int64  \n",
      " 39  has_wheel-configuration1  94432 non-null  int64  \n",
      " 40  has_wheel-leather         94432 non-null  int64  \n",
      " 41  has_airbag-side           94432 non-null  int64  \n",
      "dtypes: bool(1), float64(6), int64(23), object(12)\n",
      "memory usage: 32.8+ MB\n"
     ]
    }
   ],
   "source": [
    "# dropping columns that we do not require anymore\n",
    "df_merged.drop(labels=['complectation_dict', 'equipment_dict', 'description', 'vehicleConfiguration', 'name', 'model_info'], inplace=True, axis=1)\n",
    "df_merged.info()"
   ]
  },
  {
   "cell_type": "markdown",
   "metadata": {},
   "source": [
    "## Additional checks "
   ]
  },
  {
   "cell_type": "code",
   "execution_count": 103,
   "metadata": {},
   "outputs": [],
   "source": [
    "df_merged['Владельцы'] = df_merged['Владельцы'].astype(int)\n",
    "df_merged['officialDealerMentioned'] = df_merged['officialDealerMentioned'].astype(int)"
   ]
  },
  {
   "cell_type": "code",
   "execution_count": 104,
   "metadata": {},
   "outputs": [
    {
     "name": "stdout",
     "output_type": "stream",
     "text": [
      "Numeric columns: ['modelDate', 'productionDate', 'engineDisplacement', 'enginePower', 'mileage', 'Владение', 'price', 'descriptionLength', 'equipmentDictLength', 'numberOfDoors', 'Владельцы']\n",
      "Categorical columns: ['bodyType', 'brand', 'fuelType', 'model_name', 'vehicleTransmission', 'vendor', 'Привод', 'Руль', 'ПТС', 'color', 'source']\n",
      "Binary columns: ['has_lock', 'has_abs', 'has_electro-mirrors', 'has_computer', 'has_airbag-driver', 'has_electro-window-front', 'has_airbag-passenger', 'has_front-seats-heat', 'has_immo', 'has_ptf', 'has_mirrors-heat', 'has_electro-window-back', 'has_usb', 'has_esp', 'has_aux', 'has_multi-wheel', 'has_wheel-configuration1', 'has_wheel-leather', 'has_airbag-side']\n"
     ]
    }
   ],
   "source": [
    "# I think we can tread productionDate and modelDate as numerics here\n",
    "num_cols = ['modelDate', 'productionDate', 'engineDisplacement', 'enginePower', 'mileage', 'Владение', 'price', 'descriptionLength', 'equipmentDictLength', 'numberOfDoors', 'Владельцы']\n",
    "cat_cols = []\n",
    "bin_cols = []\n",
    "\n",
    "for i, c in enumerate(df_merged.dtypes.index):\n",
    "    t = df_merged.dtypes.values[i]\n",
    "    if (t == 'int64') and (c not in num_cols):\n",
    "        bin_cols.append(c)\n",
    "    elif (t == 'object'):\n",
    "        cat_cols.append(c)\n",
    "\n",
    "print(f\"Numeric columns: {num_cols}\")\n",
    "print(f\"Categorical columns: {cat_cols}\")\n",
    "print(f\"Binary columns: {bin_cols}\")"
   ]
  },
  {
   "cell_type": "code",
   "execution_count": 105,
   "metadata": {},
   "outputs": [
    {
     "data": {
      "text/plain": [
       "<AxesSubplot:>"
      ]
     },
     "execution_count": 105,
     "metadata": {},
     "output_type": "execute_result"
    },
    {
     "data": {
      "image/png": "[encoded data removed]",
      "text/plain": [
       "<Figure size 720x720 with 2 Axes>"
      ]
     },
     "metadata": {
      "needs_background": "light"
     },
     "output_type": "display_data"
    }
   ],
   "source": [
    "# Correlation matrix shows a rather weak correlation between price and (Владение, numberOfDoors).\n",
    "# I won't get rid of these variable sright away, but I might later.\n",
    "\n",
    "# Some variables correlate with each other (like for example modelDate and productionDate), but that should not be a problem\n",
    "# for the algorithms I will be using.\n",
    "fig, ax = plt.subplots(figsize=(10,10))   \n",
    "sns.heatmap(df_merged[df_merged['source']=='train'][num_cols].corr().abs(), vmin=0, vmax=1, annot=True, ax=ax)"
   ]
  },
  {
   "cell_type": "markdown",
   "metadata": {
    "papermill": {
     "duration": 0.033657,
     "end_time": "2020-10-26T12:47:03.29162",
     "exception": false,
     "start_time": "2020-10-26T12:47:03.257963",
     "status": "completed"
    },
    "tags": []
   },
   "source": [
    "## Label Encoding"
   ]
  },
  {
   "cell_type": "code",
   "execution_count": 106,
   "metadata": {
    "execution": {
     "iopub.execute_input": "2020-10-26T12:47:03.371409Z",
     "iopub.status.busy": "2020-10-26T12:47:03.370451Z",
     "iopub.status.idle": "2020-10-26T12:47:03.40603Z",
     "shell.execute_reply": "2020-10-26T12:47:03.405053Z"
    },
    "papermill": {
     "duration": 0.080223,
     "end_time": "2020-10-26T12:47:03.406196",
     "exception": false,
     "start_time": "2020-10-26T12:47:03.325973",
     "status": "completed"
    },
    "tags": []
   },
   "outputs": [
    {
     "data": {
      "text/plain": [
       "source\n",
       "test     34686\n",
       "train    59746\n",
       "dtype: int64"
      ]
     },
     "execution_count": 106,
     "metadata": {},
     "output_type": "execute_result"
    }
   ],
   "source": [
    "# source allows to differentiate between test and train\n",
    "data = df_merged.copy()\n",
    "data.reset_index(drop=True, inplace=True) \n",
    "data.groupby('source').size()"
   ]
  },
  {
   "cell_type": "code",
   "execution_count": 107,
   "metadata": {},
   "outputs": [],
   "source": [
    "# let's try without most of bin_cols just for fun\n",
    "data.drop(labels=['has_lock', 'has_abs', 'has_electro-mirrors', 'has_computer', 'has_airbag-driver', 'has_electro-window-front', 'has_airbag-passenger', 'has_front-seats-heat', 'has_immo', 'has_ptf', 'has_mirrors-heat', 'has_electro-window-back', 'has_usb', 'has_esp', 'has_aux', 'has_multi-wheel', 'has_wheel-configuration1', 'has_wheel-leather', 'has_airbag-side'], inplace=True, axis=1)"
   ]
  },
  {
   "cell_type": "code",
   "execution_count": 108,
   "metadata": {},
   "outputs": [],
   "source": [
    "cat_cols.remove('source')\n",
    "num_cols.remove('price')"
   ]
  },
  {
   "cell_type": "code",
   "execution_count": 109,
   "metadata": {
    "execution": {
     "iopub.execute_input": "2020-10-26T12:47:03.489637Z",
     "iopub.status.busy": "2020-10-26T12:47:03.483022Z",
     "iopub.status.idle": "2020-10-26T12:47:03.549376Z",
     "shell.execute_reply": "2020-10-26T12:47:03.548539Z"
    },
    "papermill": {
     "duration": 0.10809,
     "end_time": "2020-10-26T12:47:03.549533",
     "exception": false,
     "start_time": "2020-10-26T12:47:03.441443",
     "status": "completed"
    },
    "tags": []
   },
   "outputs": [],
   "source": [
    "# saving the dictionary of categories to be able to access them by name and index if required\n",
    "cat_dict = {}\n",
    "for column in cat_cols:\n",
    "    data[column] = data[column].astype('category')\n",
    "    cat_dict[column] = data[column].cat.categories\n",
    "    data[column] = data[column].cat.codes"
   ]
  },
  {
   "cell_type": "code",
   "execution_count": 110,
   "metadata": {},
   "outputs": [
    {
     "data": {
      "text/html": [
       "<div>\n",
       "<style scoped>\n",
       "    .dataframe tbody tr th:only-of-type {\n",
       "        vertical-align: middle;\n",
       "    }\n",
       "\n",
       "    .dataframe tbody tr th {\n",
       "        vertical-align: top;\n",
       "    }\n",
       "\n",
       "    .dataframe thead th {\n",
       "        text-align: right;\n",
       "    }\n",
       "</style>\n",
       "<table border=\"1\" class=\"dataframe\">\n",
       "  <thead>\n",
       "    <tr style=\"text-align: right;\">\n",
       "      <th></th>\n",
       "      <th>bodyType</th>\n",
       "      <th>brand</th>\n",
       "      <th>fuelType</th>\n",
       "      <th>modelDate</th>\n",
       "      <th>model_name</th>\n",
       "      <th>numberOfDoors</th>\n",
       "      <th>productionDate</th>\n",
       "      <th>vehicleTransmission</th>\n",
       "      <th>vendor</th>\n",
       "      <th>engineDisplacement</th>\n",
       "      <th>...</th>\n",
       "      <th>Руль</th>\n",
       "      <th>Владельцы</th>\n",
       "      <th>ПТС</th>\n",
       "      <th>Владение</th>\n",
       "      <th>price</th>\n",
       "      <th>color</th>\n",
       "      <th>source</th>\n",
       "      <th>descriptionLength</th>\n",
       "      <th>officialDealerMentioned</th>\n",
       "      <th>equipmentDictLength</th>\n",
       "    </tr>\n",
       "  </thead>\n",
       "  <tbody>\n",
       "    <tr>\n",
       "      <th>0</th>\n",
       "      <td>1</td>\n",
       "      <td>4</td>\n",
       "      <td>0</td>\n",
       "      <td>1908.0</td>\n",
       "      <td>557</td>\n",
       "      <td>2.0</td>\n",
       "      <td>1923</td>\n",
       "      <td>2</td>\n",
       "      <td>0</td>\n",
       "      <td>2.9</td>\n",
       "      <td>...</td>\n",
       "      <td>0</td>\n",
       "      <td>1</td>\n",
       "      <td>2</td>\n",
       "      <td>13</td>\n",
       "      <td>3800000.0</td>\n",
       "      <td>4</td>\n",
       "      <td>train</td>\n",
       "      <td>395.0</td>\n",
       "      <td>0</td>\n",
       "      <td>0</td>\n",
       "    </tr>\n",
       "    <tr>\n",
       "      <th>1</th>\n",
       "      <td>17</td>\n",
       "      <td>4</td>\n",
       "      <td>0</td>\n",
       "      <td>1927.0</td>\n",
       "      <td>556</td>\n",
       "      <td>3.0</td>\n",
       "      <td>1927</td>\n",
       "      <td>2</td>\n",
       "      <td>0</td>\n",
       "      <td>3.3</td>\n",
       "      <td>...</td>\n",
       "      <td>0</td>\n",
       "      <td>1</td>\n",
       "      <td>2</td>\n",
       "      <td>167</td>\n",
       "      <td>4300000.0</td>\n",
       "      <td>13</td>\n",
       "      <td>train</td>\n",
       "      <td>149.0</td>\n",
       "      <td>0</td>\n",
       "      <td>0</td>\n",
       "    </tr>\n",
       "    <tr>\n",
       "      <th>2</th>\n",
       "      <td>17</td>\n",
       "      <td>4</td>\n",
       "      <td>0</td>\n",
       "      <td>1927.0</td>\n",
       "      <td>556</td>\n",
       "      <td>3.0</td>\n",
       "      <td>1928</td>\n",
       "      <td>2</td>\n",
       "      <td>0</td>\n",
       "      <td>3.3</td>\n",
       "      <td>...</td>\n",
       "      <td>0</td>\n",
       "      <td>1</td>\n",
       "      <td>2</td>\n",
       "      <td>13</td>\n",
       "      <td>3350000.0</td>\n",
       "      <td>6</td>\n",
       "      <td>train</td>\n",
       "      <td>71.0</td>\n",
       "      <td>0</td>\n",
       "      <td>0</td>\n",
       "    </tr>\n",
       "    <tr>\n",
       "      <th>3</th>\n",
       "      <td>11</td>\n",
       "      <td>4</td>\n",
       "      <td>0</td>\n",
       "      <td>1932.0</td>\n",
       "      <td>855</td>\n",
       "      <td>2.0</td>\n",
       "      <td>1932</td>\n",
       "      <td>2</td>\n",
       "      <td>0</td>\n",
       "      <td>3.6</td>\n",
       "      <td>...</td>\n",
       "      <td>0</td>\n",
       "      <td>1</td>\n",
       "      <td>2</td>\n",
       "      <td>77</td>\n",
       "      <td>2700000.0</td>\n",
       "      <td>15</td>\n",
       "      <td>train</td>\n",
       "      <td>210.0</td>\n",
       "      <td>0</td>\n",
       "      <td>0</td>\n",
       "    </tr>\n",
       "    <tr>\n",
       "      <th>4</th>\n",
       "      <td>11</td>\n",
       "      <td>4</td>\n",
       "      <td>0</td>\n",
       "      <td>1932.0</td>\n",
       "      <td>855</td>\n",
       "      <td>2.0</td>\n",
       "      <td>1932</td>\n",
       "      <td>2</td>\n",
       "      <td>0</td>\n",
       "      <td>3.6</td>\n",
       "      <td>...</td>\n",
       "      <td>0</td>\n",
       "      <td>2</td>\n",
       "      <td>1</td>\n",
       "      <td>13</td>\n",
       "      <td>580000.0</td>\n",
       "      <td>15</td>\n",
       "      <td>train</td>\n",
       "      <td>143.0</td>\n",
       "      <td>0</td>\n",
       "      <td>0</td>\n",
       "    </tr>\n",
       "    <tr>\n",
       "      <th>...</th>\n",
       "      <td>...</td>\n",
       "      <td>...</td>\n",
       "      <td>...</td>\n",
       "      <td>...</td>\n",
       "      <td>...</td>\n",
       "      <td>...</td>\n",
       "      <td>...</td>\n",
       "      <td>...</td>\n",
       "      <td>...</td>\n",
       "      <td>...</td>\n",
       "      <td>...</td>\n",
       "      <td>...</td>\n",
       "      <td>...</td>\n",
       "      <td>...</td>\n",
       "      <td>...</td>\n",
       "      <td>...</td>\n",
       "      <td>...</td>\n",
       "      <td>...</td>\n",
       "      <td>...</td>\n",
       "      <td>...</td>\n",
       "      <td>...</td>\n",
       "    </tr>\n",
       "    <tr>\n",
       "      <th>94427</th>\n",
       "      <td>11</td>\n",
       "      <td>1</td>\n",
       "      <td>0</td>\n",
       "      <td>2011.0</td>\n",
       "      <td>43</td>\n",
       "      <td>4.0</td>\n",
       "      <td>2014</td>\n",
       "      <td>0</td>\n",
       "      <td>1</td>\n",
       "      <td>3.1</td>\n",
       "      <td>...</td>\n",
       "      <td>0</td>\n",
       "      <td>3</td>\n",
       "      <td>2</td>\n",
       "      <td>25</td>\n",
       "      <td>-1.0</td>\n",
       "      <td>6</td>\n",
       "      <td>test</td>\n",
       "      <td>414.0</td>\n",
       "      <td>1</td>\n",
       "      <td>42</td>\n",
       "    </tr>\n",
       "    <tr>\n",
       "      <th>94428</th>\n",
       "      <td>11</td>\n",
       "      <td>1</td>\n",
       "      <td>3</td>\n",
       "      <td>2016.0</td>\n",
       "      <td>58</td>\n",
       "      <td>4.0</td>\n",
       "      <td>2018</td>\n",
       "      <td>0</td>\n",
       "      <td>1</td>\n",
       "      <td>5.2</td>\n",
       "      <td>...</td>\n",
       "      <td>0</td>\n",
       "      <td>1</td>\n",
       "      <td>2</td>\n",
       "      <td>13</td>\n",
       "      <td>-1.0</td>\n",
       "      <td>15</td>\n",
       "      <td>test</td>\n",
       "      <td>30.0</td>\n",
       "      <td>0</td>\n",
       "      <td>0</td>\n",
       "    </tr>\n",
       "    <tr>\n",
       "      <th>94429</th>\n",
       "      <td>11</td>\n",
       "      <td>1</td>\n",
       "      <td>0</td>\n",
       "      <td>1995.0</td>\n",
       "      <td>58</td>\n",
       "      <td>4.0</td>\n",
       "      <td>1997</td>\n",
       "      <td>0</td>\n",
       "      <td>1</td>\n",
       "      <td>5.2</td>\n",
       "      <td>...</td>\n",
       "      <td>0</td>\n",
       "      <td>3</td>\n",
       "      <td>1</td>\n",
       "      <td>13</td>\n",
       "      <td>-1.0</td>\n",
       "      <td>12</td>\n",
       "      <td>test</td>\n",
       "      <td>17.0</td>\n",
       "      <td>0</td>\n",
       "      <td>0</td>\n",
       "    </tr>\n",
       "    <tr>\n",
       "      <th>94430</th>\n",
       "      <td>0</td>\n",
       "      <td>1</td>\n",
       "      <td>3</td>\n",
       "      <td>2012.0</td>\n",
       "      <td>909</td>\n",
       "      <td>5.0</td>\n",
       "      <td>2013</td>\n",
       "      <td>0</td>\n",
       "      <td>1</td>\n",
       "      <td>2.0</td>\n",
       "      <td>...</td>\n",
       "      <td>0</td>\n",
       "      <td>2</td>\n",
       "      <td>2</td>\n",
       "      <td>13</td>\n",
       "      <td>-1.0</td>\n",
       "      <td>6</td>\n",
       "      <td>test</td>\n",
       "      <td>596.0</td>\n",
       "      <td>1</td>\n",
       "      <td>45</td>\n",
       "    </tr>\n",
       "    <tr>\n",
       "      <th>94431</th>\n",
       "      <td>0</td>\n",
       "      <td>1</td>\n",
       "      <td>3</td>\n",
       "      <td>2006.0</td>\n",
       "      <td>915</td>\n",
       "      <td>5.0</td>\n",
       "      <td>2008</td>\n",
       "      <td>0</td>\n",
       "      <td>1</td>\n",
       "      <td>3.0</td>\n",
       "      <td>...</td>\n",
       "      <td>0</td>\n",
       "      <td>3</td>\n",
       "      <td>2</td>\n",
       "      <td>73</td>\n",
       "      <td>-1.0</td>\n",
       "      <td>15</td>\n",
       "      <td>test</td>\n",
       "      <td>511.0</td>\n",
       "      <td>0</td>\n",
       "      <td>10</td>\n",
       "    </tr>\n",
       "  </tbody>\n",
       "</table>\n",
       "<p>94432 rows × 23 columns</p>\n",
       "</div>"
      ],
      "text/plain": [
       "       bodyType  brand  fuelType  modelDate  model_name  numberOfDoors  \\\n",
       "0             1      4         0     1908.0         557            2.0   \n",
       "1            17      4         0     1927.0         556            3.0   \n",
       "2            17      4         0     1927.0         556            3.0   \n",
       "3            11      4         0     1932.0         855            2.0   \n",
       "4            11      4         0     1932.0         855            2.0   \n",
       "...         ...    ...       ...        ...         ...            ...   \n",
       "94427        11      1         0     2011.0          43            4.0   \n",
       "94428        11      1         3     2016.0          58            4.0   \n",
       "94429        11      1         0     1995.0          58            4.0   \n",
       "94430         0      1         3     2012.0         909            5.0   \n",
       "94431         0      1         3     2006.0         915            5.0   \n",
       "\n",
       "       productionDate  vehicleTransmission  vendor  engineDisplacement  ...  \\\n",
       "0                1923                    2       0                 2.9  ...   \n",
       "1                1927                    2       0                 3.3  ...   \n",
       "2                1928                    2       0                 3.3  ...   \n",
       "3                1932                    2       0                 3.6  ...   \n",
       "4                1932                    2       0                 3.6  ...   \n",
       "...               ...                  ...     ...                 ...  ...   \n",
       "94427            2014                    0       1                 3.1  ...   \n",
       "94428            2018                    0       1                 5.2  ...   \n",
       "94429            1997                    0       1                 5.2  ...   \n",
       "94430            2013                    0       1                 2.0  ...   \n",
       "94431            2008                    0       1                 3.0  ...   \n",
       "\n",
       "       Руль  Владельцы  ПТС  Владение      price  color  source  \\\n",
       "0         0          1    2        13  3800000.0      4   train   \n",
       "1         0          1    2       167  4300000.0     13   train   \n",
       "2         0          1    2        13  3350000.0      6   train   \n",
       "3         0          1    2        77  2700000.0     15   train   \n",
       "4         0          2    1        13   580000.0     15   train   \n",
       "...     ...        ...  ...       ...        ...    ...     ...   \n",
       "94427     0          3    2        25       -1.0      6    test   \n",
       "94428     0          1    2        13       -1.0     15    test   \n",
       "94429     0          3    1        13       -1.0     12    test   \n",
       "94430     0          2    2        13       -1.0      6    test   \n",
       "94431     0          3    2        73       -1.0     15    test   \n",
       "\n",
       "       descriptionLength  officialDealerMentioned equipmentDictLength  \n",
       "0                  395.0                        0                   0  \n",
       "1                  149.0                        0                   0  \n",
       "2                   71.0                        0                   0  \n",
       "3                  210.0                        0                   0  \n",
       "4                  143.0                        0                   0  \n",
       "...                  ...                      ...                 ...  \n",
       "94427              414.0                        1                  42  \n",
       "94428               30.0                        0                   0  \n",
       "94429               17.0                        0                   0  \n",
       "94430              596.0                        1                  45  \n",
       "94431              511.0                        0                  10  \n",
       "\n",
       "[94432 rows x 23 columns]"
      ]
     },
     "execution_count": 110,
     "metadata": {},
     "output_type": "execute_result"
    }
   ],
   "source": [
    "data"
   ]
  },
  {
   "cell_type": "code",
   "execution_count": 111,
   "metadata": {},
   "outputs": [
    {
     "data": {
      "text/plain": [
       "{'bodyType': Index(['внедорожник', 'кабриолет', 'компактвэн', 'купе', 'купе-хардтоп',\n",
       "        'лимузин', 'лифтбек', 'микровэн', 'минивэн', 'пикап', 'родстер',\n",
       "        'седан', 'седан-хардтоп', 'тарга', 'универсал', 'фастбек', 'фургон',\n",
       "        'хэтчбек'],\n",
       "       dtype='object'),\n",
       " 'brand': Index(['AUDI', 'BMW', 'CHEVROLET', 'CITROEN', 'FORD', 'HONDA', 'HYUNDAI',\n",
       "        'INFINITI', 'JEEP', 'KIA', 'LEXUS', 'MAZDA', 'MERCEDES', 'MINI',\n",
       "        'MITSUBISHI', 'NISSAN', 'OPEL', 'PEUGEOT', 'PORSCHE', 'RENAULT',\n",
       "        'SKODA', 'SUBARU', 'SUZUKI', 'TOYOTA', 'VOLKSWAGEN', 'VOLVO'],\n",
       "       dtype='object'),\n",
       " 'fuelType': Index(['бензин', 'газ', 'гибрид', 'дизель', 'электро'], dtype='object'),\n",
       " 'model_name': Index(['02', '100', '1007', '100NX', '100_SERIES', '106', '107', '120', '1200',\n",
       "        '121',\n",
       "        ...\n",
       "        'YETI', 'Z', 'Z1', 'Z3', 'Z3M', 'Z4', 'ZAFIRA', 'ZAFIRA_LIFE', 'ZEPHYR',\n",
       "        'ZEST'],\n",
       "       dtype='object', length=948),\n",
       " 'vehicleTransmission': Index(['автоматическая', 'вариатор', 'механическая', 'роботизированная'], dtype='object'),\n",
       " 'vendor': Index(['AMERICAN', 'EUROPEAN', 'JAPANESE', 'KOREAN'], dtype='object'),\n",
       " 'Привод': Index(['задний', 'передний', 'полный'], dtype='object'),\n",
       " 'Руль': Index(['левый', 'правый'], dtype='object'),\n",
       " 'ПТС': Index(['other', 'дубликат', 'оригинал'], dtype='object'),\n",
       " 'color': Index(['бежевый', 'белый', 'голубой', 'жёлтый', 'зелёный', 'золотистый',\n",
       "        'коричневый', 'красный', 'оранжевый', 'пурпурный', 'розовый',\n",
       "        'серебристый', 'серый', 'синий', 'фиолетовый', 'чёрный'],\n",
       "       dtype='object')}"
      ]
     },
     "execution_count": 111,
     "metadata": {},
     "output_type": "execute_result"
    }
   ],
   "source": [
    "cat_dict"
   ]
  },
  {
   "cell_type": "code",
   "execution_count": 112,
   "metadata": {
    "execution": {
     "iopub.execute_input": "2020-10-26T12:47:03.727044Z",
     "iopub.status.busy": "2020-10-26T12:47:03.725742Z",
     "iopub.status.idle": "2020-10-26T12:47:03.753844Z",
     "shell.execute_reply": "2020-10-26T12:47:03.753001Z"
    },
    "papermill": {
     "duration": 0.071275,
     "end_time": "2020-10-26T12:47:03.754",
     "exception": false,
     "start_time": "2020-10-26T12:47:03.682725",
     "status": "completed"
    },
    "tags": []
   },
   "outputs": [],
   "source": [
    "y = data.query('source == \"train\"')['price']\n",
    "X = data.query('source == \"train\"').drop(['source', 'price'], axis=1)\n",
    "X_sub = data.query('source == \"test\"').drop(['source', 'price'], axis=1)"
   ]
  },
  {
   "cell_type": "markdown",
   "metadata": {
    "papermill": {
     "duration": 0.035737,
     "end_time": "2020-10-26T12:47:03.826552",
     "exception": false,
     "start_time": "2020-10-26T12:47:03.790815",
     "status": "completed"
    },
    "tags": []
   },
   "source": [
    "## Train Split"
   ]
  },
  {
   "cell_type": "code",
   "execution_count": 113,
   "metadata": {
    "execution": {
     "iopub.execute_input": "2020-10-26T12:47:03.90948Z",
     "iopub.status.busy": "2020-10-26T12:47:03.908518Z",
     "iopub.status.idle": "2020-10-26T12:47:03.923409Z",
     "shell.execute_reply": "2020-10-26T12:47:03.922602Z"
    },
    "papermill": {
     "duration": 0.059208,
     "end_time": "2020-10-26T12:47:03.923564",
     "exception": false,
     "start_time": "2020-10-26T12:47:03.864356",
     "status": "completed"
    },
    "tags": []
   },
   "outputs": [],
   "source": [
    "X_train, X_test, y_train, y_test = train_test_split(X, y, test_size=VAL_SIZE, shuffle=True, random_state=RANDOM_SEED)"
   ]
  },
  {
   "cell_type": "markdown",
   "metadata": {},
   "source": [
    "# Model 1: Создадим \"наивную\" модель \n",
    "Эта модель будет предсказывать среднюю цену по модели двигателя (engineDisplacement). \n",
    "C ней будем сравнивать другие модели.\n",
    "\n",
    "\n"
   ]
  },
  {
   "cell_type": "code",
   "execution_count": 114,
   "metadata": {},
   "outputs": [],
   "source": [
    "tmp_train = X_train.copy()\n",
    "tmp_train['price'] = y_train"
   ]
  },
  {
   "cell_type": "code",
   "execution_count": 115,
   "metadata": {},
   "outputs": [
    {
     "name": "stdout",
     "output_type": "stream",
     "text": [
      "Ошибка наивной модели по метрике MAPE: 95.96%\n"
     ]
    }
   ],
   "source": [
    "# Находим median по экземплярам engineDisplacement в трейне и размечаем тест\n",
    "predict = X_test['engineDisplacement'].map(tmp_train.groupby('engineDisplacement')['price'].median())\n",
    "\n",
    "#оцениваем точность\n",
    "print(f\"Ошибка наивной модели по метрике MAPE: {(mape(y_test, predict.values))*100:0.2f}%\")"
   ]
  },
  {
   "cell_type": "markdown",
   "metadata": {},
   "source": [
    "# IMPORTANT: models below might take a long time to train. That's why I commented out all of them except the one I used for the final submission. Each model has a comment that explains why was it commented out or left uncommented! #"
   ]
  },
  {
   "cell_type": "markdown",
   "metadata": {
    "papermill": {
     "duration": 0.037164,
     "end_time": "2020-10-26T12:47:03.997616",
     "exception": false,
     "start_time": "2020-10-26T12:47:03.960452",
     "status": "completed"
    },
    "tags": []
   },
   "source": [
    "# # Model 2 : CatBoost\n",
    "![](https://pbs.twimg.com/media/DP-jUCyXcAArRTo.png:large)   \n",
    "\n",
    "\n",
    "У нас в данных практически все признаки категориальные. Специально для работы с такими данными была создана очень удобная библиотека CatBoost от Яндекса. [https://catboost.ai](http://)     \n",
    "На данный момент **CatBoost является одной из лучших библиотек для табличных данных!**\n",
    "\n",
    "#### Полезные видео о CatBoost (на русском):\n",
    "* [Доклад про CatBoost](https://youtu.be/9ZrfErvm97M)\n",
    "* [Свежий Туториал от команды CatBoost (практическая часть)](https://youtu.be/wQt4kgAOgV0) "
   ]
  },
  {
   "cell_type": "markdown",
   "metadata": {
    "papermill": {
     "duration": 0.035833,
     "end_time": "2020-10-26T12:47:04.149539",
     "exception": false,
     "start_time": "2020-10-26T12:47:04.113706",
     "status": "completed"
    },
    "tags": []
   },
   "source": [
    "## Fit"
   ]
  },
  {
   "cell_type": "markdown",
   "metadata": {},
   "source": [
    "**Very good model, but the one with logarithm appliet to target variable is better (see below). That's why this one is commented out: Ошибка модели по метрике MAPE: 11.45%**"
   ]
  },
  {
   "cell_type": "code",
   "execution_count": 116,
   "metadata": {
    "execution": {
     "iopub.execute_input": "2020-10-26T12:47:04.256865Z",
     "iopub.status.busy": "2020-10-26T12:47:04.248328Z",
     "iopub.status.idle": "2020-10-26T12:48:12.17834Z",
     "shell.execute_reply": "2020-10-26T12:48:12.17762Z"
    },
    "papermill": {
     "duration": 67.991521,
     "end_time": "2020-10-26T12:48:12.178488",
     "exception": false,
     "start_time": "2020-10-26T12:47:04.186967",
     "status": "completed"
    },
    "tags": []
   },
   "outputs": [],
   "source": [
    "# model = CatBoostRegressor(iterations = 5000,\n",
    "#                           random_seed = RANDOM_SEED,\n",
    "#                           eval_metric='MAPE',\n",
    "#                           custom_metric=['R2', 'MAE'],\n",
    "#                           silent=True,\n",
    "#                          )\n",
    "# model.fit(X_train, y_train,\n",
    "#          #cat_features=cat_features_ids,\n",
    "#          eval_set=(X_test, y_test),\n",
    "#          verbose_eval=0,\n",
    "#          use_best_model=True,\n",
    "#          #plot=True\n",
    "#          )\n",
    "\n",
    "# model.save_model('catboost_single_model_baseline.model')"
   ]
  },
  {
   "cell_type": "code",
   "execution_count": 117,
   "metadata": {},
   "outputs": [],
   "source": [
    "# # оцениваем точность\n",
    "# predict = model.predict(X_test)\n",
    "# print(f\"Ошибка модели по метрике MAPE: {(mape(y_test, predict))*100:0.2f}%\")"
   ]
  },
  {
   "cell_type": "markdown",
   "metadata": {},
   "source": [
    "### Log Traget\n",
    "Попробуем взять таргет в логорифм - это позволит уменьшить влияние выбросов на обучение модели (используем для этого np.log и np.exp).    \n",
    "В принциепе мы можем использовать любое приобразование на целевую переменную. Например деление на курс доллара, евро или гречки :) в дату сбора данных, смотрим дату парсинга в тесте в **parsing_unixtime**"
   ]
  },
  {
   "cell_type": "code",
   "execution_count": 118,
   "metadata": {},
   "outputs": [
    {
     "data": {
      "text/plain": [
       "20070    13.383188\n",
       "41801    13.527828\n",
       "55207    14.485901\n",
       "38161    13.978479\n",
       "33470    13.102161\n",
       "           ...    \n",
       "54343    14.396811\n",
       "38158    14.503645\n",
       "860      11.775290\n",
       "15795    13.081541\n",
       "56422    15.263629\n",
       "Name: price, Length: 47796, dtype: float64"
      ]
     },
     "execution_count": 118,
     "metadata": {},
     "output_type": "execute_result"
    }
   ],
   "source": [
    "np.log(y_train)"
   ]
  },
  {
   "cell_type": "markdown",
   "metadata": {},
   "source": [
    "**Very good model, but other algorithm (DecisionTrees) worked slightly better (see \"Own models\" section below below). CatBoost showed MAPE = 10.09% on train data, but the result on a leaderboard was weaker than DecisionTrees from my models. That's why I commented CatBoost out as well.**"
   ]
  },
  {
   "cell_type": "code",
   "execution_count": 119,
   "metadata": {},
   "outputs": [],
   "source": [
    "# model = CatBoostRegressor(iterations = 5000,\n",
    "#                           random_seed = RANDOM_SEED,\n",
    "#                           eval_metric='MAPE',\n",
    "#                           custom_metric=['R2', 'MAE'],\n",
    "#                           silent=True,\n",
    "#                          )\n",
    "# model.fit(X_train, np.log(y_train),\n",
    "#          #cat_features=cat_features_ids,\n",
    "#          eval_set=(X_test, np.log(y_test)),\n",
    "#          verbose_eval=0,\n",
    "#          use_best_model=True,\n",
    "#          #plot=True\n",
    "#          )\n",
    "\n",
    "# model.save_model('catboost_single_model_2_baseline.model')"
   ]
  },
  {
   "cell_type": "code",
   "execution_count": 120,
   "metadata": {},
   "outputs": [],
   "source": [
    "# predict_test = np.exp(model.predict(X_test))\n",
    "# predict_submission = np.exp(model.predict(X_sub))\n",
    "# print(f\"Ошибка модели по метрике MAPE: {(mape(y_test, predict_test))*100:0.2f}%\")"
   ]
  },
  {
   "cell_type": "markdown",
   "metadata": {},
   "source": [
    "# Own models"
   ]
  },
  {
   "cell_type": "markdown",
   "metadata": {},
   "source": [
    "## Model 3 (decision tree regressor)"
   ]
  },
  {
   "cell_type": "code",
   "execution_count": 121,
   "metadata": {},
   "outputs": [],
   "source": [
    "from sklearn.model_selection import GridSearchCV\n",
    "from sklearn import metrics\n",
    "from sklearn.tree import DecisionTreeRegressor"
   ]
  },
  {
   "cell_type": "markdown",
   "metadata": {},
   "source": [
    "**Decision Tree result without hyperparameter tuning was OK, but still not as good as CatBoost. Commenting it out, because: Ошибка модели по метрике MAPE: 15.41%**"
   ]
  },
  {
   "cell_type": "code",
   "execution_count": 122,
   "metadata": {},
   "outputs": [],
   "source": [
    "# The most basic approach (no hyperparameters)\n",
    "\n",
    "# dt = DecisionTreeRegressor(random_state=RANDOM_SEED)\n",
    "# dt.fit(X_train, np.log(y_train))\n",
    "# dt_predict = dt.predict(X_test)\n",
    "\n",
    "# predict_test = np.exp(dt.predict(X_test))\n",
    "# predict_submission = np.exp(dt.predict(X_sub))\n",
    "\n",
    "# print(f\"Ошибка модели по метрике MAPE: {(mape(y_test, predict_test))*100:0.2f}%\")"
   ]
  },
  {
   "cell_type": "markdown",
   "metadata": {},
   "source": [
    "**I commented out the result below as well because with hyperparameters it got even weaker results: Ошибка модели по метрике MAPE: 20.85%**"
   ]
  },
  {
   "cell_type": "code",
   "execution_count": 123,
   "metadata": {},
   "outputs": [],
   "source": [
    "# Kaggle notebook fails when trying to execute this code. I did it on my PC (took a couple of hours) and got the hyperparameters (please see next cell)\n",
    "\n",
    "# # Let's try some hyperparameters\n",
    "# param_grid = {\"criterion\": [\"mse\", \"mae\"],\n",
    "#               \"min_samples_split\": [10, 20, 40],\n",
    "#               \"max_depth\": [2, 6, 8],\n",
    "#               \"min_samples_leaf\": [20, 40, 100],\n",
    "#               \"max_leaf_nodes\": [5, 20, 100],\n",
    "#               }\n",
    "\n",
    "# # Creating a search grid with 5-fold cross-validation based on a previously defined grid\n",
    "# clf = GridSearchCV(dt, param_grid, cv=5, verbose=0, scoring='neg_mean_absolute_error', n_jobs=-1)\n",
    "\n",
    "# best_model = clf.fit(X_train_log, np.log(y_train))"
   ]
  },
  {
   "cell_type": "code",
   "execution_count": 124,
   "metadata": {},
   "outputs": [],
   "source": [
    "# Please see comments from a previous cell\n",
    "# It wasn't worth it anyway - got even worse result\n",
    "\n",
    "# dt = DecisionTreeRegressor(criterion='mae', max_depth=8, max_leaf_nodes=100, min_samples_leaf=40,\n",
    "#                            random_state=RANDOM_SEED, min_samples_split=10)\n",
    "# dt.fit(X_train, np.log(y_train))\n",
    "# dt_predict = dt.predict(X_test)\n",
    "\n",
    "# predict_test = np.exp(dt.predict(X_test))\n",
    "# predict_submission = np.exp(dt.predict(X_sub))\n",
    "\n",
    "# print(f\"Ошибка модели по метрике MAPE: {(mape(y_test, predict_test))*100:0.2f}%\")"
   ]
  },
  {
   "cell_type": "markdown",
   "metadata": {},
   "source": [
    "## Model 4 ensemble (bagging regressor or random forrest)"
   ]
  },
  {
   "cell_type": "code",
   "execution_count": 125,
   "metadata": {},
   "outputs": [],
   "source": [
    "from sklearn.ensemble import BaggingRegressor, RandomForestRegressor"
   ]
  },
  {
   "cell_type": "markdown",
   "metadata": {},
   "source": [
    "**BaggingRegressor took a very long time to train and provided a weak result: Ошибка модели по метрике MAPE: 25.98%. Tried n_estimators = 1000 on my PC as well (on kaggle 1000 was too much), but the result wasn't good either. Commenting it out.**"
   ]
  },
  {
   "cell_type": "code",
   "execution_count": 126,
   "metadata": {},
   "outputs": [],
   "source": [
    "# max_feat = round(np.sqrt(X_train.shape[1]))\n",
    "# br = BaggingRegressor(base_estimator=dt, n_estimators=100, max_features=int(max_feat), random_state=RANDOM_SEED)\n",
    "# br.fit(X_train, np.log(y_train))\n",
    "# br_predict = br.predict(X_test)\n",
    "\n",
    "# predict_test = np.exp(br.predict(X_test))\n",
    "# predict_submission = np.exp(br.predict(X_sub))\n",
    "\n",
    "# print(f\"Ошибка модели по метрике MAPE: {(mape(y_test, predict_test))*100:0.2f}%\")"
   ]
  },
  {
   "cell_type": "markdown",
   "metadata": {},
   "source": [
    "**Even though MAPE for RandomForestRegressor is 10.27%, it actually showed the best result on the leaderboard (15.53886) comparing to other models I used. That's why I will leave this one uncommented and consider it my final result. Please see the rest of the notebook for further attempts and comments.**"
   ]
  },
  {
   "cell_type": "code",
   "execution_count": 127,
   "metadata": {},
   "outputs": [
    {
     "name": "stdout",
     "output_type": "stream",
     "text": [
      "Ошибка модели по метрике MAPE: 10.27%\n"
     ]
    }
   ],
   "source": [
    "rf = RandomForestRegressor(random_state=RANDOM_SEED, n_estimators=2000)\n",
    "rf.fit(X_train, np.log(y_train))\n",
    "rf_predict = rf.predict(X_test)\n",
    "\n",
    "predict_test = np.exp(rf.predict(X_test))\n",
    "predict_submission = np.exp(rf.predict(X_sub))\n",
    "\n",
    "print(f\"Ошибка модели по метрике MAPE: {(mape(y_test, predict_test))*100:0.2f}%\")"
   ]
  },
  {
   "cell_type": "markdown",
   "metadata": {},
   "source": [
    "## Additional experiments with Random ForestRegressor\n",
    "\n",
    "**1) I tried experimenting with the most important features (top 10, top 15), but the result was always better on all of the feature set.**"
   ]
  },
  {
   "cell_type": "code",
   "execution_count": 128,
   "metadata": {},
   "outputs": [
    {
     "data": {
      "image/png": "[encoded data removed]",
      "text/plain": [
       "<Figure size 1080x1440 with 1 Axes>"
      ]
     },
     "metadata": {
      "needs_background": "light"
     },
     "output_type": "display_data"
    }
   ],
   "source": [
    "ranking = np.argsort(-rf.feature_importances_)\n",
    "f, ax = plt.subplots(figsize=(15, 20))\n",
    "sns.barplot(x=rf.feature_importances_[ranking], y=X_train.columns.values[ranking], orient='h')\n",
    "ax.set_xlabel(\"feature importance\")\n",
    "plt.tight_layout()"
   ]
  },
  {
   "cell_type": "markdown",
   "metadata": {},
   "source": [
    "**2) I also tried to do some hyperparameter tuning, but the job took more than 24 hours and still didn't return the result. Either I did something wrong or RandomForrestRegressor is too greedy for resources (I guess both statements are correct :) ). Below is an example of what I tried to do with hyperparameters. It's here only for reference - please don't try to execute it - it will take forever or even fail.**"
   ]
  },
  {
   "cell_type": "code",
   "execution_count": 129,
   "metadata": {},
   "outputs": [],
   "source": [
    "# # Let's try hyperparameters for RandomForest\n",
    "# param_grid = {\n",
    "#     'bootstrap': [True, False],\n",
    "#     'max_depth': [10, 20, 30, 40, 50, 60, 70, 80, 90, 100, None],\n",
    "#     'max_features': ['auto', 'sqrt'],\n",
    "#     'min_samples_leaf': [1, 2, 4],\n",
    "#     'min_samples_split': [2, 5, 10],\n",
    "#     'n_estimators': [600, 800, 1000, 1200, 1400, 1600, 1800, 2000, 4000]\n",
    "# }\n",
    "\n",
    "# rf = RandomForestRegressor(random_state=RANDOM_SEED)\n",
    "\n",
    "# # Creating a search grid with 5-fold cross-validation based on a previously defined grid\n",
    "# clf = GridSearchCV(rf, param_grid, cv=5, verbose=0, scoring='neg_mean_absolute_error', n_jobs=-1)\n",
    "\n",
    "# best_model = clf.fit(X_train, np.log(y_train))\n",
    "\n",
    "# best_parameters = best_model.best_estimator_.get_params()\n",
    "# for param_name in sorted(best_parameters.keys()):\n",
    "#         print('\\t%s: %r' % (param_name, best_parameters[param_name]))"
   ]
  },
  {
   "cell_type": "markdown",
   "metadata": {},
   "source": [
    "## Model 5 (attempt to stack)"
   ]
  },
  {
   "cell_type": "code",
   "execution_count": 130,
   "metadata": {},
   "outputs": [],
   "source": [
    "from sklearn.ensemble import StackingRegressor"
   ]
  },
  {
   "cell_type": "markdown",
   "metadata": {},
   "source": [
    "**Stacking didn't improve the result and it was painfully slow. That's why it's commented out. In fact, RandomForestRegressor with n_estimators=2000 failed to execute on kaggle due to memory restrictions.**"
   ]
  },
  {
   "cell_type": "code",
   "execution_count": 131,
   "metadata": {},
   "outputs": [],
   "source": [
    "# rf = RandomForestRegressor(random_state=RANDOM_SEED, n_estimators=1000)\n",
    "\n",
    "# cat = CatBoostRegressor(iterations = 5000,\n",
    "#                           random_seed = RANDOM_SEED,\n",
    "#                           eval_metric='MAPE',\n",
    "#                           custom_metric=['R2', 'MAE'],\n",
    "#                           silent=True,\n",
    "#                          )\n",
    "\n",
    "# estimators = [('rf', rf), ('cat', cat)]\n",
    "\n",
    "# reg = StackingRegressor(estimators=estimators,final_estimator=RandomForestRegressor(n_estimators=2000, random_state=RANDOM_SEED))\n",
    "# reg.fit(X_train, np.log(y_train))\n",
    "# rf_predict = reg.predict(X_test)\n",
    "\n",
    "# predict_test = np.exp(reg.predict(X_test))\n",
    "# predict_submission = np.exp(reg.predict(X_sub))\n",
    "\n",
    "# print(f\"Ошибка модели по метрике MAPE: {(mape(y_test, predict_test))*100:0.2f}%\")"
   ]
  },
  {
   "cell_type": "markdown",
   "metadata": {
    "papermill": {
     "duration": 0.085876,
     "end_time": "2020-10-26T12:48:12.734207",
     "exception": false,
     "start_time": "2020-10-26T12:48:12.648331",
     "status": "completed"
    },
    "tags": []
   },
   "source": [
    "# Submission"
   ]
  },
  {
   "cell_type": "code",
   "execution_count": 132,
   "metadata": {
    "execution": {
     "iopub.execute_input": "2020-10-26T12:48:13.227584Z",
     "iopub.status.busy": "2020-10-26T12:48:13.226285Z",
     "iopub.status.idle": "2020-10-26T12:48:13.762529Z",
     "shell.execute_reply": "2020-10-26T12:48:13.763259Z"
    },
    "papermill": {
     "duration": 0.628302,
     "end_time": "2020-10-26T12:48:13.763488",
     "exception": false,
     "start_time": "2020-10-26T12:48:13.135186",
     "status": "completed"
    },
    "tags": []
   },
   "outputs": [
    {
     "data": {
      "text/html": [
       "<div>\n",
       "<style scoped>\n",
       "    .dataframe tbody tr th:only-of-type {\n",
       "        vertical-align: middle;\n",
       "    }\n",
       "\n",
       "    .dataframe tbody tr th {\n",
       "        vertical-align: top;\n",
       "    }\n",
       "\n",
       "    .dataframe thead th {\n",
       "        text-align: right;\n",
       "    }\n",
       "</style>\n",
       "<table border=\"1\" class=\"dataframe\">\n",
       "  <thead>\n",
       "    <tr style=\"text-align: right;\">\n",
       "      <th></th>\n",
       "      <th>sell_id</th>\n",
       "      <th>price</th>\n",
       "    </tr>\n",
       "  </thead>\n",
       "  <tbody>\n",
       "    <tr>\n",
       "      <th>0</th>\n",
       "      <td>1100575026</td>\n",
       "      <td>7.281928e+05</td>\n",
       "    </tr>\n",
       "    <tr>\n",
       "      <th>1</th>\n",
       "      <td>1100549428</td>\n",
       "      <td>1.002282e+06</td>\n",
       "    </tr>\n",
       "    <tr>\n",
       "      <th>2</th>\n",
       "      <td>1100658222</td>\n",
       "      <td>9.241734e+05</td>\n",
       "    </tr>\n",
       "    <tr>\n",
       "      <th>3</th>\n",
       "      <td>1100937408</td>\n",
       "      <td>8.358578e+05</td>\n",
       "    </tr>\n",
       "    <tr>\n",
       "      <th>4</th>\n",
       "      <td>1101037972</td>\n",
       "      <td>7.783388e+05</td>\n",
       "    </tr>\n",
       "    <tr>\n",
       "      <th>5</th>\n",
       "      <td>1100912634</td>\n",
       "      <td>7.774970e+05</td>\n",
       "    </tr>\n",
       "    <tr>\n",
       "      <th>6</th>\n",
       "      <td>1101228730</td>\n",
       "      <td>7.005823e+05</td>\n",
       "    </tr>\n",
       "    <tr>\n",
       "      <th>7</th>\n",
       "      <td>1100165896</td>\n",
       "      <td>5.043930e+05</td>\n",
       "    </tr>\n",
       "    <tr>\n",
       "      <th>8</th>\n",
       "      <td>1100768262</td>\n",
       "      <td>1.927996e+06</td>\n",
       "    </tr>\n",
       "    <tr>\n",
       "      <th>9</th>\n",
       "      <td>1101218501</td>\n",
       "      <td>7.446925e+05</td>\n",
       "    </tr>\n",
       "  </tbody>\n",
       "</table>\n",
       "</div>"
      ],
      "text/plain": [
       "      sell_id         price\n",
       "0  1100575026  7.281928e+05\n",
       "1  1100549428  1.002282e+06\n",
       "2  1100658222  9.241734e+05\n",
       "3  1100937408  8.358578e+05\n",
       "4  1101037972  7.783388e+05\n",
       "5  1100912634  7.774970e+05\n",
       "6  1101228730  7.005823e+05\n",
       "7  1100165896  5.043930e+05\n",
       "8  1100768262  1.927996e+06\n",
       "9  1101218501  7.446925e+05"
      ]
     },
     "execution_count": 132,
     "metadata": {},
     "output_type": "execute_result"
    }
   ],
   "source": [
    "sample_submission['price'] = predict_submission\n",
    "sample_submission.to_csv(f'submission_2_v{VERSION}.csv', index=False)\n",
    "sample_submission.head(10)"
   ]
  },
  {
   "cell_type": "markdown",
   "metadata": {
    "papermill": {
     "duration": 0.087712,
     "end_time": "2020-10-26T12:48:14.104388",
     "exception": false,
     "start_time": "2020-10-26T12:48:14.016676",
     "status": "completed"
    },
    "tags": []
   },
   "source": [
    "# What's next?\n",
    "Или что еще можно сделать, чтоб улучшить результат:\n",
    "\n",
    "* Спарсить свежие данные - DONE\n",
    "* Посмотреть, что можно извлечь из признаков или как еще можно обработать признаки - DONE\n",
    "* Сгенерировать новые признаки - DONE\n",
    "* Попробовать подобрать параметры модели - DONE\n",
    "* Попробовать другие алгоритмы и библиотеки ML - DONE\n",
    "* Сделать Ансамбль моделей, Blending, Stacking - tried"
   ]
  },
  {
   "cell_type": "markdown",
   "metadata": {},
   "source": [
    "# Conclusion\n",
    "\n",
    "The best result has been achieved using RandomForrestRegressor. CatBoost was close as well (but weaker). I am sure RandomForrestRegressor could have done better if I was able to perform hyperparameter tuning. But for some reason it took a very long time and still failed (please see the comments in corresponding section). Stacking could also be useful if I got RandomForrestRegressor hyperparameters right (but I didn't). \n",
    "\n",
    "I think I've done well with data retrieval from auto.ru and with data preparation. I would have spent more time on feature engineering if I could."
   ]
  },
  {
   "cell_type": "code",
   "execution_count": null,
   "metadata": {
    "papermill": {
     "duration": 0.082055,
     "end_time": "2020-10-26T12:48:14.270602",
     "exception": false,
     "start_time": "2020-10-26T12:48:14.188547",
     "status": "completed"
    },
    "tags": []
   },
   "outputs": [],
   "source": []
  },
  {
   "cell_type": "code",
   "execution_count": null,
   "metadata": {
    "papermill": {
     "duration": 0.08168,
     "end_time": "2020-10-26T12:48:14.435554",
     "exception": false,
     "start_time": "2020-10-26T12:48:14.353874",
     "status": "completed"
    },
    "tags": []
   },
   "outputs": [],
   "source": []
  },
  {
   "cell_type": "code",
   "execution_count": null,
   "metadata": {
    "papermill": {
     "duration": 0.080788,
     "end_time": "2020-10-26T12:48:14.596978",
     "exception": false,
     "start_time": "2020-10-26T12:48:14.51619",
     "status": "completed"
    },
    "tags": []
   },
   "outputs": [],
   "source": []
  }
 ],
 "metadata": {
  "kernelspec": {
   "display_name": "Python 3",
   "language": "python",
   "name": "python3"
  },
  "language_info": {
   "codemirror_mode": {
    "name": "ipython",
    "version": 3
   },
   "file_extension": ".py",
   "mimetype": "text/x-python",
   "name": "python",
   "nbconvert_exporter": "python",
   "pygments_lexer": "ipython3",
   "version": "3.8.5"
  }
 },
 "nbformat": 4,
 "nbformat_minor": 4
}
