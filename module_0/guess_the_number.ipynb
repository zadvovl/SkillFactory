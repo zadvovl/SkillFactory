{
 "cells": [
  {
   "cell_type": "code",
   "execution_count": 221,
   "metadata": {},
   "outputs": [],
   "source": [
    "# Library import section\n",
    "import numpy as np"
   ]
  },
  {
   "cell_type": "code",
   "execution_count": 222,
   "metadata": {},
   "outputs": [],
   "source": [
    "# Function definition section\n",
    "def game_core_v2(number, l_lim=1, u_lim=101):\n",
    "    '''Using a binary search method to guess a number (only half of a search\n",
    "    array is left after each iteration). Achieving that by determining a middle\n",
    "    of the remaining search array and moving lower and upper limits accordingly\n",
    "    during each iteration.'''\n",
    "    count = 1\n",
    "    upper_lim = u_lim\n",
    "    lower_lim = l_lim\n",
    "    predict = (lower_lim+upper_lim) // 2\n",
    "    while number != predict:\n",
    "        count += 1\n",
    "        if number > predict:\n",
    "            lower_lim = predict\n",
    "        elif number < predict:\n",
    "            upper_lim = predict\n",
    "        predict = (lower_lim+upper_lim) // 2\n",
    "    return(count)  # leaving a loop if guessed correctly\n",
    "\n",
    "\n",
    "def score_game(game_core, l_lim=1, u_lim=101):\n",
    "    '''Running our game 1000 times to find out how fast can the algorithm guess\n",
    "    the number'''\n",
    "    count_ls = []\n",
    "    np.random.seed(1)  # setting RANDOM SEED allow to replication!\n",
    "    random_array = np.random.randint(l_lim, u_lim, size=(1000))\n",
    "    for number in random_array:\n",
    "        count_ls.append(game_core_v2(number, l_lim, u_lim))\n",
    "    score = int(np.mean(count_ls))\n",
    "    print(f\"Your algorithm guesses the number in {score} attempts\")\n",
    "    return(score)\n"
   ]
  },
  {
   "cell_type": "code",
   "execution_count": 223,
   "metadata": {},
   "outputs": [
    {
     "name": "stdout",
     "output_type": "stream",
     "text": [
      "Your algorithm guesses the number in 5 attempts\n"
     ]
    },
    {
     "data": {
      "text/plain": [
       "5"
      ]
     },
     "execution_count": 223,
     "metadata": {},
     "output_type": "execute_result"
    }
   ],
   "source": [
    "# Function execution section\n",
    "score_game(game_core_v2)"
   ]
  }
 ],
 "metadata": {
  "kernelspec": {
   "display_name": "Python 3",
   "language": "python",
   "name": "python3"
  },
  "language_info": {
   "codemirror_mode": {
    "name": "ipython",
    "version": 3
   },
   "file_extension": ".py",
   "mimetype": "text/x-python",
   "name": "python",
   "nbconvert_exporter": "python",
   "pygments_lexer": "ipython3",
   "version": "3.7.6"
  }
 },
 "nbformat": 4,
 "nbformat_minor": 4
}
