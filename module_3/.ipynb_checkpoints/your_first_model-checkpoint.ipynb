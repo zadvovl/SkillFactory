{
 "cells": [
  {
   "cell_type": "markdown",
   "metadata": {},
   "source": [
    "# Загрузка Pandas и очистка данных"
   ]
  },
  {
   "cell_type": "code",
   "execution_count": 814,
   "metadata": {},
   "outputs": [],
   "source": [
    "import pandas as pd\n",
    "import ast\n",
    "from bs4 import BeautifulSoup\n",
    "import requests\n",
    "import numpy as np\n",
    "from multiprocessing import  Pool\n",
    "from datetime import datetime, timedelta\n",
    "from collections import namedtuple\n",
    "# this is just a file with a worker function for multiprocessing\n",
    "# (otherwise multiprocessing doesn't work in Jupyter on Windows)\n",
    "import worker  \n",
    "import random\n",
    "from sklearn.preprocessing import OneHotEncoder\n",
    "import seaborn as sns"
   ]
  },
  {
   "cell_type": "code",
   "execution_count": 815,
   "metadata": {},
   "outputs": [
    {
     "name": "stdout",
     "output_type": "stream",
     "text": [
      "<class 'pandas.core.frame.DataFrame'>\n",
      "RangeIndex: 40000 entries, 0 to 39999\n",
      "Data columns (total 10 columns):\n",
      " #   Column             Non-Null Count  Dtype  \n",
      "---  ------             --------------  -----  \n",
      " 0   Restaurant_id      40000 non-null  object \n",
      " 1   City               40000 non-null  object \n",
      " 2   Cuisine Style      30717 non-null  object \n",
      " 3   Ranking            40000 non-null  float64\n",
      " 4   Rating             40000 non-null  float64\n",
      " 5   Price Range        26114 non-null  object \n",
      " 6   Number of Reviews  37457 non-null  float64\n",
      " 7   Reviews            40000 non-null  object \n",
      " 8   URL_TA             40000 non-null  object \n",
      " 9   ID_TA              40000 non-null  object \n",
      "dtypes: float64(3), object(7)\n",
      "memory usage: 3.1+ MB\n"
     ]
    }
   ],
   "source": [
    "df = pd.read_csv('main_task.xls')\n",
    "df_small = df.iloc[:20,:]\n",
    "#df_small\n",
    "df.info()"
   ]
  },
  {
   "cell_type": "code",
   "execution_count": 816,
   "metadata": {},
   "outputs": [],
   "source": [
    "# Helper functions are defined in this cell\n",
    "\n",
    "def drop_by_type(d, t):\n",
    "    '''\n",
    "    Drops columns of the dataframe based on their type\n",
    "    Params:\n",
    "        d - target dataframe\n",
    "        t - type (from types returned by dtype) \n",
    "            provided as text (for example, 'float64')\n",
    "    '''\n",
    "    df_temp = d.copy()\n",
    "    to_drop = [c for c in d.columns if t == str(d[c].dtype)]\n",
    "    df_temp.drop(to_drop, axis=1, inplace=True)\n",
    "    print(f\"List of dropped columns (by type {t}): {to_drop}\")\n",
    "    return df_temp\n",
    "\n",
    "'''\n",
    "# These functions are in worker.py file now\n",
    "def from_website(url):\n",
    "    #print(f\"https://www.tripadvisor.com{url}\")\n",
    "    r = requests.get(f\"https://www.tripadvisor.com{url}\", timeout=2)\n",
    "    soup = BeautifulSoup(r.content)\n",
    "    \n",
    "    tmp = soup.find_all('span', {\"class\":\"ratingDate\"})\n",
    "    rev_dates_lst = [i['title'] for i in tmp]\n",
    "    #rev_dates_lst = [datetime.strptime(i['title'], '%B %d, %Y') for i in tmp]\n",
    "    \n",
    "    return rev_dates_lst\n",
    "\n",
    "\n",
    "def apply_to_dataframe(df):\n",
    "    df_result = df.copy()\n",
    "    df_result['all_review_dates'] = df_result['URL_TA'].apply(from_website)\n",
    "    return df_result\n",
    "'''\n",
    "\n",
    "def parallelize_dataframe(df, func, n_cores=12):\n",
    "    df_split = np.array_split(df, n_cores)\n",
    "    pool = Pool(n_cores)\n",
    "    df = pd.concat(pool.map(func, df_split))\n",
    "    pool.close()\n",
    "    pool.join()\n",
    "    return df\n",
    "\n",
    "\n",
    "def create_freq_dict(d):\n",
    "    '''\n",
    "    Input dictionary must be sorted!\n",
    "    \n",
    "    This function takes dictionary with absolute frequencies as an argument\n",
    "    and converts it into dictionary with relative frequencies percentages.\n",
    "    \n",
    "    For example, dictionary {'$$$$': 1423, '$': 6279, '$$ - $$$': 18412}\n",
    "    will be turned into {'$$$$': 5.0, '$': 24.0, '$$ - $$$': 71.0}\n",
    "    '''\n",
    "    result = d\n",
    "    tot = np.sum(list(d.values()))\n",
    "    for k, v in d.items():\n",
    "        d[k] = round(int(v) / tot * 100,0)\n",
    "    \n",
    "    return result\n",
    "\n",
    "\n",
    "def fill_na_by_frequency(freq_dict, col):\n",
    "    '''\n",
    "    This function is used to replace NaN for categorical\n",
    "    columns with values based on the frequency of non-missing values.\n",
    "\n",
    "    For this function to work freq_dict (frequency dictionary) should be passed\n",
    "    as an arguemnt. That's how frequency dictionary might look like (just an example)\n",
    "    freq_dict: {'other': 7.0, 'father': 24.0, 'mother': 69.0}.\n",
    "    Numbers correspond to the frequency of every possible distinct value.\n",
    "\n",
    "    IMPORTANT: this function can't be applied using df.fillna() because the result\n",
    "    must be different for every row it applies to, whereas fillna() replaces all NaN\n",
    "    with a single value. Therefore apply() should be used on a column (series)\n",
    "    '''\n",
    "\n",
    "    random.seed(10)\n",
    "    rnd_check = round(random.random()*100)    \n",
    "    \n",
    "    cumulative = 0\n",
    "    for k, v in freq_dict.items():\n",
    "        # cumulative is used to correctly assess the probability\n",
    "        # for example, if we take {'other': 7.0, 'father': 24.0, 'mother': 69.0}\n",
    "        # then \"other\" will be picked is rnd_check if <= 7, \"father\" will be\n",
    "        # picked if rnd_check <= 31 and \"mother\" will be picked in al the other cases\n",
    "        cumulative += v\n",
    "        if rnd_check <= cumulative:\n",
    "            #print(f'Random number is: {rnd_check}. Value is: {k}')\n",
    "            return k\n",
    "    # the last option\n",
    "    return k\n",
    "    #print(f'Random number is: {rnd_check}. Value is: {k}')\n",
    "    \n",
    "    \n",
    "def convert_price_range(s):\n",
    "    '''\n",
    "    Converts price ranges provided as one of these values\n",
    "    $\n",
    "    $$ - $$$            \n",
    "    $$$$\n",
    "    to low, average and high \n",
    "    '''\n",
    "    if s == '$':\n",
    "        return 'low'\n",
    "    elif s == '$$ - $$$':\n",
    "        return 'average'\n",
    "    elif s == '$$$$':\n",
    "        return 'high'\n",
    "    else:\n",
    "        return 'other'\n",
    "\n",
    "def median_interval(l):\n",
    "    '''\n",
    "    Takes a list with dates as strings in a format like 'February 28, 2017'\n",
    "    and returns a median interval between 2 consequent dates in a dataset\n",
    "    '''   \n",
    "    tmp = ast.literal_eval(l)\n",
    "    res_lst = []\n",
    "    if len(tmp) > 1:\n",
    "        tmp = [datetime.strptime(i, '%B %d, %Y') for i in tmp]\n",
    "        i = 0\n",
    "        for d in tmp:\n",
    "            res_lst.append((tmp[i] - d).days)\n",
    "        return np.median(res_lst)\n",
    "    return -1\n",
    "\n",
    "def restaurant_age(l):\n",
    "    '''\n",
    "    Takes a list with dates as strings in a format like 'February 28, 2017'\n",
    "    and returns a day difference between now and the first review date\n",
    "    (let's  consider that an estimate of restaurant age)\n",
    "    '''   \n",
    "    tmp = ast.literal_eval(l)\n",
    "    res_lst = []\n",
    "    if len(tmp) > 0:\n",
    "        tmp = [datetime.strptime(i, '%B %d, %Y') for i in tmp]\n",
    "        return (datetime.now() - np.min(tmp)).days\n",
    "    return -1\n",
    "\n",
    "# def avg_comment_length(l):\n",
    "#     '''\n",
    "#     Takes a list of comments and returns an average length of a comment\n",
    "#     '''\n",
    "#     tmp = l\n",
    "#     tmp.replace('[', '')\n",
    "#     tmp.replace(']', '')\n",
    "#     if len(tmp) > 0:\n",
    "#         tmp = [len(i) for i in tmp]\n",
    "#         return np.mean(tmp)\n",
    "#     return -1"
   ]
  },
  {
   "cell_type": "code",
   "execution_count": null,
   "metadata": {},
   "outputs": [],
   "source": []
  },
  {
   "cell_type": "code",
   "execution_count": 817,
   "metadata": {},
   "outputs": [
    {
     "data": {
      "text/html": [
       "<div>\n",
       "<style scoped>\n",
       "    .dataframe tbody tr th:only-of-type {\n",
       "        vertical-align: middle;\n",
       "    }\n",
       "\n",
       "    .dataframe tbody tr th {\n",
       "        vertical-align: top;\n",
       "    }\n",
       "\n",
       "    .dataframe thead th {\n",
       "        text-align: right;\n",
       "    }\n",
       "</style>\n",
       "<table border=\"1\" class=\"dataframe\">\n",
       "  <thead>\n",
       "    <tr style=\"text-align: right;\">\n",
       "      <th></th>\n",
       "      <th>Restaurant_id</th>\n",
       "      <th>City</th>\n",
       "      <th>Cuisine Style</th>\n",
       "      <th>Ranking</th>\n",
       "      <th>Rating</th>\n",
       "      <th>Price Range</th>\n",
       "      <th>Number of Reviews</th>\n",
       "      <th>Reviews</th>\n",
       "      <th>URL_TA</th>\n",
       "      <th>ID_TA</th>\n",
       "      <th>all_review_dates</th>\n",
       "    </tr>\n",
       "  </thead>\n",
       "  <tbody>\n",
       "    <tr>\n",
       "      <th>0</th>\n",
       "      <td>id_5569</td>\n",
       "      <td>Paris</td>\n",
       "      <td>['European', 'French', 'International']</td>\n",
       "      <td>5570.0</td>\n",
       "      <td>3.5</td>\n",
       "      <td>$$ - $$$</td>\n",
       "      <td>194.0</td>\n",
       "      <td>[['Good food at your doorstep', 'A good hotel ...</td>\n",
       "      <td>/Restaurant_Review-g187147-d1912643-Reviews-R_...</td>\n",
       "      <td>d1912643</td>\n",
       "      <td>['February 14, 2020', 'December 20, 2019', 'No...</td>\n",
       "    </tr>\n",
       "    <tr>\n",
       "      <th>1</th>\n",
       "      <td>id_1535</td>\n",
       "      <td>Stockholm</td>\n",
       "      <td>NaN</td>\n",
       "      <td>1537.0</td>\n",
       "      <td>4.0</td>\n",
       "      <td>NaN</td>\n",
       "      <td>10.0</td>\n",
       "      <td>[['Unique cuisine', 'Delicious Nepalese food']...</td>\n",
       "      <td>/Restaurant_Review-g189852-d7992032-Reviews-Bu...</td>\n",
       "      <td>d7992032</td>\n",
       "      <td>['February 27, 2020', 'July 6, 2017', 'June 19...</td>\n",
       "    </tr>\n",
       "    <tr>\n",
       "      <th>2</th>\n",
       "      <td>id_352</td>\n",
       "      <td>London</td>\n",
       "      <td>['Japanese', 'Sushi', 'Asian', 'Grill', 'Veget...</td>\n",
       "      <td>353.0</td>\n",
       "      <td>4.5</td>\n",
       "      <td>$$$$</td>\n",
       "      <td>688.0</td>\n",
       "      <td>[['Catch up with friends', 'Not exceptional'],...</td>\n",
       "      <td>/Restaurant_Review-g186338-d8632781-Reviews-RO...</td>\n",
       "      <td>d8632781</td>\n",
       "      <td>['September 25, 2020', 'September 5, 2020', 'A...</td>\n",
       "    </tr>\n",
       "    <tr>\n",
       "      <th>3</th>\n",
       "      <td>id_3456</td>\n",
       "      <td>Berlin</td>\n",
       "      <td>NaN</td>\n",
       "      <td>3458.0</td>\n",
       "      <td>5.0</td>\n",
       "      <td>NaN</td>\n",
       "      <td>3.0</td>\n",
       "      <td>[[], []]</td>\n",
       "      <td>/Restaurant_Review-g187323-d1358776-Reviews-Es...</td>\n",
       "      <td>d1358776</td>\n",
       "      <td>['February 19, 2016', 'May 4, 2012', 'April 26...</td>\n",
       "    </tr>\n",
       "    <tr>\n",
       "      <th>4</th>\n",
       "      <td>id_615</td>\n",
       "      <td>Munich</td>\n",
       "      <td>['German', 'Central European', 'Vegetarian Fri...</td>\n",
       "      <td>621.0</td>\n",
       "      <td>4.0</td>\n",
       "      <td>$$ - $$$</td>\n",
       "      <td>84.0</td>\n",
       "      <td>[['Best place to try a Bavarian food', 'Nice b...</td>\n",
       "      <td>/Restaurant_Review-g187309-d6864963-Reviews-Au...</td>\n",
       "      <td>d6864963</td>\n",
       "      <td>['September 10, 2020', 'September 28, 2019', '...</td>\n",
       "    </tr>\n",
       "  </tbody>\n",
       "</table>\n",
       "</div>"
      ],
      "text/plain": [
       "  Restaurant_id       City                                      Cuisine Style  \\\n",
       "0       id_5569      Paris            ['European', 'French', 'International']   \n",
       "1       id_1535  Stockholm                                                NaN   \n",
       "2        id_352     London  ['Japanese', 'Sushi', 'Asian', 'Grill', 'Veget...   \n",
       "3       id_3456     Berlin                                                NaN   \n",
       "4        id_615     Munich  ['German', 'Central European', 'Vegetarian Fri...   \n",
       "\n",
       "   Ranking  Rating Price Range  Number of Reviews  \\\n",
       "0   5570.0     3.5    $$ - $$$              194.0   \n",
       "1   1537.0     4.0         NaN               10.0   \n",
       "2    353.0     4.5        $$$$              688.0   \n",
       "3   3458.0     5.0         NaN                3.0   \n",
       "4    621.0     4.0    $$ - $$$               84.0   \n",
       "\n",
       "                                             Reviews  \\\n",
       "0  [['Good food at your doorstep', 'A good hotel ...   \n",
       "1  [['Unique cuisine', 'Delicious Nepalese food']...   \n",
       "2  [['Catch up with friends', 'Not exceptional'],...   \n",
       "3                                           [[], []]   \n",
       "4  [['Best place to try a Bavarian food', 'Nice b...   \n",
       "\n",
       "                                              URL_TA     ID_TA  \\\n",
       "0  /Restaurant_Review-g187147-d1912643-Reviews-R_...  d1912643   \n",
       "1  /Restaurant_Review-g189852-d7992032-Reviews-Bu...  d7992032   \n",
       "2  /Restaurant_Review-g186338-d8632781-Reviews-RO...  d8632781   \n",
       "3  /Restaurant_Review-g187323-d1358776-Reviews-Es...  d1358776   \n",
       "4  /Restaurant_Review-g187309-d6864963-Reviews-Au...  d6864963   \n",
       "\n",
       "                                    all_review_dates  \n",
       "0  ['February 14, 2020', 'December 20, 2019', 'No...  \n",
       "1  ['February 27, 2020', 'July 6, 2017', 'June 19...  \n",
       "2  ['September 25, 2020', 'September 5, 2020', 'A...  \n",
       "3  ['February 19, 2016', 'May 4, 2012', 'April 26...  \n",
       "4  ['September 10, 2020', 'September 28, 2019', '...  "
      ]
     },
     "execution_count": 817,
     "metadata": {},
     "output_type": "execute_result"
    }
   ],
   "source": [
    "''' \n",
    "# Uncomment it only if you need to crawl Tripadvisor website once again\n",
    "if __name__ ==  '__main__': \n",
    "    df_crawled = parallelize_dataframe(df, worker.apply_to_dataframe)\n",
    "    \n",
    "df_crawled.to_csv('with_additional_data_fromTA_proper_dates.csv')    \n",
    "'''\n",
    "\n",
    "# this is a file that consists of an original dataframe \n",
    "# extended with additional data from Tripadvisor website\n",
    "# using requests and beautifulsoup\n",
    "df = pd.read_csv('with_additional_data_fromTA_proper_dates.csv')\n",
    "df.drop(labels=['Unnamed: 0'], axis=1, inplace=True)\n",
    "df.head()"
   ]
  },
  {
   "cell_type": "code",
   "execution_count": 818,
   "metadata": {},
   "outputs": [
    {
     "data": {
      "text/html": [
       "<div>\n",
       "<style scoped>\n",
       "    .dataframe tbody tr th:only-of-type {\n",
       "        vertical-align: middle;\n",
       "    }\n",
       "\n",
       "    .dataframe tbody tr th {\n",
       "        vertical-align: top;\n",
       "    }\n",
       "\n",
       "    .dataframe thead th {\n",
       "        text-align: right;\n",
       "    }\n",
       "</style>\n",
       "<table border=\"1\" class=\"dataframe\">\n",
       "  <thead>\n",
       "    <tr style=\"text-align: right;\">\n",
       "      <th></th>\n",
       "      <th>Restaurant_id</th>\n",
       "      <th>City</th>\n",
       "      <th>Ranking</th>\n",
       "      <th>Rating</th>\n",
       "      <th>Price Range</th>\n",
       "      <th>Number of Reviews</th>\n",
       "      <th>Reviews</th>\n",
       "      <th>URL_TA</th>\n",
       "      <th>ID_TA</th>\n",
       "      <th>all_review_dates</th>\n",
       "      <th>cuisine_styles_num</th>\n",
       "    </tr>\n",
       "  </thead>\n",
       "  <tbody>\n",
       "    <tr>\n",
       "      <th>0</th>\n",
       "      <td>id_5569</td>\n",
       "      <td>Paris</td>\n",
       "      <td>5570.0</td>\n",
       "      <td>3.5</td>\n",
       "      <td>$$ - $$$</td>\n",
       "      <td>194.0</td>\n",
       "      <td>[['Good food at your doorstep', 'A good hotel ...</td>\n",
       "      <td>/Restaurant_Review-g187147-d1912643-Reviews-R_...</td>\n",
       "      <td>d1912643</td>\n",
       "      <td>['February 14, 2020', 'December 20, 2019', 'No...</td>\n",
       "      <td>3</td>\n",
       "    </tr>\n",
       "    <tr>\n",
       "      <th>1</th>\n",
       "      <td>id_1535</td>\n",
       "      <td>Stockholm</td>\n",
       "      <td>1537.0</td>\n",
       "      <td>4.0</td>\n",
       "      <td>NaN</td>\n",
       "      <td>10.0</td>\n",
       "      <td>[['Unique cuisine', 'Delicious Nepalese food']...</td>\n",
       "      <td>/Restaurant_Review-g189852-d7992032-Reviews-Bu...</td>\n",
       "      <td>d7992032</td>\n",
       "      <td>['February 27, 2020', 'July 6, 2017', 'June 19...</td>\n",
       "      <td>1</td>\n",
       "    </tr>\n",
       "    <tr>\n",
       "      <th>2</th>\n",
       "      <td>id_352</td>\n",
       "      <td>London</td>\n",
       "      <td>353.0</td>\n",
       "      <td>4.5</td>\n",
       "      <td>$$$$</td>\n",
       "      <td>688.0</td>\n",
       "      <td>[['Catch up with friends', 'Not exceptional'],...</td>\n",
       "      <td>/Restaurant_Review-g186338-d8632781-Reviews-RO...</td>\n",
       "      <td>d8632781</td>\n",
       "      <td>['September 25, 2020', 'September 5, 2020', 'A...</td>\n",
       "      <td>7</td>\n",
       "    </tr>\n",
       "    <tr>\n",
       "      <th>3</th>\n",
       "      <td>id_3456</td>\n",
       "      <td>Berlin</td>\n",
       "      <td>3458.0</td>\n",
       "      <td>5.0</td>\n",
       "      <td>NaN</td>\n",
       "      <td>3.0</td>\n",
       "      <td>[[], []]</td>\n",
       "      <td>/Restaurant_Review-g187323-d1358776-Reviews-Es...</td>\n",
       "      <td>d1358776</td>\n",
       "      <td>['February 19, 2016', 'May 4, 2012', 'April 26...</td>\n",
       "      <td>1</td>\n",
       "    </tr>\n",
       "    <tr>\n",
       "      <th>4</th>\n",
       "      <td>id_615</td>\n",
       "      <td>Munich</td>\n",
       "      <td>621.0</td>\n",
       "      <td>4.0</td>\n",
       "      <td>$$ - $$$</td>\n",
       "      <td>84.0</td>\n",
       "      <td>[['Best place to try a Bavarian food', 'Nice b...</td>\n",
       "      <td>/Restaurant_Review-g187309-d6864963-Reviews-Au...</td>\n",
       "      <td>d6864963</td>\n",
       "      <td>['September 10, 2020', 'September 28, 2019', '...</td>\n",
       "      <td>3</td>\n",
       "    </tr>\n",
       "  </tbody>\n",
       "</table>\n",
       "</div>"
      ],
      "text/plain": [
       "  Restaurant_id       City  Ranking  Rating Price Range  Number of Reviews  \\\n",
       "0       id_5569      Paris   5570.0     3.5    $$ - $$$              194.0   \n",
       "1       id_1535  Stockholm   1537.0     4.0         NaN               10.0   \n",
       "2        id_352     London    353.0     4.5        $$$$              688.0   \n",
       "3       id_3456     Berlin   3458.0     5.0         NaN                3.0   \n",
       "4        id_615     Munich    621.0     4.0    $$ - $$$               84.0   \n",
       "\n",
       "                                             Reviews  \\\n",
       "0  [['Good food at your doorstep', 'A good hotel ...   \n",
       "1  [['Unique cuisine', 'Delicious Nepalese food']...   \n",
       "2  [['Catch up with friends', 'Not exceptional'],...   \n",
       "3                                           [[], []]   \n",
       "4  [['Best place to try a Bavarian food', 'Nice b...   \n",
       "\n",
       "                                              URL_TA     ID_TA  \\\n",
       "0  /Restaurant_Review-g187147-d1912643-Reviews-R_...  d1912643   \n",
       "1  /Restaurant_Review-g189852-d7992032-Reviews-Bu...  d7992032   \n",
       "2  /Restaurant_Review-g186338-d8632781-Reviews-RO...  d8632781   \n",
       "3  /Restaurant_Review-g187323-d1358776-Reviews-Es...  d1358776   \n",
       "4  /Restaurant_Review-g187309-d6864963-Reviews-Au...  d6864963   \n",
       "\n",
       "                                    all_review_dates  cuisine_styles_num  \n",
       "0  ['February 14, 2020', 'December 20, 2019', 'No...                   3  \n",
       "1  ['February 27, 2020', 'July 6, 2017', 'June 19...                   1  \n",
       "2  ['September 25, 2020', 'September 5, 2020', 'A...                   7  \n",
       "3  ['February 19, 2016', 'May 4, 2012', 'April 26...                   1  \n",
       "4  ['September 10, 2020', 'September 28, 2019', '...                   3  "
      ]
     },
     "execution_count": 818,
     "metadata": {},
     "output_type": "execute_result"
    }
   ],
   "source": [
    "# determining unique cuisine styles and their value counts\n",
    "# ast.literal_eval is required because lists of styles are\n",
    "# represented as strings in the dataframe\n",
    "# IMPORTANT: nan values are replaced by the fake list \"['dummy_style']\"\n",
    "df['cuisine_styles_num'] = df['Cuisine Style'].fillna(\"['dummy_style']\").apply(ast.literal_eval).apply(len)\n",
    "df.drop(labels=['Cuisine Style'], axis=1, inplace=True)\n",
    "df.head()"
   ]
  },
  {
   "cell_type": "code",
   "execution_count": 819,
   "metadata": {},
   "outputs": [
    {
     "name": "stdout",
     "output_type": "stream",
     "text": [
      "<class 'pandas.core.frame.DataFrame'>\n",
      "RangeIndex: 40000 entries, 0 to 39999\n",
      "Data columns (total 11 columns):\n",
      " #   Column              Non-Null Count  Dtype  \n",
      "---  ------              --------------  -----  \n",
      " 0   Restaurant_id       40000 non-null  object \n",
      " 1   City                40000 non-null  object \n",
      " 2   Ranking             40000 non-null  float64\n",
      " 3   Rating              40000 non-null  float64\n",
      " 4   Price Range         26114 non-null  object \n",
      " 5   Number of Reviews   40000 non-null  float64\n",
      " 6   Reviews             40000 non-null  object \n",
      " 7   URL_TA              40000 non-null  object \n",
      " 8   ID_TA               40000 non-null  object \n",
      " 9   all_review_dates    40000 non-null  object \n",
      " 10  cuisine_styles_num  40000 non-null  int64  \n",
      "dtypes: float64(3), int64(1), object(7)\n",
      "memory usage: 3.4+ MB\n"
     ]
    }
   ],
   "source": [
    "# let's consider NaN in number of reviews as 0\n",
    "df['Number of Reviews'].fillna(0, inplace=True)\n",
    "df.info()"
   ]
  },
  {
   "cell_type": "code",
   "execution_count": 820,
   "metadata": {},
   "outputs": [
    {
     "data": {
      "text/plain": [
       "31"
      ]
     },
     "execution_count": 820,
     "metadata": {},
     "output_type": "execute_result"
    }
   ],
   "source": [
    "df['City'].nunique()"
   ]
  },
  {
   "cell_type": "code",
   "execution_count": 821,
   "metadata": {},
   "outputs": [
    {
     "data": {
      "text/plain": [
       "Inhambane           1\n",
       "D'Iberville         1\n",
       "Malibu              1\n",
       "Nordhragota         1\n",
       "Camrose             1\n",
       "                   ..\n",
       "Xuddur              1\n",
       "Summerfield         1\n",
       "La Asuncion         1\n",
       "Prospect Heights    1\n",
       "Vadodara            1\n",
       "Name: city_ascii, Length: 13482, dtype: int64"
      ]
     },
     "execution_count": 821,
     "metadata": {},
     "output_type": "execute_result"
    }
   ],
   "source": [
    "# There are too many unique cities in the dataset (31) - therefore one hot encoding is not an option.\n",
    "# Let's use worldcities dataset from https://www.kaggle.com/viswanathanc/world-cities-datasets\n",
    "# I want to create 2 dimension from an original 'City' column: capital and  population\n",
    "df_cities = pd.read_csv('worldcities.csv')\n",
    "\n",
    "# leaving only required columns from worldcities data set\n",
    "df_cities = df_cities[['city_ascii','capital','population']]\n",
    "\n",
    "# the assumption here is that most of the capitals will be listed as primary\n",
    "# and we don't really care about other classification because the variable will be\n",
    "# binary in the end (capital = 0 or 1)\n",
    "df_cities['capital'].fillna('other', inplace=True) \n",
    "\n",
    "# the assumption here is that most important cities will have the population\n",
    "# mentioned in the data set\n",
    "df_cities['population'].fillna(0, inplace=True)\n",
    "\n",
    "# leaving only cities with max population - this will eliminate duplicates\n",
    "# in case multiple cities with the same name exist\n",
    "df_cities.sort_values(by=['city_ascii','population'], ascending=[True,False], inplace=True)\n",
    "df_cities.drop_duplicates(subset='city_ascii', keep='first', inplace=True)\n",
    "\n",
    "# making sure we have no more duplicates\n",
    "df_cities['city_ascii'].value_counts()"
   ]
  },
  {
   "cell_type": "code",
   "execution_count": 822,
   "metadata": {},
   "outputs": [
    {
     "data": {
      "text/plain": [
       "0    13275\n",
       "1      207\n",
       "Name: capital, dtype: int64"
      ]
     },
     "execution_count": 822,
     "metadata": {},
     "output_type": "execute_result"
    }
   ],
   "source": [
    "# modifying 'capital' column to make it binary (if capital then 1 else 0)\n",
    "df_cities['capital'] = df_cities['capital'].map(lambda x : 1 if x == 'primary' else 0)\n",
    "df_cities['capital'].value_counts()"
   ]
  },
  {
   "cell_type": "code",
   "execution_count": 823,
   "metadata": {},
   "outputs": [
    {
     "name": "stdout",
     "output_type": "stream",
     "text": [
      "<class 'pandas.core.frame.DataFrame'>\n",
      "Int64Index: 40000 entries, 0 to 39999\n",
      "Data columns (total 14 columns):\n",
      " #   Column              Non-Null Count  Dtype  \n",
      "---  ------              --------------  -----  \n",
      " 0   Restaurant_id       40000 non-null  object \n",
      " 1   City                40000 non-null  object \n",
      " 2   Ranking             40000 non-null  float64\n",
      " 3   Rating              40000 non-null  float64\n",
      " 4   Price Range         26114 non-null  object \n",
      " 5   Number of Reviews   40000 non-null  float64\n",
      " 6   Reviews             40000 non-null  object \n",
      " 7   URL_TA              40000 non-null  object \n",
      " 8   ID_TA               40000 non-null  object \n",
      " 9   all_review_dates    40000 non-null  object \n",
      " 10  cuisine_styles_num  40000 non-null  int64  \n",
      " 11  city_ascii          39487 non-null  object \n",
      " 12  capital             39487 non-null  float64\n",
      " 13  population          39487 non-null  float64\n",
      "dtypes: float64(5), int64(1), object(8)\n",
      "memory usage: 4.6+ MB\n"
     ]
    }
   ],
   "source": [
    "# merging df with df_cities based on city name\n",
    "df = df.merge(df_cities, how='left', left_on='City', right_on='city_ascii')\n",
    "df.info()"
   ]
  },
  {
   "cell_type": "code",
   "execution_count": 824,
   "metadata": {},
   "outputs": [
    {
     "data": {
      "text/plain": [
       "Oporto    513\n",
       "Name: City, dtype: int64"
      ]
     },
     "execution_count": 824,
     "metadata": {},
     "output_type": "execute_result"
    }
   ],
   "source": [
    "# let's see what cities are missing\n",
    "df[df['capital'].isna()]['City'].value_counts()"
   ]
  },
  {
   "cell_type": "code",
   "execution_count": 825,
   "metadata": {},
   "outputs": [
    {
     "name": "stdout",
     "output_type": "stream",
     "text": [
      "<class 'pandas.core.frame.DataFrame'>\n",
      "Int64Index: 40000 entries, 0 to 39999\n",
      "Data columns (total 8 columns):\n",
      " #   Column              Non-Null Count  Dtype  \n",
      "---  ------              --------------  -----  \n",
      " 0   Ranking             40000 non-null  float64\n",
      " 1   Rating              40000 non-null  float64\n",
      " 2   Price Range         26114 non-null  object \n",
      " 3   Number of Reviews   40000 non-null  float64\n",
      " 4   all_review_dates    40000 non-null  object \n",
      " 5   cuisine_styles_num  40000 non-null  int64  \n",
      " 6   capital             40000 non-null  float64\n",
      " 7   population          40000 non-null  float64\n",
      "dtypes: float64(5), int64(1), object(2)\n",
      "memory usage: 2.7+ MB\n"
     ]
    }
   ],
   "source": [
    "# it seems that we're missing the data about only one city - Oporto (aka Porto in Portugal)\n",
    "# let's locate it and populate missing values manually\n",
    "df['capital'].fillna(0, inplace=True)\n",
    "df['population'].fillna(1337000, inplace=True)"
   ]
  },
  {
   "cell_type": "code",
   "execution_count": null,
   "metadata": {},
   "outputs": [],
   "source": [
    "# let's drop some columns that are not required anymore\n",
    "# to make the dataframe more compact and readable\n",
    "df.drop(['Restaurant_id','Reviews','URL_TA', 'ID_TA', 'city_ascii', 'City'], axis=1, inplace=True)\n",
    "df.info()"
   ]
  },
  {
   "cell_type": "code",
   "execution_count": 826,
   "metadata": {},
   "outputs": [
    {
     "data": {
      "text/plain": [
       "$$ - $$$    18412\n",
       "$            6279\n",
       "$$$$         1423\n",
       "Name: Price Range, dtype: int64"
      ]
     },
     "execution_count": 826,
     "metadata": {},
     "output_type": "execute_result"
    }
   ],
   "source": [
    "# let's take a look at price ranges\n",
    "df['Price Range'].value_counts()"
   ]
  },
  {
   "cell_type": "code",
   "execution_count": 827,
   "metadata": {},
   "outputs": [],
   "source": [
    "# it seems there are many NaN values among price ranges\n",
    "# let's replace NaN with values based on a frequency of the existing values\n",
    "# custom function will be used for that (see definition of helper functions above)\n",
    "\n",
    "# please note that ascending=True is important here because the dictionary must be sorted\n",
    "freq_dict = create_freq_dict(dict(df['Price Range'].value_counts(ascending=True)))\n",
    "df['Price Range'] = df['Price Range'].apply(\n",
    "    lambda x: fill_na_by_frequency(freq_dict, \"Price Range\") if pd.isna(x) else x)\n",
    "# also let's make Price Range names more meaningful\n",
    "df['Price Range'] = df['Price Range'].apply(convert_price_range)"
   ]
  },
  {
   "cell_type": "code",
   "execution_count": 828,
   "metadata": {},
   "outputs": [
    {
     "data": {
      "text/plain": [
       "average    32298\n",
       "low         6279\n",
       "high        1423\n",
       "Name: Price Range, dtype: int64"
      ]
     },
     "execution_count": 828,
     "metadata": {},
     "output_type": "execute_result"
    }
   ],
   "source": [
    "# let's take a look at price ranges once again - it seems that there are\n",
    "# no more missing values\n",
    "df['Price Range'].value_counts()"
   ]
  },
  {
   "cell_type": "code",
   "execution_count": 829,
   "metadata": {},
   "outputs": [
    {
     "name": "stdout",
     "output_type": "stream",
     "text": [
      "<class 'pandas.core.frame.DataFrame'>\n",
      "Int64Index: 40000 entries, 0 to 39999\n",
      "Data columns (total 8 columns):\n",
      " #   Column              Non-Null Count  Dtype  \n",
      "---  ------              --------------  -----  \n",
      " 0   Ranking             40000 non-null  float64\n",
      " 1   Rating              40000 non-null  float64\n",
      " 2   Price Range         40000 non-null  object \n",
      " 3   Number of Reviews   40000 non-null  float64\n",
      " 4   all_review_dates    40000 non-null  object \n",
      " 5   cuisine_styles_num  40000 non-null  int64  \n",
      " 6   capital             40000 non-null  float64\n",
      " 7   population          40000 non-null  float64\n",
      "dtypes: float64(5), int64(1), object(2)\n",
      "memory usage: 2.7+ MB\n"
     ]
    }
   ],
   "source": [
    "# and there are no more missing values in the dataframe as such\n",
    "df.info()"
   ]
  },
  {
   "cell_type": "code",
   "execution_count": 830,
   "metadata": {},
   "outputs": [],
   "source": [
    "# processing Price Range with one hot encoder\n",
    "enc = OneHotEncoder(handle_unknown='ignore')\n",
    "y = OneHotEncoder().fit_transform(df['Price Range'].to_numpy().reshape(-1, 1)).toarray()\n",
    "df_price_rng = pd.DataFrame(y, columns=['average','high','low'])\n",
    "df = pd.concat([df,df_price_rng], axis=1)\n",
    "df.drop(['Price Range'], inplace=True, axis=1)\n",
    "# df.head(20)"
   ]
  },
  {
   "cell_type": "code",
   "execution_count": 831,
   "metadata": {},
   "outputs": [
    {
     "data": {
      "text/html": [
       "<div>\n",
       "<style scoped>\n",
       "    .dataframe tbody tr th:only-of-type {\n",
       "        vertical-align: middle;\n",
       "    }\n",
       "\n",
       "    .dataframe tbody tr th {\n",
       "        vertical-align: top;\n",
       "    }\n",
       "\n",
       "    .dataframe thead th {\n",
       "        text-align: right;\n",
       "    }\n",
       "</style>\n",
       "<table border=\"1\" class=\"dataframe\">\n",
       "  <thead>\n",
       "    <tr style=\"text-align: right;\">\n",
       "      <th></th>\n",
       "      <th>Ranking</th>\n",
       "      <th>Rating</th>\n",
       "      <th>Number of Reviews</th>\n",
       "      <th>cuisine_styles_num</th>\n",
       "      <th>capital</th>\n",
       "      <th>population</th>\n",
       "      <th>average</th>\n",
       "      <th>high</th>\n",
       "      <th>low</th>\n",
       "      <th>restaurant_age</th>\n",
       "    </tr>\n",
       "  </thead>\n",
       "  <tbody>\n",
       "    <tr>\n",
       "      <th>0</th>\n",
       "      <td>5570.0</td>\n",
       "      <td>3.5</td>\n",
       "      <td>194.0</td>\n",
       "      <td>3</td>\n",
       "      <td>1.0</td>\n",
       "      <td>9904000.0</td>\n",
       "      <td>1.0</td>\n",
       "      <td>0.0</td>\n",
       "      <td>0.0</td>\n",
       "      <td>454</td>\n",
       "    </tr>\n",
       "    <tr>\n",
       "      <th>1</th>\n",
       "      <td>1537.0</td>\n",
       "      <td>4.0</td>\n",
       "      <td>10.0</td>\n",
       "      <td>1</td>\n",
       "      <td>1.0</td>\n",
       "      <td>1264000.0</td>\n",
       "      <td>1.0</td>\n",
       "      <td>0.0</td>\n",
       "      <td>0.0</td>\n",
       "      <td>1741</td>\n",
       "    </tr>\n",
       "    <tr>\n",
       "      <th>2</th>\n",
       "      <td>353.0</td>\n",
       "      <td>4.5</td>\n",
       "      <td>688.0</td>\n",
       "      <td>7</td>\n",
       "      <td>1.0</td>\n",
       "      <td>8567000.0</td>\n",
       "      <td>0.0</td>\n",
       "      <td>1.0</td>\n",
       "      <td>0.0</td>\n",
       "      <td>223</td>\n",
       "    </tr>\n",
       "    <tr>\n",
       "      <th>3</th>\n",
       "      <td>3458.0</td>\n",
       "      <td>5.0</td>\n",
       "      <td>3.0</td>\n",
       "      <td>1</td>\n",
       "      <td>1.0</td>\n",
       "      <td>3406000.0</td>\n",
       "      <td>1.0</td>\n",
       "      <td>0.0</td>\n",
       "      <td>0.0</td>\n",
       "      <td>3081</td>\n",
       "    </tr>\n",
       "    <tr>\n",
       "      <th>4</th>\n",
       "      <td>621.0</td>\n",
       "      <td>4.0</td>\n",
       "      <td>84.0</td>\n",
       "      <td>3</td>\n",
       "      <td>0.0</td>\n",
       "      <td>1275000.0</td>\n",
       "      <td>1.0</td>\n",
       "      <td>0.0</td>\n",
       "      <td>0.0</td>\n",
       "      <td>886</td>\n",
       "    </tr>\n",
       "  </tbody>\n",
       "</table>\n",
       "</div>"
      ],
      "text/plain": [
       "   Ranking  Rating  Number of Reviews  cuisine_styles_num  capital  \\\n",
       "0   5570.0     3.5              194.0                   3      1.0   \n",
       "1   1537.0     4.0               10.0                   1      1.0   \n",
       "2    353.0     4.5              688.0                   7      1.0   \n",
       "3   3458.0     5.0                3.0                   1      1.0   \n",
       "4    621.0     4.0               84.0                   3      0.0   \n",
       "\n",
       "   population  average  high  low  restaurant_age  \n",
       "0   9904000.0      1.0   0.0  0.0             454  \n",
       "1   1264000.0      1.0   0.0  0.0            1741  \n",
       "2   8567000.0      0.0   1.0  0.0             223  \n",
       "3   3406000.0      1.0   0.0  0.0            3081  \n",
       "4   1275000.0      1.0   0.0  0.0             886  "
      ]
     },
     "execution_count": 831,
     "metadata": {},
     "output_type": "execute_result"
    }
   ],
   "source": [
    "# let's calculate median interval between consequetive review dates\n",
    "# for every restaraunt and drop 'all_review_dates' column\n",
    "#df['median_days_between_reviews'] = df['all_review_dates'].apply(median_interval)\n",
    "df['restaurant_age'] = df['all_review_dates'].apply(restaurant_age)\n",
    "df.drop(labels=['all_review_dates'], axis=1, inplace=True)\n",
    "df.head()"
   ]
  },
  {
   "cell_type": "code",
   "execution_count": 832,
   "metadata": {},
   "outputs": [],
   "source": [
    "# experimenting with deropping different columns\n",
    "#df.drop(['high'], inplace=True, axis=1)\n",
    "df.drop(['low'], inplace=True, axis=1)\n",
    "# df.drop(['average'], inplace=True, axis=1)"
   ]
  },
  {
   "cell_type": "markdown",
   "metadata": {},
   "source": [
    "# Разбиваем датафрейм на части, необходимые для обучения и тестирования модели"
   ]
  },
  {
   "cell_type": "code",
   "execution_count": 833,
   "metadata": {},
   "outputs": [],
   "source": [
    "# Х - данные с информацией о ресторанах, у - целевая переменная (рейтинги ресторанов)\n",
    "#X = df.drop(['Restaurant_id', 'Rating'], axis = 1)\n",
    "X = df.drop(['Rating'], axis = 1)\n",
    "y = df['Rating']"
   ]
  },
  {
   "cell_type": "code",
   "execution_count": 834,
   "metadata": {},
   "outputs": [],
   "source": [
    "# Загружаем специальный инструмент для разбивки:\n",
    "from sklearn.model_selection import train_test_split"
   ]
  },
  {
   "cell_type": "code",
   "execution_count": 835,
   "metadata": {},
   "outputs": [],
   "source": [
    "# Наборы данных с меткой \"train\" будут использоваться для обучения модели, \"test\" - для тестирования.\n",
    "# Для тестирования мы будем использовать 25% от исходного датасета.\n",
    "X_train, X_test, y_train, y_test = train_test_split(X, y, test_size=0.25)"
   ]
  },
  {
   "cell_type": "markdown",
   "metadata": {},
   "source": [
    "# Создаём, обучаем и тестируем модель"
   ]
  },
  {
   "cell_type": "code",
   "execution_count": 836,
   "metadata": {},
   "outputs": [],
   "source": [
    "# Импортируем необходимые библиотеки:\n",
    "from sklearn.ensemble import RandomForestRegressor # инструмент для создания и обучения модели\n",
    "from sklearn import metrics # инструменты для оценки точности модели"
   ]
  },
  {
   "cell_type": "code",
   "execution_count": 837,
   "metadata": {},
   "outputs": [],
   "source": [
    "# Создаём модель\n",
    "regr = RandomForestRegressor(n_estimators=100)\n",
    "\n",
    "# Обучаем модель на тестовом наборе данных\n",
    "regr.fit(X_train, y_train)\n",
    "\n",
    "# Используем обученную модель для предсказания рейтинга ресторанов в тестовой выборке.\n",
    "# Предсказанные значения записываем в переменную y_pred\n",
    "y_pred = regr.predict(X_test)"
   ]
  },
  {
   "cell_type": "code",
   "execution_count": 838,
   "metadata": {},
   "outputs": [
    {
     "name": "stdout",
     "output_type": "stream",
     "text": [
      "MAE: 0.21182999999999996\n"
     ]
    }
   ],
   "source": [
    "# Сравниваем предсказанные значения (y_pred) с реальными (y_test), и смотрим насколько они в среднем отличаются\n",
    "# Метрика называется Mean Absolute Error (MAE) и показывает среднее отклонение предсказанных значений от фактических.\n",
    "print('MAE:', metrics.mean_absolute_error(y_test, y_pred))"
   ]
  },
  {
   "cell_type": "code",
   "execution_count": 839,
   "metadata": {},
   "outputs": [
    {
     "data": {
      "text/plain": [
       "<matplotlib.axes._subplots.AxesSubplot at 0x1d27141e608>"
      ]
     },
     "execution_count": 839,
     "metadata": {},
     "output_type": "execute_result"
    },
    {
     "data": {
      "image/png": "[encoded data removed]",
      "text/plain": [
       "<Figure size 432x288 with 2 Axes>"
      ]
     },
     "metadata": {
      "needs_background": "light"
     },
     "output_type": "display_data"
    }
   ],
   "source": [
    "sns.heatmap(df.corr(), annot=True)"
   ]
  }
 ],
 "metadata": {
  "kernelspec": {
   "display_name": "Python 3",
   "language": "python",
   "name": "python3"
  },
  "language_info": {
   "codemirror_mode": {
    "name": "ipython",
    "version": 3
   },
   "file_extension": ".py",
   "mimetype": "text/x-python",
   "name": "python",
   "nbconvert_exporter": "python",
   "pygments_lexer": "ipython3",
   "version": "3.7.5"
  }
 },
 "nbformat": 4,
 "nbformat_minor": 2
}
