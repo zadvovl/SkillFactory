{
 "cells": [
  {
   "cell_type": "markdown",
   "metadata": {},
   "source": [
    "# Загрузка Pandas и очистка данных"
   ]
  },
  {
   "cell_type": "code",
   "execution_count": 81,
   "metadata": {},
   "outputs": [],
   "source": [
    "import pandas as pd\n",
    "import ast\n",
    "from bs4 import BeautifulSoup\n",
    "import requests\n",
    "import numpy as np\n",
    "from multiprocessing import  Pool\n",
    "from datetime import datetime, timedelta\n",
    "from collections import namedtuple, Counter\n",
    "from itertools import combinations\n",
    "import random\n",
    "from sklearn.preprocessing import OneHotEncoder\n",
    "import seaborn as sns\n",
    "from scipy.stats import ttest_ind\n",
    "import matplotlib.pyplot as plt\n",
    "\n",
    "# this is just a file with a worker function for multiprocessing\n",
    "# (otherwise multiprocessing doesn't work in Jupyter on Windows)\n",
    "import worker  \n",
    "\n",
    "%matplotlib inline"
   ]
  },
  {
   "cell_type": "code",
   "execution_count": 82,
   "metadata": {},
   "outputs": [],
   "source": [
    "# Helper functions are defined in this cell\n",
    "\n",
    "def drop_by_type(d, t):\n",
    "    '''\n",
    "    Drops columns of the dataframe based on their type\n",
    "    Params:\n",
    "        d - target dataframe\n",
    "        t - type (from types returned by dtype) \n",
    "            provided as text (for example, 'float64')\n",
    "    '''\n",
    "    df_temp = d.copy()\n",
    "    to_drop = [c for c in d.columns if t == str(d[c].dtype)]\n",
    "    df_temp.drop(to_drop, axis=1, inplace=True)\n",
    "    print(f\"List of dropped columns (by type {t}): {to_drop}\")\n",
    "    return df_temp\n",
    "\n",
    "'''\n",
    "# These functions are in worker.py file now\n",
    "def from_website(url):\n",
    "    #print(f\"https://www.tripadvisor.com{url}\")\n",
    "    r = requests.get(f\"https://www.tripadvisor.com{url}\", timeout=2)\n",
    "    soup = BeautifulSoup(r.content)\n",
    "    \n",
    "    tmp = soup.find_all('span', {\"class\":\"ratingDate\"})\n",
    "    rev_dates_lst = [i['title'] for i in tmp]\n",
    "    #rev_dates_lst = [datetime.strptime(i['title'], '%B %d, %Y') for i in tmp]\n",
    "    \n",
    "    return rev_dates_lst\n",
    "\n",
    "\n",
    "def apply_to_dataframe(df):\n",
    "    df_result = df.copy()\n",
    "    df_result['all_review_dates'] = df_result['URL_TA'].apply(from_website)\n",
    "    return df_result\n",
    "'''\n",
    "\n",
    "def parallelize_dataframe(df, func, n_cores=30):\n",
    "    df_split = np.array_split(df, n_cores)\n",
    "    pool = Pool(n_cores)\n",
    "    df = pd.concat(pool.map(func, df_split))\n",
    "    pool.close()\n",
    "    pool.join()\n",
    "    return df\n",
    "\n",
    "\n",
    "def create_freq_dict(d):\n",
    "    '''\n",
    "    Input dictionary must be sorted!\n",
    "    \n",
    "    This function takes dictionary with absolute frequencies as an argument\n",
    "    and converts it into dictionary with relative frequencies percentages.\n",
    "    \n",
    "    For example, dictionary {'$$$$': 1423, '$': 6279, '$$ - $$$': 18412}\n",
    "    will be turned into {'$$$$': 5.0, '$': 24.0, '$$ - $$$': 71.0}\n",
    "    '''\n",
    "    result = d\n",
    "    tot = np.sum(list(d.values()))\n",
    "    for k, v in d.items():\n",
    "        d[k] = round(int(v) / tot * 100,0)\n",
    "    \n",
    "    return result\n",
    "\n",
    "\n",
    "def fill_na_by_frequency(freq_dict, col):\n",
    "    '''\n",
    "    This function is used to replace NaN for categorical\n",
    "    columns with values based on the frequency of non-missing values.\n",
    "\n",
    "    For this function to work freq_dict (frequency dictionary) should be passed\n",
    "    as an arguemnt. That's how frequency dictionary might look like (just an example)\n",
    "    freq_dict: {'other': 7.0, 'father': 24.0, 'mother': 69.0}.\n",
    "    Numbers correspond to the frequency of every possible distinct value.\n",
    "\n",
    "    IMPORTANT: this function can't be applied using df.fillna() because the result\n",
    "    must be different for every row it applies to, whereas fillna() replaces all NaN\n",
    "    with a single value. Therefore apply() should be used on a column (series)\n",
    "    '''\n",
    "\n",
    "    random.seed(10)\n",
    "    rnd_check = round(random.random()*100)    \n",
    "    \n",
    "    cumulative = 0\n",
    "    for k, v in freq_dict.items():\n",
    "        # cumulative is used to correctly assess the probability\n",
    "        # for example, if we take {'other': 7.0, 'father': 24.0, 'mother': 69.0}\n",
    "        # then \"other\" will be picked is rnd_check if <= 7, \"father\" will be\n",
    "        # picked if rnd_check <= 31 and \"mother\" will be picked in al the other cases\n",
    "        cumulative += v\n",
    "        if rnd_check <= cumulative:\n",
    "            #print(f'Random number is: {rnd_check}. Value is: {k}')\n",
    "            return k\n",
    "    # the last option\n",
    "    return k\n",
    "    #print(f'Random number is: {rnd_check}. Value is: {k}')\n",
    "    \n",
    "    \n",
    "def convert_price_range(s):\n",
    "    '''\n",
    "    Converts price ranges provided as one of these values\n",
    "    $\n",
    "    $$ - $$$            \n",
    "    $$$$\n",
    "    to low, average and high \n",
    "    '''\n",
    "    if s == '$':\n",
    "        return 'low'\n",
    "    elif s == '$$ - $$$':\n",
    "        return 'average'\n",
    "    elif s == '$$$$':\n",
    "        return 'high'\n",
    "    else:\n",
    "        return 'other'\n",
    "\n",
    "def median_interval(l):\n",
    "    '''\n",
    "    Takes a list with dates as strings in a format like 'February 28, 2017'\n",
    "    and returns a median interval between 2 consequent dates in a dataset\n",
    "    '''   \n",
    "    #tmp = ast.literal_eval(l)\n",
    "    tmp = l\n",
    "    res_lst = []\n",
    "    if len(tmp) > 1:\n",
    "        tmp = [datetime.strptime(i, '%B %d, %Y') for i in tmp]\n",
    "        i = 0\n",
    "        for d in tmp:\n",
    "            res_lst.append((tmp[i] - d).days)\n",
    "        return np.median(res_lst)\n",
    "    return 0\n",
    "\n",
    "def restaurant_age(l, snapshot_date):\n",
    "    '''\n",
    "    Takes a list with dates as strings in a format like 'February 28, 2017'\n",
    "    and returns a day difference between snapshot_date and the first review date\n",
    "    (let's  consider that an estimate of restaurant age on Tripadvisor website)\n",
    "    '''   \n",
    "    #tmp = ast.literal_eval(l)\n",
    "    tmp = l\n",
    "    res_lst = []\n",
    "    if len(tmp) > 0:\n",
    "        tmp = [datetime.strptime(i, '%B %d, %Y') for i in tmp]\n",
    "        return (snapshot_date - np.min(tmp)).days\n",
    "    return 0\n",
    "\n",
    "def is_weekend(l):\n",
    "    '''\n",
    "    Takes a list with dates as strings in a format like 'February 28, 2017'\n",
    "    and returns the most frequent weekday when the review was left\n",
    "    '''   \n",
    "    #tmp = ast.literal_eval(l)\n",
    "    tmp = l\n",
    "    res_lst = []\n",
    "    if len(tmp) > 0:\n",
    "        tmp = [datetime.strftime(datetime.strptime(i, '%B %d, %Y'),'%A') for i in tmp]\n",
    "        day = Counter(tmp).most_common(1)[0][0]\n",
    "        if day.lower() in ['saturday','sunday']:\n",
    "            return 1\n",
    "        else:\n",
    "            return 0    \n",
    "    return 0\n",
    "\n",
    "def get_stat_dif(column,  df_data):\n",
    "    '''\n",
    "    Student's t-test for all combinations of values for each categorical column\n",
    "    '''\n",
    "    cols = df_data.loc[:, column].value_counts().index\n",
    "    combinations_all = list(combinations(cols, 2))\n",
    "    for comb in combinations_all:\n",
    "        if ttest_ind(df_data.loc[df_data.loc[:, column] == comb[0], 'Rating'],\n",
    "                     df_data.loc[df_data.loc[:, column] == comb[1], 'Rating']).pvalue \\\n",
    "                <= 0.05/len(combinations_all):  # Bonferroni correction applied to avoid excessive amount of false negatives\n",
    "            print('Statistically significant differences found for column:', column)\n",
    "            return column   \n",
    "    "
   ]
  },
  {
   "cell_type": "code",
   "execution_count": 83,
   "metadata": {},
   "outputs": [
    {
     "name": "stdout",
     "output_type": "stream",
     "text": [
      "<class 'pandas.core.frame.DataFrame'>\n",
      "RangeIndex: 40000 entries, 0 to 39999\n",
      "Data columns (total 10 columns):\n",
      " #   Column             Non-Null Count  Dtype  \n",
      "---  ------             --------------  -----  \n",
      " 0   Restaurant_id      40000 non-null  object \n",
      " 1   City               40000 non-null  object \n",
      " 2   Cuisine Style      30717 non-null  object \n",
      " 3   Ranking            40000 non-null  float64\n",
      " 4   Rating             40000 non-null  float64\n",
      " 5   Price Range        26114 non-null  object \n",
      " 6   Number of Reviews  37457 non-null  float64\n",
      " 7   Reviews            40000 non-null  object \n",
      " 8   URL_TA             40000 non-null  object \n",
      " 9   ID_TA              40000 non-null  object \n",
      "dtypes: float64(3), object(7)\n",
      "memory usage: 3.1+ MB\n"
     ]
    }
   ],
   "source": [
    "df = pd.read_csv('main_task.xls')\n",
    "df_small = df.iloc[:240,:] # I sometimes use it for testing\n",
    "df.info()"
   ]
  },
  {
   "cell_type": "code",
   "execution_count": 84,
   "metadata": {},
   "outputs": [
    {
     "data": {
      "text/html": [
       "<div>\n",
       "<style scoped>\n",
       "    .dataframe tbody tr th:only-of-type {\n",
       "        vertical-align: middle;\n",
       "    }\n",
       "\n",
       "    .dataframe tbody tr th {\n",
       "        vertical-align: top;\n",
       "    }\n",
       "\n",
       "    .dataframe thead th {\n",
       "        text-align: right;\n",
       "    }\n",
       "</style>\n",
       "<table border=\"1\" class=\"dataframe\">\n",
       "  <thead>\n",
       "    <tr style=\"text-align: right;\">\n",
       "      <th></th>\n",
       "      <th>Restaurant_id</th>\n",
       "      <th>City</th>\n",
       "      <th>Cuisine Style</th>\n",
       "      <th>Ranking</th>\n",
       "      <th>Rating</th>\n",
       "      <th>Price Range</th>\n",
       "      <th>Number of Reviews</th>\n",
       "      <th>Reviews</th>\n",
       "      <th>URL_TA</th>\n",
       "      <th>ID_TA</th>\n",
       "    </tr>\n",
       "  </thead>\n",
       "  <tbody>\n",
       "    <tr>\n",
       "      <th>0</th>\n",
       "      <td>id_5569</td>\n",
       "      <td>Paris</td>\n",
       "      <td>['European', 'French', 'International']</td>\n",
       "      <td>5570.0</td>\n",
       "      <td>3.5</td>\n",
       "      <td>$$ - $$$</td>\n",
       "      <td>194.0</td>\n",
       "      <td>[['Good food at your doorstep', 'A good hotel ...</td>\n",
       "      <td>/Restaurant_Review-g187147-d1912643-Reviews-R_...</td>\n",
       "      <td>d1912643</td>\n",
       "    </tr>\n",
       "    <tr>\n",
       "      <th>1</th>\n",
       "      <td>id_1535</td>\n",
       "      <td>Stockholm</td>\n",
       "      <td>NaN</td>\n",
       "      <td>1537.0</td>\n",
       "      <td>4.0</td>\n",
       "      <td>NaN</td>\n",
       "      <td>10.0</td>\n",
       "      <td>[['Unique cuisine', 'Delicious Nepalese food']...</td>\n",
       "      <td>/Restaurant_Review-g189852-d7992032-Reviews-Bu...</td>\n",
       "      <td>d7992032</td>\n",
       "    </tr>\n",
       "    <tr>\n",
       "      <th>2</th>\n",
       "      <td>id_352</td>\n",
       "      <td>London</td>\n",
       "      <td>['Japanese', 'Sushi', 'Asian', 'Grill', 'Veget...</td>\n",
       "      <td>353.0</td>\n",
       "      <td>4.5</td>\n",
       "      <td>$$$$</td>\n",
       "      <td>688.0</td>\n",
       "      <td>[['Catch up with friends', 'Not exceptional'],...</td>\n",
       "      <td>/Restaurant_Review-g186338-d8632781-Reviews-RO...</td>\n",
       "      <td>d8632781</td>\n",
       "    </tr>\n",
       "    <tr>\n",
       "      <th>3</th>\n",
       "      <td>id_3456</td>\n",
       "      <td>Berlin</td>\n",
       "      <td>NaN</td>\n",
       "      <td>3458.0</td>\n",
       "      <td>5.0</td>\n",
       "      <td>NaN</td>\n",
       "      <td>3.0</td>\n",
       "      <td>[[], []]</td>\n",
       "      <td>/Restaurant_Review-g187323-d1358776-Reviews-Es...</td>\n",
       "      <td>d1358776</td>\n",
       "    </tr>\n",
       "    <tr>\n",
       "      <th>4</th>\n",
       "      <td>id_615</td>\n",
       "      <td>Munich</td>\n",
       "      <td>['German', 'Central European', 'Vegetarian Fri...</td>\n",
       "      <td>621.0</td>\n",
       "      <td>4.0</td>\n",
       "      <td>$$ - $$$</td>\n",
       "      <td>84.0</td>\n",
       "      <td>[['Best place to try a Bavarian food', 'Nice b...</td>\n",
       "      <td>/Restaurant_Review-g187309-d6864963-Reviews-Au...</td>\n",
       "      <td>d6864963</td>\n",
       "    </tr>\n",
       "    <tr>\n",
       "      <th>5</th>\n",
       "      <td>id_1418</td>\n",
       "      <td>Oporto</td>\n",
       "      <td>NaN</td>\n",
       "      <td>1419.0</td>\n",
       "      <td>3.0</td>\n",
       "      <td>NaN</td>\n",
       "      <td>2.0</td>\n",
       "      <td>[['There are better 3 star hotel bars', 'Amazi...</td>\n",
       "      <td>/Restaurant_Review-g189180-d12503536-Reviews-D...</td>\n",
       "      <td>d12503536</td>\n",
       "    </tr>\n",
       "    <tr>\n",
       "      <th>6</th>\n",
       "      <td>id_1720</td>\n",
       "      <td>Milan</td>\n",
       "      <td>['Italian', 'Pizza']</td>\n",
       "      <td>1722.0</td>\n",
       "      <td>4.0</td>\n",
       "      <td>$</td>\n",
       "      <td>50.0</td>\n",
       "      <td>[['Excellent simple local eatery.', 'Excellent...</td>\n",
       "      <td>/Restaurant_Review-g187849-d5808504-Reviews-Pi...</td>\n",
       "      <td>d5808504</td>\n",
       "    </tr>\n",
       "    <tr>\n",
       "      <th>7</th>\n",
       "      <td>id_825</td>\n",
       "      <td>Bratislava</td>\n",
       "      <td>['Italian']</td>\n",
       "      <td>826.0</td>\n",
       "      <td>3.0</td>\n",
       "      <td>NaN</td>\n",
       "      <td>9.0</td>\n",
       "      <td>[['Wasting of money', 'excellent cuisine'], ['...</td>\n",
       "      <td>/Restaurant_Review-g274924-d3199765-Reviews-Ri...</td>\n",
       "      <td>d3199765</td>\n",
       "    </tr>\n",
       "    <tr>\n",
       "      <th>8</th>\n",
       "      <td>id_2690</td>\n",
       "      <td>Vienna</td>\n",
       "      <td>NaN</td>\n",
       "      <td>2692.0</td>\n",
       "      <td>4.0</td>\n",
       "      <td>NaN</td>\n",
       "      <td>NaN</td>\n",
       "      <td>[[], []]</td>\n",
       "      <td>/Restaurant_Review-g190454-d12845029-Reviews-G...</td>\n",
       "      <td>d12845029</td>\n",
       "    </tr>\n",
       "    <tr>\n",
       "      <th>9</th>\n",
       "      <td>id_4209</td>\n",
       "      <td>Rome</td>\n",
       "      <td>['Italian', 'Pizza', 'Fast Food']</td>\n",
       "      <td>4210.0</td>\n",
       "      <td>4.0</td>\n",
       "      <td>$</td>\n",
       "      <td>55.0</td>\n",
       "      <td>[['Clean efficient staff', 'Nice little pizza ...</td>\n",
       "      <td>/Restaurant_Review-g187791-d8020681-Reviews-Qu...</td>\n",
       "      <td>d8020681</td>\n",
       "    </tr>\n",
       "  </tbody>\n",
       "</table>\n",
       "</div>"
      ],
      "text/plain": [
       "  Restaurant_id        City  \\\n",
       "0       id_5569       Paris   \n",
       "1       id_1535   Stockholm   \n",
       "2        id_352      London   \n",
       "3       id_3456      Berlin   \n",
       "4        id_615      Munich   \n",
       "5       id_1418      Oporto   \n",
       "6       id_1720       Milan   \n",
       "7        id_825  Bratislava   \n",
       "8       id_2690      Vienna   \n",
       "9       id_4209        Rome   \n",
       "\n",
       "                                       Cuisine Style  Ranking  Rating  \\\n",
       "0            ['European', 'French', 'International']   5570.0     3.5   \n",
       "1                                                NaN   1537.0     4.0   \n",
       "2  ['Japanese', 'Sushi', 'Asian', 'Grill', 'Veget...    353.0     4.5   \n",
       "3                                                NaN   3458.0     5.0   \n",
       "4  ['German', 'Central European', 'Vegetarian Fri...    621.0     4.0   \n",
       "5                                                NaN   1419.0     3.0   \n",
       "6                               ['Italian', 'Pizza']   1722.0     4.0   \n",
       "7                                        ['Italian']    826.0     3.0   \n",
       "8                                                NaN   2692.0     4.0   \n",
       "9                  ['Italian', 'Pizza', 'Fast Food']   4210.0     4.0   \n",
       "\n",
       "  Price Range  Number of Reviews  \\\n",
       "0    $$ - $$$              194.0   \n",
       "1         NaN               10.0   \n",
       "2        $$$$              688.0   \n",
       "3         NaN                3.0   \n",
       "4    $$ - $$$               84.0   \n",
       "5         NaN                2.0   \n",
       "6           $               50.0   \n",
       "7         NaN                9.0   \n",
       "8         NaN                NaN   \n",
       "9           $               55.0   \n",
       "\n",
       "                                             Reviews  \\\n",
       "0  [['Good food at your doorstep', 'A good hotel ...   \n",
       "1  [['Unique cuisine', 'Delicious Nepalese food']...   \n",
       "2  [['Catch up with friends', 'Not exceptional'],...   \n",
       "3                                           [[], []]   \n",
       "4  [['Best place to try a Bavarian food', 'Nice b...   \n",
       "5  [['There are better 3 star hotel bars', 'Amazi...   \n",
       "6  [['Excellent simple local eatery.', 'Excellent...   \n",
       "7  [['Wasting of money', 'excellent cuisine'], ['...   \n",
       "8                                           [[], []]   \n",
       "9  [['Clean efficient staff', 'Nice little pizza ...   \n",
       "\n",
       "                                              URL_TA      ID_TA  \n",
       "0  /Restaurant_Review-g187147-d1912643-Reviews-R_...   d1912643  \n",
       "1  /Restaurant_Review-g189852-d7992032-Reviews-Bu...   d7992032  \n",
       "2  /Restaurant_Review-g186338-d8632781-Reviews-RO...   d8632781  \n",
       "3  /Restaurant_Review-g187323-d1358776-Reviews-Es...   d1358776  \n",
       "4  /Restaurant_Review-g187309-d6864963-Reviews-Au...   d6864963  \n",
       "5  /Restaurant_Review-g189180-d12503536-Reviews-D...  d12503536  \n",
       "6  /Restaurant_Review-g187849-d5808504-Reviews-Pi...   d5808504  \n",
       "7  /Restaurant_Review-g274924-d3199765-Reviews-Ri...   d3199765  \n",
       "8  /Restaurant_Review-g190454-d12845029-Reviews-G...  d12845029  \n",
       "9  /Restaurant_Review-g187791-d8020681-Reviews-Qu...   d8020681  "
      ]
     },
     "execution_count": 84,
     "metadata": {},
     "output_type": "execute_result"
    }
   ],
   "source": [
    "df.head(10)"
   ]
  },
  {
   "cell_type": "code",
   "execution_count": 85,
   "metadata": {},
   "outputs": [
    {
     "data": {
      "text/html": [
       "<div>\n",
       "<style scoped>\n",
       "    .dataframe tbody tr th:only-of-type {\n",
       "        vertical-align: middle;\n",
       "    }\n",
       "\n",
       "    .dataframe tbody tr th {\n",
       "        vertical-align: top;\n",
       "    }\n",
       "\n",
       "    .dataframe thead th {\n",
       "        text-align: right;\n",
       "    }\n",
       "</style>\n",
       "<table border=\"1\" class=\"dataframe\">\n",
       "  <thead>\n",
       "    <tr style=\"text-align: right;\">\n",
       "      <th></th>\n",
       "      <th>Restaurant_id</th>\n",
       "      <th>City</th>\n",
       "      <th>Cuisine Style</th>\n",
       "      <th>Ranking</th>\n",
       "      <th>Rating</th>\n",
       "      <th>Price Range</th>\n",
       "      <th>Number of Reviews</th>\n",
       "      <th>Reviews</th>\n",
       "      <th>URL_TA</th>\n",
       "      <th>ID_TA</th>\n",
       "      <th>all_review_dates</th>\n",
       "    </tr>\n",
       "  </thead>\n",
       "  <tbody>\n",
       "    <tr>\n",
       "      <th>0</th>\n",
       "      <td>id_5569</td>\n",
       "      <td>Paris</td>\n",
       "      <td>['European', 'French', 'International']</td>\n",
       "      <td>5570.0</td>\n",
       "      <td>3.5</td>\n",
       "      <td>$$ - $$$</td>\n",
       "      <td>194.0</td>\n",
       "      <td>[['Good food at your doorstep', 'A good hotel ...</td>\n",
       "      <td>/Restaurant_Review-g187147-d1912643-Reviews-R_...</td>\n",
       "      <td>d1912643</td>\n",
       "      <td>['February 14, 2020', 'December 20, 2019', 'No...</td>\n",
       "    </tr>\n",
       "    <tr>\n",
       "      <th>1</th>\n",
       "      <td>id_1535</td>\n",
       "      <td>Stockholm</td>\n",
       "      <td>NaN</td>\n",
       "      <td>1537.0</td>\n",
       "      <td>4.0</td>\n",
       "      <td>NaN</td>\n",
       "      <td>10.0</td>\n",
       "      <td>[['Unique cuisine', 'Delicious Nepalese food']...</td>\n",
       "      <td>/Restaurant_Review-g189852-d7992032-Reviews-Bu...</td>\n",
       "      <td>d7992032</td>\n",
       "      <td>[]</td>\n",
       "    </tr>\n",
       "    <tr>\n",
       "      <th>2</th>\n",
       "      <td>id_352</td>\n",
       "      <td>London</td>\n",
       "      <td>['Japanese', 'Sushi', 'Asian', 'Grill', 'Veget...</td>\n",
       "      <td>353.0</td>\n",
       "      <td>4.5</td>\n",
       "      <td>$$$$</td>\n",
       "      <td>688.0</td>\n",
       "      <td>[['Catch up with friends', 'Not exceptional'],...</td>\n",
       "      <td>/Restaurant_Review-g186338-d8632781-Reviews-RO...</td>\n",
       "      <td>d8632781</td>\n",
       "      <td>['September 25, 2020', 'September 5, 2020', 'A...</td>\n",
       "    </tr>\n",
       "    <tr>\n",
       "      <th>3</th>\n",
       "      <td>id_3456</td>\n",
       "      <td>Berlin</td>\n",
       "      <td>NaN</td>\n",
       "      <td>3458.0</td>\n",
       "      <td>5.0</td>\n",
       "      <td>NaN</td>\n",
       "      <td>3.0</td>\n",
       "      <td>[[], []]</td>\n",
       "      <td>/Restaurant_Review-g187323-d1358776-Reviews-Es...</td>\n",
       "      <td>d1358776</td>\n",
       "      <td>[]</td>\n",
       "    </tr>\n",
       "    <tr>\n",
       "      <th>4</th>\n",
       "      <td>id_615</td>\n",
       "      <td>Munich</td>\n",
       "      <td>['German', 'Central European', 'Vegetarian Fri...</td>\n",
       "      <td>621.0</td>\n",
       "      <td>4.0</td>\n",
       "      <td>$$ - $$$</td>\n",
       "      <td>84.0</td>\n",
       "      <td>[['Best place to try a Bavarian food', 'Nice b...</td>\n",
       "      <td>/Restaurant_Review-g187309-d6864963-Reviews-Au...</td>\n",
       "      <td>d6864963</td>\n",
       "      <td>['September 10, 2020', 'September 28, 2019', '...</td>\n",
       "    </tr>\n",
       "  </tbody>\n",
       "</table>\n",
       "</div>"
      ],
      "text/plain": [
       "  Restaurant_id       City                                      Cuisine Style  \\\n",
       "0       id_5569      Paris            ['European', 'French', 'International']   \n",
       "1       id_1535  Stockholm                                                NaN   \n",
       "2        id_352     London  ['Japanese', 'Sushi', 'Asian', 'Grill', 'Veget...   \n",
       "3       id_3456     Berlin                                                NaN   \n",
       "4        id_615     Munich  ['German', 'Central European', 'Vegetarian Fri...   \n",
       "\n",
       "   Ranking  Rating Price Range  Number of Reviews  \\\n",
       "0   5570.0     3.5    $$ - $$$              194.0   \n",
       "1   1537.0     4.0         NaN               10.0   \n",
       "2    353.0     4.5        $$$$              688.0   \n",
       "3   3458.0     5.0         NaN                3.0   \n",
       "4    621.0     4.0    $$ - $$$               84.0   \n",
       "\n",
       "                                             Reviews  \\\n",
       "0  [['Good food at your doorstep', 'A good hotel ...   \n",
       "1  [['Unique cuisine', 'Delicious Nepalese food']...   \n",
       "2  [['Catch up with friends', 'Not exceptional'],...   \n",
       "3                                           [[], []]   \n",
       "4  [['Best place to try a Bavarian food', 'Nice b...   \n",
       "\n",
       "                                              URL_TA     ID_TA  \\\n",
       "0  /Restaurant_Review-g187147-d1912643-Reviews-R_...  d1912643   \n",
       "1  /Restaurant_Review-g189852-d7992032-Reviews-Bu...  d7992032   \n",
       "2  /Restaurant_Review-g186338-d8632781-Reviews-RO...  d8632781   \n",
       "3  /Restaurant_Review-g187323-d1358776-Reviews-Es...  d1358776   \n",
       "4  /Restaurant_Review-g187309-d6864963-Reviews-Au...  d6864963   \n",
       "\n",
       "                                    all_review_dates  \n",
       "0  ['February 14, 2020', 'December 20, 2019', 'No...  \n",
       "1                                                 []  \n",
       "2  ['September 25, 2020', 'September 5, 2020', 'A...  \n",
       "3                                                 []  \n",
       "4  ['September 10, 2020', 'September 28, 2019', '...  "
      ]
     },
     "execution_count": 85,
     "metadata": {},
     "output_type": "execute_result"
    }
   ],
   "source": [
    "'''\n",
    "# Uncomment it only if you need to crawl Tripadvisor website once again\n",
    "if __name__ ==  '__main__': \n",
    "    df_crawled = parallelize_dataframe(df, worker.apply_to_dataframe)\n",
    "    \n",
    "df_crawled.to_csv('with_additional_data_from_TA_ALL_2.csv')    \n",
    "'''\n",
    "\n",
    "# this is a file that consists of an original dataframe \n",
    "# extended with additional data from Tripadvisor website\n",
    "# using requests and beautifulsoup\n",
    "df = pd.read_csv('with_additional_data_from_TA_ALL_2.csv')\n",
    "df.drop(labels=['Unnamed: 0'], axis=1, inplace=True)\n",
    "df.head()"
   ]
  },
  {
   "cell_type": "code",
   "execution_count": 86,
   "metadata": {},
   "outputs": [
    {
     "name": "stdout",
     "output_type": "stream",
     "text": [
      "Snapshot date: 2018-02-26 00:00:00\n"
     ]
    }
   ],
   "source": [
    "# Given the fact that it's currently year 2020 and a dataset for the task contains\n",
    "# an older data it would be wise to avoid using records that appeared after a maximal\n",
    "# date available in this dataset (the ones I obtained using web crawling).\n",
    "# Let's find this date\n",
    "df['tst'] = df['Reviews'].map(lambda x: x.split(\"], [\")[1])\n",
    "df['tst'] = df['tst'].str.replace('[','').str.replace(']','').str.replace(\"'\",'').str.replace(\"'\",'').str.split(',')\n",
    "task_snapshot_date = pd.to_datetime(df['tst'].explode()).max()\n",
    "df.drop(labels=['tst'], axis=1, inplace=True)\n",
    "print(f\"Snapshot date: {task_snapshot_date}\")"
   ]
  },
  {
   "cell_type": "code",
   "execution_count": 87,
   "metadata": {},
   "outputs": [],
   "source": [
    "# The data was saved to a file after web crawler (function from_website) was executed.\n",
    "# It means that all_review_dates contains a string representation of a list.\n",
    "# Let's convert it into the list to make other functions run faster\n",
    "df['all_review_dates'] = df['all_review_dates'].map(ast.literal_eval)\n",
    "\n",
    "# Let's remove all the review dates after task_snapshot_date\n",
    "df['all_review_dates'] = df['all_review_dates'].map(lambda lst:\\\n",
    "    [i for i in lst if task_snapshot_date >= datetime.strptime(i, '%B %d, %Y')])"
   ]
  },
  {
   "cell_type": "code",
   "execution_count": 88,
   "metadata": {},
   "outputs": [
    {
     "data": {
      "text/html": [
       "<div>\n",
       "<style scoped>\n",
       "    .dataframe tbody tr th:only-of-type {\n",
       "        vertical-align: middle;\n",
       "    }\n",
       "\n",
       "    .dataframe tbody tr th {\n",
       "        vertical-align: top;\n",
       "    }\n",
       "\n",
       "    .dataframe thead th {\n",
       "        text-align: right;\n",
       "    }\n",
       "</style>\n",
       "<table border=\"1\" class=\"dataframe\">\n",
       "  <thead>\n",
       "    <tr style=\"text-align: right;\">\n",
       "      <th></th>\n",
       "      <th>City</th>\n",
       "      <th>Cuisine Style</th>\n",
       "      <th>Ranking</th>\n",
       "      <th>Rating</th>\n",
       "      <th>Price Range</th>\n",
       "      <th>Number of Reviews</th>\n",
       "      <th>Reviews</th>\n",
       "      <th>all_review_dates</th>\n",
       "    </tr>\n",
       "  </thead>\n",
       "  <tbody>\n",
       "    <tr>\n",
       "      <th>0</th>\n",
       "      <td>Paris</td>\n",
       "      <td>['European', 'French', 'International']</td>\n",
       "      <td>5570.0</td>\n",
       "      <td>3.5</td>\n",
       "      <td>$$ - $$$</td>\n",
       "      <td>194.0</td>\n",
       "      <td>[['Good food at your doorstep', 'A good hotel ...</td>\n",
       "      <td>[January 13, 2018, December 31, 2017, November...</td>\n",
       "    </tr>\n",
       "    <tr>\n",
       "      <th>1</th>\n",
       "      <td>Stockholm</td>\n",
       "      <td>NaN</td>\n",
       "      <td>1537.0</td>\n",
       "      <td>4.0</td>\n",
       "      <td>NaN</td>\n",
       "      <td>10.0</td>\n",
       "      <td>[['Unique cuisine', 'Delicious Nepalese food']...</td>\n",
       "      <td>[]</td>\n",
       "    </tr>\n",
       "    <tr>\n",
       "      <th>2</th>\n",
       "      <td>London</td>\n",
       "      <td>['Japanese', 'Sushi', 'Asian', 'Grill', 'Veget...</td>\n",
       "      <td>353.0</td>\n",
       "      <td>4.5</td>\n",
       "      <td>$$$$</td>\n",
       "      <td>688.0</td>\n",
       "      <td>[['Catch up with friends', 'Not exceptional'],...</td>\n",
       "      <td>[May 12, 2014, May 6, 2014, May 5, 2014, May 4...</td>\n",
       "    </tr>\n",
       "    <tr>\n",
       "      <th>3</th>\n",
       "      <td>Berlin</td>\n",
       "      <td>NaN</td>\n",
       "      <td>3458.0</td>\n",
       "      <td>5.0</td>\n",
       "      <td>NaN</td>\n",
       "      <td>3.0</td>\n",
       "      <td>[[], []]</td>\n",
       "      <td>[]</td>\n",
       "    </tr>\n",
       "    <tr>\n",
       "      <th>4</th>\n",
       "      <td>Munich</td>\n",
       "      <td>['German', 'Central European', 'Vegetarian Fri...</td>\n",
       "      <td>621.0</td>\n",
       "      <td>4.0</td>\n",
       "      <td>$$ - $$$</td>\n",
       "      <td>84.0</td>\n",
       "      <td>[['Best place to try a Bavarian food', 'Nice b...</td>\n",
       "      <td>[November 18, 2017, July 25, 2017, May 16, 201...</td>\n",
       "    </tr>\n",
       "  </tbody>\n",
       "</table>\n",
       "</div>"
      ],
      "text/plain": [
       "        City                                      Cuisine Style  Ranking  \\\n",
       "0      Paris            ['European', 'French', 'International']   5570.0   \n",
       "1  Stockholm                                                NaN   1537.0   \n",
       "2     London  ['Japanese', 'Sushi', 'Asian', 'Grill', 'Veget...    353.0   \n",
       "3     Berlin                                                NaN   3458.0   \n",
       "4     Munich  ['German', 'Central European', 'Vegetarian Fri...    621.0   \n",
       "\n",
       "   Rating Price Range  Number of Reviews  \\\n",
       "0     3.5    $$ - $$$              194.0   \n",
       "1     4.0         NaN               10.0   \n",
       "2     4.5        $$$$              688.0   \n",
       "3     5.0         NaN                3.0   \n",
       "4     4.0    $$ - $$$               84.0   \n",
       "\n",
       "                                             Reviews  \\\n",
       "0  [['Good food at your doorstep', 'A good hotel ...   \n",
       "1  [['Unique cuisine', 'Delicious Nepalese food']...   \n",
       "2  [['Catch up with friends', 'Not exceptional'],...   \n",
       "3                                           [[], []]   \n",
       "4  [['Best place to try a Bavarian food', 'Nice b...   \n",
       "\n",
       "                                    all_review_dates  \n",
       "0  [January 13, 2018, December 31, 2017, November...  \n",
       "1                                                 []  \n",
       "2  [May 12, 2014, May 6, 2014, May 5, 2014, May 4...  \n",
       "3                                                 []  \n",
       "4  [November 18, 2017, July 25, 2017, May 16, 201...  "
      ]
     },
     "execution_count": 88,
     "metadata": {},
     "output_type": "execute_result"
    }
   ],
   "source": [
    "# let's drop Restaurant_id, ID_TA and URL_TA because we don't need them anymore\n",
    "df.drop(labels=['Restaurant_id','ID_TA','URL_TA'], axis=1, inplace=True)\n",
    "df.head(5)"
   ]
  },
  {
   "cell_type": "code",
   "execution_count": 89,
   "metadata": {},
   "outputs": [
    {
     "name": "stdout",
     "output_type": "stream",
     "text": [
      "Statistically significant differences found for column: City\n",
      "Statistically significant differences found for column: Price Range\n"
     ]
    },
    {
     "data": {
      "text/plain": [
       "'Price Range'"
      ]
     },
     "execution_count": 89,
     "metadata": {},
     "output_type": "execute_result"
    }
   ],
   "source": [
    "# Let's make sure that there's a statistically significant difference between \n",
    "# ratings for different values of categorical variables - I will work\n",
    "# with them further if there is\n",
    "get_stat_dif('City', df)\n",
    "get_stat_dif('Price Range', df)"
   ]
  },
  {
   "cell_type": "code",
   "execution_count": 90,
   "metadata": {},
   "outputs": [
    {
     "data": {
      "text/html": [
       "<div>\n",
       "<style scoped>\n",
       "    .dataframe tbody tr th:only-of-type {\n",
       "        vertical-align: middle;\n",
       "    }\n",
       "\n",
       "    .dataframe tbody tr th {\n",
       "        vertical-align: top;\n",
       "    }\n",
       "\n",
       "    .dataframe thead th {\n",
       "        text-align: right;\n",
       "    }\n",
       "</style>\n",
       "<table border=\"1\" class=\"dataframe\">\n",
       "  <thead>\n",
       "    <tr style=\"text-align: right;\">\n",
       "      <th></th>\n",
       "      <th>City</th>\n",
       "      <th>Cuisine Style</th>\n",
       "      <th>Ranking</th>\n",
       "      <th>Rating</th>\n",
       "      <th>Price Range</th>\n",
       "      <th>Number of Reviews</th>\n",
       "      <th>Reviews</th>\n",
       "      <th>all_review_dates</th>\n",
       "      <th>contains_bad_review</th>\n",
       "      <th>contains_good_review</th>\n",
       "    </tr>\n",
       "  </thead>\n",
       "  <tbody>\n",
       "    <tr>\n",
       "      <th>0</th>\n",
       "      <td>Paris</td>\n",
       "      <td>['European', 'French', 'International']</td>\n",
       "      <td>5570.0</td>\n",
       "      <td>3.5</td>\n",
       "      <td>$$ - $$$</td>\n",
       "      <td>194.0</td>\n",
       "      <td>[['Good food at your doorstep', 'A good hotel ...</td>\n",
       "      <td>[January 13, 2018, December 31, 2017, November...</td>\n",
       "      <td>0</td>\n",
       "      <td>1</td>\n",
       "    </tr>\n",
       "    <tr>\n",
       "      <th>1</th>\n",
       "      <td>Stockholm</td>\n",
       "      <td>NaN</td>\n",
       "      <td>1537.0</td>\n",
       "      <td>4.0</td>\n",
       "      <td>NaN</td>\n",
       "      <td>10.0</td>\n",
       "      <td>[['Unique cuisine', 'Delicious Nepalese food']...</td>\n",
       "      <td>[]</td>\n",
       "      <td>0</td>\n",
       "      <td>0</td>\n",
       "    </tr>\n",
       "    <tr>\n",
       "      <th>2</th>\n",
       "      <td>London</td>\n",
       "      <td>['Japanese', 'Sushi', 'Asian', 'Grill', 'Veget...</td>\n",
       "      <td>353.0</td>\n",
       "      <td>4.5</td>\n",
       "      <td>$$$$</td>\n",
       "      <td>688.0</td>\n",
       "      <td>[['Catch up with friends', 'Not exceptional'],...</td>\n",
       "      <td>[May 12, 2014, May 6, 2014, May 5, 2014, May 4...</td>\n",
       "      <td>0</td>\n",
       "      <td>0</td>\n",
       "    </tr>\n",
       "    <tr>\n",
       "      <th>3</th>\n",
       "      <td>Berlin</td>\n",
       "      <td>NaN</td>\n",
       "      <td>3458.0</td>\n",
       "      <td>5.0</td>\n",
       "      <td>NaN</td>\n",
       "      <td>3.0</td>\n",
       "      <td>[[], []]</td>\n",
       "      <td>[]</td>\n",
       "      <td>0</td>\n",
       "      <td>0</td>\n",
       "    </tr>\n",
       "    <tr>\n",
       "      <th>4</th>\n",
       "      <td>Munich</td>\n",
       "      <td>['German', 'Central European', 'Vegetarian Fri...</td>\n",
       "      <td>621.0</td>\n",
       "      <td>4.0</td>\n",
       "      <td>$$ - $$$</td>\n",
       "      <td>84.0</td>\n",
       "      <td>[['Best place to try a Bavarian food', 'Nice b...</td>\n",
       "      <td>[November 18, 2017, July 25, 2017, May 16, 201...</td>\n",
       "      <td>0</td>\n",
       "      <td>1</td>\n",
       "    </tr>\n",
       "  </tbody>\n",
       "</table>\n",
       "</div>"
      ],
      "text/plain": [
       "        City                                      Cuisine Style  Ranking  \\\n",
       "0      Paris            ['European', 'French', 'International']   5570.0   \n",
       "1  Stockholm                                                NaN   1537.0   \n",
       "2     London  ['Japanese', 'Sushi', 'Asian', 'Grill', 'Veget...    353.0   \n",
       "3     Berlin                                                NaN   3458.0   \n",
       "4     Munich  ['German', 'Central European', 'Vegetarian Fri...    621.0   \n",
       "\n",
       "   Rating Price Range  Number of Reviews  \\\n",
       "0     3.5    $$ - $$$              194.0   \n",
       "1     4.0         NaN               10.0   \n",
       "2     4.5        $$$$              688.0   \n",
       "3     5.0         NaN                3.0   \n",
       "4     4.0    $$ - $$$               84.0   \n",
       "\n",
       "                                             Reviews  \\\n",
       "0  [['Good food at your doorstep', 'A good hotel ...   \n",
       "1  [['Unique cuisine', 'Delicious Nepalese food']...   \n",
       "2  [['Catch up with friends', 'Not exceptional'],...   \n",
       "3                                           [[], []]   \n",
       "4  [['Best place to try a Bavarian food', 'Nice b...   \n",
       "\n",
       "                                    all_review_dates  contains_bad_review  \\\n",
       "0  [January 13, 2018, December 31, 2017, November...                    0   \n",
       "1                                                 []                    0   \n",
       "2  [May 12, 2014, May 6, 2014, May 5, 2014, May 4...                    0   \n",
       "3                                                 []                    0   \n",
       "4  [November 18, 2017, July 25, 2017, May 16, 201...                    0   \n",
       "\n",
       "   contains_good_review  \n",
       "0                     1  \n",
       "1                     0  \n",
       "2                     0  \n",
       "3                     0  \n",
       "4                     1  "
      ]
     },
     "execution_count": 90,
     "metadata": {},
     "output_type": "execute_result"
    }
   ],
   "source": [
    "# let's create 2 simple columns to mimic a basic sentiment analysis\n",
    "# first column will be 1 if a restaurant contains some negative review\n",
    "# (like bad, awful, horrible, dirty, disgusting) in 2 reviews provided\n",
    "# in a dataset\n",
    "bad_words = \"terrible|very bad|awful|horrible|dirty|disgusting|bad experience|don't go|bad service|unfriendly|not good|\"\\\n",
    "    \"disappointed|rubbish|average food|bad customer service|poor\"\n",
    "df['contains_bad_review'] = df['Reviews'].str.contains(bad_words, regex=True, case=False).astype(int)\n",
    "\n",
    "# same but with good words \n",
    "good_words = \"good|nice|amazing|best|great|excellent\"\n",
    "df['contains_good_review'] = df['Reviews'].str.contains(good_words, regex=True, case=False).astype(int)\n",
    "\n",
    "df.head()"
   ]
  },
  {
   "cell_type": "code",
   "execution_count": 91,
   "metadata": {},
   "outputs": [
    {
     "data": {
      "text/plain": [
       "contains_bad_review      1498\n",
       "contains_good_review    21001\n",
       "dtype: int64"
      ]
     },
     "execution_count": 91,
     "metadata": {},
     "output_type": "execute_result"
    }
   ],
   "source": [
    "df[['contains_bad_review','contains_good_review']].sum()"
   ]
  },
  {
   "cell_type": "code",
   "execution_count": 92,
   "metadata": {},
   "outputs": [],
   "source": [
    "# determining unique cuisine styles and their value counts\n",
    "# ast.literal_eval is required because lists of styles are\n",
    "# represented as strings in the dataframe\n",
    "# IMPORTANT: nan values are replaced by the fake list empty list \"[]\" for this\n",
    "# particular part of the task, but that does not happen in place\n",
    "df['cuisine_styles_num'] = df['Cuisine Style'].fillna(\"[]\").apply(ast.literal_eval).apply(len)"
   ]
  },
  {
   "cell_type": "code",
   "execution_count": 93,
   "metadata": {},
   "outputs": [
    {
     "data": {
      "text/plain": [
       "(0.580289048200122,\n",
       " Vegetarian Friendly    0.106668\n",
       " European               0.095905\n",
       " no_style_provided      0.088497\n",
       " Mediterranean          0.059840\n",
       " Italian                0.056856\n",
       " Vegan Options          0.042766\n",
       " Gluten Free Options    0.039210\n",
       " Bar                    0.031431\n",
       " French                 0.030411\n",
       " Asian                  0.028705\n",
       " Name: Cuisine Style, dtype: float64)"
      ]
     },
     "execution_count": 93,
     "metadata": {},
     "output_type": "execute_result"
    }
   ],
   "source": [
    "# let's check the number of unique cuisine styles (empty records will be marked as\n",
    "# a \"no_style_provided\" in place)\n",
    "df['Cuisine Style'].fillna(\"['no_style_provided']\", inplace=True)\n",
    "\n",
    "unique_styles = df['Cuisine Style'].apply(ast.literal_eval).explode()\\\n",
    "    .value_counts(normalize=True)\n",
    "\n",
    "sum(unique_styles.head(10)), unique_styles.head(10)"
   ]
  },
  {
   "cell_type": "code",
   "execution_count": 94,
   "metadata": {},
   "outputs": [
    {
     "data": {
      "text/html": [
       "<div>\n",
       "<style scoped>\n",
       "    .dataframe tbody tr th:only-of-type {\n",
       "        vertical-align: middle;\n",
       "    }\n",
       "\n",
       "    .dataframe tbody tr th {\n",
       "        vertical-align: top;\n",
       "    }\n",
       "\n",
       "    .dataframe thead th {\n",
       "        text-align: right;\n",
       "    }\n",
       "</style>\n",
       "<table border=\"1\" class=\"dataframe\">\n",
       "  <thead>\n",
       "    <tr style=\"text-align: right;\">\n",
       "      <th></th>\n",
       "      <th>City</th>\n",
       "      <th>Cuisine Style</th>\n",
       "      <th>Ranking</th>\n",
       "      <th>Rating</th>\n",
       "      <th>Price Range</th>\n",
       "      <th>Number of Reviews</th>\n",
       "      <th>Reviews</th>\n",
       "      <th>all_review_dates</th>\n",
       "      <th>contains_bad_review</th>\n",
       "      <th>contains_good_review</th>\n",
       "      <th>...</th>\n",
       "      <th>Vegetarian Friendly</th>\n",
       "      <th>European</th>\n",
       "      <th>no_style_provided</th>\n",
       "      <th>Mediterranean</th>\n",
       "      <th>Italian</th>\n",
       "      <th>Vegan Options</th>\n",
       "      <th>Gluten Free Options</th>\n",
       "      <th>Bar</th>\n",
       "      <th>French</th>\n",
       "      <th>Asian</th>\n",
       "    </tr>\n",
       "  </thead>\n",
       "  <tbody>\n",
       "    <tr>\n",
       "      <th>0</th>\n",
       "      <td>Paris</td>\n",
       "      <td>['European', 'French', 'International']</td>\n",
       "      <td>5570.0</td>\n",
       "      <td>3.5</td>\n",
       "      <td>$$ - $$$</td>\n",
       "      <td>194.0</td>\n",
       "      <td>[['Good food at your doorstep', 'A good hotel ...</td>\n",
       "      <td>[January 13, 2018, December 31, 2017, November...</td>\n",
       "      <td>0</td>\n",
       "      <td>1</td>\n",
       "      <td>...</td>\n",
       "      <td>0</td>\n",
       "      <td>1</td>\n",
       "      <td>0</td>\n",
       "      <td>0</td>\n",
       "      <td>0</td>\n",
       "      <td>0</td>\n",
       "      <td>0</td>\n",
       "      <td>0</td>\n",
       "      <td>1</td>\n",
       "      <td>0</td>\n",
       "    </tr>\n",
       "    <tr>\n",
       "      <th>1</th>\n",
       "      <td>Stockholm</td>\n",
       "      <td>['no_style_provided']</td>\n",
       "      <td>1537.0</td>\n",
       "      <td>4.0</td>\n",
       "      <td>NaN</td>\n",
       "      <td>10.0</td>\n",
       "      <td>[['Unique cuisine', 'Delicious Nepalese food']...</td>\n",
       "      <td>[]</td>\n",
       "      <td>0</td>\n",
       "      <td>0</td>\n",
       "      <td>...</td>\n",
       "      <td>0</td>\n",
       "      <td>0</td>\n",
       "      <td>1</td>\n",
       "      <td>0</td>\n",
       "      <td>0</td>\n",
       "      <td>0</td>\n",
       "      <td>0</td>\n",
       "      <td>0</td>\n",
       "      <td>0</td>\n",
       "      <td>0</td>\n",
       "    </tr>\n",
       "    <tr>\n",
       "      <th>2</th>\n",
       "      <td>London</td>\n",
       "      <td>['Japanese', 'Sushi', 'Asian', 'Grill', 'Veget...</td>\n",
       "      <td>353.0</td>\n",
       "      <td>4.5</td>\n",
       "      <td>$$$$</td>\n",
       "      <td>688.0</td>\n",
       "      <td>[['Catch up with friends', 'Not exceptional'],...</td>\n",
       "      <td>[May 12, 2014, May 6, 2014, May 5, 2014, May 4...</td>\n",
       "      <td>0</td>\n",
       "      <td>0</td>\n",
       "      <td>...</td>\n",
       "      <td>1</td>\n",
       "      <td>0</td>\n",
       "      <td>0</td>\n",
       "      <td>0</td>\n",
       "      <td>0</td>\n",
       "      <td>1</td>\n",
       "      <td>1</td>\n",
       "      <td>0</td>\n",
       "      <td>0</td>\n",
       "      <td>1</td>\n",
       "    </tr>\n",
       "    <tr>\n",
       "      <th>3</th>\n",
       "      <td>Berlin</td>\n",
       "      <td>['no_style_provided']</td>\n",
       "      <td>3458.0</td>\n",
       "      <td>5.0</td>\n",
       "      <td>NaN</td>\n",
       "      <td>3.0</td>\n",
       "      <td>[[], []]</td>\n",
       "      <td>[]</td>\n",
       "      <td>0</td>\n",
       "      <td>0</td>\n",
       "      <td>...</td>\n",
       "      <td>0</td>\n",
       "      <td>0</td>\n",
       "      <td>1</td>\n",
       "      <td>0</td>\n",
       "      <td>0</td>\n",
       "      <td>0</td>\n",
       "      <td>0</td>\n",
       "      <td>0</td>\n",
       "      <td>0</td>\n",
       "      <td>0</td>\n",
       "    </tr>\n",
       "    <tr>\n",
       "      <th>4</th>\n",
       "      <td>Munich</td>\n",
       "      <td>['German', 'Central European', 'Vegetarian Fri...</td>\n",
       "      <td>621.0</td>\n",
       "      <td>4.0</td>\n",
       "      <td>$$ - $$$</td>\n",
       "      <td>84.0</td>\n",
       "      <td>[['Best place to try a Bavarian food', 'Nice b...</td>\n",
       "      <td>[November 18, 2017, July 25, 2017, May 16, 201...</td>\n",
       "      <td>0</td>\n",
       "      <td>1</td>\n",
       "      <td>...</td>\n",
       "      <td>1</td>\n",
       "      <td>1</td>\n",
       "      <td>0</td>\n",
       "      <td>0</td>\n",
       "      <td>0</td>\n",
       "      <td>0</td>\n",
       "      <td>0</td>\n",
       "      <td>0</td>\n",
       "      <td>0</td>\n",
       "      <td>0</td>\n",
       "    </tr>\n",
       "    <tr>\n",
       "      <th>5</th>\n",
       "      <td>Oporto</td>\n",
       "      <td>['no_style_provided']</td>\n",
       "      <td>1419.0</td>\n",
       "      <td>3.0</td>\n",
       "      <td>NaN</td>\n",
       "      <td>2.0</td>\n",
       "      <td>[['There are better 3 star hotel bars', 'Amazi...</td>\n",
       "      <td>[September 16, 2017, May 31, 2017]</td>\n",
       "      <td>0</td>\n",
       "      <td>1</td>\n",
       "      <td>...</td>\n",
       "      <td>0</td>\n",
       "      <td>0</td>\n",
       "      <td>1</td>\n",
       "      <td>0</td>\n",
       "      <td>0</td>\n",
       "      <td>0</td>\n",
       "      <td>0</td>\n",
       "      <td>0</td>\n",
       "      <td>0</td>\n",
       "      <td>0</td>\n",
       "    </tr>\n",
       "    <tr>\n",
       "      <th>6</th>\n",
       "      <td>Milan</td>\n",
       "      <td>['Italian', 'Pizza']</td>\n",
       "      <td>1722.0</td>\n",
       "      <td>4.0</td>\n",
       "      <td>$</td>\n",
       "      <td>50.0</td>\n",
       "      <td>[['Excellent simple local eatery.', 'Excellent...</td>\n",
       "      <td>[January 27, 2018, November 5, 2017, August 4,...</td>\n",
       "      <td>0</td>\n",
       "      <td>1</td>\n",
       "      <td>...</td>\n",
       "      <td>0</td>\n",
       "      <td>0</td>\n",
       "      <td>0</td>\n",
       "      <td>0</td>\n",
       "      <td>1</td>\n",
       "      <td>0</td>\n",
       "      <td>0</td>\n",
       "      <td>0</td>\n",
       "      <td>0</td>\n",
       "      <td>0</td>\n",
       "    </tr>\n",
       "    <tr>\n",
       "      <th>7</th>\n",
       "      <td>Bratislava</td>\n",
       "      <td>['Italian']</td>\n",
       "      <td>826.0</td>\n",
       "      <td>3.0</td>\n",
       "      <td>NaN</td>\n",
       "      <td>9.0</td>\n",
       "      <td>[['Wasting of money', 'excellent cuisine'], ['...</td>\n",
       "      <td>[]</td>\n",
       "      <td>0</td>\n",
       "      <td>1</td>\n",
       "      <td>...</td>\n",
       "      <td>0</td>\n",
       "      <td>0</td>\n",
       "      <td>0</td>\n",
       "      <td>0</td>\n",
       "      <td>1</td>\n",
       "      <td>0</td>\n",
       "      <td>0</td>\n",
       "      <td>0</td>\n",
       "      <td>0</td>\n",
       "      <td>0</td>\n",
       "    </tr>\n",
       "    <tr>\n",
       "      <th>8</th>\n",
       "      <td>Vienna</td>\n",
       "      <td>['no_style_provided']</td>\n",
       "      <td>2692.0</td>\n",
       "      <td>4.0</td>\n",
       "      <td>NaN</td>\n",
       "      <td>NaN</td>\n",
       "      <td>[[], []]</td>\n",
       "      <td>[]</td>\n",
       "      <td>0</td>\n",
       "      <td>0</td>\n",
       "      <td>...</td>\n",
       "      <td>0</td>\n",
       "      <td>0</td>\n",
       "      <td>1</td>\n",
       "      <td>0</td>\n",
       "      <td>0</td>\n",
       "      <td>0</td>\n",
       "      <td>0</td>\n",
       "      <td>0</td>\n",
       "      <td>0</td>\n",
       "      <td>0</td>\n",
       "    </tr>\n",
       "    <tr>\n",
       "      <th>9</th>\n",
       "      <td>Rome</td>\n",
       "      <td>['Italian', 'Pizza', 'Fast Food']</td>\n",
       "      <td>4210.0</td>\n",
       "      <td>4.0</td>\n",
       "      <td>$</td>\n",
       "      <td>55.0</td>\n",
       "      <td>[['Clean efficient staff', 'Nice little pizza ...</td>\n",
       "      <td>[December 24, 2017, November 7, 2017, Septembe...</td>\n",
       "      <td>0</td>\n",
       "      <td>1</td>\n",
       "      <td>...</td>\n",
       "      <td>0</td>\n",
       "      <td>0</td>\n",
       "      <td>0</td>\n",
       "      <td>0</td>\n",
       "      <td>1</td>\n",
       "      <td>0</td>\n",
       "      <td>0</td>\n",
       "      <td>0</td>\n",
       "      <td>0</td>\n",
       "      <td>0</td>\n",
       "    </tr>\n",
       "  </tbody>\n",
       "</table>\n",
       "<p>10 rows × 21 columns</p>\n",
       "</div>"
      ],
      "text/plain": [
       "         City                                      Cuisine Style  Ranking  \\\n",
       "0       Paris            ['European', 'French', 'International']   5570.0   \n",
       "1   Stockholm                              ['no_style_provided']   1537.0   \n",
       "2      London  ['Japanese', 'Sushi', 'Asian', 'Grill', 'Veget...    353.0   \n",
       "3      Berlin                              ['no_style_provided']   3458.0   \n",
       "4      Munich  ['German', 'Central European', 'Vegetarian Fri...    621.0   \n",
       "5      Oporto                              ['no_style_provided']   1419.0   \n",
       "6       Milan                               ['Italian', 'Pizza']   1722.0   \n",
       "7  Bratislava                                        ['Italian']    826.0   \n",
       "8      Vienna                              ['no_style_provided']   2692.0   \n",
       "9        Rome                  ['Italian', 'Pizza', 'Fast Food']   4210.0   \n",
       "\n",
       "   Rating Price Range  Number of Reviews  \\\n",
       "0     3.5    $$ - $$$              194.0   \n",
       "1     4.0         NaN               10.0   \n",
       "2     4.5        $$$$              688.0   \n",
       "3     5.0         NaN                3.0   \n",
       "4     4.0    $$ - $$$               84.0   \n",
       "5     3.0         NaN                2.0   \n",
       "6     4.0           $               50.0   \n",
       "7     3.0         NaN                9.0   \n",
       "8     4.0         NaN                NaN   \n",
       "9     4.0           $               55.0   \n",
       "\n",
       "                                             Reviews  \\\n",
       "0  [['Good food at your doorstep', 'A good hotel ...   \n",
       "1  [['Unique cuisine', 'Delicious Nepalese food']...   \n",
       "2  [['Catch up with friends', 'Not exceptional'],...   \n",
       "3                                           [[], []]   \n",
       "4  [['Best place to try a Bavarian food', 'Nice b...   \n",
       "5  [['There are better 3 star hotel bars', 'Amazi...   \n",
       "6  [['Excellent simple local eatery.', 'Excellent...   \n",
       "7  [['Wasting of money', 'excellent cuisine'], ['...   \n",
       "8                                           [[], []]   \n",
       "9  [['Clean efficient staff', 'Nice little pizza ...   \n",
       "\n",
       "                                    all_review_dates  contains_bad_review  \\\n",
       "0  [January 13, 2018, December 31, 2017, November...                    0   \n",
       "1                                                 []                    0   \n",
       "2  [May 12, 2014, May 6, 2014, May 5, 2014, May 4...                    0   \n",
       "3                                                 []                    0   \n",
       "4  [November 18, 2017, July 25, 2017, May 16, 201...                    0   \n",
       "5                 [September 16, 2017, May 31, 2017]                    0   \n",
       "6  [January 27, 2018, November 5, 2017, August 4,...                    0   \n",
       "7                                                 []                    0   \n",
       "8                                                 []                    0   \n",
       "9  [December 24, 2017, November 7, 2017, Septembe...                    0   \n",
       "\n",
       "   contains_good_review  ...  Vegetarian Friendly  European  \\\n",
       "0                     1  ...                    0         1   \n",
       "1                     0  ...                    0         0   \n",
       "2                     0  ...                    1         0   \n",
       "3                     0  ...                    0         0   \n",
       "4                     1  ...                    1         1   \n",
       "5                     1  ...                    0         0   \n",
       "6                     1  ...                    0         0   \n",
       "7                     1  ...                    0         0   \n",
       "8                     0  ...                    0         0   \n",
       "9                     1  ...                    0         0   \n",
       "\n",
       "   no_style_provided  Mediterranean  Italian  Vegan Options  \\\n",
       "0                  0              0        0              0   \n",
       "1                  1              0        0              0   \n",
       "2                  0              0        0              1   \n",
       "3                  1              0        0              0   \n",
       "4                  0              0        0              0   \n",
       "5                  1              0        0              0   \n",
       "6                  0              0        1              0   \n",
       "7                  0              0        1              0   \n",
       "8                  1              0        0              0   \n",
       "9                  0              0        1              0   \n",
       "\n",
       "   Gluten Free Options  Bar  French  Asian  \n",
       "0                    0    0       1      0  \n",
       "1                    0    0       0      0  \n",
       "2                    1    0       0      1  \n",
       "3                    0    0       0      0  \n",
       "4                    0    0       0      0  \n",
       "5                    0    0       0      0  \n",
       "6                    0    0       0      0  \n",
       "7                    0    0       0      0  \n",
       "8                    0    0       0      0  \n",
       "9                    0    0       0      0  \n",
       "\n",
       "[10 rows x 21 columns]"
      ]
     },
     "execution_count": 94,
     "metadata": {},
     "output_type": "execute_result"
    }
   ],
   "source": [
    "# Let's take top 10 styles and create binary variables out of them\n",
    "# (for example, European can be either 0 or 1).\n",
    "for c in list(unique_styles.head(10).index):\n",
    "    df[c] = df['Cuisine Style'].str.contains(c, regex=False).astype(int)\n",
    "df.head(10)"
   ]
  },
  {
   "cell_type": "code",
   "execution_count": 95,
   "metadata": {},
   "outputs": [
    {
     "name": "stdout",
     "output_type": "stream",
     "text": [
      "<class 'pandas.core.frame.DataFrame'>\n",
      "RangeIndex: 40000 entries, 0 to 39999\n",
      "Data columns (total 21 columns):\n",
      " #   Column                Non-Null Count  Dtype  \n",
      "---  ------                --------------  -----  \n",
      " 0   City                  40000 non-null  object \n",
      " 1   Cuisine Style         40000 non-null  object \n",
      " 2   Ranking               40000 non-null  float64\n",
      " 3   Rating                40000 non-null  float64\n",
      " 4   Price Range           26114 non-null  object \n",
      " 5   Number of Reviews     40000 non-null  float64\n",
      " 6   Reviews               40000 non-null  object \n",
      " 7   all_review_dates      40000 non-null  object \n",
      " 8   contains_bad_review   40000 non-null  int32  \n",
      " 9   contains_good_review  40000 non-null  int32  \n",
      " 10  cuisine_styles_num    40000 non-null  int64  \n",
      " 11  Vegetarian Friendly   40000 non-null  int32  \n",
      " 12  European              40000 non-null  int32  \n",
      " 13  no_style_provided     40000 non-null  int32  \n",
      " 14  Mediterranean         40000 non-null  int32  \n",
      " 15  Italian               40000 non-null  int32  \n",
      " 16  Vegan Options         40000 non-null  int32  \n",
      " 17  Gluten Free Options   40000 non-null  int32  \n",
      " 18  Bar                   40000 non-null  int32  \n",
      " 19  French                40000 non-null  int32  \n",
      " 20  Asian                 40000 non-null  int32  \n",
      "dtypes: float64(3), int32(12), int64(1), object(5)\n",
      "memory usage: 4.6+ MB\n"
     ]
    }
   ],
   "source": [
    "# let's consider NaN in number of reviews as 0\n",
    "df['Number of Reviews'].fillna(0, inplace=True)\n",
    "df.info()"
   ]
  },
  {
   "cell_type": "code",
   "execution_count": 96,
   "metadata": {},
   "outputs": [
    {
     "data": {
      "text/plain": [
       "31"
      ]
     },
     "execution_count": 96,
     "metadata": {},
     "output_type": "execute_result"
    }
   ],
   "source": [
    "df['City'].nunique()"
   ]
  },
  {
   "cell_type": "code",
   "execution_count": 97,
   "metadata": {},
   "outputs": [
    {
     "data": {
      "text/plain": [
       "Pollock Pines                 1\n",
       "Rio Largo                     1\n",
       "Fountainhead-Orchard Hills    1\n",
       "Yonkers                       1\n",
       "Tauranga                      1\n",
       "                             ..\n",
       "Westview                      1\n",
       "Bayou Vista                   1\n",
       "Battle Ground                 1\n",
       "Marathon                      1\n",
       "I`zaz                         1\n",
       "Name: city_ascii, Length: 13482, dtype: int64"
      ]
     },
     "execution_count": 97,
     "metadata": {},
     "output_type": "execute_result"
    }
   ],
   "source": [
    "# There are too many unique cities in the dataset (31) - therefore one hot encoding is not an option.\n",
    "# Let's use worldcities dataset from https://www.kaggle.com/viswanathanc/world-cities-datasets\n",
    "# I want to create 2 dimension from an original 'City' column: capital and  population\n",
    "df_cities = pd.read_csv('worldcities.csv')\n",
    "\n",
    "# leaving only required columns from worldcities data set\n",
    "df_cities = df_cities[['city_ascii','capital','population']]\n",
    "\n",
    "# the assumption here is that most of the capitals will be listed as primary\n",
    "# and we don't really care about other classification because the variable will be\n",
    "# binary in the end (capital = 0 or 1)\n",
    "df_cities['capital'].fillna('other', inplace=True) \n",
    "\n",
    "# the assumption here is that most important cities will have the population\n",
    "# mentioned in the data set\n",
    "df_cities['population'].fillna(0, inplace=True)\n",
    "\n",
    "# leaving only cities with max population - this will eliminate duplicates\n",
    "# in case multiple cities with the same name exist\n",
    "df_cities.sort_values(by=['city_ascii','population'], ascending=[True,False], inplace=True)\n",
    "df_cities.drop_duplicates(subset='city_ascii', keep='first', inplace=True)\n",
    "\n",
    "# making sure we have no more duplicates\n",
    "df_cities['city_ascii'].value_counts()"
   ]
  },
  {
   "cell_type": "code",
   "execution_count": 98,
   "metadata": {},
   "outputs": [
    {
     "data": {
      "text/plain": [
       "0    13275\n",
       "1      207\n",
       "Name: capital, dtype: int64"
      ]
     },
     "execution_count": 98,
     "metadata": {},
     "output_type": "execute_result"
    }
   ],
   "source": [
    "# modifying 'capital' column to make it binary (if capital then 1 else 0)\n",
    "df_cities['capital'] = df_cities['capital'].map(lambda x : 1 if x == 'primary' else 0)\n",
    "df_cities['capital'].value_counts()"
   ]
  },
  {
   "cell_type": "code",
   "execution_count": 99,
   "metadata": {},
   "outputs": [
    {
     "name": "stdout",
     "output_type": "stream",
     "text": [
      "<class 'pandas.core.frame.DataFrame'>\n",
      "Int64Index: 40000 entries, 0 to 39999\n",
      "Data columns (total 24 columns):\n",
      " #   Column                Non-Null Count  Dtype  \n",
      "---  ------                --------------  -----  \n",
      " 0   City                  40000 non-null  object \n",
      " 1   Cuisine Style         40000 non-null  object \n",
      " 2   Ranking               40000 non-null  float64\n",
      " 3   Rating                40000 non-null  float64\n",
      " 4   Price Range           26114 non-null  object \n",
      " 5   Number of Reviews     40000 non-null  float64\n",
      " 6   Reviews               40000 non-null  object \n",
      " 7   all_review_dates      40000 non-null  object \n",
      " 8   contains_bad_review   40000 non-null  int32  \n",
      " 9   contains_good_review  40000 non-null  int32  \n",
      " 10  cuisine_styles_num    40000 non-null  int64  \n",
      " 11  Vegetarian Friendly   40000 non-null  int32  \n",
      " 12  European              40000 non-null  int32  \n",
      " 13  no_style_provided     40000 non-null  int32  \n",
      " 14  Mediterranean         40000 non-null  int32  \n",
      " 15  Italian               40000 non-null  int32  \n",
      " 16  Vegan Options         40000 non-null  int32  \n",
      " 17  Gluten Free Options   40000 non-null  int32  \n",
      " 18  Bar                   40000 non-null  int32  \n",
      " 19  French                40000 non-null  int32  \n",
      " 20  Asian                 40000 non-null  int32  \n",
      " 21  city_ascii            39487 non-null  object \n",
      " 22  capital               39487 non-null  float64\n",
      " 23  population            39487 non-null  float64\n",
      "dtypes: float64(5), int32(12), int64(1), object(6)\n",
      "memory usage: 5.8+ MB\n"
     ]
    }
   ],
   "source": [
    "# merging df with df_cities based on city name\n",
    "df = df.merge(df_cities, how='left', left_on='City', right_on='city_ascii')\n",
    "df.info()"
   ]
  },
  {
   "cell_type": "code",
   "execution_count": 100,
   "metadata": {},
   "outputs": [
    {
     "data": {
      "text/plain": [
       "Oporto    513\n",
       "Name: City, dtype: int64"
      ]
     },
     "execution_count": 100,
     "metadata": {},
     "output_type": "execute_result"
    }
   ],
   "source": [
    "# let's see what cities are missing\n",
    "df[df['capital'].isna()]['City'].value_counts()"
   ]
  },
  {
   "cell_type": "code",
   "execution_count": 101,
   "metadata": {},
   "outputs": [],
   "source": [
    "# it seems that we're missing the data about only one city - Oporto (aka Porto in Portugal)\n",
    "# let's locate it and populate missing values manually\n",
    "df['capital'].fillna(0, inplace=True)\n",
    "df['population'].fillna(1337000, inplace=True)"
   ]
  },
  {
   "cell_type": "code",
   "execution_count": 102,
   "metadata": {},
   "outputs": [
    {
     "name": "stdout",
     "output_type": "stream",
     "text": [
      "<class 'pandas.core.frame.DataFrame'>\n",
      "Int64Index: 40000 entries, 0 to 39999\n",
      "Data columns (total 20 columns):\n",
      " #   Column                Non-Null Count  Dtype  \n",
      "---  ------                --------------  -----  \n",
      " 0   Ranking               40000 non-null  float64\n",
      " 1   Rating                40000 non-null  float64\n",
      " 2   Price Range           26114 non-null  object \n",
      " 3   Number of Reviews     40000 non-null  float64\n",
      " 4   all_review_dates      40000 non-null  object \n",
      " 5   contains_bad_review   40000 non-null  int32  \n",
      " 6   contains_good_review  40000 non-null  int32  \n",
      " 7   cuisine_styles_num    40000 non-null  int64  \n",
      " 8   Vegetarian Friendly   40000 non-null  int32  \n",
      " 9   European              40000 non-null  int32  \n",
      " 10  no_style_provided     40000 non-null  int32  \n",
      " 11  Mediterranean         40000 non-null  int32  \n",
      " 12  Italian               40000 non-null  int32  \n",
      " 13  Vegan Options         40000 non-null  int32  \n",
      " 14  Gluten Free Options   40000 non-null  int32  \n",
      " 15  Bar                   40000 non-null  int32  \n",
      " 16  French                40000 non-null  int32  \n",
      " 17  Asian                 40000 non-null  int32  \n",
      " 18  capital               40000 non-null  float64\n",
      " 19  population            40000 non-null  float64\n",
      "dtypes: float64(5), int32(12), int64(1), object(2)\n",
      "memory usage: 4.6+ MB\n"
     ]
    }
   ],
   "source": [
    "# let's drop some columns that are not required anymore\n",
    "# to make the dataframe more compact and readable\n",
    "df.drop(['city_ascii', 'City', 'Cuisine Style', 'Reviews'], axis=1, inplace=True)\n",
    "df.info()"
   ]
  },
  {
   "cell_type": "code",
   "execution_count": 103,
   "metadata": {},
   "outputs": [
    {
     "data": {
      "text/plain": [
       "$$ - $$$    18412\n",
       "$            6279\n",
       "$$$$         1423\n",
       "Name: Price Range, dtype: int64"
      ]
     },
     "execution_count": 103,
     "metadata": {},
     "output_type": "execute_result"
    }
   ],
   "source": [
    "# let's take a look at price ranges\n",
    "df['Price Range'].value_counts()"
   ]
  },
  {
   "cell_type": "code",
   "execution_count": 104,
   "metadata": {},
   "outputs": [],
   "source": [
    "# it seems there are many NaN values among price ranges\n",
    "# let's replace NaN with values based on a frequency of the existing values\n",
    "# custom function will be used for that (see definition of helper functions above)\n",
    "\n",
    "# please note that ascending=True is important here because the dictionary must be sorted\n",
    "freq_dict = create_freq_dict(dict(df['Price Range'].value_counts(ascending=True)))\n",
    "df['Price Range'] = df['Price Range'].apply(\n",
    "    lambda x: fill_na_by_frequency(freq_dict, \"Price Range\") if pd.isna(x) else x)\n",
    "# also let's make Price Range names more meaningful (before we one hot encode them)\n",
    "df['Price Range'] = df['Price Range'].apply(convert_price_range)"
   ]
  },
  {
   "cell_type": "code",
   "execution_count": 105,
   "metadata": {},
   "outputs": [
    {
     "data": {
      "text/plain": [
       "average    32298\n",
       "low         6279\n",
       "high        1423\n",
       "Name: Price Range, dtype: int64"
      ]
     },
     "execution_count": 105,
     "metadata": {},
     "output_type": "execute_result"
    }
   ],
   "source": [
    "# let's take a look at price ranges once again - it seems that there are\n",
    "# no more missing values\n",
    "df['Price Range'].value_counts()"
   ]
  },
  {
   "cell_type": "code",
   "execution_count": 106,
   "metadata": {},
   "outputs": [
    {
     "name": "stdout",
     "output_type": "stream",
     "text": [
      "<class 'pandas.core.frame.DataFrame'>\n",
      "Int64Index: 40000 entries, 0 to 39999\n",
      "Data columns (total 20 columns):\n",
      " #   Column                Non-Null Count  Dtype  \n",
      "---  ------                --------------  -----  \n",
      " 0   Ranking               40000 non-null  float64\n",
      " 1   Rating                40000 non-null  float64\n",
      " 2   Price Range           40000 non-null  object \n",
      " 3   Number of Reviews     40000 non-null  float64\n",
      " 4   all_review_dates      40000 non-null  object \n",
      " 5   contains_bad_review   40000 non-null  int32  \n",
      " 6   contains_good_review  40000 non-null  int32  \n",
      " 7   cuisine_styles_num    40000 non-null  int64  \n",
      " 8   Vegetarian Friendly   40000 non-null  int32  \n",
      " 9   European              40000 non-null  int32  \n",
      " 10  no_style_provided     40000 non-null  int32  \n",
      " 11  Mediterranean         40000 non-null  int32  \n",
      " 12  Italian               40000 non-null  int32  \n",
      " 13  Vegan Options         40000 non-null  int32  \n",
      " 14  Gluten Free Options   40000 non-null  int32  \n",
      " 15  Bar                   40000 non-null  int32  \n",
      " 16  French                40000 non-null  int32  \n",
      " 17  Asian                 40000 non-null  int32  \n",
      " 18  capital               40000 non-null  float64\n",
      " 19  population            40000 non-null  float64\n",
      "dtypes: float64(5), int32(12), int64(1), object(2)\n",
      "memory usage: 4.6+ MB\n"
     ]
    }
   ],
   "source": [
    "# and there are no more missing values in the dataframe as such\n",
    "df.info()"
   ]
  },
  {
   "cell_type": "code",
   "execution_count": 107,
   "metadata": {},
   "outputs": [],
   "source": [
    "# processing Price Range with one hot encoder\n",
    "enc = OneHotEncoder(handle_unknown='ignore')\n",
    "y = OneHotEncoder().fit_transform(df['Price Range'].to_numpy().reshape(-1, 1)).toarray()\n",
    "# list(df['Price Range'].unique()) is safe because the values are provided \n",
    "# in order of appearance\n",
    "df_price_rng = pd.DataFrame(y, columns=list(df['Price Range'].unique()))\n",
    "df = pd.concat([df,df_price_rng], axis=1)\n",
    "df.drop(['Price Range'], inplace=True, axis=1)"
   ]
  },
  {
   "cell_type": "code",
   "execution_count": 108,
   "metadata": {},
   "outputs": [
    {
     "name": "stdout",
     "output_type": "stream",
     "text": [
      "<class 'pandas.core.frame.DataFrame'>\n",
      "Int64Index: 40000 entries, 0 to 39999\n",
      "Data columns (total 24 columns):\n",
      " #   Column                Non-Null Count  Dtype  \n",
      "---  ------                --------------  -----  \n",
      " 0   Ranking               40000 non-null  float64\n",
      " 1   Rating                40000 non-null  float64\n",
      " 2   Number of Reviews     40000 non-null  float64\n",
      " 3   contains_bad_review   40000 non-null  int32  \n",
      " 4   contains_good_review  40000 non-null  int32  \n",
      " 5   cuisine_styles_num    40000 non-null  int64  \n",
      " 6   Vegetarian Friendly   40000 non-null  int32  \n",
      " 7   European              40000 non-null  int32  \n",
      " 8   no_style_provided     40000 non-null  int32  \n",
      " 9   Mediterranean         40000 non-null  int32  \n",
      " 10  Italian               40000 non-null  int32  \n",
      " 11  Vegan Options         40000 non-null  int32  \n",
      " 12  Gluten Free Options   40000 non-null  int32  \n",
      " 13  Bar                   40000 non-null  int32  \n",
      " 14  French                40000 non-null  int32  \n",
      " 15  Asian                 40000 non-null  int32  \n",
      " 16  capital               40000 non-null  float64\n",
      " 17  population            40000 non-null  float64\n",
      " 18  average               40000 non-null  float64\n",
      " 19  high                  40000 non-null  float64\n",
      " 20  low                   40000 non-null  float64\n",
      " 21  restaurant_age        40000 non-null  int64  \n",
      " 22  median_interval       40000 non-null  float64\n",
      " 23  is_weekend            40000 non-null  int64  \n",
      "dtypes: float64(9), int32(12), int64(3)\n",
      "memory usage: 5.8 MB\n",
      "Most popular restaurant age on a tripadvisor: 0\n"
     ]
    }
   ],
   "source": [
    "# let's calculate restaurant_age for every restaraunt and drop 'all_review_dates' column\n",
    "df['restaurant_age'] = df['all_review_dates'].map(lambda x: restaurant_age(x, snapshot_date=task_snapshot_date))\n",
    "# let's calculate median interval between consequetive review dates\n",
    "df['median_interval'] = df['all_review_dates'].map(median_interval)\n",
    "# let's determine if most reviews were left on weekend or a weekday\n",
    "df['is_weekend'] = df['all_review_dates'].map(is_weekend)\n",
    "df.drop(labels=['all_review_dates'], axis=1, inplace=True)\n",
    "df.info()\n",
    "print(f\"Most popular restaurant age on a tripadvisor: {df['restaurant_age'].value_counts().index[0]}\")"
   ]
  },
  {
   "cell_type": "code",
   "execution_count": 109,
   "metadata": {},
   "outputs": [
    {
     "name": "stdout",
     "output_type": "stream",
     "text": [
      "Numeric columns: ['Ranking', 'Number of Reviews', 'cuisine_styles_num', 'restaurant_age', 'median_interval', 'population', 'Rating']\n",
      "\n",
      "Categorical columns: ['contains_bad_review', 'contains_good_review', 'Vegetarian Friendly', 'European', 'no_style_provided', 'Mediterranean', 'Italian', 'Vegan Options', 'Gluten Free Options', 'Bar', 'French', 'Asian', 'capital', 'average', 'high', 'low', 'is_weekend']\n"
     ]
    }
   ],
   "source": [
    "# let's split columns into numeric and categorical\n",
    "numeric = ['Ranking', 'Number of Reviews', 'cuisine_styles_num'\\\n",
    "                 ,'restaurant_age', 'median_interval', 'population', 'Rating']\n",
    "without_target = numeric.copy()\n",
    "without_target.pop()\n",
    "categorical = []\n",
    "\n",
    "for c in df.columns:\n",
    "    if c not in numeric:\n",
    "        categorical.append(c)\n",
    "        \n",
    "print(f\"Numeric columns: {numeric}\\n\")\n",
    "print(f\"Categorical columns: {categorical}\")"
   ]
  },
  {
   "cell_type": "code",
   "execution_count": 110,
   "metadata": {},
   "outputs": [
    {
     "name": "stdout",
     "output_type": "stream",
     "text": [
      "contains_bad_review\n",
      "0    4.019246\n",
      "1    3.319426\n",
      "Name: Rating, dtype: float64\n"
     ]
    },
    {
     "data": {
      "image/png": "[encoded data removed]",
      "text/plain": [
       "<Figure size 1008x288 with 1 Axes>"
      ]
     },
     "metadata": {
      "needs_background": "light"
     },
     "output_type": "display_data"
    },
    {
     "name": "stdout",
     "output_type": "stream",
     "text": [
      "contains_good_review\n",
      "0    3.916548\n",
      "1    4.062235\n",
      "Name: Rating, dtype: float64\n"
     ]
    },
    {
     "data": {
      "image/png": "[encoded data removed]",
      "text/plain": [
       "<Figure size 1008x288 with 1 Axes>"
      ]
     },
     "metadata": {
      "needs_background": "light"
     },
     "output_type": "display_data"
    },
    {
     "name": "stdout",
     "output_type": "stream",
     "text": [
      "Vegetarian Friendly\n",
      "0    3.939572\n",
      "1    4.130709\n",
      "Name: Rating, dtype: float64\n"
     ]
    },
    {
     "data": {
      "image/png": "[encoded data removed]",
      "text/plain": [
       "<Figure size 1008x288 with 1 Axes>"
      ]
     },
     "metadata": {
      "needs_background": "light"
     },
     "output_type": "display_data"
    },
    {
     "name": "stdout",
     "output_type": "stream",
     "text": [
      "European\n",
      "0    3.973804\n",
      "1    4.049332\n",
      "Name: Rating, dtype: float64\n"
     ]
    },
    {
     "data": {
      "image/png": "[encoded data removed]",
      "text/plain": [
       "<Figure size 1008x288 with 1 Axes>"
      ]
     },
     "metadata": {
      "needs_background": "light"
     },
     "output_type": "display_data"
    },
    {
     "name": "stdout",
     "output_type": "stream",
     "text": [
      "no_style_provided\n",
      "0    4.007097\n",
      "1    3.946515\n",
      "Name: Rating, dtype: float64\n"
     ]
    },
    {
     "data": {
      "image/png": "[encoded data removed]",
      "text/plain": [
       "<Figure size 1008x288 with 1 Axes>"
      ]
     },
     "metadata": {
      "needs_background": "light"
     },
     "output_type": "display_data"
    },
    {
     "name": "stdout",
     "output_type": "stream",
     "text": [
      "Mediterranean\n",
      "0    3.978427\n",
      "1    4.071531\n",
      "Name: Rating, dtype: float64\n"
     ]
    },
    {
     "data": {
      "image/png": "[encoded data removed]",
      "text/plain": [
       "<Figure size 1008x288 with 1 Axes>"
      ]
     },
     "metadata": {
      "needs_background": "light"
     },
     "output_type": "display_data"
    },
    {
     "name": "stdout",
     "output_type": "stream",
     "text": [
      "Italian\n",
      "0    3.986749\n",
      "1    4.028924\n",
      "Name: Rating, dtype: float64\n"
     ]
    },
    {
     "data": {
      "image/png": "[encoded data removed]",
      "text/plain": [
       "<Figure size 1008x288 with 1 Axes>"
      ]
     },
     "metadata": {
      "needs_background": "light"
     },
     "output_type": "display_data"
    },
    {
     "name": "stdout",
     "output_type": "stream",
     "text": [
      "Vegan Options\n",
      "0    3.964042\n",
      "1    4.222581\n",
      "Name: Rating, dtype: float64\n"
     ]
    },
    {
     "data": {
      "image/png": "[encoded data removed]",
      "text/plain": [
       "<Figure size 1008x288 with 1 Axes>"
      ]
     },
     "metadata": {
      "needs_background": "light"
     },
     "output_type": "display_data"
    },
    {
     "name": "stdout",
     "output_type": "stream",
     "text": [
      "Gluten Free Options\n",
      "0    3.970533\n",
      "1    4.189399\n",
      "Name: Rating, dtype: float64\n"
     ]
    },
    {
     "data": {
      "image/png": "[encoded data removed]",
      "text/plain": [
       "<Figure size 1008x288 with 1 Axes>"
      ]
     },
     "metadata": {
      "needs_background": "light"
     },
     "output_type": "display_data"
    },
    {
     "name": "stdout",
     "output_type": "stream",
     "text": [
      "Bar\n",
      "0    3.991630\n",
      "1    4.004611\n",
      "Name: Rating, dtype: float64\n"
     ]
    },
    {
     "data": {
      "image/png": "[encoded data removed]",
      "text/plain": [
       "<Figure size 1008x288 with 1 Axes>"
      ]
     },
     "metadata": {
      "needs_background": "light"
     },
     "output_type": "display_data"
    },
    {
     "name": "stdout",
     "output_type": "stream",
     "text": [
      "French\n",
      "0    3.990465\n",
      "1    4.022727\n",
      "Name: Rating, dtype: float64\n"
     ]
    },
    {
     "data": {
      "image/png": "[encoded data removed]",
      "text/plain": [
       "<Figure size 1008x288 with 1 Axes>"
      ]
     },
     "metadata": {
      "needs_background": "light"
     },
     "output_type": "display_data"
    },
    {
     "name": "stdout",
     "output_type": "stream",
     "text": [
      "Asian\n",
      "0    3.993808\n",
      "1    3.983588\n",
      "Name: Rating, dtype: float64\n"
     ]
    },
    {
     "data": {
      "image/png": "[encoded data removed]",
      "text/plain": [
       "<Figure size 1008x288 with 1 Axes>"
      ]
     },
     "metadata": {
      "needs_background": "light"
     },
     "output_type": "display_data"
    },
    {
     "name": "stdout",
     "output_type": "stream",
     "text": [
      "capital\n",
      "0.0    3.975324\n",
      "1.0    3.999078\n",
      "Name: Rating, dtype: float64\n"
     ]
    },
    {
     "data": {
      "image/png": "[encoded data removed]",
      "text/plain": [
       "<Figure size 1008x288 with 1 Axes>"
      ]
     },
     "metadata": {
      "needs_background": "light"
     },
     "output_type": "display_data"
    },
    {
     "name": "stdout",
     "output_type": "stream",
     "text": [
      "average\n",
      "0.0    4.113152\n",
      "1.0    3.964394\n",
      "Name: Rating, dtype: float64\n"
     ]
    },
    {
     "data": {
      "image/png": "[encoded data removed]",
      "text/plain": [
       "<Figure size 1008x288 with 1 Axes>"
      ]
     },
     "metadata": {
      "needs_background": "light"
     },
     "output_type": "display_data"
    },
    {
     "name": "stdout",
     "output_type": "stream",
     "text": [
      "high\n",
      "0.0    3.985224\n",
      "1.0    4.204849\n",
      "Name: Rating, dtype: float64\n"
     ]
    },
    {
     "data": {
      "image/png": "[encoded data removed]",
      "text/plain": [
       "<Figure size 1008x288 with 1 Axes>"
      ]
     },
     "metadata": {
      "needs_background": "light"
     },
     "output_type": "display_data"
    },
    {
     "name": "stdout",
     "output_type": "stream",
     "text": [
      "low\n",
      "0.0    3.974541\n",
      "1.0    4.092371\n",
      "Name: Rating, dtype: float64\n"
     ]
    },
    {
     "data": {
      "image/png": "[encoded data removed]",
      "text/plain": [
       "<Figure size 1008x288 with 1 Axes>"
      ]
     },
     "metadata": {
      "needs_background": "light"
     },
     "output_type": "display_data"
    },
    {
     "name": "stdout",
     "output_type": "stream",
     "text": [
      "is_weekend\n",
      "0    3.995507\n",
      "1    3.980812\n",
      "Name: Rating, dtype: float64\n"
     ]
    },
    {
     "data": {
      "image/png": "[encoded data removed]",
      "text/plain": [
       "<Figure size 1008x288 with 1 Axes>"
      ]
     },
     "metadata": {
      "needs_background": "light"
     },
     "output_type": "display_data"
    }
   ],
   "source": [
    "# visual assessment of categorical variables\n",
    "for c in categorical:\n",
    "    fig, ax = plt.subplots(figsize=(14, 4))\n",
    "    sns.boxplot(x=c, y=df['Rating'], data=df, ax=ax)\n",
    "    means = df.groupby(c)['Rating'].mean()\n",
    "    print(means)\n",
    "    plt.xticks(rotation=45)\n",
    "    ax.set_title('Boxplot for ' + c)\n",
    "    plt.show() "
   ]
  },
  {
   "cell_type": "code",
   "execution_count": 111,
   "metadata": {},
   "outputs": [
    {
     "name": "stdout",
     "output_type": "stream",
     "text": [
      "Statistically significant differences found for column: contains_bad_review\n",
      "Statistically significant differences found for column: contains_good_review\n",
      "Statistically significant differences found for column: Vegetarian Friendly\n",
      "Statistically significant differences found for column: European\n",
      "Statistically significant differences found for column: no_style_provided\n",
      "Statistically significant differences found for column: Mediterranean\n",
      "Statistically significant differences found for column: Italian\n",
      "Statistically significant differences found for column: Vegan Options\n",
      "Statistically significant differences found for column: Gluten Free Options\n",
      "Statistically significant differences found for column: French\n",
      "Statistically significant differences found for column: capital\n",
      "Statistically significant differences found for column: average\n",
      "Statistically significant differences found for column: high\n",
      "Statistically significant differences found for column: low\n",
      "\n",
      "Insignificant columns ['Bar', 'Asian', 'is_weekend'] dropped!\n"
     ]
    },
    {
     "data": {
      "text/html": [
       "<div>\n",
       "<style scoped>\n",
       "    .dataframe tbody tr th:only-of-type {\n",
       "        vertical-align: middle;\n",
       "    }\n",
       "\n",
       "    .dataframe tbody tr th {\n",
       "        vertical-align: top;\n",
       "    }\n",
       "\n",
       "    .dataframe thead th {\n",
       "        text-align: right;\n",
       "    }\n",
       "</style>\n",
       "<table border=\"1\" class=\"dataframe\">\n",
       "  <thead>\n",
       "    <tr style=\"text-align: right;\">\n",
       "      <th></th>\n",
       "      <th>Ranking</th>\n",
       "      <th>Rating</th>\n",
       "      <th>Number of Reviews</th>\n",
       "      <th>contains_bad_review</th>\n",
       "      <th>contains_good_review</th>\n",
       "      <th>cuisine_styles_num</th>\n",
       "      <th>Vegetarian Friendly</th>\n",
       "      <th>European</th>\n",
       "      <th>no_style_provided</th>\n",
       "      <th>Mediterranean</th>\n",
       "      <th>...</th>\n",
       "      <th>Vegan Options</th>\n",
       "      <th>Gluten Free Options</th>\n",
       "      <th>French</th>\n",
       "      <th>capital</th>\n",
       "      <th>population</th>\n",
       "      <th>average</th>\n",
       "      <th>high</th>\n",
       "      <th>low</th>\n",
       "      <th>restaurant_age</th>\n",
       "      <th>median_interval</th>\n",
       "    </tr>\n",
       "  </thead>\n",
       "  <tbody>\n",
       "    <tr>\n",
       "      <th>0</th>\n",
       "      <td>5570.0</td>\n",
       "      <td>3.5</td>\n",
       "      <td>194.0</td>\n",
       "      <td>0</td>\n",
       "      <td>1</td>\n",
       "      <td>3</td>\n",
       "      <td>0</td>\n",
       "      <td>1</td>\n",
       "      <td>0</td>\n",
       "      <td>0</td>\n",
       "      <td>...</td>\n",
       "      <td>0</td>\n",
       "      <td>0</td>\n",
       "      <td>1</td>\n",
       "      <td>1.0</td>\n",
       "      <td>9904000.0</td>\n",
       "      <td>1.0</td>\n",
       "      <td>0.0</td>\n",
       "      <td>0.0</td>\n",
       "      <td>2362</td>\n",
       "      <td>622.0</td>\n",
       "    </tr>\n",
       "    <tr>\n",
       "      <th>1</th>\n",
       "      <td>1537.0</td>\n",
       "      <td>4.0</td>\n",
       "      <td>10.0</td>\n",
       "      <td>0</td>\n",
       "      <td>0</td>\n",
       "      <td>0</td>\n",
       "      <td>0</td>\n",
       "      <td>0</td>\n",
       "      <td>1</td>\n",
       "      <td>0</td>\n",
       "      <td>...</td>\n",
       "      <td>0</td>\n",
       "      <td>0</td>\n",
       "      <td>0</td>\n",
       "      <td>1.0</td>\n",
       "      <td>1264000.0</td>\n",
       "      <td>1.0</td>\n",
       "      <td>0.0</td>\n",
       "      <td>0.0</td>\n",
       "      <td>0</td>\n",
       "      <td>0.0</td>\n",
       "    </tr>\n",
       "    <tr>\n",
       "      <th>2</th>\n",
       "      <td>353.0</td>\n",
       "      <td>4.5</td>\n",
       "      <td>688.0</td>\n",
       "      <td>0</td>\n",
       "      <td>0</td>\n",
       "      <td>7</td>\n",
       "      <td>1</td>\n",
       "      <td>0</td>\n",
       "      <td>0</td>\n",
       "      <td>0</td>\n",
       "      <td>...</td>\n",
       "      <td>1</td>\n",
       "      <td>1</td>\n",
       "      <td>0</td>\n",
       "      <td>1.0</td>\n",
       "      <td>8567000.0</td>\n",
       "      <td>0.0</td>\n",
       "      <td>1.0</td>\n",
       "      <td>0.0</td>\n",
       "      <td>1411</td>\n",
       "      <td>8.0</td>\n",
       "    </tr>\n",
       "    <tr>\n",
       "      <th>3</th>\n",
       "      <td>3458.0</td>\n",
       "      <td>5.0</td>\n",
       "      <td>3.0</td>\n",
       "      <td>0</td>\n",
       "      <td>0</td>\n",
       "      <td>0</td>\n",
       "      <td>0</td>\n",
       "      <td>0</td>\n",
       "      <td>1</td>\n",
       "      <td>0</td>\n",
       "      <td>...</td>\n",
       "      <td>0</td>\n",
       "      <td>0</td>\n",
       "      <td>0</td>\n",
       "      <td>1.0</td>\n",
       "      <td>3406000.0</td>\n",
       "      <td>1.0</td>\n",
       "      <td>0.0</td>\n",
       "      <td>0.0</td>\n",
       "      <td>0</td>\n",
       "      <td>0.0</td>\n",
       "    </tr>\n",
       "    <tr>\n",
       "      <th>4</th>\n",
       "      <td>621.0</td>\n",
       "      <td>4.0</td>\n",
       "      <td>84.0</td>\n",
       "      <td>0</td>\n",
       "      <td>1</td>\n",
       "      <td>3</td>\n",
       "      <td>1</td>\n",
       "      <td>1</td>\n",
       "      <td>0</td>\n",
       "      <td>0</td>\n",
       "      <td>...</td>\n",
       "      <td>0</td>\n",
       "      <td>0</td>\n",
       "      <td>0</td>\n",
       "      <td>0.0</td>\n",
       "      <td>1275000.0</td>\n",
       "      <td>1.0</td>\n",
       "      <td>0.0</td>\n",
       "      <td>0.0</td>\n",
       "      <td>1327</td>\n",
       "      <td>566.0</td>\n",
       "    </tr>\n",
       "    <tr>\n",
       "      <th>5</th>\n",
       "      <td>1419.0</td>\n",
       "      <td>3.0</td>\n",
       "      <td>2.0</td>\n",
       "      <td>0</td>\n",
       "      <td>1</td>\n",
       "      <td>0</td>\n",
       "      <td>0</td>\n",
       "      <td>0</td>\n",
       "      <td>1</td>\n",
       "      <td>0</td>\n",
       "      <td>...</td>\n",
       "      <td>0</td>\n",
       "      <td>0</td>\n",
       "      <td>0</td>\n",
       "      <td>0.0</td>\n",
       "      <td>1337000.0</td>\n",
       "      <td>1.0</td>\n",
       "      <td>0.0</td>\n",
       "      <td>0.0</td>\n",
       "      <td>271</td>\n",
       "      <td>54.0</td>\n",
       "    </tr>\n",
       "    <tr>\n",
       "      <th>6</th>\n",
       "      <td>1722.0</td>\n",
       "      <td>4.0</td>\n",
       "      <td>50.0</td>\n",
       "      <td>0</td>\n",
       "      <td>1</td>\n",
       "      <td>2</td>\n",
       "      <td>0</td>\n",
       "      <td>0</td>\n",
       "      <td>0</td>\n",
       "      <td>0</td>\n",
       "      <td>...</td>\n",
       "      <td>0</td>\n",
       "      <td>0</td>\n",
       "      <td>0</td>\n",
       "      <td>0.0</td>\n",
       "      <td>2945000.0</td>\n",
       "      <td>0.0</td>\n",
       "      <td>0.0</td>\n",
       "      <td>1.0</td>\n",
       "      <td>1250</td>\n",
       "      <td>192.0</td>\n",
       "    </tr>\n",
       "    <tr>\n",
       "      <th>7</th>\n",
       "      <td>826.0</td>\n",
       "      <td>3.0</td>\n",
       "      <td>9.0</td>\n",
       "      <td>0</td>\n",
       "      <td>1</td>\n",
       "      <td>1</td>\n",
       "      <td>0</td>\n",
       "      <td>0</td>\n",
       "      <td>0</td>\n",
       "      <td>0</td>\n",
       "      <td>...</td>\n",
       "      <td>0</td>\n",
       "      <td>0</td>\n",
       "      <td>0</td>\n",
       "      <td>1.0</td>\n",
       "      <td>423737.0</td>\n",
       "      <td>1.0</td>\n",
       "      <td>0.0</td>\n",
       "      <td>0.0</td>\n",
       "      <td>0</td>\n",
       "      <td>0.0</td>\n",
       "    </tr>\n",
       "    <tr>\n",
       "      <th>8</th>\n",
       "      <td>2692.0</td>\n",
       "      <td>4.0</td>\n",
       "      <td>0.0</td>\n",
       "      <td>0</td>\n",
       "      <td>0</td>\n",
       "      <td>0</td>\n",
       "      <td>0</td>\n",
       "      <td>0</td>\n",
       "      <td>1</td>\n",
       "      <td>0</td>\n",
       "      <td>...</td>\n",
       "      <td>0</td>\n",
       "      <td>0</td>\n",
       "      <td>0</td>\n",
       "      <td>1.0</td>\n",
       "      <td>2400000.0</td>\n",
       "      <td>1.0</td>\n",
       "      <td>0.0</td>\n",
       "      <td>0.0</td>\n",
       "      <td>0</td>\n",
       "      <td>0.0</td>\n",
       "    </tr>\n",
       "    <tr>\n",
       "      <th>9</th>\n",
       "      <td>4210.0</td>\n",
       "      <td>4.0</td>\n",
       "      <td>55.0</td>\n",
       "      <td>0</td>\n",
       "      <td>1</td>\n",
       "      <td>3</td>\n",
       "      <td>0</td>\n",
       "      <td>0</td>\n",
       "      <td>0</td>\n",
       "      <td>0</td>\n",
       "      <td>...</td>\n",
       "      <td>0</td>\n",
       "      <td>0</td>\n",
       "      <td>0</td>\n",
       "      <td>1.0</td>\n",
       "      <td>3339000.0</td>\n",
       "      <td>0.0</td>\n",
       "      <td>0.0</td>\n",
       "      <td>1.0</td>\n",
       "      <td>965</td>\n",
       "      <td>485.0</td>\n",
       "    </tr>\n",
       "  </tbody>\n",
       "</table>\n",
       "<p>10 rows × 21 columns</p>\n",
       "</div>"
      ],
      "text/plain": [
       "   Ranking  Rating  Number of Reviews  contains_bad_review  \\\n",
       "0   5570.0     3.5              194.0                    0   \n",
       "1   1537.0     4.0               10.0                    0   \n",
       "2    353.0     4.5              688.0                    0   \n",
       "3   3458.0     5.0                3.0                    0   \n",
       "4    621.0     4.0               84.0                    0   \n",
       "5   1419.0     3.0                2.0                    0   \n",
       "6   1722.0     4.0               50.0                    0   \n",
       "7    826.0     3.0                9.0                    0   \n",
       "8   2692.0     4.0                0.0                    0   \n",
       "9   4210.0     4.0               55.0                    0   \n",
       "\n",
       "   contains_good_review  cuisine_styles_num  Vegetarian Friendly  European  \\\n",
       "0                     1                   3                    0         1   \n",
       "1                     0                   0                    0         0   \n",
       "2                     0                   7                    1         0   \n",
       "3                     0                   0                    0         0   \n",
       "4                     1                   3                    1         1   \n",
       "5                     1                   0                    0         0   \n",
       "6                     1                   2                    0         0   \n",
       "7                     1                   1                    0         0   \n",
       "8                     0                   0                    0         0   \n",
       "9                     1                   3                    0         0   \n",
       "\n",
       "   no_style_provided  Mediterranean  ...  Vegan Options  Gluten Free Options  \\\n",
       "0                  0              0  ...              0                    0   \n",
       "1                  1              0  ...              0                    0   \n",
       "2                  0              0  ...              1                    1   \n",
       "3                  1              0  ...              0                    0   \n",
       "4                  0              0  ...              0                    0   \n",
       "5                  1              0  ...              0                    0   \n",
       "6                  0              0  ...              0                    0   \n",
       "7                  0              0  ...              0                    0   \n",
       "8                  1              0  ...              0                    0   \n",
       "9                  0              0  ...              0                    0   \n",
       "\n",
       "   French  capital  population  average  high  low  restaurant_age  \\\n",
       "0       1      1.0   9904000.0      1.0   0.0  0.0            2362   \n",
       "1       0      1.0   1264000.0      1.0   0.0  0.0               0   \n",
       "2       0      1.0   8567000.0      0.0   1.0  0.0            1411   \n",
       "3       0      1.0   3406000.0      1.0   0.0  0.0               0   \n",
       "4       0      0.0   1275000.0      1.0   0.0  0.0            1327   \n",
       "5       0      0.0   1337000.0      1.0   0.0  0.0             271   \n",
       "6       0      0.0   2945000.0      0.0   0.0  1.0            1250   \n",
       "7       0      1.0    423737.0      1.0   0.0  0.0               0   \n",
       "8       0      1.0   2400000.0      1.0   0.0  0.0               0   \n",
       "9       0      1.0   3339000.0      0.0   0.0  1.0             965   \n",
       "\n",
       "   median_interval  \n",
       "0            622.0  \n",
       "1              0.0  \n",
       "2              8.0  \n",
       "3              0.0  \n",
       "4            566.0  \n",
       "5             54.0  \n",
       "6            192.0  \n",
       "7              0.0  \n",
       "8              0.0  \n",
       "9            485.0  \n",
       "\n",
       "[10 rows x 21 columns]"
      ]
     },
     "execution_count": 111,
     "metadata": {},
     "output_type": "execute_result"
    }
   ],
   "source": [
    "# lets find statistically insignificant categorical variables\n",
    "# (average ratings for these variables do not differ much based\n",
    "# on their value)\n",
    "insignificant = []\n",
    "for c in categorical:\n",
    "    if get_stat_dif(c, df) != c:\n",
    "        insignificant.append(c)\n",
    "\n",
    "df.drop(labels=insignificant, inplace=True, axis=1)\n",
    "print(f\"\\nInsignificant columns {insignificant} dropped!\")\n",
    "df.head(10)"
   ]
  },
  {
   "cell_type": "code",
   "execution_count": 112,
   "metadata": {},
   "outputs": [
    {
     "data": {
      "text/plain": [
       "array([[<matplotlib.axes._subplots.AxesSubplot object at 0x00000250248BC608>,\n",
       "        <matplotlib.axes._subplots.AxesSubplot object at 0x00000250247CA288>,\n",
       "        <matplotlib.axes._subplots.AxesSubplot object at 0x00000250247B1E48>],\n",
       "       [<matplotlib.axes._subplots.AxesSubplot object at 0x0000025024784AC8>,\n",
       "        <matplotlib.axes._subplots.AxesSubplot object at 0x000002502475AA48>,\n",
       "        <matplotlib.axes._subplots.AxesSubplot object at 0x000002502472A448>],\n",
       "       [<matplotlib.axes._subplots.AxesSubplot object at 0x00000250246EF148>,\n",
       "        <matplotlib.axes._subplots.AxesSubplot object at 0x00000250246B9788>,\n",
       "        <matplotlib.axes._subplots.AxesSubplot object at 0x00000250246CA208>]],\n",
       "      dtype=object)"
      ]
     },
     "execution_count": 112,
     "metadata": {},
     "output_type": "execute_result"
    },
    {
     "data": {
      "image/png": "[encoded data removed]",
      "text/plain": [
       "<Figure size 432x288 with 9 Axes>"
      ]
     },
     "metadata": {
      "needs_background": "light"
     },
     "output_type": "display_data"
    }
   ],
   "source": [
    "# visual assessment of numeric variables\n",
    "df[numeric].hist()"
   ]
  },
  {
   "cell_type": "code",
   "execution_count": 113,
   "metadata": {},
   "outputs": [
    {
     "data": {
      "text/html": [
       "<div>\n",
       "<style scoped>\n",
       "    .dataframe tbody tr th:only-of-type {\n",
       "        vertical-align: middle;\n",
       "    }\n",
       "\n",
       "    .dataframe tbody tr th {\n",
       "        vertical-align: top;\n",
       "    }\n",
       "\n",
       "    .dataframe thead th {\n",
       "        text-align: right;\n",
       "    }\n",
       "</style>\n",
       "<table border=\"1\" class=\"dataframe\">\n",
       "  <thead>\n",
       "    <tr style=\"text-align: right;\">\n",
       "      <th></th>\n",
       "      <th>Ranking</th>\n",
       "      <th>Number of Reviews</th>\n",
       "      <th>cuisine_styles_num</th>\n",
       "      <th>restaurant_age</th>\n",
       "      <th>median_interval</th>\n",
       "      <th>population</th>\n",
       "      <th>Rating</th>\n",
       "    </tr>\n",
       "  </thead>\n",
       "  <tbody>\n",
       "    <tr>\n",
       "      <th>Ranking</th>\n",
       "      <td>1.000000</td>\n",
       "      <td>-0.222072</td>\n",
       "      <td>-0.313208</td>\n",
       "      <td>-0.182401</td>\n",
       "      <td>-0.076189</td>\n",
       "      <td>0.681709</td>\n",
       "      <td>-0.368371</td>\n",
       "    </tr>\n",
       "    <tr>\n",
       "      <th>Number of Reviews</th>\n",
       "      <td>-0.222072</td>\n",
       "      <td>1.000000</td>\n",
       "      <td>0.399564</td>\n",
       "      <td>0.435012</td>\n",
       "      <td>0.083358</td>\n",
       "      <td>0.017949</td>\n",
       "      <td>0.026924</td>\n",
       "    </tr>\n",
       "    <tr>\n",
       "      <th>cuisine_styles_num</th>\n",
       "      <td>-0.313208</td>\n",
       "      <td>0.399564</td>\n",
       "      <td>1.000000</td>\n",
       "      <td>0.496285</td>\n",
       "      <td>0.296948</td>\n",
       "      <td>-0.041161</td>\n",
       "      <td>0.113886</td>\n",
       "    </tr>\n",
       "    <tr>\n",
       "      <th>restaurant_age</th>\n",
       "      <td>-0.182401</td>\n",
       "      <td>0.435012</td>\n",
       "      <td>0.496285</td>\n",
       "      <td>1.000000</td>\n",
       "      <td>0.679109</td>\n",
       "      <td>0.052040</td>\n",
       "      <td>-0.047891</td>\n",
       "    </tr>\n",
       "    <tr>\n",
       "      <th>median_interval</th>\n",
       "      <td>-0.076189</td>\n",
       "      <td>0.083358</td>\n",
       "      <td>0.296948</td>\n",
       "      <td>0.679109</td>\n",
       "      <td>1.000000</td>\n",
       "      <td>0.037997</td>\n",
       "      <td>-0.060763</td>\n",
       "    </tr>\n",
       "    <tr>\n",
       "      <th>population</th>\n",
       "      <td>0.681709</td>\n",
       "      <td>0.017949</td>\n",
       "      <td>-0.041161</td>\n",
       "      <td>0.052040</td>\n",
       "      <td>0.037997</td>\n",
       "      <td>1.000000</td>\n",
       "      <td>-0.059917</td>\n",
       "    </tr>\n",
       "    <tr>\n",
       "      <th>Rating</th>\n",
       "      <td>-0.368371</td>\n",
       "      <td>0.026924</td>\n",
       "      <td>0.113886</td>\n",
       "      <td>-0.047891</td>\n",
       "      <td>-0.060763</td>\n",
       "      <td>-0.059917</td>\n",
       "      <td>1.000000</td>\n",
       "    </tr>\n",
       "  </tbody>\n",
       "</table>\n",
       "</div>"
      ],
      "text/plain": [
       "                     Ranking  Number of Reviews  cuisine_styles_num  \\\n",
       "Ranking             1.000000          -0.222072           -0.313208   \n",
       "Number of Reviews  -0.222072           1.000000            0.399564   \n",
       "cuisine_styles_num -0.313208           0.399564            1.000000   \n",
       "restaurant_age     -0.182401           0.435012            0.496285   \n",
       "median_interval    -0.076189           0.083358            0.296948   \n",
       "population          0.681709           0.017949           -0.041161   \n",
       "Rating             -0.368371           0.026924            0.113886   \n",
       "\n",
       "                    restaurant_age  median_interval  population    Rating  \n",
       "Ranking                  -0.182401        -0.076189    0.681709 -0.368371  \n",
       "Number of Reviews         0.435012         0.083358    0.017949  0.026924  \n",
       "cuisine_styles_num        0.496285         0.296948   -0.041161  0.113886  \n",
       "restaurant_age            1.000000         0.679109    0.052040 -0.047891  \n",
       "median_interval           0.679109         1.000000    0.037997 -0.060763  \n",
       "population                0.052040         0.037997    1.000000 -0.059917  \n",
       "Rating                   -0.047891        -0.060763   -0.059917  1.000000  "
      ]
     },
     "execution_count": 113,
     "metadata": {},
     "output_type": "execute_result"
    }
   ],
   "source": [
    "# building a corelation matrix\n",
    "df[numeric].corr()"
   ]
  },
  {
   "cell_type": "code",
   "execution_count": 114,
   "metadata": {},
   "outputs": [],
   "source": [
    "# # let's make the distribution of numeric variables a bit closer to normal\n",
    "# # by taking a square root of each value\n",
    "# for c in without_target:\n",
    "#     df[c] = np.sqrt(df[c])\n",
    "\n",
    "# # let's scale numeric variables using a standard scaler\n",
    "# from sklearn.preprocessing import StandardScaler\n",
    "# scaler = StandardScaler()\n",
    "# df_scaled = pd.DataFrame(scaler.fit_transform(df[without_target]), columns=without_target)\n",
    "# df.drop(labels=without_target,inplace=True,axis=1)\n",
    "# df = pd.concat([df,df_scaled], axis = 1)\n",
    "# df.head()"
   ]
  },
  {
   "cell_type": "code",
   "execution_count": 115,
   "metadata": {},
   "outputs": [
    {
     "data": {
      "text/plain": [
       "array([[<matplotlib.axes._subplots.AxesSubplot object at 0x00000250248D0B08>,\n",
       "        <matplotlib.axes._subplots.AxesSubplot object at 0x00000250249299C8>,\n",
       "        <matplotlib.axes._subplots.AxesSubplot object at 0x000002502495A988>],\n",
       "       [<matplotlib.axes._subplots.AxesSubplot object at 0x000002502496E9C8>,\n",
       "        <matplotlib.axes._subplots.AxesSubplot object at 0x00000250249B2788>,\n",
       "        <matplotlib.axes._subplots.AxesSubplot object at 0x00000250249E9248>],\n",
       "       [<matplotlib.axes._subplots.AxesSubplot object at 0x0000025024A00C88>,\n",
       "        <matplotlib.axes._subplots.AxesSubplot object at 0x0000025024A20848>,\n",
       "        <matplotlib.axes._subplots.AxesSubplot object at 0x0000025024A47648>]],\n",
       "      dtype=object)"
      ]
     },
     "execution_count": 115,
     "metadata": {},
     "output_type": "execute_result"
    },
    {
     "data": {
      "image/png": "[encoded data removed]",
      "text/plain": [
       "<Figure size 432x288 with 9 Axes>"
      ]
     },
     "metadata": {
      "needs_background": "light"
     },
     "output_type": "display_data"
    }
   ],
   "source": [
    "# visual assessment of numeric variables after normalization and scaling\n",
    "df[numeric].hist()"
   ]
  },
  {
   "cell_type": "code",
   "execution_count": 116,
   "metadata": {},
   "outputs": [],
   "source": [
    "#df.drop(['contains_good_review', 'contains_bad_review', 'Vegetarian Friendly', \\\n",
    "#          'European', 'no_style_provided', 'Mediterranean', 'Italian', 'Vegan Options',\\\n",
    "#          'Gluten Free Options','French'], axis=1, inplace=True)\n",
    "\n",
    "#df.drop(['median_interval','restaurant_age'], axis=1, inplace=True)"
   ]
  },
  {
   "cell_type": "markdown",
   "metadata": {},
   "source": [
    "# Разбиваем датафрейм на части, необходимые для обучения и тестирования модели"
   ]
  },
  {
   "cell_type": "code",
   "execution_count": 117,
   "metadata": {},
   "outputs": [],
   "source": [
    "# Х - данные с информацией о ресторанах, у - целевая переменная (рейтинги ресторанов)\n",
    "#X = df.drop(['Restaurant_id', 'Rating'], axis = 1)\n",
    "X = df.drop(['Rating'], axis = 1)\n",
    "y = df['Rating']"
   ]
  },
  {
   "cell_type": "code",
   "execution_count": 118,
   "metadata": {},
   "outputs": [],
   "source": [
    "# Загружаем специальный инструмент для разбивки:\n",
    "from sklearn.model_selection import train_test_split"
   ]
  },
  {
   "cell_type": "code",
   "execution_count": 119,
   "metadata": {},
   "outputs": [],
   "source": [
    "# Наборы данных с меткой \"train\" будут использоваться для обучения модели, \"test\" - для тестирования.\n",
    "# Для тестирования мы будем использовать 25% от исходного датасета.\n",
    "X_train, X_test, y_train, y_test = train_test_split(X, y, test_size=0.25)"
   ]
  },
  {
   "cell_type": "markdown",
   "metadata": {},
   "source": [
    "# Создаём, обучаем и тестируем модель"
   ]
  },
  {
   "cell_type": "code",
   "execution_count": 120,
   "metadata": {},
   "outputs": [],
   "source": [
    "# Импортируем необходимые библиотеки:\n",
    "from sklearn.ensemble import RandomForestRegressor # инструмент для создания и обучения модели\n",
    "from sklearn import metrics # инструменты для оценки точности модели"
   ]
  },
  {
   "cell_type": "code",
   "execution_count": 121,
   "metadata": {},
   "outputs": [],
   "source": [
    "# Создаём модель\n",
    "regr = RandomForestRegressor(n_estimators=100)\n",
    "\n",
    "# Обучаем модель на тестовом наборе данных\n",
    "regr.fit(X_train, y_train)\n",
    "\n",
    "# Используем обученную модель для предсказания рейтинга ресторанов в тестовой выборке.\n",
    "# Предсказанные значения записываем в переменную y_pred\n",
    "y_pred = regr.predict(X_test)"
   ]
  },
  {
   "cell_type": "code",
   "execution_count": 122,
   "metadata": {},
   "outputs": [
    {
     "name": "stdout",
     "output_type": "stream",
     "text": [
      "MAE: 0.21304049999999997\n"
     ]
    }
   ],
   "source": [
    "# Сравниваем предсказанные значения (y_pred) с реальными (y_test), и смотрим насколько они в среднем отличаются\n",
    "# Метрика называется Mean Absolute Error (MAE) и показывает среднее отклонение предсказанных значений от фактических.\n",
    "print('MAE:', metrics.mean_absolute_error(y_test, y_pred))"
   ]
  },
  {
   "cell_type": "code",
   "execution_count": null,
   "metadata": {},
   "outputs": [],
   "source": [
    "\n",
    "\n"
   ]
  }
 ],
 "metadata": {
  "kernelspec": {
   "display_name": "Python 3",
   "language": "python",
   "name": "python3"
  },
  "language_info": {
   "codemirror_mode": {
    "name": "ipython",
    "version": 3
   },
   "file_extension": ".py",
   "mimetype": "text/x-python",
   "name": "python",
   "nbconvert_exporter": "python",
   "pygments_lexer": "ipython3",
   "version": "3.7.5"
  }
 },
 "nbformat": 4,
 "nbformat_minor": 2
}
