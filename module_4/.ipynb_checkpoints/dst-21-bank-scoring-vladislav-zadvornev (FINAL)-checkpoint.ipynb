{
 "cells": [
  {
   "cell_type": "code",
   "execution_count": 1,
   "metadata": {
    "_cell_guid": "b1076dfc-b9ad-4769-8c92-a6c4dae69d19",
    "_uuid": "8f2839f25d086af736a60e9eeb907d3b93b6e0e5",
    "execution": {
     "iopub.execute_input": "2020-11-30T14:40:52.299987Z",
     "iopub.status.busy": "2020-11-30T14:40:52.298937Z",
     "iopub.status.idle": "2020-11-30T14:40:53.747802Z",
     "shell.execute_reply": "2020-11-30T14:40:53.746883Z"
    },
    "papermill": {
     "duration": 1.50287,
     "end_time": "2020-11-30T14:40:53.747984",
     "exception": false,
     "start_time": "2020-11-30T14:40:52.245114",
     "status": "completed"
    },
    "tags": []
   },
   "outputs": [],
   "source": [
    "from pandas import Series\n",
    "import pandas as pd\n",
    "import numpy as np\n",
    "from random import uniform, seed\n",
    "import math\n",
    "from collections import Counter\n",
    "\n",
    "import matplotlib.pyplot as plt\n",
    "import seaborn as sns\n",
    "\n",
    "from sklearn.feature_selection import f_classif, mutual_info_classif\n",
    "from sklearn.preprocessing import LabelEncoder, OneHotEncoder, StandardScaler\n",
    "\n",
    "from sklearn.model_selection import train_test_split, RepeatedStratifiedKFold\n",
    "from sklearn.linear_model import LogisticRegression\n",
    "\n",
    "from sklearn.metrics import auc, roc_auc_score, roc_curve, confusion_matrix, f1_score\n",
    "\n",
    "from datetime import datetime, timedelta\n",
    "\n",
    "from sklearn.model_selection import GridSearchCV\n",
    "\n",
    "RANDOM_SEED = 42\n",
    "\n",
    "pd.set_option('max_colwidth', 100)"
   ]
  },
  {
   "cell_type": "markdown",
   "metadata": {
    "papermill": {
     "duration": 0.038634,
     "end_time": "2020-11-30T14:40:53.826220",
     "exception": false,
     "start_time": "2020-11-30T14:40:53.787586",
     "status": "completed"
    },
    "tags": []
   },
   "source": [
    "# Helper functions"
   ]
  },
  {
   "cell_type": "code",
   "execution_count": 2,
   "metadata": {
    "execution": {
     "iopub.execute_input": "2020-11-30T14:40:53.949701Z",
     "iopub.status.busy": "2020-11-30T14:40:53.927465Z",
     "iopub.status.idle": "2020-11-30T14:40:53.953732Z",
     "shell.execute_reply": "2020-11-30T14:40:53.953025Z"
    },
    "papermill": {
     "duration": 0.086767,
     "end_time": "2020-11-30T14:40:53.953902",
     "exception": false,
     "start_time": "2020-11-30T14:40:53.867135",
     "status": "completed"
    },
    "tags": []
   },
   "outputs": [],
   "source": [
    "def mass_countplot(data, lst, include_target=False):\n",
    "    \"\"\"\n",
    "    Performs a mass countplot visualization based on a \n",
    "    dataframe (data) and a list of variables (lst).\n",
    "    \n",
    "    If include_target is False then target variable is not included.\n",
    "    Otherwise, pass the target variable name and it will be included.\n",
    "    \"\"\"\n",
    "    \n",
    "    tmp_lst = lst.copy()\n",
    "    \n",
    "    if include_target:\n",
    "        tmp_lst.append(include_target)\n",
    "            \n",
    "    for col in tmp_lst:\n",
    "        try:\n",
    "            # Just to show if a column has missing values\n",
    "            has_nan = data[col].value_counts(dropna=False)[np.nan]\n",
    "            msg = f\"Column {col} contains {has_nan} missing values\"\n",
    "        except:\n",
    "            msg=''\n",
    "        fig = plt.figure()\n",
    "        fig.suptitle(msg)\n",
    "        sns.countplot(x=data[col])\n",
    "\n",
    "def fillna_freq(freq):\n",
    "    \"\"\"\n",
    "    Replaces a missing value based on a frequency of other values\n",
    "    in this column\n",
    "    \"\"\"\n",
    "    seed(RANDOM_SEED)\n",
    "    rnd = round(uniform(0,1),2)\n",
    "    result = freq[freq <= rnd].index[-1]\n",
    "    #print(f\"Random value {rnd} corresponds to {result}\")\n",
    "    return result\n",
    "\n",
    "def get_date_features(d):\n",
    "    \"\"\"\n",
    "    Converts string representation of date to datetime and extracts\n",
    "    date-related features\n",
    "    \"\"\"\n",
    "    dt = datetime.strptime(d,'%d%b%Y')\n",
    "    is_weekend = 0\n",
    "    is_end_of_month = 0\n",
    "    \n",
    "    # 5 and 6 are Saturday and Sunday\n",
    "    if dt.weekday() >= 5:\n",
    "        is_weekend = 1\n",
    "    \n",
    "    # let's consider all the days after 25 an end of month \n",
    "    if dt.day > 25:\n",
    "        is_end_of_month = 1\n",
    "    \n",
    "    return [is_weekend, is_end_of_month, dt.strftime(\"%B\"), dt.weekday(), math.ceil(dt.month/3.)]\n",
    "\n",
    "def mass_hist(data, lst, to_log=False, iqr=False):\n",
    "    \"\"\"\n",
    "    Creates a histogram for each numeric variable (passed in lst)\n",
    "    for the data set (passed in data).\n",
    "    \n",
    "    If logarithm needs to be applied then to_log must be set to True\n",
    "    \n",
    "    If iqr=True then the data about outliers will be displayed\n",
    "    \"\"\"\n",
    "    for i in lst:\n",
    "        plt.figure()\n",
    "        if to_log:\n",
    "            sns.distplot(np.log(data[i][data[i] > 0].dropna()), kde = False, rug=False)\n",
    "        else:\n",
    "            sns.distplot(data[i], kde = False, rug=False)\n",
    "        if iqr:\n",
    "            print(get_iqr_flexible(data[i]))\n",
    "        plt.title(i)\n",
    "        plt.show()\n",
    "        \n",
    "def mass_box(data, lst):\n",
    "    \"\"\"\n",
    "    Same as mass_hist, but draws box plots instead\n",
    "    \"\"\"\n",
    "    for i in lst:\n",
    "        plt.figure()\n",
    "        print(f\"Average {i} values : {data.groupby('default')[i].mean()}\")\n",
    "        sns.boxplot(data = data, y=i, x='default', showmeans=True)\n",
    "        plt.title(i)\n",
    "        plt.show()\n",
    "        \n",
    "def get_iqr_flexible(s, low_perc=0.25, high_perc=0.75):\n",
    "    \"\"\"\n",
    "    Returns some basic statistics related to IQR.\n",
    "    It's flexible because by default this function\n",
    "    delivers 25, 50, 75 percentiles and IQR, however,\n",
    "    if you set a different low_perc and high_perc values \n",
    "    ther results will be different.\n",
    "\n",
    "    Of course, if you, for example, set low_perc = 0.1\n",
    "    and high_perc = 0.9 the result won't actually be IQR\n",
    "    anymore because it will have nothing to do with quartiles. \n",
    "    Name IQR is used here just for convenience and becauss in\n",
    "    most cases standard will be used anyway.\n",
    "    \"\"\"\n",
    "    median = s.median()\n",
    "    iqr = s.quantile(0.75) - s.quantile(0.25)\n",
    "    perc25 = s.quantile(0.25)\n",
    "    perc75 = s.quantile(0.75)\n",
    "    lower_outliers = Counter(s[(s < perc25 - 1.5*iqr)])\n",
    "    higher_outliers = Counter(s[(s > perc75 + 1.5*iqr)])\n",
    "    print(\n",
    "        f'Column name: {s.name}. Median: {median}. Lower percentile ({low_perc}): {perc25}.')\n",
    "    print(\n",
    "        f'Higher percentile ({high_perc}): {perc75}. IQR: {iqr}.')\n",
    "    print(\n",
    "        f'Lower outliers: {lower_outliers}.')\n",
    "    print(\n",
    "        f'Higher outliers: {higher_outliers}.')\n",
    "    return {'perc25': perc25, 'median': median, 'perc75': perc75, 'iqr': iqr}     \n",
    "\n",
    "def print_roc_curve(y_true, y_pred_probs):\n",
    "    \"\"\"\n",
    "    Draws a ROC curve (this function will be reused)\n",
    "    \"\"\"\n",
    "    fpr, tpr, threshold = roc_curve(y_true, y_pred_probs)\n",
    "    roc_auc = roc_auc_score(y_true, y_pred_probs)\n",
    "\n",
    "    plt.figure()\n",
    "    plt.plot([0, 1], label='Baseline', linestyle='--')\n",
    "    plt.plot(fpr, tpr, label = 'Regression')\n",
    "    plt.title('Logistic Regression ROC AUC = %0.3f' % roc_auc)\n",
    "    plt.ylabel('True Positive Rate')\n",
    "    plt.xlabel('False Positive Rate')\n",
    "    plt.legend(loc = 'lower right')\n",
    "    plt.show()\n",
    "    \n",
    "def print_confusion_matrix(y_true, y_pred_values):\n",
    "    \"\"\"\n",
    "    Draws confusion matrix (this function will be reused)\n",
    "    \"\"\"\n",
    "    conf_matrix = confusion_matrix(y_true, y_pred_values)\n",
    "    print(conf_matrix)\n",
    "    print(f\"F-1 score: {f1_score(y_true, y_pred_values)}\")\n",
    "    \n",
    "    ax= plt.subplot()\n",
    "    sns.heatmap(conf_matrix, annot=True, ax = ax); #annot=True to annotate cells\n",
    "\n",
    "    # labels, title and ticks\n",
    "    ax.set_xlabel('Predicted labels');ax.set_ylabel('True labels'); \n",
    "    ax.set_title('Confusion Matrix'); \n",
    "    ax.xaxis.set_ticklabels(['Non-default', 'Default']); ax.yaxis.set_ticklabels(['Non-default', 'Default'])        "
   ]
  },
  {
   "cell_type": "markdown",
   "metadata": {
    "papermill": {
     "duration": 0.039873,
     "end_time": "2020-11-30T14:40:54.033992",
     "exception": false,
     "start_time": "2020-11-30T14:40:53.994119",
     "status": "completed"
    },
    "tags": []
   },
   "source": [
    "# Reading and exploring data"
   ]
  },
  {
   "cell_type": "code",
   "execution_count": 3,
   "metadata": {
    "_cell_guid": "79c7e3d0-c299-4dcb-8224-4455121ee9b0",
    "_uuid": "d629ff2d2480ee46fbb7e2d37f6b5fab8052498a",
    "execution": {
     "iopub.execute_input": "2020-11-30T14:40:54.122553Z",
     "iopub.status.busy": "2020-11-30T14:40:54.121582Z",
     "iopub.status.idle": "2020-11-30T14:40:54.530117Z",
     "shell.execute_reply": "2020-11-30T14:40:54.530673Z"
    },
    "papermill": {
     "duration": 0.457361,
     "end_time": "2020-11-30T14:40:54.530876",
     "exception": false,
     "start_time": "2020-11-30T14:40:54.073515",
     "status": "completed"
    },
    "tags": []
   },
   "outputs": [
    {
     "data": {
      "text/html": [
       "<div>\n",
       "<style scoped>\n",
       "    .dataframe tbody tr th:only-of-type {\n",
       "        vertical-align: middle;\n",
       "    }\n",
       "\n",
       "    .dataframe tbody tr th {\n",
       "        vertical-align: top;\n",
       "    }\n",
       "\n",
       "    .dataframe thead th {\n",
       "        text-align: right;\n",
       "    }\n",
       "</style>\n",
       "<table border=\"1\" class=\"dataframe\">\n",
       "  <thead>\n",
       "    <tr style=\"text-align: right;\">\n",
       "      <th></th>\n",
       "      <th>client_id</th>\n",
       "      <th>app_date</th>\n",
       "      <th>education</th>\n",
       "      <th>sex</th>\n",
       "      <th>age</th>\n",
       "      <th>car</th>\n",
       "      <th>car_type</th>\n",
       "      <th>decline_app_cnt</th>\n",
       "      <th>good_work</th>\n",
       "      <th>score_bki</th>\n",
       "      <th>bki_request_cnt</th>\n",
       "      <th>region_rating</th>\n",
       "      <th>home_address</th>\n",
       "      <th>work_address</th>\n",
       "      <th>income</th>\n",
       "      <th>sna</th>\n",
       "      <th>first_time</th>\n",
       "      <th>foreign_passport</th>\n",
       "      <th>default</th>\n",
       "      <th>label</th>\n",
       "    </tr>\n",
       "  </thead>\n",
       "  <tbody>\n",
       "    <tr>\n",
       "      <th>0</th>\n",
       "      <td>25905</td>\n",
       "      <td>01FEB2014</td>\n",
       "      <td>SCH</td>\n",
       "      <td>M</td>\n",
       "      <td>62</td>\n",
       "      <td>Y</td>\n",
       "      <td>Y</td>\n",
       "      <td>0</td>\n",
       "      <td>0</td>\n",
       "      <td>-2.008753</td>\n",
       "      <td>1</td>\n",
       "      <td>50</td>\n",
       "      <td>1</td>\n",
       "      <td>2</td>\n",
       "      <td>18000</td>\n",
       "      <td>4</td>\n",
       "      <td>1</td>\n",
       "      <td>N</td>\n",
       "      <td>0.0</td>\n",
       "      <td>train</td>\n",
       "    </tr>\n",
       "    <tr>\n",
       "      <th>1</th>\n",
       "      <td>63161</td>\n",
       "      <td>12MAR2014</td>\n",
       "      <td>SCH</td>\n",
       "      <td>F</td>\n",
       "      <td>59</td>\n",
       "      <td>N</td>\n",
       "      <td>N</td>\n",
       "      <td>0</td>\n",
       "      <td>0</td>\n",
       "      <td>-1.532276</td>\n",
       "      <td>3</td>\n",
       "      <td>50</td>\n",
       "      <td>2</td>\n",
       "      <td>3</td>\n",
       "      <td>19000</td>\n",
       "      <td>4</td>\n",
       "      <td>1</td>\n",
       "      <td>N</td>\n",
       "      <td>0.0</td>\n",
       "      <td>train</td>\n",
       "    </tr>\n",
       "    <tr>\n",
       "      <th>2</th>\n",
       "      <td>25887</td>\n",
       "      <td>01FEB2014</td>\n",
       "      <td>SCH</td>\n",
       "      <td>M</td>\n",
       "      <td>25</td>\n",
       "      <td>Y</td>\n",
       "      <td>N</td>\n",
       "      <td>2</td>\n",
       "      <td>0</td>\n",
       "      <td>-1.408142</td>\n",
       "      <td>1</td>\n",
       "      <td>80</td>\n",
       "      <td>1</td>\n",
       "      <td>2</td>\n",
       "      <td>30000</td>\n",
       "      <td>1</td>\n",
       "      <td>4</td>\n",
       "      <td>Y</td>\n",
       "      <td>0.0</td>\n",
       "      <td>train</td>\n",
       "    </tr>\n",
       "    <tr>\n",
       "      <th>3</th>\n",
       "      <td>16222</td>\n",
       "      <td>23JAN2014</td>\n",
       "      <td>SCH</td>\n",
       "      <td>F</td>\n",
       "      <td>53</td>\n",
       "      <td>N</td>\n",
       "      <td>N</td>\n",
       "      <td>0</td>\n",
       "      <td>0</td>\n",
       "      <td>-2.057471</td>\n",
       "      <td>2</td>\n",
       "      <td>50</td>\n",
       "      <td>2</td>\n",
       "      <td>3</td>\n",
       "      <td>10000</td>\n",
       "      <td>1</td>\n",
       "      <td>3</td>\n",
       "      <td>N</td>\n",
       "      <td>0.0</td>\n",
       "      <td>train</td>\n",
       "    </tr>\n",
       "    <tr>\n",
       "      <th>4</th>\n",
       "      <td>101655</td>\n",
       "      <td>18APR2014</td>\n",
       "      <td>GRD</td>\n",
       "      <td>M</td>\n",
       "      <td>48</td>\n",
       "      <td>N</td>\n",
       "      <td>N</td>\n",
       "      <td>0</td>\n",
       "      <td>1</td>\n",
       "      <td>-1.244723</td>\n",
       "      <td>1</td>\n",
       "      <td>60</td>\n",
       "      <td>2</td>\n",
       "      <td>3</td>\n",
       "      <td>30000</td>\n",
       "      <td>1</td>\n",
       "      <td>4</td>\n",
       "      <td>Y</td>\n",
       "      <td>0.0</td>\n",
       "      <td>train</td>\n",
       "    </tr>\n",
       "  </tbody>\n",
       "</table>\n",
       "</div>"
      ],
      "text/plain": [
       "   client_id   app_date education sex  age car car_type  decline_app_cnt  \\\n",
       "0      25905  01FEB2014       SCH   M   62   Y        Y                0   \n",
       "1      63161  12MAR2014       SCH   F   59   N        N                0   \n",
       "2      25887  01FEB2014       SCH   M   25   Y        N                2   \n",
       "3      16222  23JAN2014       SCH   F   53   N        N                0   \n",
       "4     101655  18APR2014       GRD   M   48   N        N                0   \n",
       "\n",
       "   good_work  score_bki  bki_request_cnt  region_rating  home_address  \\\n",
       "0          0  -2.008753                1             50             1   \n",
       "1          0  -1.532276                3             50             2   \n",
       "2          0  -1.408142                1             80             1   \n",
       "3          0  -2.057471                2             50             2   \n",
       "4          1  -1.244723                1             60             2   \n",
       "\n",
       "   work_address  income  sna  first_time foreign_passport  default  label  \n",
       "0             2   18000    4           1                N      0.0  train  \n",
       "1             3   19000    4           1                N      0.0  train  \n",
       "2             2   30000    1           4                Y      0.0  train  \n",
       "3             3   10000    1           3                N      0.0  train  \n",
       "4             3   30000    1           4                Y      0.0  train  "
      ]
     },
     "execution_count": 3,
     "metadata": {},
     "output_type": "execute_result"
    }
   ],
   "source": [
    "# Reading both train and test dataframes and concatenating them\n",
    "# for common data pre-processing operations. \n",
    "# Column 'label' is added to differentiate between test and train \n",
    "# datasets later\n",
    "train = pd.read_csv('../input/sf-dst-scoring/train.csv')\n",
    "train['label'] = 'train'\n",
    "test = pd.read_csv('../input/sf-dst-scoring/test.csv')\n",
    "test['label'] = 'test'\n",
    "data = pd.concat([train,test])\n",
    "data.head()"
   ]
  },
  {
   "cell_type": "code",
   "execution_count": 4,
   "metadata": {
    "execution": {
     "iopub.execute_input": "2020-11-30T14:40:54.618791Z",
     "iopub.status.busy": "2020-11-30T14:40:54.617978Z",
     "iopub.status.idle": "2020-11-30T14:40:54.753538Z",
     "shell.execute_reply": "2020-11-30T14:40:54.754229Z"
    },
    "papermill": {
     "duration": 0.182944,
     "end_time": "2020-11-30T14:40:54.754414",
     "exception": false,
     "start_time": "2020-11-30T14:40:54.571470",
     "status": "completed"
    },
    "tags": []
   },
   "outputs": [
    {
     "name": "stdout",
     "output_type": "stream",
     "text": [
      "<class 'pandas.core.frame.DataFrame'>\n",
      "Int64Index: 110148 entries, 0 to 36348\n",
      "Data columns (total 20 columns):\n",
      " #   Column            Non-Null Count   Dtype  \n",
      "---  ------            --------------   -----  \n",
      " 0   client_id         110148 non-null  int64  \n",
      " 1   app_date          110148 non-null  object \n",
      " 2   education         109670 non-null  object \n",
      " 3   sex               110148 non-null  object \n",
      " 4   age               110148 non-null  int64  \n",
      " 5   car               110148 non-null  object \n",
      " 6   car_type          110148 non-null  object \n",
      " 7   decline_app_cnt   110148 non-null  int64  \n",
      " 8   good_work         110148 non-null  int64  \n",
      " 9   score_bki         110148 non-null  float64\n",
      " 10  bki_request_cnt   110148 non-null  int64  \n",
      " 11  region_rating     110148 non-null  int64  \n",
      " 12  home_address      110148 non-null  int64  \n",
      " 13  work_address      110148 non-null  int64  \n",
      " 14  income            110148 non-null  int64  \n",
      " 15  sna               110148 non-null  int64  \n",
      " 16  first_time        110148 non-null  int64  \n",
      " 17  foreign_passport  110148 non-null  object \n",
      " 18  default           73799 non-null   float64\n",
      " 19  label             110148 non-null  object \n",
      "dtypes: float64(2), int64(11), object(7)\n",
      "memory usage: 17.6+ MB\n"
     ]
    }
   ],
   "source": [
    "data.info()"
   ]
  },
  {
   "cell_type": "code",
   "execution_count": 5,
   "metadata": {
    "execution": {
     "iopub.execute_input": "2020-11-30T14:40:54.845135Z",
     "iopub.status.busy": "2020-11-30T14:40:54.844277Z",
     "iopub.status.idle": "2020-11-30T14:40:54.847600Z",
     "shell.execute_reply": "2020-11-30T14:40:54.846797Z"
    },
    "papermill": {
     "duration": 0.052087,
     "end_time": "2020-11-30T14:40:54.847744",
     "exception": false,
     "start_time": "2020-11-30T14:40:54.795657",
     "status": "completed"
    },
    "tags": []
   },
   "outputs": [],
   "source": [
    "# 1) Only education has missing values - I will deal with it later\n",
    "# 2) Field app_date represents an application date. It doesn't provide any useful information by default, but after being processed it can generate new interesting features. I will deal with it later.\n",
    "# 3) Field client_id will most likely not be used for prediction. However, it will be required for checking the result of a model.\n",
    "# 4) Categorical variables are listed below. Some of them might be binary, but I will separate them only after visualisation (when I will be sure they are in fact binary).\n",
    "cat_vars = ['education', 'sex', 'car', 'car_type', 'good_work', 'home_address', 'work_address', 'sna', 'foreign_passport', 'first_time', 'region_rating']\n",
    "\n",
    "# 5) Numeric variables are listed below\n",
    "num_vars = ['age', 'decline_app_cnt', 'score_bki', 'bki_request_cnt', 'income']\n",
    "\n",
    "# 6) Target variable is default\n",
    "target = 'default'"
   ]
  },
  {
   "cell_type": "markdown",
   "metadata": {
    "papermill": {
     "duration": 0.04128,
     "end_time": "2020-11-30T14:40:54.930515",
     "exception": false,
     "start_time": "2020-11-30T14:40:54.889235",
     "status": "completed"
    },
    "tags": []
   },
   "source": [
    "# Categorical variables"
   ]
  },
  {
   "cell_type": "code",
   "execution_count": 6,
   "metadata": {
    "execution": {
     "iopub.execute_input": "2020-11-30T14:40:55.050839Z",
     "iopub.status.busy": "2020-11-30T14:40:55.049970Z",
     "iopub.status.idle": "2020-11-30T14:40:57.260460Z",
     "shell.execute_reply": "2020-11-30T14:40:57.259581Z"
    },
    "papermill": {
     "duration": 2.288284,
     "end_time": "2020-11-30T14:40:57.260610",
     "exception": false,
     "start_time": "2020-11-30T14:40:54.972326",
     "status": "completed"
    },
    "tags": []
   },
   "outputs": [
    {
     "data": {
      "image/png": "[encoded data removed]",
      "text/plain": [
       "<Figure size 432x288 with 1 Axes>"
      ]
     },
     "metadata": {
      "needs_background": "light"
     },
     "output_type": "display_data"
    },
    {
     "data": {
      "image/png": "[encoded data removed]",
      "text/plain": [
       "<Figure size 432x288 with 1 Axes>"
      ]
     },
     "metadata": {
      "needs_background": "light"
     },
     "output_type": "display_data"
    },
    {
     "data": {
      "image/png": "[encoded data removed]",
      "text/plain": [
       "<Figure size 432x288 with 1 Axes>"
      ]
     },
     "metadata": {
      "needs_background": "light"
     },
     "output_type": "display_data"
    },
    {
     "data": {
      "image/png": "[encoded data removed]",
      "text/plain": [
       "<Figure size 432x288 with 1 Axes>"
      ]
     },
     "metadata": {
      "needs_background": "light"
     },
     "output_type": "display_data"
    },
    {
     "data": {
      "image/png": "[encoded data removed]",
      "text/plain": [
       "<Figure size 432x288 with 1 Axes>"
      ]
     },
     "metadata": {
      "needs_background": "light"
     },
     "output_type": "display_data"
    },
    {
     "data": {
      "image/png": "[encoded data removed]",
      "text/plain": [
       "<Figure size 432x288 with 1 Axes>"
      ]
     },
     "metadata": {
      "needs_background": "light"
     },
     "output_type": "display_data"
    },
    {
     "data": {
      "image/png": "[encoded data removed]",
      "text/plain": [
       "<Figure size 432x288 with 1 Axes>"
      ]
     },
     "metadata": {
      "needs_background": "light"
     },
     "output_type": "display_data"
    },
    {
     "data": {
      "image/png": "[encoded data removed]",
      "text/plain": [
       "<Figure size 432x288 with 1 Axes>"
      ]
     },
     "metadata": {
      "needs_background": "light"
     },
     "output_type": "display_data"
    },
    {
     "data": {
      "image/png": "[encoded data removed]",
      "text/plain": [
       "<Figure size 432x288 with 1 Axes>"
      ]
     },
     "metadata": {
      "needs_background": "light"
     },
     "output_type": "display_data"
    },
    {
     "data": {
      "image/png": "[encoded data removed]",
      "text/plain": [
       "<Figure size 432x288 with 1 Axes>"
      ]
     },
     "metadata": {
      "needs_background": "light"
     },
     "output_type": "display_data"
    },
    {
     "data": {
      "image/png": "[encoded data removed]",
      "text/plain": [
       "<Figure size 432x288 with 1 Axes>"
      ]
     },
     "metadata": {
      "needs_background": "light"
     },
     "output_type": "display_data"
    },
    {
     "data": {
      "image/png": "[encoded data removed]",
      "text/plain": [
       "<Figure size 432x288 with 1 Axes>"
      ]
     },
     "metadata": {
      "needs_background": "light"
     },
     "output_type": "display_data"
    }
   ],
   "source": [
    "# Let's visualize categorical variables (please scroll down to see the whole result\n",
    "# because there are multiple charts in the result of this cell)\n",
    "mass_countplot(data, cat_vars, target)"
   ]
  },
  {
   "cell_type": "code",
   "execution_count": 7,
   "metadata": {
    "execution": {
     "iopub.execute_input": "2020-11-30T14:40:57.373826Z",
     "iopub.status.busy": "2020-11-30T14:40:57.372792Z",
     "iopub.status.idle": "2020-11-30T14:40:57.377924Z",
     "shell.execute_reply": "2020-11-30T14:40:57.377185Z"
    },
    "papermill": {
     "duration": 0.063648,
     "end_time": "2020-11-30T14:40:57.378081",
     "exception": false,
     "start_time": "2020-11-30T14:40:57.314433",
     "status": "completed"
    },
    "tags": []
   },
   "outputs": [
    {
     "name": "stdout",
     "output_type": "stream",
     "text": [
      "['first_time', 'home_address', 'work_address', 'sna', 'region_rating', 'education']\n"
     ]
    }
   ],
   "source": [
    "# Variables 'sex', 'car', 'car_type', 'good_work', 'foreign passport' are in fact binary. \n",
    "# Let's separate them for convenience\n",
    "bin_vars = ['sex', 'car', 'car_type', 'good_work', 'foreign_passport']\n",
    "\n",
    "# And remove them from cat_vars\n",
    "cat_vars = list(set(cat_vars) - set(bin_vars))\n",
    "print(cat_vars)"
   ]
  },
  {
   "cell_type": "code",
   "execution_count": 8,
   "metadata": {
    "execution": {
     "iopub.execute_input": "2020-11-30T14:40:57.520780Z",
     "iopub.status.busy": "2020-11-30T14:40:57.519339Z",
     "iopub.status.idle": "2020-11-30T14:40:57.554771Z",
     "shell.execute_reply": "2020-11-30T14:40:57.553819Z"
    },
    "papermill": {
     "duration": 0.124854,
     "end_time": "2020-11-30T14:40:57.555027",
     "exception": false,
     "start_time": "2020-11-30T14:40:57.430173",
     "status": "completed"
    },
    "tags": []
   },
   "outputs": [
    {
     "data": {
      "text/plain": [
       "ACD    0.00\n",
       "PGR    0.02\n",
       "UGR    0.13\n",
       "GRD    0.32\n",
       "SCH    0.53\n",
       "Name: education, dtype: float64"
      ]
     },
     "execution_count": 8,
     "metadata": {},
     "output_type": "execute_result"
    }
   ],
   "source": [
    "# Column education has 478 missing values. Let's replace them based on the\n",
    "# frequency of other values to make the replacement fair\n",
    "edu_freq = data['education'].value_counts(normalize=True, ascending=True).round(2)\n",
    "edu_freq"
   ]
  },
  {
   "cell_type": "code",
   "execution_count": 9,
   "metadata": {
    "execution": {
     "iopub.execute_input": "2020-11-30T14:40:57.707926Z",
     "iopub.status.busy": "2020-11-30T14:40:57.707110Z",
     "iopub.status.idle": "2020-11-30T14:40:58.025038Z",
     "shell.execute_reply": "2020-11-30T14:40:58.024265Z"
    },
    "papermill": {
     "duration": 0.399695,
     "end_time": "2020-11-30T14:40:58.025176",
     "exception": false,
     "start_time": "2020-11-30T14:40:57.625481",
     "status": "completed"
    },
    "tags": []
   },
   "outputs": [
    {
     "data": {
      "text/plain": [
       "SCH    58476\n",
       "GRD    34768\n",
       "UGR    14748\n",
       "PGR     1865\n",
       "ACD      291\n",
       "Name: education, dtype: int64"
      ]
     },
     "execution_count": 9,
     "metadata": {},
     "output_type": "execute_result"
    }
   ],
   "source": [
    "# Mapping a custom function fillna_freq to perform this\n",
    "# operation. As a result there are no more missing values in education\n",
    "data['education'] = data['education'].map(lambda x: fillna_freq(edu_freq) if pd.isna(x) else x)\n",
    "data['education'].value_counts(dropna=False)"
   ]
  },
  {
   "cell_type": "code",
   "execution_count": 10,
   "metadata": {
    "execution": {
     "iopub.execute_input": "2020-11-30T14:40:58.139793Z",
     "iopub.status.busy": "2020-11-30T14:40:58.138996Z",
     "iopub.status.idle": "2020-11-30T14:41:01.679608Z",
     "shell.execute_reply": "2020-11-30T14:41:01.678926Z"
    },
    "papermill": {
     "duration": 3.601545,
     "end_time": "2020-11-30T14:41:01.679788",
     "exception": false,
     "start_time": "2020-11-30T14:40:58.078243",
     "status": "completed"
    },
    "tags": []
   },
   "outputs": [
    {
     "data": {
      "text/html": [
       "<div>\n",
       "<style scoped>\n",
       "    .dataframe tbody tr th:only-of-type {\n",
       "        vertical-align: middle;\n",
       "    }\n",
       "\n",
       "    .dataframe tbody tr th {\n",
       "        vertical-align: top;\n",
       "    }\n",
       "\n",
       "    .dataframe thead th {\n",
       "        text-align: right;\n",
       "    }\n",
       "</style>\n",
       "<table border=\"1\" class=\"dataframe\">\n",
       "  <thead>\n",
       "    <tr style=\"text-align: right;\">\n",
       "      <th></th>\n",
       "      <th>client_id</th>\n",
       "      <th>education</th>\n",
       "      <th>sex</th>\n",
       "      <th>age</th>\n",
       "      <th>car</th>\n",
       "      <th>car_type</th>\n",
       "      <th>decline_app_cnt</th>\n",
       "      <th>good_work</th>\n",
       "      <th>score_bki</th>\n",
       "      <th>bki_request_cnt</th>\n",
       "      <th>...</th>\n",
       "      <th>sna</th>\n",
       "      <th>first_time</th>\n",
       "      <th>foreign_passport</th>\n",
       "      <th>default</th>\n",
       "      <th>label</th>\n",
       "      <th>is_weekend</th>\n",
       "      <th>is_end_of_month</th>\n",
       "      <th>month</th>\n",
       "      <th>weekday</th>\n",
       "      <th>quarter</th>\n",
       "    </tr>\n",
       "  </thead>\n",
       "  <tbody>\n",
       "    <tr>\n",
       "      <th>0</th>\n",
       "      <td>25905</td>\n",
       "      <td>SCH</td>\n",
       "      <td>M</td>\n",
       "      <td>62</td>\n",
       "      <td>Y</td>\n",
       "      <td>Y</td>\n",
       "      <td>0</td>\n",
       "      <td>0</td>\n",
       "      <td>-2.008753</td>\n",
       "      <td>1</td>\n",
       "      <td>...</td>\n",
       "      <td>4</td>\n",
       "      <td>1</td>\n",
       "      <td>N</td>\n",
       "      <td>0.0</td>\n",
       "      <td>train</td>\n",
       "      <td>1</td>\n",
       "      <td>0</td>\n",
       "      <td>February</td>\n",
       "      <td>5</td>\n",
       "      <td>1</td>\n",
       "    </tr>\n",
       "    <tr>\n",
       "      <th>1</th>\n",
       "      <td>63161</td>\n",
       "      <td>SCH</td>\n",
       "      <td>F</td>\n",
       "      <td>59</td>\n",
       "      <td>N</td>\n",
       "      <td>N</td>\n",
       "      <td>0</td>\n",
       "      <td>0</td>\n",
       "      <td>-1.532276</td>\n",
       "      <td>3</td>\n",
       "      <td>...</td>\n",
       "      <td>4</td>\n",
       "      <td>1</td>\n",
       "      <td>N</td>\n",
       "      <td>0.0</td>\n",
       "      <td>train</td>\n",
       "      <td>0</td>\n",
       "      <td>0</td>\n",
       "      <td>March</td>\n",
       "      <td>2</td>\n",
       "      <td>1</td>\n",
       "    </tr>\n",
       "    <tr>\n",
       "      <th>2</th>\n",
       "      <td>25887</td>\n",
       "      <td>SCH</td>\n",
       "      <td>M</td>\n",
       "      <td>25</td>\n",
       "      <td>Y</td>\n",
       "      <td>N</td>\n",
       "      <td>2</td>\n",
       "      <td>0</td>\n",
       "      <td>-1.408142</td>\n",
       "      <td>1</td>\n",
       "      <td>...</td>\n",
       "      <td>1</td>\n",
       "      <td>4</td>\n",
       "      <td>Y</td>\n",
       "      <td>0.0</td>\n",
       "      <td>train</td>\n",
       "      <td>1</td>\n",
       "      <td>0</td>\n",
       "      <td>February</td>\n",
       "      <td>5</td>\n",
       "      <td>1</td>\n",
       "    </tr>\n",
       "    <tr>\n",
       "      <th>3</th>\n",
       "      <td>16222</td>\n",
       "      <td>SCH</td>\n",
       "      <td>F</td>\n",
       "      <td>53</td>\n",
       "      <td>N</td>\n",
       "      <td>N</td>\n",
       "      <td>0</td>\n",
       "      <td>0</td>\n",
       "      <td>-2.057471</td>\n",
       "      <td>2</td>\n",
       "      <td>...</td>\n",
       "      <td>1</td>\n",
       "      <td>3</td>\n",
       "      <td>N</td>\n",
       "      <td>0.0</td>\n",
       "      <td>train</td>\n",
       "      <td>0</td>\n",
       "      <td>0</td>\n",
       "      <td>January</td>\n",
       "      <td>3</td>\n",
       "      <td>1</td>\n",
       "    </tr>\n",
       "    <tr>\n",
       "      <th>4</th>\n",
       "      <td>101655</td>\n",
       "      <td>GRD</td>\n",
       "      <td>M</td>\n",
       "      <td>48</td>\n",
       "      <td>N</td>\n",
       "      <td>N</td>\n",
       "      <td>0</td>\n",
       "      <td>1</td>\n",
       "      <td>-1.244723</td>\n",
       "      <td>1</td>\n",
       "      <td>...</td>\n",
       "      <td>1</td>\n",
       "      <td>4</td>\n",
       "      <td>Y</td>\n",
       "      <td>0.0</td>\n",
       "      <td>train</td>\n",
       "      <td>0</td>\n",
       "      <td>0</td>\n",
       "      <td>April</td>\n",
       "      <td>4</td>\n",
       "      <td>2</td>\n",
       "    </tr>\n",
       "  </tbody>\n",
       "</table>\n",
       "<p>5 rows × 24 columns</p>\n",
       "</div>"
      ],
      "text/plain": [
       "   client_id education sex  age car car_type  decline_app_cnt  good_work  \\\n",
       "0      25905       SCH   M   62   Y        Y                0          0   \n",
       "1      63161       SCH   F   59   N        N                0          0   \n",
       "2      25887       SCH   M   25   Y        N                2          0   \n",
       "3      16222       SCH   F   53   N        N                0          0   \n",
       "4     101655       GRD   M   48   N        N                0          1   \n",
       "\n",
       "   score_bki  bki_request_cnt  ...  sna  first_time  foreign_passport  \\\n",
       "0  -2.008753                1  ...    4           1                 N   \n",
       "1  -1.532276                3  ...    4           1                 N   \n",
       "2  -1.408142                1  ...    1           4                 Y   \n",
       "3  -2.057471                2  ...    1           3                 N   \n",
       "4  -1.244723                1  ...    1           4                 Y   \n",
       "\n",
       "   default  label  is_weekend is_end_of_month     month weekday  quarter  \n",
       "0      0.0  train           1               0  February       5        1  \n",
       "1      0.0  train           0               0     March       2        1  \n",
       "2      0.0  train           1               0  February       5        1  \n",
       "3      0.0  train           0               0   January       3        1  \n",
       "4      0.0  train           0               0     April       4        2  \n",
       "\n",
       "[5 rows x 24 columns]"
      ]
     },
     "execution_count": 10,
     "metadata": {},
     "output_type": "execute_result"
    }
   ],
   "source": [
    "# Let's do something with app_date. Custom function will be used to extract \n",
    "# new features. Features will be written in a list and then separated into columns\n",
    "data['date_feature_lst'] = data['app_date'].map(lambda x: get_date_features(x))\n",
    "data[['is_weekend','is_end_of_month', 'month', 'weekday', 'quarter']] = data['date_feature_lst'].tolist()\n",
    "data.drop(labels=['date_feature_lst','app_date'], inplace=True, axis=1)\n",
    "data.head()"
   ]
  },
  {
   "cell_type": "code",
   "execution_count": 11,
   "metadata": {
    "execution": {
     "iopub.execute_input": "2020-11-30T14:41:01.842315Z",
     "iopub.status.busy": "2020-11-30T14:41:01.819101Z",
     "iopub.status.idle": "2020-11-30T14:41:02.376620Z",
     "shell.execute_reply": "2020-11-30T14:41:02.375857Z"
    },
    "papermill": {
     "duration": 0.641845,
     "end_time": "2020-11-30T14:41:02.376782",
     "exception": false,
     "start_time": "2020-11-30T14:41:01.734937",
     "status": "completed"
    },
    "tags": []
   },
   "outputs": [
    {
     "data": {
      "image/png": "[encoded data removed]",
      "text/plain": [
       "<Figure size 432x288 with 1 Axes>"
      ]
     },
     "metadata": {
      "needs_background": "light"
     },
     "output_type": "display_data"
    },
    {
     "data": {
      "image/png": "[encoded data removed]",
      "text/plain": [
       "<Figure size 432x288 with 1 Axes>"
      ]
     },
     "metadata": {
      "needs_background": "light"
     },
     "output_type": "display_data"
    },
    {
     "data": {
      "image/png": "[encoded data removed]",
      "text/plain": [
       "<Figure size 432x288 with 1 Axes>"
      ]
     },
     "metadata": {
      "needs_background": "light"
     },
     "output_type": "display_data"
    }
   ],
   "source": [
    "# Let's visualize new columns.\n",
    "mass_countplot(data, ['month','weekday','quarter'])"
   ]
  },
  {
   "cell_type": "code",
   "execution_count": 12,
   "metadata": {
    "execution": {
     "iopub.execute_input": "2020-11-30T14:41:02.498557Z",
     "iopub.status.busy": "2020-11-30T14:41:02.497409Z",
     "iopub.status.idle": "2020-11-30T14:41:02.503323Z",
     "shell.execute_reply": "2020-11-30T14:41:02.502677Z"
    },
    "papermill": {
     "duration": 0.069666,
     "end_time": "2020-11-30T14:41:02.503494",
     "exception": false,
     "start_time": "2020-11-30T14:41:02.433828",
     "status": "completed"
    },
    "tags": []
   },
   "outputs": [
    {
     "name": "stdout",
     "output_type": "stream",
     "text": [
      "['sex', 'car', 'car_type', 'good_work', 'foreign_passport', 'is_weekend', 'is_end_of_month']\n",
      "['first_time', 'home_address', 'work_address', 'sna', 'region_rating', 'education', 'weekday', 'month', 'quarter']\n"
     ]
    }
   ],
   "source": [
    "# Let's add 'weekday' to categorical features and 'is_weekend','is_end_of_month'\n",
    "# to binary features. month and quarter will be added to categorical variables\n",
    "bin_vars.extend(['is_weekend','is_end_of_month'])\n",
    "cat_vars.extend(['weekday','month','quarter'])\n",
    "print(bin_vars)\n",
    "print(cat_vars)"
   ]
  },
  {
   "cell_type": "code",
   "execution_count": 13,
   "metadata": {
    "execution": {
     "iopub.execute_input": "2020-11-30T14:41:02.639430Z",
     "iopub.status.busy": "2020-11-30T14:41:02.628705Z",
     "iopub.status.idle": "2020-11-30T14:41:02.864639Z",
     "shell.execute_reply": "2020-11-30T14:41:02.863917Z"
    },
    "papermill": {
     "duration": 0.303747,
     "end_time": "2020-11-30T14:41:02.864779",
     "exception": false,
     "start_time": "2020-11-30T14:41:02.561032",
     "status": "completed"
    },
    "tags": []
   },
   "outputs": [
    {
     "data": {
      "text/html": [
       "<div>\n",
       "<style scoped>\n",
       "    .dataframe tbody tr th:only-of-type {\n",
       "        vertical-align: middle;\n",
       "    }\n",
       "\n",
       "    .dataframe tbody tr th {\n",
       "        vertical-align: top;\n",
       "    }\n",
       "\n",
       "    .dataframe thead th {\n",
       "        text-align: right;\n",
       "    }\n",
       "</style>\n",
       "<table border=\"1\" class=\"dataframe\">\n",
       "  <thead>\n",
       "    <tr style=\"text-align: right;\">\n",
       "      <th></th>\n",
       "      <th>client_id</th>\n",
       "      <th>education</th>\n",
       "      <th>sex</th>\n",
       "      <th>age</th>\n",
       "      <th>car</th>\n",
       "      <th>car_type</th>\n",
       "      <th>decline_app_cnt</th>\n",
       "      <th>good_work</th>\n",
       "      <th>score_bki</th>\n",
       "      <th>bki_request_cnt</th>\n",
       "      <th>...</th>\n",
       "      <th>sna</th>\n",
       "      <th>first_time</th>\n",
       "      <th>foreign_passport</th>\n",
       "      <th>default</th>\n",
       "      <th>label</th>\n",
       "      <th>is_weekend</th>\n",
       "      <th>is_end_of_month</th>\n",
       "      <th>month</th>\n",
       "      <th>weekday</th>\n",
       "      <th>quarter</th>\n",
       "    </tr>\n",
       "  </thead>\n",
       "  <tbody>\n",
       "    <tr>\n",
       "      <th>0</th>\n",
       "      <td>25905</td>\n",
       "      <td>SCH</td>\n",
       "      <td>1</td>\n",
       "      <td>62</td>\n",
       "      <td>1</td>\n",
       "      <td>1</td>\n",
       "      <td>0</td>\n",
       "      <td>0</td>\n",
       "      <td>-2.008753</td>\n",
       "      <td>1</td>\n",
       "      <td>...</td>\n",
       "      <td>4</td>\n",
       "      <td>1</td>\n",
       "      <td>0</td>\n",
       "      <td>0.0</td>\n",
       "      <td>train</td>\n",
       "      <td>1</td>\n",
       "      <td>0</td>\n",
       "      <td>February</td>\n",
       "      <td>5</td>\n",
       "      <td>1</td>\n",
       "    </tr>\n",
       "    <tr>\n",
       "      <th>1</th>\n",
       "      <td>63161</td>\n",
       "      <td>SCH</td>\n",
       "      <td>0</td>\n",
       "      <td>59</td>\n",
       "      <td>0</td>\n",
       "      <td>0</td>\n",
       "      <td>0</td>\n",
       "      <td>0</td>\n",
       "      <td>-1.532276</td>\n",
       "      <td>3</td>\n",
       "      <td>...</td>\n",
       "      <td>4</td>\n",
       "      <td>1</td>\n",
       "      <td>0</td>\n",
       "      <td>0.0</td>\n",
       "      <td>train</td>\n",
       "      <td>0</td>\n",
       "      <td>0</td>\n",
       "      <td>March</td>\n",
       "      <td>2</td>\n",
       "      <td>1</td>\n",
       "    </tr>\n",
       "    <tr>\n",
       "      <th>2</th>\n",
       "      <td>25887</td>\n",
       "      <td>SCH</td>\n",
       "      <td>1</td>\n",
       "      <td>25</td>\n",
       "      <td>1</td>\n",
       "      <td>0</td>\n",
       "      <td>2</td>\n",
       "      <td>0</td>\n",
       "      <td>-1.408142</td>\n",
       "      <td>1</td>\n",
       "      <td>...</td>\n",
       "      <td>1</td>\n",
       "      <td>4</td>\n",
       "      <td>1</td>\n",
       "      <td>0.0</td>\n",
       "      <td>train</td>\n",
       "      <td>1</td>\n",
       "      <td>0</td>\n",
       "      <td>February</td>\n",
       "      <td>5</td>\n",
       "      <td>1</td>\n",
       "    </tr>\n",
       "    <tr>\n",
       "      <th>3</th>\n",
       "      <td>16222</td>\n",
       "      <td>SCH</td>\n",
       "      <td>0</td>\n",
       "      <td>53</td>\n",
       "      <td>0</td>\n",
       "      <td>0</td>\n",
       "      <td>0</td>\n",
       "      <td>0</td>\n",
       "      <td>-2.057471</td>\n",
       "      <td>2</td>\n",
       "      <td>...</td>\n",
       "      <td>1</td>\n",
       "      <td>3</td>\n",
       "      <td>0</td>\n",
       "      <td>0.0</td>\n",
       "      <td>train</td>\n",
       "      <td>0</td>\n",
       "      <td>0</td>\n",
       "      <td>January</td>\n",
       "      <td>3</td>\n",
       "      <td>1</td>\n",
       "    </tr>\n",
       "    <tr>\n",
       "      <th>4</th>\n",
       "      <td>101655</td>\n",
       "      <td>GRD</td>\n",
       "      <td>1</td>\n",
       "      <td>48</td>\n",
       "      <td>0</td>\n",
       "      <td>0</td>\n",
       "      <td>0</td>\n",
       "      <td>1</td>\n",
       "      <td>-1.244723</td>\n",
       "      <td>1</td>\n",
       "      <td>...</td>\n",
       "      <td>1</td>\n",
       "      <td>4</td>\n",
       "      <td>1</td>\n",
       "      <td>0.0</td>\n",
       "      <td>train</td>\n",
       "      <td>0</td>\n",
       "      <td>0</td>\n",
       "      <td>April</td>\n",
       "      <td>4</td>\n",
       "      <td>2</td>\n",
       "    </tr>\n",
       "  </tbody>\n",
       "</table>\n",
       "<p>5 rows × 24 columns</p>\n",
       "</div>"
      ],
      "text/plain": [
       "   client_id education  sex  age  car  car_type  decline_app_cnt  good_work  \\\n",
       "0      25905       SCH    1   62    1         1                0          0   \n",
       "1      63161       SCH    0   59    0         0                0          0   \n",
       "2      25887       SCH    1   25    1         0                2          0   \n",
       "3      16222       SCH    0   53    0         0                0          0   \n",
       "4     101655       GRD    1   48    0         0                0          1   \n",
       "\n",
       "   score_bki  bki_request_cnt  ...  sna  first_time  foreign_passport  \\\n",
       "0  -2.008753                1  ...    4           1                 0   \n",
       "1  -1.532276                3  ...    4           1                 0   \n",
       "2  -1.408142                1  ...    1           4                 1   \n",
       "3  -2.057471                2  ...    1           3                 0   \n",
       "4  -1.244723                1  ...    1           4                 1   \n",
       "\n",
       "   default  label  is_weekend  is_end_of_month     month weekday  quarter  \n",
       "0      0.0  train           1                0  February       5        1  \n",
       "1      0.0  train           0                0     March       2        1  \n",
       "2      0.0  train           1                0  February       5        1  \n",
       "3      0.0  train           0                0   January       3        1  \n",
       "4      0.0  train           0                0     April       4        2  \n",
       "\n",
       "[5 rows x 24 columns]"
      ]
     },
     "execution_count": 13,
     "metadata": {},
     "output_type": "execute_result"
    }
   ],
   "source": [
    "# Binary variables (columns 'sex', 'car', 'car_type', 'foreign_passport') need to be label encoded\n",
    "label_encoder = LabelEncoder()\n",
    "\n",
    "for var in bin_vars:\n",
    "    data[var] = label_encoder.fit_transform(data[var])\n",
    "    \n",
    "data.head()"
   ]
  },
  {
   "cell_type": "code",
   "execution_count": 14,
   "metadata": {
    "execution": {
     "iopub.execute_input": "2020-11-30T14:41:03.008475Z",
     "iopub.status.busy": "2020-11-30T14:41:03.007579Z",
     "iopub.status.idle": "2020-11-30T14:41:03.603883Z",
     "shell.execute_reply": "2020-11-30T14:41:03.603200Z"
    },
    "papermill": {
     "duration": 0.680846,
     "end_time": "2020-11-30T14:41:03.604036",
     "exception": false,
     "start_time": "2020-11-30T14:41:02.923190",
     "status": "completed"
    },
    "tags": []
   },
   "outputs": [
    {
     "data": {
      "text/plain": [
       "<matplotlib.axes._subplots.AxesSubplot at 0x7f7f3cd8c7d0>"
      ]
     },
     "execution_count": 14,
     "metadata": {},
     "output_type": "execute_result"
    },
    {
     "data": {
      "image/png": "[encoded data removed]",
      "text/plain": [
       "<Figure size 432x288 with 1 Axes>"
      ]
     },
     "metadata": {
      "needs_background": "light"
     },
     "output_type": "display_data"
    }
   ],
   "source": [
    "# Let's see what categorical variables look important. For that we need to label encode categorical variables\n",
    "# (non-binary) as well. I will do it in a separate dataframe to avoid messing with the original one.\n",
    "tmp_data = data[data['label']=='train'].copy()\n",
    "\n",
    "for var in cat_vars:\n",
    "    tmp_data[var] = label_encoder.fit_transform(tmp_data[var])\n",
    "\n",
    "imp_cat = Series(mutual_info_classif(tmp_data[bin_vars + cat_vars], tmp_data['default'],\n",
    "                                     discrete_features =True), index = bin_vars + cat_vars)\n",
    "imp_cat.sort_values(inplace = True)\n",
    "imp_cat.plot(kind = 'barh')"
   ]
  },
  {
   "cell_type": "code",
   "execution_count": 15,
   "metadata": {
    "execution": {
     "iopub.execute_input": "2020-11-30T14:41:03.740746Z",
     "iopub.status.busy": "2020-11-30T14:41:03.739954Z",
     "iopub.status.idle": "2020-11-30T14:41:03.743401Z",
     "shell.execute_reply": "2020-11-30T14:41:03.742742Z"
    },
    "papermill": {
     "duration": 0.079826,
     "end_time": "2020-11-30T14:41:03.743553",
     "exception": false,
     "start_time": "2020-11-30T14:41:03.663727",
     "status": "completed"
    },
    "tags": []
   },
   "outputs": [],
   "source": [
    "# Let's drop i'is_weekend','is_end_of_month', 'weekday', 'sex', 'quarter' as they don't appear to be significant.\n",
    "data.drop(labels=['is_weekend','is_end_of_month', 'weekday', 'sex', 'quarter'], axis=1, inplace=True)\n",
    "bin_vars.remove('is_weekend')\n",
    "bin_vars.remove('is_end_of_month')\n",
    "bin_vars.remove('sex')\n",
    "cat_vars.remove('weekday')\n",
    "cat_vars.remove('quarter')"
   ]
  },
  {
   "cell_type": "code",
   "execution_count": 16,
   "metadata": {
    "execution": {
     "iopub.execute_input": "2020-11-30T14:41:03.878225Z",
     "iopub.status.busy": "2020-11-30T14:41:03.877416Z",
     "iopub.status.idle": "2020-11-30T14:41:03.979818Z",
     "shell.execute_reply": "2020-11-30T14:41:03.980750Z"
    },
    "papermill": {
     "duration": 0.177005,
     "end_time": "2020-11-30T14:41:03.981043",
     "exception": false,
     "start_time": "2020-11-30T14:41:03.804038",
     "status": "completed"
    },
    "tags": []
   },
   "outputs": [
    {
     "name": "stdout",
     "output_type": "stream",
     "text": [
      "<class 'pandas.core.frame.DataFrame'>\n",
      "Int64Index: 110148 entries, 0 to 36348\n",
      "Data columns (total 35 columns):\n",
      " #   Column            Non-Null Count   Dtype  \n",
      "---  ------            --------------   -----  \n",
      " 0   client_id         110148 non-null  int64  \n",
      " 1   age               110148 non-null  int64  \n",
      " 2   car               110148 non-null  int64  \n",
      " 3   car_type          110148 non-null  int64  \n",
      " 4   decline_app_cnt   110148 non-null  int64  \n",
      " 5   good_work         110148 non-null  int64  \n",
      " 6   score_bki         110148 non-null  float64\n",
      " 7   bki_request_cnt   110148 non-null  int64  \n",
      " 8   income            110148 non-null  int64  \n",
      " 9   foreign_passport  110148 non-null  int64  \n",
      " 10  default           73799 non-null   float64\n",
      " 11  label             110148 non-null  object \n",
      " 12  first_time_2      110148 non-null  uint8  \n",
      " 13  first_time_3      110148 non-null  uint8  \n",
      " 14  first_time_4      110148 non-null  uint8  \n",
      " 15  home_address_2    110148 non-null  uint8  \n",
      " 16  home_address_3    110148 non-null  uint8  \n",
      " 17  work_address_2    110148 non-null  uint8  \n",
      " 18  work_address_3    110148 non-null  uint8  \n",
      " 19  sna_2             110148 non-null  uint8  \n",
      " 20  sna_3             110148 non-null  uint8  \n",
      " 21  sna_4             110148 non-null  uint8  \n",
      " 22  region_rating_30  110148 non-null  uint8  \n",
      " 23  region_rating_40  110148 non-null  uint8  \n",
      " 24  region_rating_50  110148 non-null  uint8  \n",
      " 25  region_rating_60  110148 non-null  uint8  \n",
      " 26  region_rating_70  110148 non-null  uint8  \n",
      " 27  region_rating_80  110148 non-null  uint8  \n",
      " 28  education_GRD     110148 non-null  uint8  \n",
      " 29  education_PGR     110148 non-null  uint8  \n",
      " 30  education_SCH     110148 non-null  uint8  \n",
      " 31  education_UGR     110148 non-null  uint8  \n",
      " 32  month_February    110148 non-null  uint8  \n",
      " 33  month_January     110148 non-null  uint8  \n",
      " 34  month_March       110148 non-null  uint8  \n",
      "dtypes: float64(2), int64(9), object(1), uint8(23)\n",
      "memory usage: 15.8+ MB\n"
     ]
    }
   ],
   "source": [
    "# Categorical variables need to be one hot encoded\n",
    "# Drop first is used to make the model learn faster and to avoid\n",
    "# multicollinearity\n",
    "data = pd.get_dummies(data, prefix=cat_vars, columns=cat_vars, drop_first=True)\n",
    "data.info()"
   ]
  },
  {
   "cell_type": "code",
   "execution_count": 17,
   "metadata": {
    "execution": {
     "iopub.execute_input": "2020-11-30T14:41:04.132569Z",
     "iopub.status.busy": "2020-11-30T14:41:04.130424Z",
     "iopub.status.idle": "2020-11-30T14:41:04.138841Z",
     "shell.execute_reply": "2020-11-30T14:41:04.138071Z"
    },
    "papermill": {
     "duration": 0.093234,
     "end_time": "2020-11-30T14:41:04.139015",
     "exception": false,
     "start_time": "2020-11-30T14:41:04.045781",
     "status": "completed"
    },
    "tags": []
   },
   "outputs": [
    {
     "data": {
      "text/html": [
       "<div>\n",
       "<style scoped>\n",
       "    .dataframe tbody tr th:only-of-type {\n",
       "        vertical-align: middle;\n",
       "    }\n",
       "\n",
       "    .dataframe tbody tr th {\n",
       "        vertical-align: top;\n",
       "    }\n",
       "\n",
       "    .dataframe thead th {\n",
       "        text-align: right;\n",
       "    }\n",
       "</style>\n",
       "<table border=\"1\" class=\"dataframe\">\n",
       "  <thead>\n",
       "    <tr style=\"text-align: right;\">\n",
       "      <th></th>\n",
       "      <th>client_id</th>\n",
       "      <th>age</th>\n",
       "      <th>car</th>\n",
       "      <th>car_type</th>\n",
       "      <th>decline_app_cnt</th>\n",
       "      <th>good_work</th>\n",
       "      <th>score_bki</th>\n",
       "      <th>bki_request_cnt</th>\n",
       "      <th>income</th>\n",
       "      <th>foreign_passport</th>\n",
       "      <th>...</th>\n",
       "      <th>region_rating_60</th>\n",
       "      <th>region_rating_70</th>\n",
       "      <th>region_rating_80</th>\n",
       "      <th>education_GRD</th>\n",
       "      <th>education_PGR</th>\n",
       "      <th>education_SCH</th>\n",
       "      <th>education_UGR</th>\n",
       "      <th>month_February</th>\n",
       "      <th>month_January</th>\n",
       "      <th>month_March</th>\n",
       "    </tr>\n",
       "  </thead>\n",
       "  <tbody>\n",
       "    <tr>\n",
       "      <th>0</th>\n",
       "      <td>25905</td>\n",
       "      <td>62</td>\n",
       "      <td>1</td>\n",
       "      <td>1</td>\n",
       "      <td>0</td>\n",
       "      <td>0</td>\n",
       "      <td>-2.008753</td>\n",
       "      <td>1</td>\n",
       "      <td>18000</td>\n",
       "      <td>0</td>\n",
       "      <td>...</td>\n",
       "      <td>0</td>\n",
       "      <td>0</td>\n",
       "      <td>0</td>\n",
       "      <td>0</td>\n",
       "      <td>0</td>\n",
       "      <td>1</td>\n",
       "      <td>0</td>\n",
       "      <td>1</td>\n",
       "      <td>0</td>\n",
       "      <td>0</td>\n",
       "    </tr>\n",
       "    <tr>\n",
       "      <th>1</th>\n",
       "      <td>63161</td>\n",
       "      <td>59</td>\n",
       "      <td>0</td>\n",
       "      <td>0</td>\n",
       "      <td>0</td>\n",
       "      <td>0</td>\n",
       "      <td>-1.532276</td>\n",
       "      <td>3</td>\n",
       "      <td>19000</td>\n",
       "      <td>0</td>\n",
       "      <td>...</td>\n",
       "      <td>0</td>\n",
       "      <td>0</td>\n",
       "      <td>0</td>\n",
       "      <td>0</td>\n",
       "      <td>0</td>\n",
       "      <td>1</td>\n",
       "      <td>0</td>\n",
       "      <td>0</td>\n",
       "      <td>0</td>\n",
       "      <td>1</td>\n",
       "    </tr>\n",
       "    <tr>\n",
       "      <th>2</th>\n",
       "      <td>25887</td>\n",
       "      <td>25</td>\n",
       "      <td>1</td>\n",
       "      <td>0</td>\n",
       "      <td>2</td>\n",
       "      <td>0</td>\n",
       "      <td>-1.408142</td>\n",
       "      <td>1</td>\n",
       "      <td>30000</td>\n",
       "      <td>1</td>\n",
       "      <td>...</td>\n",
       "      <td>0</td>\n",
       "      <td>0</td>\n",
       "      <td>1</td>\n",
       "      <td>0</td>\n",
       "      <td>0</td>\n",
       "      <td>1</td>\n",
       "      <td>0</td>\n",
       "      <td>1</td>\n",
       "      <td>0</td>\n",
       "      <td>0</td>\n",
       "    </tr>\n",
       "    <tr>\n",
       "      <th>3</th>\n",
       "      <td>16222</td>\n",
       "      <td>53</td>\n",
       "      <td>0</td>\n",
       "      <td>0</td>\n",
       "      <td>0</td>\n",
       "      <td>0</td>\n",
       "      <td>-2.057471</td>\n",
       "      <td>2</td>\n",
       "      <td>10000</td>\n",
       "      <td>0</td>\n",
       "      <td>...</td>\n",
       "      <td>0</td>\n",
       "      <td>0</td>\n",
       "      <td>0</td>\n",
       "      <td>0</td>\n",
       "      <td>0</td>\n",
       "      <td>1</td>\n",
       "      <td>0</td>\n",
       "      <td>0</td>\n",
       "      <td>1</td>\n",
       "      <td>0</td>\n",
       "    </tr>\n",
       "    <tr>\n",
       "      <th>4</th>\n",
       "      <td>101655</td>\n",
       "      <td>48</td>\n",
       "      <td>0</td>\n",
       "      <td>0</td>\n",
       "      <td>0</td>\n",
       "      <td>1</td>\n",
       "      <td>-1.244723</td>\n",
       "      <td>1</td>\n",
       "      <td>30000</td>\n",
       "      <td>1</td>\n",
       "      <td>...</td>\n",
       "      <td>1</td>\n",
       "      <td>0</td>\n",
       "      <td>0</td>\n",
       "      <td>1</td>\n",
       "      <td>0</td>\n",
       "      <td>0</td>\n",
       "      <td>0</td>\n",
       "      <td>0</td>\n",
       "      <td>0</td>\n",
       "      <td>0</td>\n",
       "    </tr>\n",
       "  </tbody>\n",
       "</table>\n",
       "<p>5 rows × 35 columns</p>\n",
       "</div>"
      ],
      "text/plain": [
       "   client_id  age  car  car_type  decline_app_cnt  good_work  score_bki  \\\n",
       "0      25905   62    1         1                0          0  -2.008753   \n",
       "1      63161   59    0         0                0          0  -1.532276   \n",
       "2      25887   25    1         0                2          0  -1.408142   \n",
       "3      16222   53    0         0                0          0  -2.057471   \n",
       "4     101655   48    0         0                0          1  -1.244723   \n",
       "\n",
       "   bki_request_cnt  income  foreign_passport  ...  region_rating_60  \\\n",
       "0                1   18000                 0  ...                 0   \n",
       "1                3   19000                 0  ...                 0   \n",
       "2                1   30000                 1  ...                 0   \n",
       "3                2   10000                 0  ...                 0   \n",
       "4                1   30000                 1  ...                 1   \n",
       "\n",
       "  region_rating_70  region_rating_80  education_GRD  education_PGR  \\\n",
       "0                0                 0              0              0   \n",
       "1                0                 0              0              0   \n",
       "2                0                 1              0              0   \n",
       "3                0                 0              0              0   \n",
       "4                0                 0              1              0   \n",
       "\n",
       "   education_SCH  education_UGR  month_February  month_January  month_March  \n",
       "0              1              0               1              0            0  \n",
       "1              1              0               0              0            1  \n",
       "2              1              0               1              0            0  \n",
       "3              1              0               0              1            0  \n",
       "4              0              0               0              0            0  \n",
       "\n",
       "[5 rows x 35 columns]"
      ]
     },
     "execution_count": 17,
     "metadata": {},
     "output_type": "execute_result"
    }
   ],
   "source": [
    "data.head()"
   ]
  },
  {
   "cell_type": "markdown",
   "metadata": {
    "papermill": {
     "duration": 0.062487,
     "end_time": "2020-11-30T14:41:04.264926",
     "exception": false,
     "start_time": "2020-11-30T14:41:04.202439",
     "status": "completed"
    },
    "tags": []
   },
   "source": [
    "# Numeric variables"
   ]
  },
  {
   "cell_type": "code",
   "execution_count": 18,
   "metadata": {
    "execution": {
     "iopub.execute_input": "2020-11-30T14:41:04.397719Z",
     "iopub.status.busy": "2020-11-30T14:41:04.395957Z",
     "iopub.status.idle": "2020-11-30T14:41:06.020729Z",
     "shell.execute_reply": "2020-11-30T14:41:06.019938Z"
    },
    "papermill": {
     "duration": 1.69271,
     "end_time": "2020-11-30T14:41:06.020912",
     "exception": false,
     "start_time": "2020-11-30T14:41:04.328202",
     "status": "completed"
    },
    "tags": []
   },
   "outputs": [
    {
     "data": {
      "image/png": "[encoded data removed]",
      "text/plain": [
       "<Figure size 432x288 with 1 Axes>"
      ]
     },
     "metadata": {
      "needs_background": "light"
     },
     "output_type": "display_data"
    },
    {
     "data": {
      "image/png": "[encoded data removed]",
      "text/plain": [
       "<Figure size 432x288 with 1 Axes>"
      ]
     },
     "metadata": {
      "needs_background": "light"
     },
     "output_type": "display_data"
    },
    {
     "data": {
      "image/png": "[encoded data removed]",
      "text/plain": [
       "<Figure size 432x288 with 1 Axes>"
      ]
     },
     "metadata": {
      "needs_background": "light"
     },
     "output_type": "display_data"
    },
    {
     "data": {
      "image/png": "[encoded data removed]",
      "text/plain": [
       "<Figure size 432x288 with 1 Axes>"
      ]
     },
     "metadata": {
      "needs_background": "light"
     },
     "output_type": "display_data"
    },
    {
     "data": {
      "image/png": "[encoded data removed]",
      "text/plain": [
       "<Figure size 432x288 with 1 Axes>"
      ]
     },
     "metadata": {
      "needs_background": "light"
     },
     "output_type": "display_data"
    }
   ],
   "source": [
    "# First visualization of numeric variables (please scroll down because there \n",
    "# are multiple charts in a result of this cell).\n",
    "\n",
    "# 1) Some distributions look skewed. I can apply log to these variables later.\n",
    "# 2) Apart from that, numeric variables will need to be scaled later as well.\n",
    "\n",
    "mass_hist(data, num_vars)"
   ]
  },
  {
   "cell_type": "code",
   "execution_count": 19,
   "metadata": {
    "execution": {
     "iopub.execute_input": "2020-11-30T14:41:06.164626Z",
     "iopub.status.busy": "2020-11-30T14:41:06.163789Z",
     "iopub.status.idle": "2020-11-30T14:41:07.508006Z",
     "shell.execute_reply": "2020-11-30T14:41:07.507070Z"
    },
    "papermill": {
     "duration": 1.420579,
     "end_time": "2020-11-30T14:41:07.508176",
     "exception": false,
     "start_time": "2020-11-30T14:41:06.087597",
     "status": "completed"
    },
    "tags": []
   },
   "outputs": [
    {
     "data": {
      "image/png": "[encoded data removed]",
      "text/plain": [
       "<Figure size 432x288 with 1 Axes>"
      ]
     },
     "metadata": {
      "needs_background": "light"
     },
     "output_type": "display_data"
    },
    {
     "data": {
      "image/png": "[encoded data removed]",
      "text/plain": [
       "<Figure size 432x288 with 1 Axes>"
      ]
     },
     "metadata": {
      "needs_background": "light"
     },
     "output_type": "display_data"
    },
    {
     "data": {
      "image/png": "[encoded data removed]",
      "text/plain": [
       "<Figure size 432x288 with 1 Axes>"
      ]
     },
     "metadata": {
      "needs_background": "light"
     },
     "output_type": "display_data"
    },
    {
     "data": {
      "image/png": "[encoded data removed]",
      "text/plain": [
       "<Figure size 432x288 with 1 Axes>"
      ]
     },
     "metadata": {
      "needs_background": "light"
     },
     "output_type": "display_data"
    },
    {
     "data": {
      "image/png": "[encoded data removed]",
      "text/plain": [
       "<Figure size 432x288 with 1 Axes>"
      ]
     },
     "metadata": {
      "needs_background": "light"
     },
     "output_type": "display_data"
    }
   ],
   "source": [
    "# Example of how numeric variables will look like this after\n",
    "# applying log is below (most likely the most positive impact will be on\n",
    "# age and income)\n",
    "mass_hist(data, num_vars, to_log=True)"
   ]
  },
  {
   "cell_type": "code",
   "execution_count": 20,
   "metadata": {
    "execution": {
     "iopub.execute_input": "2020-11-30T14:41:07.658246Z",
     "iopub.status.busy": "2020-11-30T14:41:07.657388Z",
     "iopub.status.idle": "2020-11-30T14:41:08.838787Z",
     "shell.execute_reply": "2020-11-30T14:41:08.838030Z"
    },
    "papermill": {
     "duration": 1.258754,
     "end_time": "2020-11-30T14:41:08.838983",
     "exception": false,
     "start_time": "2020-11-30T14:41:07.580229",
     "status": "completed"
    },
    "tags": []
   },
   "outputs": [
    {
     "name": "stdout",
     "output_type": "stream",
     "text": [
      "Average age values : default\n",
      "0.0    39.390504\n",
      "1.0    38.525395\n",
      "Name: age, dtype: float64\n"
     ]
    },
    {
     "data": {
      "image/png": "[encoded data removed]",
      "text/plain": [
       "<Figure size 432x288 with 1 Axes>"
      ]
     },
     "metadata": {
      "needs_background": "light"
     },
     "output_type": "display_data"
    },
    {
     "name": "stdout",
     "output_type": "stream",
     "text": [
      "Average decline_app_cnt values : default\n",
      "0.0    0.240877\n",
      "1.0    0.515472\n",
      "Name: decline_app_cnt, dtype: float64\n"
     ]
    },
    {
     "data": {
      "image/png": "[encoded data removed]",
      "text/plain": [
       "<Figure size 432x288 with 1 Axes>"
      ]
     },
     "metadata": {
      "needs_background": "light"
     },
     "output_type": "display_data"
    },
    {
     "name": "stdout",
     "output_type": "stream",
     "text": [
      "Average score_bki values : default\n",
      "0.0   -1.938048\n",
      "1.0   -1.675637\n",
      "Name: score_bki, dtype: float64\n"
     ]
    },
    {
     "data": {
      "image/png": "[encoded data removed]",
      "text/plain": [
       "<Figure size 432x288 with 1 Axes>"
      ]
     },
     "metadata": {
      "needs_background": "light"
     },
     "output_type": "display_data"
    },
    {
     "name": "stdout",
     "output_type": "stream",
     "text": [
      "Average bki_request_cnt values : default\n",
      "0.0    1.933134\n",
      "1.0    2.462335\n",
      "Name: bki_request_cnt, dtype: float64\n"
     ]
    },
    {
     "data": {
      "image/png": "[encoded data removed]",
      "text/plain": [
       "<Figure size 432x288 with 1 Axes>"
      ]
     },
     "metadata": {
      "needs_background": "light"
     },
     "output_type": "display_data"
    },
    {
     "name": "stdout",
     "output_type": "stream",
     "text": [
      "Average income values : default\n",
      "0.0    41799.713288\n",
      "1.0    36288.113316\n",
      "Name: income, dtype: float64\n"
     ]
    },
    {
     "data": {
      "image/png": "[encoded data removed]",
      "text/plain": [
       "<Figure size 432x288 with 1 Axes>"
      ]
     },
     "metadata": {
      "needs_background": "light"
     },
     "output_type": "display_data"
    }
   ],
   "source": [
    "# Let's draw box plots as well (pleae scroll down becasue there are multiple charts\n",
    "# and average outputs in result cell below).\n",
    "\n",
    "# Difference in average value of some variables grouped by \"default\" suggests\n",
    "# that these variables might be significant for further analysis. This, however,\n",
    "# will be established later using statistical method.\n",
    "mass_box(data, num_vars)"
   ]
  },
  {
   "cell_type": "code",
   "execution_count": 21,
   "metadata": {
    "execution": {
     "iopub.execute_input": "2020-11-30T14:41:09.008208Z",
     "iopub.status.busy": "2020-11-30T14:41:09.007323Z",
     "iopub.status.idle": "2020-11-30T14:41:09.339155Z",
     "shell.execute_reply": "2020-11-30T14:41:09.338230Z"
    },
    "papermill": {
     "duration": 0.421054,
     "end_time": "2020-11-30T14:41:09.339304",
     "exception": false,
     "start_time": "2020-11-30T14:41:08.918250",
     "status": "completed"
    },
    "tags": []
   },
   "outputs": [
    {
     "data": {
      "text/plain": [
       "<matplotlib.axes._subplots.AxesSubplot at 0x7f7f3d18bb50>"
      ]
     },
     "execution_count": 21,
     "metadata": {},
     "output_type": "execute_result"
    },
    {
     "data": {
      "image/png": "[encoded data removed]",
      "text/plain": [
       "<Figure size 432x288 with 2 Axes>"
      ]
     },
     "metadata": {
      "needs_background": "light"
     },
     "output_type": "display_data"
    }
   ],
   "source": [
    "# From the heatmap based on a correlation matrix we can see that\n",
    "# there are no strongly correlated numeric variables.\n",
    "sns.heatmap(data[num_vars].corr().abs(), vmin=0, vmax=1, annot=True)"
   ]
  },
  {
   "cell_type": "code",
   "execution_count": 22,
   "metadata": {
    "execution": {
     "iopub.execute_input": "2020-11-30T14:41:09.510129Z",
     "iopub.status.busy": "2020-11-30T14:41:09.509020Z",
     "iopub.status.idle": "2020-11-30T14:41:09.531810Z",
     "shell.execute_reply": "2020-11-30T14:41:09.532421Z"
    },
    "papermill": {
     "duration": 0.112864,
     "end_time": "2020-11-30T14:41:09.532597",
     "exception": false,
     "start_time": "2020-11-30T14:41:09.419733",
     "status": "completed"
    },
    "tags": []
   },
   "outputs": [
    {
     "data": {
      "text/html": [
       "<div>\n",
       "<style scoped>\n",
       "    .dataframe tbody tr th:only-of-type {\n",
       "        vertical-align: middle;\n",
       "    }\n",
       "\n",
       "    .dataframe tbody tr th {\n",
       "        vertical-align: top;\n",
       "    }\n",
       "\n",
       "    .dataframe thead th {\n",
       "        text-align: right;\n",
       "    }\n",
       "</style>\n",
       "<table border=\"1\" class=\"dataframe\">\n",
       "  <thead>\n",
       "    <tr style=\"text-align: right;\">\n",
       "      <th></th>\n",
       "      <th>age</th>\n",
       "      <th>decline_app_cnt</th>\n",
       "      <th>score_bki</th>\n",
       "      <th>bki_request_cnt</th>\n",
       "      <th>income</th>\n",
       "    </tr>\n",
       "  </thead>\n",
       "  <tbody>\n",
       "    <tr>\n",
       "      <th>age</th>\n",
       "      <td>1.000000</td>\n",
       "      <td>0.111454</td>\n",
       "      <td>0.104682</td>\n",
       "      <td>0.046975</td>\n",
       "      <td>0.018664</td>\n",
       "    </tr>\n",
       "    <tr>\n",
       "      <th>decline_app_cnt</th>\n",
       "      <td>0.111454</td>\n",
       "      <td>1.000000</td>\n",
       "      <td>0.187869</td>\n",
       "      <td>0.159927</td>\n",
       "      <td>0.022241</td>\n",
       "    </tr>\n",
       "    <tr>\n",
       "      <th>score_bki</th>\n",
       "      <td>0.104682</td>\n",
       "      <td>0.187869</td>\n",
       "      <td>1.000000</td>\n",
       "      <td>0.157451</td>\n",
       "      <td>0.011721</td>\n",
       "    </tr>\n",
       "    <tr>\n",
       "      <th>bki_request_cnt</th>\n",
       "      <td>0.046975</td>\n",
       "      <td>0.159927</td>\n",
       "      <td>0.157451</td>\n",
       "      <td>1.000000</td>\n",
       "      <td>0.080475</td>\n",
       "    </tr>\n",
       "    <tr>\n",
       "      <th>income</th>\n",
       "      <td>0.018664</td>\n",
       "      <td>0.022241</td>\n",
       "      <td>0.011721</td>\n",
       "      <td>0.080475</td>\n",
       "      <td>1.000000</td>\n",
       "    </tr>\n",
       "  </tbody>\n",
       "</table>\n",
       "</div>"
      ],
      "text/plain": [
       "                      age  decline_app_cnt  score_bki  bki_request_cnt  \\\n",
       "age              1.000000         0.111454   0.104682         0.046975   \n",
       "decline_app_cnt  0.111454         1.000000   0.187869         0.159927   \n",
       "score_bki        0.104682         0.187869   1.000000         0.157451   \n",
       "bki_request_cnt  0.046975         0.159927   0.157451         1.000000   \n",
       "income           0.018664         0.022241   0.011721         0.080475   \n",
       "\n",
       "                   income  \n",
       "age              0.018664  \n",
       "decline_app_cnt  0.022241  \n",
       "score_bki        0.011721  \n",
       "bki_request_cnt  0.080475  \n",
       "income           1.000000  "
      ]
     },
     "execution_count": 22,
     "metadata": {},
     "output_type": "execute_result"
    }
   ],
   "source": [
    "data[num_vars].corr().abs()"
   ]
  },
  {
   "cell_type": "code",
   "execution_count": 23,
   "metadata": {
    "execution": {
     "iopub.execute_input": "2020-11-30T14:41:09.704125Z",
     "iopub.status.busy": "2020-11-30T14:41:09.703106Z",
     "iopub.status.idle": "2020-11-30T14:41:09.721064Z",
     "shell.execute_reply": "2020-11-30T14:41:09.720267Z"
    },
    "papermill": {
     "duration": 0.106385,
     "end_time": "2020-11-30T14:41:09.721219",
     "exception": false,
     "start_time": "2020-11-30T14:41:09.614834",
     "status": "completed"
    },
    "tags": []
   },
   "outputs": [],
   "source": [
    "# let's apply log to some of numeric variables\n",
    "data['age'] = np.log(data['age']+1)\n",
    "data['income'] = np.log(data['income']+1)"
   ]
  },
  {
   "cell_type": "code",
   "execution_count": 24,
   "metadata": {
    "execution": {
     "iopub.execute_input": "2020-11-30T14:41:09.901581Z",
     "iopub.status.busy": "2020-11-30T14:41:09.900675Z",
     "iopub.status.idle": "2020-11-30T14:41:10.073843Z",
     "shell.execute_reply": "2020-11-30T14:41:10.073008Z"
    },
    "papermill": {
     "duration": 0.267112,
     "end_time": "2020-11-30T14:41:10.074019",
     "exception": false,
     "start_time": "2020-11-30T14:41:09.806907",
     "status": "completed"
    },
    "tags": []
   },
   "outputs": [
    {
     "data": {
      "text/plain": [
       "<matplotlib.axes._subplots.AxesSubplot at 0x7f7f414c3fd0>"
      ]
     },
     "execution_count": 24,
     "metadata": {},
     "output_type": "execute_result"
    },
    {
     "data": {
      "image/png": "[encoded data removed]",
      "text/plain": [
       "<Figure size 432x288 with 1 Axes>"
      ]
     },
     "metadata": {
      "needs_background": "light"
     },
     "output_type": "display_data"
    }
   ],
   "source": [
    "# Let's check the significance of numeric variables.\n",
    "# Looks like there are new potentially strong predictors like score_bki\n",
    "# (comparing to the baseline version)\n",
    "imp_num = Series(f_classif(train[num_vars], train['default'])[0], index = num_vars)\n",
    "imp_num.sort_values(inplace = True)\n",
    "imp_num.plot(kind = 'barh')"
   ]
  },
  {
   "cell_type": "code",
   "execution_count": 25,
   "metadata": {
    "execution": {
     "iopub.execute_input": "2020-11-30T14:41:10.272287Z",
     "iopub.status.busy": "2020-11-30T14:41:10.271434Z",
     "iopub.status.idle": "2020-11-30T14:41:10.429322Z",
     "shell.execute_reply": "2020-11-30T14:41:10.428679Z"
    },
    "papermill": {
     "duration": 0.271683,
     "end_time": "2020-11-30T14:41:10.429470",
     "exception": false,
     "start_time": "2020-11-30T14:41:10.157787",
     "status": "completed"
    },
    "tags": []
   },
   "outputs": [
    {
     "name": "stderr",
     "output_type": "stream",
     "text": [
      "/opt/conda/lib/python3.7/site-packages/pandas/core/frame.py:3069: SettingWithCopyWarning: \n",
      "A value is trying to be set on a copy of a slice from a DataFrame.\n",
      "Try using .loc[row_indexer,col_indexer] = value instead\n",
      "\n",
      "See the caveats in the documentation: https://pandas.pydata.org/pandas-docs/stable/user_guide/indexing.html#returning-a-view-versus-a-copy\n",
      "  self[k1] = value[k2]\n",
      "/opt/conda/lib/python3.7/site-packages/pandas/core/frame.py:3069: SettingWithCopyWarning: \n",
      "A value is trying to be set on a copy of a slice from a DataFrame.\n",
      "Try using .loc[row_indexer,col_indexer] = value instead\n",
      "\n",
      "See the caveats in the documentation: https://pandas.pydata.org/pandas-docs/stable/user_guide/indexing.html#returning-a-view-versus-a-copy\n",
      "  self[k1] = value[k2]\n"
     ]
    },
    {
     "data": {
      "text/html": [
       "<div>\n",
       "<style scoped>\n",
       "    .dataframe tbody tr th:only-of-type {\n",
       "        vertical-align: middle;\n",
       "    }\n",
       "\n",
       "    .dataframe tbody tr th {\n",
       "        vertical-align: top;\n",
       "    }\n",
       "\n",
       "    .dataframe thead th {\n",
       "        text-align: right;\n",
       "    }\n",
       "</style>\n",
       "<table border=\"1\" class=\"dataframe\">\n",
       "  <thead>\n",
       "    <tr style=\"text-align: right;\">\n",
       "      <th></th>\n",
       "      <th>client_id</th>\n",
       "      <th>age</th>\n",
       "      <th>car</th>\n",
       "      <th>car_type</th>\n",
       "      <th>decline_app_cnt</th>\n",
       "      <th>good_work</th>\n",
       "      <th>score_bki</th>\n",
       "      <th>bki_request_cnt</th>\n",
       "      <th>income</th>\n",
       "      <th>foreign_passport</th>\n",
       "      <th>...</th>\n",
       "      <th>region_rating_60</th>\n",
       "      <th>region_rating_70</th>\n",
       "      <th>region_rating_80</th>\n",
       "      <th>education_GRD</th>\n",
       "      <th>education_PGR</th>\n",
       "      <th>education_SCH</th>\n",
       "      <th>education_UGR</th>\n",
       "      <th>month_February</th>\n",
       "      <th>month_January</th>\n",
       "      <th>month_March</th>\n",
       "    </tr>\n",
       "  </thead>\n",
       "  <tbody>\n",
       "    <tr>\n",
       "      <th>0</th>\n",
       "      <td>25905</td>\n",
       "      <td>4.143135</td>\n",
       "      <td>1</td>\n",
       "      <td>1</td>\n",
       "      <td>0</td>\n",
       "      <td>0</td>\n",
       "      <td>-2.008753</td>\n",
       "      <td>1</td>\n",
       "      <td>9.798183</td>\n",
       "      <td>0</td>\n",
       "      <td>...</td>\n",
       "      <td>0</td>\n",
       "      <td>0</td>\n",
       "      <td>0</td>\n",
       "      <td>0</td>\n",
       "      <td>0</td>\n",
       "      <td>1</td>\n",
       "      <td>0</td>\n",
       "      <td>1</td>\n",
       "      <td>0</td>\n",
       "      <td>0</td>\n",
       "    </tr>\n",
       "    <tr>\n",
       "      <th>1</th>\n",
       "      <td>63161</td>\n",
       "      <td>4.094345</td>\n",
       "      <td>0</td>\n",
       "      <td>0</td>\n",
       "      <td>0</td>\n",
       "      <td>0</td>\n",
       "      <td>-1.532276</td>\n",
       "      <td>3</td>\n",
       "      <td>9.852247</td>\n",
       "      <td>0</td>\n",
       "      <td>...</td>\n",
       "      <td>0</td>\n",
       "      <td>0</td>\n",
       "      <td>0</td>\n",
       "      <td>0</td>\n",
       "      <td>0</td>\n",
       "      <td>1</td>\n",
       "      <td>0</td>\n",
       "      <td>0</td>\n",
       "      <td>0</td>\n",
       "      <td>1</td>\n",
       "    </tr>\n",
       "    <tr>\n",
       "      <th>2</th>\n",
       "      <td>25887</td>\n",
       "      <td>3.258097</td>\n",
       "      <td>1</td>\n",
       "      <td>0</td>\n",
       "      <td>2</td>\n",
       "      <td>0</td>\n",
       "      <td>-1.408142</td>\n",
       "      <td>1</td>\n",
       "      <td>10.308986</td>\n",
       "      <td>1</td>\n",
       "      <td>...</td>\n",
       "      <td>0</td>\n",
       "      <td>0</td>\n",
       "      <td>1</td>\n",
       "      <td>0</td>\n",
       "      <td>0</td>\n",
       "      <td>1</td>\n",
       "      <td>0</td>\n",
       "      <td>1</td>\n",
       "      <td>0</td>\n",
       "      <td>0</td>\n",
       "    </tr>\n",
       "    <tr>\n",
       "      <th>3</th>\n",
       "      <td>16222</td>\n",
       "      <td>3.988984</td>\n",
       "      <td>0</td>\n",
       "      <td>0</td>\n",
       "      <td>0</td>\n",
       "      <td>0</td>\n",
       "      <td>-2.057471</td>\n",
       "      <td>2</td>\n",
       "      <td>9.210440</td>\n",
       "      <td>0</td>\n",
       "      <td>...</td>\n",
       "      <td>0</td>\n",
       "      <td>0</td>\n",
       "      <td>0</td>\n",
       "      <td>0</td>\n",
       "      <td>0</td>\n",
       "      <td>1</td>\n",
       "      <td>0</td>\n",
       "      <td>0</td>\n",
       "      <td>1</td>\n",
       "      <td>0</td>\n",
       "    </tr>\n",
       "    <tr>\n",
       "      <th>4</th>\n",
       "      <td>101655</td>\n",
       "      <td>3.891820</td>\n",
       "      <td>0</td>\n",
       "      <td>0</td>\n",
       "      <td>0</td>\n",
       "      <td>1</td>\n",
       "      <td>-1.244723</td>\n",
       "      <td>1</td>\n",
       "      <td>10.308986</td>\n",
       "      <td>1</td>\n",
       "      <td>...</td>\n",
       "      <td>1</td>\n",
       "      <td>0</td>\n",
       "      <td>0</td>\n",
       "      <td>1</td>\n",
       "      <td>0</td>\n",
       "      <td>0</td>\n",
       "      <td>0</td>\n",
       "      <td>0</td>\n",
       "      <td>0</td>\n",
       "      <td>0</td>\n",
       "    </tr>\n",
       "  </tbody>\n",
       "</table>\n",
       "<p>5 rows × 35 columns</p>\n",
       "</div>"
      ],
      "text/plain": [
       "   client_id       age  car  car_type  decline_app_cnt  good_work  score_bki  \\\n",
       "0      25905  4.143135    1         1                0          0  -2.008753   \n",
       "1      63161  4.094345    0         0                0          0  -1.532276   \n",
       "2      25887  3.258097    1         0                2          0  -1.408142   \n",
       "3      16222  3.988984    0         0                0          0  -2.057471   \n",
       "4     101655  3.891820    0         0                0          1  -1.244723   \n",
       "\n",
       "   bki_request_cnt     income  foreign_passport  ...  region_rating_60  \\\n",
       "0                1   9.798183                 0  ...                 0   \n",
       "1                3   9.852247                 0  ...                 0   \n",
       "2                1  10.308986                 1  ...                 0   \n",
       "3                2   9.210440                 0  ...                 0   \n",
       "4                1  10.308986                 1  ...                 1   \n",
       "\n",
       "  region_rating_70  region_rating_80  education_GRD  education_PGR  \\\n",
       "0                0                 0              0              0   \n",
       "1                0                 0              0              0   \n",
       "2                0                 1              0              0   \n",
       "3                0                 0              0              0   \n",
       "4                0                 0              1              0   \n",
       "\n",
       "   education_SCH  education_UGR  month_February  month_January  month_March  \n",
       "0              1              0               1              0            0  \n",
       "1              1              0               0              0            1  \n",
       "2              1              0               1              0            0  \n",
       "3              1              0               0              1            0  \n",
       "4              0              0               0              0            0  \n",
       "\n",
       "[5 rows x 35 columns]"
      ]
     },
     "execution_count": 25,
     "metadata": {},
     "output_type": "execute_result"
    }
   ],
   "source": [
    "# Let's standartize numeric variables\n",
    "st_scaler = StandardScaler()\n",
    "tmp_test = data[data['label']=='test'][num_vars].copy()\n",
    "data[data['label']=='test'][num_vars] = pd.DataFrame(st_scaler.fit_transform(tmp_test),columns = data[num_vars].columns)\n",
    "tmp_train = data[data['label']=='train'][num_vars].copy()\n",
    "data[data['label']=='train'][num_vars] = pd.DataFrame(st_scaler.fit_transform(tmp_train),columns = data[num_vars].columns)\n",
    "data.head()"
   ]
  },
  {
   "cell_type": "code",
   "execution_count": 26,
   "metadata": {
    "execution": {
     "iopub.execute_input": "2020-11-30T14:41:10.603771Z",
     "iopub.status.busy": "2020-11-30T14:41:10.602924Z",
     "iopub.status.idle": "2020-11-30T14:41:10.652351Z",
     "shell.execute_reply": "2020-11-30T14:41:10.651545Z"
    },
    "papermill": {
     "duration": 0.140947,
     "end_time": "2020-11-30T14:41:10.652512",
     "exception": false,
     "start_time": "2020-11-30T14:41:10.511565",
     "status": "completed"
    },
    "tags": []
   },
   "outputs": [
    {
     "data": {
      "text/html": [
       "<div>\n",
       "<style scoped>\n",
       "    .dataframe tbody tr th:only-of-type {\n",
       "        vertical-align: middle;\n",
       "    }\n",
       "\n",
       "    .dataframe tbody tr th {\n",
       "        vertical-align: top;\n",
       "    }\n",
       "\n",
       "    .dataframe thead th {\n",
       "        text-align: right;\n",
       "    }\n",
       "</style>\n",
       "<table border=\"1\" class=\"dataframe\">\n",
       "  <thead>\n",
       "    <tr style=\"text-align: right;\">\n",
       "      <th></th>\n",
       "      <th>client_id</th>\n",
       "      <th>age</th>\n",
       "      <th>car</th>\n",
       "      <th>car_type</th>\n",
       "      <th>decline_app_cnt</th>\n",
       "      <th>good_work</th>\n",
       "      <th>score_bki</th>\n",
       "      <th>bki_request_cnt</th>\n",
       "      <th>income</th>\n",
       "      <th>foreign_passport</th>\n",
       "      <th>...</th>\n",
       "      <th>region_rating_60</th>\n",
       "      <th>region_rating_70</th>\n",
       "      <th>region_rating_80</th>\n",
       "      <th>education_GRD</th>\n",
       "      <th>education_PGR</th>\n",
       "      <th>education_SCH</th>\n",
       "      <th>education_UGR</th>\n",
       "      <th>month_February</th>\n",
       "      <th>month_January</th>\n",
       "      <th>month_March</th>\n",
       "    </tr>\n",
       "  </thead>\n",
       "  <tbody>\n",
       "    <tr>\n",
       "      <th>0</th>\n",
       "      <td>25905</td>\n",
       "      <td>4.143135</td>\n",
       "      <td>1</td>\n",
       "      <td>1</td>\n",
       "      <td>0</td>\n",
       "      <td>0</td>\n",
       "      <td>-2.008753</td>\n",
       "      <td>1</td>\n",
       "      <td>9.798183</td>\n",
       "      <td>0</td>\n",
       "      <td>...</td>\n",
       "      <td>0</td>\n",
       "      <td>0</td>\n",
       "      <td>0</td>\n",
       "      <td>0</td>\n",
       "      <td>0</td>\n",
       "      <td>1</td>\n",
       "      <td>0</td>\n",
       "      <td>1</td>\n",
       "      <td>0</td>\n",
       "      <td>0</td>\n",
       "    </tr>\n",
       "    <tr>\n",
       "      <th>1</th>\n",
       "      <td>63161</td>\n",
       "      <td>4.094345</td>\n",
       "      <td>0</td>\n",
       "      <td>0</td>\n",
       "      <td>0</td>\n",
       "      <td>0</td>\n",
       "      <td>-1.532276</td>\n",
       "      <td>3</td>\n",
       "      <td>9.852247</td>\n",
       "      <td>0</td>\n",
       "      <td>...</td>\n",
       "      <td>0</td>\n",
       "      <td>0</td>\n",
       "      <td>0</td>\n",
       "      <td>0</td>\n",
       "      <td>0</td>\n",
       "      <td>1</td>\n",
       "      <td>0</td>\n",
       "      <td>0</td>\n",
       "      <td>0</td>\n",
       "      <td>1</td>\n",
       "    </tr>\n",
       "    <tr>\n",
       "      <th>2</th>\n",
       "      <td>25887</td>\n",
       "      <td>3.258097</td>\n",
       "      <td>1</td>\n",
       "      <td>0</td>\n",
       "      <td>2</td>\n",
       "      <td>0</td>\n",
       "      <td>-1.408142</td>\n",
       "      <td>1</td>\n",
       "      <td>10.308986</td>\n",
       "      <td>1</td>\n",
       "      <td>...</td>\n",
       "      <td>0</td>\n",
       "      <td>0</td>\n",
       "      <td>1</td>\n",
       "      <td>0</td>\n",
       "      <td>0</td>\n",
       "      <td>1</td>\n",
       "      <td>0</td>\n",
       "      <td>1</td>\n",
       "      <td>0</td>\n",
       "      <td>0</td>\n",
       "    </tr>\n",
       "    <tr>\n",
       "      <th>3</th>\n",
       "      <td>16222</td>\n",
       "      <td>3.988984</td>\n",
       "      <td>0</td>\n",
       "      <td>0</td>\n",
       "      <td>0</td>\n",
       "      <td>0</td>\n",
       "      <td>-2.057471</td>\n",
       "      <td>2</td>\n",
       "      <td>9.210440</td>\n",
       "      <td>0</td>\n",
       "      <td>...</td>\n",
       "      <td>0</td>\n",
       "      <td>0</td>\n",
       "      <td>0</td>\n",
       "      <td>0</td>\n",
       "      <td>0</td>\n",
       "      <td>1</td>\n",
       "      <td>0</td>\n",
       "      <td>0</td>\n",
       "      <td>1</td>\n",
       "      <td>0</td>\n",
       "    </tr>\n",
       "    <tr>\n",
       "      <th>4</th>\n",
       "      <td>101655</td>\n",
       "      <td>3.891820</td>\n",
       "      <td>0</td>\n",
       "      <td>0</td>\n",
       "      <td>0</td>\n",
       "      <td>1</td>\n",
       "      <td>-1.244723</td>\n",
       "      <td>1</td>\n",
       "      <td>10.308986</td>\n",
       "      <td>1</td>\n",
       "      <td>...</td>\n",
       "      <td>1</td>\n",
       "      <td>0</td>\n",
       "      <td>0</td>\n",
       "      <td>1</td>\n",
       "      <td>0</td>\n",
       "      <td>0</td>\n",
       "      <td>0</td>\n",
       "      <td>0</td>\n",
       "      <td>0</td>\n",
       "      <td>0</td>\n",
       "    </tr>\n",
       "    <tr>\n",
       "      <th>...</th>\n",
       "      <td>...</td>\n",
       "      <td>...</td>\n",
       "      <td>...</td>\n",
       "      <td>...</td>\n",
       "      <td>...</td>\n",
       "      <td>...</td>\n",
       "      <td>...</td>\n",
       "      <td>...</td>\n",
       "      <td>...</td>\n",
       "      <td>...</td>\n",
       "      <td>...</td>\n",
       "      <td>...</td>\n",
       "      <td>...</td>\n",
       "      <td>...</td>\n",
       "      <td>...</td>\n",
       "      <td>...</td>\n",
       "      <td>...</td>\n",
       "      <td>...</td>\n",
       "      <td>...</td>\n",
       "      <td>...</td>\n",
       "      <td>...</td>\n",
       "    </tr>\n",
       "    <tr>\n",
       "      <th>36344</th>\n",
       "      <td>83775</td>\n",
       "      <td>3.637586</td>\n",
       "      <td>0</td>\n",
       "      <td>0</td>\n",
       "      <td>1</td>\n",
       "      <td>0</td>\n",
       "      <td>-1.744976</td>\n",
       "      <td>3</td>\n",
       "      <td>9.615872</td>\n",
       "      <td>0</td>\n",
       "      <td>...</td>\n",
       "      <td>0</td>\n",
       "      <td>0</td>\n",
       "      <td>0</td>\n",
       "      <td>0</td>\n",
       "      <td>0</td>\n",
       "      <td>1</td>\n",
       "      <td>0</td>\n",
       "      <td>0</td>\n",
       "      <td>0</td>\n",
       "      <td>1</td>\n",
       "    </tr>\n",
       "    <tr>\n",
       "      <th>36345</th>\n",
       "      <td>106254</td>\n",
       "      <td>4.174387</td>\n",
       "      <td>1</td>\n",
       "      <td>1</td>\n",
       "      <td>0</td>\n",
       "      <td>0</td>\n",
       "      <td>-2.293781</td>\n",
       "      <td>3</td>\n",
       "      <td>12.206078</td>\n",
       "      <td>0</td>\n",
       "      <td>...</td>\n",
       "      <td>1</td>\n",
       "      <td>0</td>\n",
       "      <td>0</td>\n",
       "      <td>1</td>\n",
       "      <td>0</td>\n",
       "      <td>0</td>\n",
       "      <td>0</td>\n",
       "      <td>0</td>\n",
       "      <td>0</td>\n",
       "      <td>0</td>\n",
       "    </tr>\n",
       "    <tr>\n",
       "      <th>36346</th>\n",
       "      <td>81852</td>\n",
       "      <td>3.465736</td>\n",
       "      <td>0</td>\n",
       "      <td>0</td>\n",
       "      <td>2</td>\n",
       "      <td>0</td>\n",
       "      <td>-0.940752</td>\n",
       "      <td>1</td>\n",
       "      <td>11.002117</td>\n",
       "      <td>0</td>\n",
       "      <td>...</td>\n",
       "      <td>0</td>\n",
       "      <td>0</td>\n",
       "      <td>0</td>\n",
       "      <td>1</td>\n",
       "      <td>0</td>\n",
       "      <td>0</td>\n",
       "      <td>0</td>\n",
       "      <td>0</td>\n",
       "      <td>0</td>\n",
       "      <td>1</td>\n",
       "    </tr>\n",
       "    <tr>\n",
       "      <th>36347</th>\n",
       "      <td>1971</td>\n",
       "      <td>3.332205</td>\n",
       "      <td>0</td>\n",
       "      <td>0</td>\n",
       "      <td>1</td>\n",
       "      <td>0</td>\n",
       "      <td>-1.242392</td>\n",
       "      <td>2</td>\n",
       "      <td>10.308986</td>\n",
       "      <td>0</td>\n",
       "      <td>...</td>\n",
       "      <td>0</td>\n",
       "      <td>0</td>\n",
       "      <td>1</td>\n",
       "      <td>0</td>\n",
       "      <td>0</td>\n",
       "      <td>0</td>\n",
       "      <td>1</td>\n",
       "      <td>0</td>\n",
       "      <td>1</td>\n",
       "      <td>0</td>\n",
       "    </tr>\n",
       "    <tr>\n",
       "      <th>36348</th>\n",
       "      <td>69044</td>\n",
       "      <td>3.663562</td>\n",
       "      <td>0</td>\n",
       "      <td>0</td>\n",
       "      <td>0</td>\n",
       "      <td>0</td>\n",
       "      <td>-1.507549</td>\n",
       "      <td>2</td>\n",
       "      <td>9.615872</td>\n",
       "      <td>0</td>\n",
       "      <td>...</td>\n",
       "      <td>0</td>\n",
       "      <td>0</td>\n",
       "      <td>0</td>\n",
       "      <td>0</td>\n",
       "      <td>0</td>\n",
       "      <td>1</td>\n",
       "      <td>0</td>\n",
       "      <td>0</td>\n",
       "      <td>0</td>\n",
       "      <td>1</td>\n",
       "    </tr>\n",
       "  </tbody>\n",
       "</table>\n",
       "<p>110148 rows × 35 columns</p>\n",
       "</div>"
      ],
      "text/plain": [
       "       client_id       age  car  car_type  decline_app_cnt  good_work  \\\n",
       "0          25905  4.143135    1         1                0          0   \n",
       "1          63161  4.094345    0         0                0          0   \n",
       "2          25887  3.258097    1         0                2          0   \n",
       "3          16222  3.988984    0         0                0          0   \n",
       "4         101655  3.891820    0         0                0          1   \n",
       "...          ...       ...  ...       ...              ...        ...   \n",
       "36344      83775  3.637586    0         0                1          0   \n",
       "36345     106254  4.174387    1         1                0          0   \n",
       "36346      81852  3.465736    0         0                2          0   \n",
       "36347       1971  3.332205    0         0                1          0   \n",
       "36348      69044  3.663562    0         0                0          0   \n",
       "\n",
       "       score_bki  bki_request_cnt     income  foreign_passport  ...  \\\n",
       "0      -2.008753                1   9.798183                 0  ...   \n",
       "1      -1.532276                3   9.852247                 0  ...   \n",
       "2      -1.408142                1  10.308986                 1  ...   \n",
       "3      -2.057471                2   9.210440                 0  ...   \n",
       "4      -1.244723                1  10.308986                 1  ...   \n",
       "...          ...              ...        ...               ...  ...   \n",
       "36344  -1.744976                3   9.615872                 0  ...   \n",
       "36345  -2.293781                3  12.206078                 0  ...   \n",
       "36346  -0.940752                1  11.002117                 0  ...   \n",
       "36347  -1.242392                2  10.308986                 0  ...   \n",
       "36348  -1.507549                2   9.615872                 0  ...   \n",
       "\n",
       "       region_rating_60 region_rating_70  region_rating_80  education_GRD  \\\n",
       "0                     0                0                 0              0   \n",
       "1                     0                0                 0              0   \n",
       "2                     0                0                 1              0   \n",
       "3                     0                0                 0              0   \n",
       "4                     1                0                 0              1   \n",
       "...                 ...              ...               ...            ...   \n",
       "36344                 0                0                 0              0   \n",
       "36345                 1                0                 0              1   \n",
       "36346                 0                0                 0              1   \n",
       "36347                 0                0                 1              0   \n",
       "36348                 0                0                 0              0   \n",
       "\n",
       "       education_PGR  education_SCH  education_UGR  month_February  \\\n",
       "0                  0              1              0               1   \n",
       "1                  0              1              0               0   \n",
       "2                  0              1              0               1   \n",
       "3                  0              1              0               0   \n",
       "4                  0              0              0               0   \n",
       "...              ...            ...            ...             ...   \n",
       "36344              0              1              0               0   \n",
       "36345              0              0              0               0   \n",
       "36346              0              0              0               0   \n",
       "36347              0              0              1               0   \n",
       "36348              0              1              0               0   \n",
       "\n",
       "       month_January  month_March  \n",
       "0                  0            0  \n",
       "1                  0            1  \n",
       "2                  0            0  \n",
       "3                  1            0  \n",
       "4                  0            0  \n",
       "...              ...          ...  \n",
       "36344              0            1  \n",
       "36345              0            0  \n",
       "36346              0            1  \n",
       "36347              1            0  \n",
       "36348              0            1  \n",
       "\n",
       "[110148 rows x 35 columns]"
      ]
     },
     "execution_count": 26,
     "metadata": {},
     "output_type": "execute_result"
    }
   ],
   "source": [
    "data"
   ]
  },
  {
   "cell_type": "markdown",
   "metadata": {
    "papermill": {
     "duration": 0.083739,
     "end_time": "2020-11-30T14:41:10.821372",
     "exception": false,
     "start_time": "2020-11-30T14:41:10.737633",
     "status": "completed"
    },
    "tags": []
   },
   "source": [
    "# Modelling"
   ]
  },
  {
   "cell_type": "code",
   "execution_count": 27,
   "metadata": {
    "execution": {
     "iopub.execute_input": "2020-11-30T14:41:11.021691Z",
     "iopub.status.busy": "2020-11-30T14:41:11.020305Z",
     "iopub.status.idle": "2020-11-30T14:41:11.073417Z",
     "shell.execute_reply": "2020-11-30T14:41:11.072529Z"
    },
    "papermill": {
     "duration": 0.164953,
     "end_time": "2020-11-30T14:41:11.073629",
     "exception": false,
     "start_time": "2020-11-30T14:41:10.908676",
     "status": "completed"
    },
    "tags": []
   },
   "outputs": [],
   "source": [
    "# After all the processing is done, let's split the dataframe back to train and test\n",
    "train = data[data['label']=='train'].copy()\n",
    "test = data[data['label']=='test'].copy()\n",
    "train.drop(['label','client_id'], axis=1, inplace=True)\n",
    "test.drop('label', axis=1, inplace=True)"
   ]
  },
  {
   "cell_type": "code",
   "execution_count": 28,
   "metadata": {
    "execution": {
     "iopub.execute_input": "2020-11-30T14:41:11.277413Z",
     "iopub.status.busy": "2020-11-30T14:41:11.275307Z",
     "iopub.status.idle": "2020-11-30T14:41:11.284126Z",
     "shell.execute_reply": "2020-11-30T14:41:11.283476Z"
    },
    "papermill": {
     "duration": 0.122153,
     "end_time": "2020-11-30T14:41:11.284274",
     "exception": false,
     "start_time": "2020-11-30T14:41:11.162121",
     "status": "completed"
    },
    "tags": []
   },
   "outputs": [
    {
     "data": {
      "text/html": [
       "<div>\n",
       "<style scoped>\n",
       "    .dataframe tbody tr th:only-of-type {\n",
       "        vertical-align: middle;\n",
       "    }\n",
       "\n",
       "    .dataframe tbody tr th {\n",
       "        vertical-align: top;\n",
       "    }\n",
       "\n",
       "    .dataframe thead th {\n",
       "        text-align: right;\n",
       "    }\n",
       "</style>\n",
       "<table border=\"1\" class=\"dataframe\">\n",
       "  <thead>\n",
       "    <tr style=\"text-align: right;\">\n",
       "      <th></th>\n",
       "      <th>client_id</th>\n",
       "      <th>age</th>\n",
       "      <th>car</th>\n",
       "      <th>car_type</th>\n",
       "      <th>decline_app_cnt</th>\n",
       "      <th>good_work</th>\n",
       "      <th>score_bki</th>\n",
       "      <th>bki_request_cnt</th>\n",
       "      <th>income</th>\n",
       "      <th>foreign_passport</th>\n",
       "      <th>...</th>\n",
       "      <th>region_rating_60</th>\n",
       "      <th>region_rating_70</th>\n",
       "      <th>region_rating_80</th>\n",
       "      <th>education_GRD</th>\n",
       "      <th>education_PGR</th>\n",
       "      <th>education_SCH</th>\n",
       "      <th>education_UGR</th>\n",
       "      <th>month_February</th>\n",
       "      <th>month_January</th>\n",
       "      <th>month_March</th>\n",
       "    </tr>\n",
       "  </thead>\n",
       "  <tbody>\n",
       "    <tr>\n",
       "      <th>0</th>\n",
       "      <td>74835</td>\n",
       "      <td>3.401197</td>\n",
       "      <td>1</td>\n",
       "      <td>1</td>\n",
       "      <td>0</td>\n",
       "      <td>0</td>\n",
       "      <td>-2.271884</td>\n",
       "      <td>3</td>\n",
       "      <td>10.819798</td>\n",
       "      <td>0</td>\n",
       "      <td>...</td>\n",
       "      <td>0</td>\n",
       "      <td>0</td>\n",
       "      <td>0</td>\n",
       "      <td>1</td>\n",
       "      <td>0</td>\n",
       "      <td>0</td>\n",
       "      <td>0</td>\n",
       "      <td>0</td>\n",
       "      <td>0</td>\n",
       "      <td>1</td>\n",
       "    </tr>\n",
       "    <tr>\n",
       "      <th>1</th>\n",
       "      <td>17527</td>\n",
       "      <td>3.688879</td>\n",
       "      <td>0</td>\n",
       "      <td>0</td>\n",
       "      <td>5</td>\n",
       "      <td>0</td>\n",
       "      <td>-1.504999</td>\n",
       "      <td>2</td>\n",
       "      <td>8.517393</td>\n",
       "      <td>0</td>\n",
       "      <td>...</td>\n",
       "      <td>0</td>\n",
       "      <td>0</td>\n",
       "      <td>0</td>\n",
       "      <td>0</td>\n",
       "      <td>0</td>\n",
       "      <td>1</td>\n",
       "      <td>0</td>\n",
       "      <td>0</td>\n",
       "      <td>1</td>\n",
       "      <td>0</td>\n",
       "    </tr>\n",
       "    <tr>\n",
       "      <th>2</th>\n",
       "      <td>75683</td>\n",
       "      <td>3.931826</td>\n",
       "      <td>1</td>\n",
       "      <td>1</td>\n",
       "      <td>0</td>\n",
       "      <td>0</td>\n",
       "      <td>-1.691339</td>\n",
       "      <td>1</td>\n",
       "      <td>10.308986</td>\n",
       "      <td>1</td>\n",
       "      <td>...</td>\n",
       "      <td>0</td>\n",
       "      <td>0</td>\n",
       "      <td>0</td>\n",
       "      <td>0</td>\n",
       "      <td>0</td>\n",
       "      <td>0</td>\n",
       "      <td>1</td>\n",
       "      <td>0</td>\n",
       "      <td>0</td>\n",
       "      <td>1</td>\n",
       "    </tr>\n",
       "    <tr>\n",
       "      <th>3</th>\n",
       "      <td>26883</td>\n",
       "      <td>4.043051</td>\n",
       "      <td>0</td>\n",
       "      <td>0</td>\n",
       "      <td>0</td>\n",
       "      <td>0</td>\n",
       "      <td>-2.374182</td>\n",
       "      <td>1</td>\n",
       "      <td>9.741027</td>\n",
       "      <td>0</td>\n",
       "      <td>...</td>\n",
       "      <td>0</td>\n",
       "      <td>0</td>\n",
       "      <td>0</td>\n",
       "      <td>0</td>\n",
       "      <td>0</td>\n",
       "      <td>1</td>\n",
       "      <td>0</td>\n",
       "      <td>1</td>\n",
       "      <td>0</td>\n",
       "      <td>0</td>\n",
       "    </tr>\n",
       "    <tr>\n",
       "      <th>4</th>\n",
       "      <td>28862</td>\n",
       "      <td>3.663562</td>\n",
       "      <td>0</td>\n",
       "      <td>0</td>\n",
       "      <td>0</td>\n",
       "      <td>0</td>\n",
       "      <td>-2.487502</td>\n",
       "      <td>0</td>\n",
       "      <td>11.695255</td>\n",
       "      <td>0</td>\n",
       "      <td>...</td>\n",
       "      <td>0</td>\n",
       "      <td>0</td>\n",
       "      <td>1</td>\n",
       "      <td>1</td>\n",
       "      <td>0</td>\n",
       "      <td>0</td>\n",
       "      <td>0</td>\n",
       "      <td>1</td>\n",
       "      <td>0</td>\n",
       "      <td>0</td>\n",
       "    </tr>\n",
       "  </tbody>\n",
       "</table>\n",
       "<p>5 rows × 34 columns</p>\n",
       "</div>"
      ],
      "text/plain": [
       "   client_id       age  car  car_type  decline_app_cnt  good_work  score_bki  \\\n",
       "0      74835  3.401197    1         1                0          0  -2.271884   \n",
       "1      17527  3.688879    0         0                5          0  -1.504999   \n",
       "2      75683  3.931826    1         1                0          0  -1.691339   \n",
       "3      26883  4.043051    0         0                0          0  -2.374182   \n",
       "4      28862  3.663562    0         0                0          0  -2.487502   \n",
       "\n",
       "   bki_request_cnt     income  foreign_passport  ...  region_rating_60  \\\n",
       "0                3  10.819798                 0  ...                 0   \n",
       "1                2   8.517393                 0  ...                 0   \n",
       "2                1  10.308986                 1  ...                 0   \n",
       "3                1   9.741027                 0  ...                 0   \n",
       "4                0  11.695255                 0  ...                 0   \n",
       "\n",
       "   region_rating_70  region_rating_80  education_GRD  education_PGR  \\\n",
       "0                 0                 0              1              0   \n",
       "1                 0                 0              0              0   \n",
       "2                 0                 0              0              0   \n",
       "3                 0                 0              0              0   \n",
       "4                 0                 1              1              0   \n",
       "\n",
       "   education_SCH  education_UGR  month_February  month_January  month_March  \n",
       "0              0              0               0              0            1  \n",
       "1              1              0               0              1            0  \n",
       "2              0              1               0              0            1  \n",
       "3              1              0               1              0            0  \n",
       "4              0              0               1              0            0  \n",
       "\n",
       "[5 rows x 34 columns]"
      ]
     },
     "execution_count": 28,
     "metadata": {},
     "output_type": "execute_result"
    }
   ],
   "source": [
    "test.head()"
   ]
  },
  {
   "cell_type": "code",
   "execution_count": 29,
   "metadata": {
    "execution": {
     "iopub.execute_input": "2020-11-30T14:41:11.490913Z",
     "iopub.status.busy": "2020-11-30T14:41:11.477526Z",
     "iopub.status.idle": "2020-11-30T14:41:11.496938Z",
     "shell.execute_reply": "2020-11-30T14:41:11.496104Z"
    },
    "papermill": {
     "duration": 0.123066,
     "end_time": "2020-11-30T14:41:11.497098",
     "exception": false,
     "start_time": "2020-11-30T14:41:11.374032",
     "status": "completed"
    },
    "tags": []
   },
   "outputs": [
    {
     "data": {
      "text/html": [
       "<div>\n",
       "<style scoped>\n",
       "    .dataframe tbody tr th:only-of-type {\n",
       "        vertical-align: middle;\n",
       "    }\n",
       "\n",
       "    .dataframe tbody tr th {\n",
       "        vertical-align: top;\n",
       "    }\n",
       "\n",
       "    .dataframe thead th {\n",
       "        text-align: right;\n",
       "    }\n",
       "</style>\n",
       "<table border=\"1\" class=\"dataframe\">\n",
       "  <thead>\n",
       "    <tr style=\"text-align: right;\">\n",
       "      <th></th>\n",
       "      <th>age</th>\n",
       "      <th>car</th>\n",
       "      <th>car_type</th>\n",
       "      <th>decline_app_cnt</th>\n",
       "      <th>good_work</th>\n",
       "      <th>score_bki</th>\n",
       "      <th>bki_request_cnt</th>\n",
       "      <th>income</th>\n",
       "      <th>foreign_passport</th>\n",
       "      <th>default</th>\n",
       "      <th>...</th>\n",
       "      <th>region_rating_60</th>\n",
       "      <th>region_rating_70</th>\n",
       "      <th>region_rating_80</th>\n",
       "      <th>education_GRD</th>\n",
       "      <th>education_PGR</th>\n",
       "      <th>education_SCH</th>\n",
       "      <th>education_UGR</th>\n",
       "      <th>month_February</th>\n",
       "      <th>month_January</th>\n",
       "      <th>month_March</th>\n",
       "    </tr>\n",
       "  </thead>\n",
       "  <tbody>\n",
       "    <tr>\n",
       "      <th>0</th>\n",
       "      <td>4.143135</td>\n",
       "      <td>1</td>\n",
       "      <td>1</td>\n",
       "      <td>0</td>\n",
       "      <td>0</td>\n",
       "      <td>-2.008753</td>\n",
       "      <td>1</td>\n",
       "      <td>9.798183</td>\n",
       "      <td>0</td>\n",
       "      <td>0.0</td>\n",
       "      <td>...</td>\n",
       "      <td>0</td>\n",
       "      <td>0</td>\n",
       "      <td>0</td>\n",
       "      <td>0</td>\n",
       "      <td>0</td>\n",
       "      <td>1</td>\n",
       "      <td>0</td>\n",
       "      <td>1</td>\n",
       "      <td>0</td>\n",
       "      <td>0</td>\n",
       "    </tr>\n",
       "    <tr>\n",
       "      <th>1</th>\n",
       "      <td>4.094345</td>\n",
       "      <td>0</td>\n",
       "      <td>0</td>\n",
       "      <td>0</td>\n",
       "      <td>0</td>\n",
       "      <td>-1.532276</td>\n",
       "      <td>3</td>\n",
       "      <td>9.852247</td>\n",
       "      <td>0</td>\n",
       "      <td>0.0</td>\n",
       "      <td>...</td>\n",
       "      <td>0</td>\n",
       "      <td>0</td>\n",
       "      <td>0</td>\n",
       "      <td>0</td>\n",
       "      <td>0</td>\n",
       "      <td>1</td>\n",
       "      <td>0</td>\n",
       "      <td>0</td>\n",
       "      <td>0</td>\n",
       "      <td>1</td>\n",
       "    </tr>\n",
       "    <tr>\n",
       "      <th>2</th>\n",
       "      <td>3.258097</td>\n",
       "      <td>1</td>\n",
       "      <td>0</td>\n",
       "      <td>2</td>\n",
       "      <td>0</td>\n",
       "      <td>-1.408142</td>\n",
       "      <td>1</td>\n",
       "      <td>10.308986</td>\n",
       "      <td>1</td>\n",
       "      <td>0.0</td>\n",
       "      <td>...</td>\n",
       "      <td>0</td>\n",
       "      <td>0</td>\n",
       "      <td>1</td>\n",
       "      <td>0</td>\n",
       "      <td>0</td>\n",
       "      <td>1</td>\n",
       "      <td>0</td>\n",
       "      <td>1</td>\n",
       "      <td>0</td>\n",
       "      <td>0</td>\n",
       "    </tr>\n",
       "    <tr>\n",
       "      <th>3</th>\n",
       "      <td>3.988984</td>\n",
       "      <td>0</td>\n",
       "      <td>0</td>\n",
       "      <td>0</td>\n",
       "      <td>0</td>\n",
       "      <td>-2.057471</td>\n",
       "      <td>2</td>\n",
       "      <td>9.210440</td>\n",
       "      <td>0</td>\n",
       "      <td>0.0</td>\n",
       "      <td>...</td>\n",
       "      <td>0</td>\n",
       "      <td>0</td>\n",
       "      <td>0</td>\n",
       "      <td>0</td>\n",
       "      <td>0</td>\n",
       "      <td>1</td>\n",
       "      <td>0</td>\n",
       "      <td>0</td>\n",
       "      <td>1</td>\n",
       "      <td>0</td>\n",
       "    </tr>\n",
       "    <tr>\n",
       "      <th>4</th>\n",
       "      <td>3.891820</td>\n",
       "      <td>0</td>\n",
       "      <td>0</td>\n",
       "      <td>0</td>\n",
       "      <td>1</td>\n",
       "      <td>-1.244723</td>\n",
       "      <td>1</td>\n",
       "      <td>10.308986</td>\n",
       "      <td>1</td>\n",
       "      <td>0.0</td>\n",
       "      <td>...</td>\n",
       "      <td>1</td>\n",
       "      <td>0</td>\n",
       "      <td>0</td>\n",
       "      <td>1</td>\n",
       "      <td>0</td>\n",
       "      <td>0</td>\n",
       "      <td>0</td>\n",
       "      <td>0</td>\n",
       "      <td>0</td>\n",
       "      <td>0</td>\n",
       "    </tr>\n",
       "  </tbody>\n",
       "</table>\n",
       "<p>5 rows × 33 columns</p>\n",
       "</div>"
      ],
      "text/plain": [
       "        age  car  car_type  decline_app_cnt  good_work  score_bki  \\\n",
       "0  4.143135    1         1                0          0  -2.008753   \n",
       "1  4.094345    0         0                0          0  -1.532276   \n",
       "2  3.258097    1         0                2          0  -1.408142   \n",
       "3  3.988984    0         0                0          0  -2.057471   \n",
       "4  3.891820    0         0                0          1  -1.244723   \n",
       "\n",
       "   bki_request_cnt     income  foreign_passport  default  ...  \\\n",
       "0                1   9.798183                 0      0.0  ...   \n",
       "1                3   9.852247                 0      0.0  ...   \n",
       "2                1  10.308986                 1      0.0  ...   \n",
       "3                2   9.210440                 0      0.0  ...   \n",
       "4                1  10.308986                 1      0.0  ...   \n",
       "\n",
       "   region_rating_60  region_rating_70  region_rating_80  education_GRD  \\\n",
       "0                 0                 0                 0              0   \n",
       "1                 0                 0                 0              0   \n",
       "2                 0                 0                 1              0   \n",
       "3                 0                 0                 0              0   \n",
       "4                 1                 0                 0              1   \n",
       "\n",
       "   education_PGR  education_SCH  education_UGR  month_February  month_January  \\\n",
       "0              0              1              0               1              0   \n",
       "1              0              1              0               0              0   \n",
       "2              0              1              0               1              0   \n",
       "3              0              1              0               0              1   \n",
       "4              0              0              0               0              0   \n",
       "\n",
       "   month_March  \n",
       "0            0  \n",
       "1            1  \n",
       "2            0  \n",
       "3            0  \n",
       "4            0  \n",
       "\n",
       "[5 rows x 33 columns]"
      ]
     },
     "execution_count": 29,
     "metadata": {},
     "output_type": "execute_result"
    }
   ],
   "source": [
    "train.head()"
   ]
  },
  {
   "cell_type": "code",
   "execution_count": 30,
   "metadata": {
    "execution": {
     "iopub.execute_input": "2020-11-30T14:41:11.682069Z",
     "iopub.status.busy": "2020-11-30T14:41:11.681105Z",
     "iopub.status.idle": "2020-11-30T14:41:11.686689Z",
     "shell.execute_reply": "2020-11-30T14:41:11.685745Z"
    },
    "papermill": {
     "duration": 0.102517,
     "end_time": "2020-11-30T14:41:11.686914",
     "exception": false,
     "start_time": "2020-11-30T14:41:11.584397",
     "status": "completed"
    },
    "tags": []
   },
   "outputs": [],
   "source": [
    "Y = train['default']\n",
    "X = train.drop('default', axis=1, inplace=False)"
   ]
  },
  {
   "cell_type": "code",
   "execution_count": 31,
   "metadata": {
    "execution": {
     "iopub.execute_input": "2020-11-30T14:41:11.879564Z",
     "iopub.status.busy": "2020-11-30T14:41:11.878611Z",
     "iopub.status.idle": "2020-11-30T14:41:11.895157Z",
     "shell.execute_reply": "2020-11-30T14:41:11.894250Z"
    },
    "papermill": {
     "duration": 0.119389,
     "end_time": "2020-11-30T14:41:11.895318",
     "exception": false,
     "start_time": "2020-11-30T14:41:11.775929",
     "status": "completed"
    },
    "tags": []
   },
   "outputs": [],
   "source": [
    "X_train, X_valid, y_train, y_valid = train_test_split(X, Y, test_size=0.20, random_state=RANDOM_SEED)"
   ]
  },
  {
   "cell_type": "code",
   "execution_count": 32,
   "metadata": {
    "execution": {
     "iopub.execute_input": "2020-11-30T14:41:12.085717Z",
     "iopub.status.busy": "2020-11-30T14:41:12.084140Z",
     "iopub.status.idle": "2020-11-30T14:41:13.020511Z",
     "shell.execute_reply": "2020-11-30T14:41:13.019585Z"
    },
    "papermill": {
     "duration": 1.036593,
     "end_time": "2020-11-30T14:41:13.020673",
     "exception": false,
     "start_time": "2020-11-30T14:41:11.984080",
     "status": "completed"
    },
    "tags": []
   },
   "outputs": [
    {
     "name": "stderr",
     "output_type": "stream",
     "text": [
      "/opt/conda/lib/python3.7/site-packages/sklearn/linear_model/_logistic.py:764: ConvergenceWarning: lbfgs failed to converge (status=1):\n",
      "STOP: TOTAL NO. of ITERATIONS REACHED LIMIT.\n",
      "\n",
      "Increase the number of iterations (max_iter) or scale the data as shown in:\n",
      "    https://scikit-learn.org/stable/modules/preprocessing.html\n",
      "Please also refer to the documentation for alternative solver options:\n",
      "    https://scikit-learn.org/stable/modules/linear_model.html#logistic-regression\n",
      "  extra_warning_msg=_LOGISTIC_SOLVER_CONVERGENCE_MSG)\n"
     ]
    }
   ],
   "source": [
    "model = LogisticRegression()\n",
    "model.fit(X_train, y_train)\n",
    "y_pred_valid = model.predict_proba(X_valid)\n",
    "y_pred_valid_values = model.predict(X_valid)\n",
    "y_pred_valid\n",
    "probs_valid_default = y_pred_valid[:,1]"
   ]
  },
  {
   "cell_type": "code",
   "execution_count": 33,
   "metadata": {
    "execution": {
     "iopub.execute_input": "2020-11-30T14:41:13.207928Z",
     "iopub.status.busy": "2020-11-30T14:41:13.206532Z",
     "iopub.status.idle": "2020-11-30T14:41:13.415462Z",
     "shell.execute_reply": "2020-11-30T14:41:13.414562Z"
    },
    "papermill": {
     "duration": 0.305736,
     "end_time": "2020-11-30T14:41:13.415640",
     "exception": false,
     "start_time": "2020-11-30T14:41:13.109904",
     "status": "completed"
    },
    "tags": []
   },
   "outputs": [
    {
     "data": {
      "image/png": "[encoded data removed]",
      "text/plain": [
       "<Figure size 432x288 with 1 Axes>"
      ]
     },
     "metadata": {
      "needs_background": "light"
     },
     "output_type": "display_data"
    }
   ],
   "source": [
    "print_roc_curve(y_valid, probs_valid_default)"
   ]
  },
  {
   "cell_type": "code",
   "execution_count": 34,
   "metadata": {
    "execution": {
     "iopub.execute_input": "2020-11-30T14:41:13.601939Z",
     "iopub.status.busy": "2020-11-30T14:41:13.601122Z",
     "iopub.status.idle": "2020-11-30T14:41:13.839473Z",
     "shell.execute_reply": "2020-11-30T14:41:13.838732Z"
    },
    "papermill": {
     "duration": 0.33343,
     "end_time": "2020-11-30T14:41:13.839627",
     "exception": false,
     "start_time": "2020-11-30T14:41:13.506197",
     "status": "completed"
    },
    "tags": []
   },
   "outputs": [
    {
     "name": "stdout",
     "output_type": "stream",
     "text": [
      "[[12869    64]\n",
      " [ 1785    42]]\n",
      "F-1 score: 0.04345576823590275\n"
     ]
    },
    {
     "data": {
      "image/png": "[encoded data removed]",
      "text/plain": [
       "<Figure size 432x288 with 2 Axes>"
      ]
     },
     "metadata": {
      "needs_background": "light"
     },
     "output_type": "display_data"
    }
   ],
   "source": [
    "print_confusion_matrix(y_valid, y_pred_valid_values)"
   ]
  },
  {
   "cell_type": "markdown",
   "metadata": {
    "papermill": {
     "duration": 0.092529,
     "end_time": "2020-11-30T14:41:14.024977",
     "exception": false,
     "start_time": "2020-11-30T14:41:13.932448",
     "status": "completed"
    },
    "tags": []
   },
   "source": [
    "**Improvement achieved both when comparing ROC AUC and f-1 score (and confusion matrix). Therefore, let's use this set of hyperparameters for submission**"
   ]
  },
  {
   "cell_type": "code",
   "execution_count": 35,
   "metadata": {
    "execution": {
     "iopub.execute_input": "2020-11-30T14:41:14.226308Z",
     "iopub.status.busy": "2020-11-30T14:41:14.225232Z",
     "iopub.status.idle": "2020-11-30T14:48:22.827491Z",
     "shell.execute_reply": "2020-11-30T14:48:22.825970Z"
    },
    "papermill": {
     "duration": 428.710377,
     "end_time": "2020-11-30T14:48:22.827926",
     "exception": false,
     "start_time": "2020-11-30T14:41:14.117549",
     "status": "completed"
    },
    "tags": []
   },
   "outputs": [
    {
     "name": "stderr",
     "output_type": "stream",
     "text": [
      "/opt/conda/lib/python3.7/site-packages/sklearn/linear_model/_logistic.py:764: ConvergenceWarning: lbfgs failed to converge (status=1):\n",
      "STOP: TOTAL NO. of ITERATIONS REACHED LIMIT.\n",
      "\n",
      "Increase the number of iterations (max_iter) or scale the data as shown in:\n",
      "    https://scikit-learn.org/stable/modules/preprocessing.html\n",
      "Please also refer to the documentation for alternative solver options:\n",
      "    https://scikit-learn.org/stable/modules/linear_model.html#logistic-regression\n",
      "  extra_warning_msg=_LOGISTIC_SOLVER_CONVERGENCE_MSG)\n"
     ]
    }
   ],
   "source": [
    "c_values = [10, 1.0, 0.1, 0.01, 0.01]\n",
    "multi_class = ['auto', 'ovr', 'multinomial']\n",
    "iter_ = 50\n",
    "epsilon_stop = 1e-3\n",
    "\n",
    "# Creating hyperparameters\n",
    "grid = [\n",
    "    {'penalty': ['l1'], \n",
    "     'solver': ['liblinear'], \n",
    "     'C' : c_values,\n",
    "     'multi_class' : multi_class,\n",
    "     'class_weight' : ['none', 'balanced'],\n",
    "     'max_iter' : [iter_],\n",
    "     'tol':[epsilon_stop]\n",
    "    },\n",
    "    {'penalty': ['l2'], \n",
    "     'solver': ['newton-cg', 'lbfgs', 'liblinear', 'sag', 'saga'], \n",
    "     'C' : c_values,\n",
    "     'multi_class' : multi_class,\n",
    "     'class_weight' : ['none', 'balanced'],\n",
    "     'max_iter' : [iter_],\n",
    "     'tol':[epsilon_stop]\n",
    "    },\n",
    "    {'penalty': ['none'], \n",
    "     'solver': ['newton-cg', 'lbfgs', 'sag', 'saga'],\n",
    "     'multi_class' : multi_class,\n",
    "     'class_weight' : ['none', 'balanced'],\n",
    "     'max_iter' : [iter_],\n",
    "     'tol':[epsilon_stop]\n",
    "    }\n",
    "]\n",
    "\n",
    "model = LogisticRegression()\n",
    "model.fit(X_train, y_train)\n",
    "\n",
    "# Creating a search grid with 5-fold cross-validation based in a previously defined grid list\n",
    "clf = GridSearchCV(model, grid, cv=5, verbose=0, scoring='roc_auc', n_jobs=-1)\n",
    "\n",
    "best_model = clf.fit(X_train, y_train)"
   ]
  },
  {
   "cell_type": "code",
   "execution_count": 36,
   "metadata": {
    "execution": {
     "iopub.execute_input": "2020-11-30T14:48:23.035609Z",
     "iopub.status.busy": "2020-11-30T14:48:23.034094Z",
     "iopub.status.idle": "2020-11-30T14:48:23.039190Z",
     "shell.execute_reply": "2020-11-30T14:48:23.041647Z"
    },
    "papermill": {
     "duration": 0.115422,
     "end_time": "2020-11-30T14:48:23.041945",
     "exception": false,
     "start_time": "2020-11-30T14:48:22.926523",
     "status": "completed"
    },
    "tags": []
   },
   "outputs": [
    {
     "name": "stdout",
     "output_type": "stream",
     "text": [
      "\tC: 0.1\n",
      "\tclass_weight: 'balanced'\n",
      "\tdual: False\n",
      "\tfit_intercept: True\n",
      "\tintercept_scaling: 1\n",
      "\tl1_ratio: None\n",
      "\tmax_iter: 50\n",
      "\tmulti_class: 'multinomial'\n",
      "\tn_jobs: None\n",
      "\tpenalty: 'l2'\n",
      "\trandom_state: None\n",
      "\tsolver: 'newton-cg'\n",
      "\ttol: 0.001\n",
      "\tverbose: 0\n",
      "\twarm_start: False\n"
     ]
    }
   ],
   "source": [
    "# View best hyperparameters\n",
    "best_parameters = best_model.best_estimator_.get_params()\n",
    "for param_name in sorted(best_parameters.keys()):\n",
    "        print('\\t%s: %r' % (param_name, best_parameters[param_name]))"
   ]
  },
  {
   "cell_type": "code",
   "execution_count": 37,
   "metadata": {
    "execution": {
     "iopub.execute_input": "2020-11-30T14:48:23.237391Z",
     "iopub.status.busy": "2020-11-30T14:48:23.234801Z",
     "iopub.status.idle": "2020-11-30T14:48:26.654988Z",
     "shell.execute_reply": "2020-11-30T14:48:26.655968Z"
    },
    "papermill": {
     "duration": 3.523736,
     "end_time": "2020-11-30T14:48:26.656228",
     "exception": false,
     "start_time": "2020-11-30T14:48:23.132492",
     "status": "completed"
    },
    "tags": []
   },
   "outputs": [],
   "source": [
    "model1 = LogisticRegression(C=0.1, penalty='l2', solver='newton-cg', multi_class = 'multinomial', class_weight = 'balanced')\n",
    "model1.fit(X_train, y_train)\n",
    "y_pred_valid = model1.predict_proba(X_valid)\n",
    "y_pred_valid_values = model1.predict(X_valid)\n",
    "probs_valid_default = y_pred_valid[:,1]"
   ]
  },
  {
   "cell_type": "code",
   "execution_count": 38,
   "metadata": {
    "execution": {
     "iopub.execute_input": "2020-11-30T14:48:27.010248Z",
     "iopub.status.busy": "2020-11-30T14:48:27.009331Z",
     "iopub.status.idle": "2020-11-30T14:48:27.253258Z",
     "shell.execute_reply": "2020-11-30T14:48:27.252385Z"
    },
    "papermill": {
     "duration": 0.345573,
     "end_time": "2020-11-30T14:48:27.253418",
     "exception": false,
     "start_time": "2020-11-30T14:48:26.907845",
     "status": "completed"
    },
    "tags": []
   },
   "outputs": [
    {
     "data": {
      "image/png": "[encoded data removed]",
      "text/plain": [
       "<Figure size 432x288 with 1 Axes>"
      ]
     },
     "metadata": {
      "needs_background": "light"
     },
     "output_type": "display_data"
    }
   ],
   "source": [
    "print_roc_curve(y_valid, probs_valid_default)"
   ]
  },
  {
   "cell_type": "code",
   "execution_count": 39,
   "metadata": {
    "execution": {
     "iopub.execute_input": "2020-11-30T14:48:27.451258Z",
     "iopub.status.busy": "2020-11-30T14:48:27.450415Z",
     "iopub.status.idle": "2020-11-30T14:48:27.736484Z",
     "shell.execute_reply": "2020-11-30T14:48:27.735686Z"
    },
    "papermill": {
     "duration": 0.386896,
     "end_time": "2020-11-30T14:48:27.736635",
     "exception": false,
     "start_time": "2020-11-30T14:48:27.349739",
     "status": "completed"
    },
    "tags": []
   },
   "outputs": [
    {
     "name": "stdout",
     "output_type": "stream",
     "text": [
      "[[8624 4309]\n",
      " [ 581 1246]]\n",
      "F-1 score: 0.33757789217014356\n"
     ]
    },
    {
     "data": {
      "image/png": "[encoded data removed]",
      "text/plain": [
       "<Figure size 432x288 with 2 Axes>"
      ]
     },
     "metadata": {
      "needs_background": "light"
     },
     "output_type": "display_data"
    }
   ],
   "source": [
    "print_confusion_matrix(y_valid, y_pred_valid_values)"
   ]
  },
  {
   "cell_type": "markdown",
   "metadata": {
    "papermill": {
     "duration": 0.094352,
     "end_time": "2020-11-30T14:48:27.925493",
     "exception": false,
     "start_time": "2020-11-30T14:48:27.831141",
     "status": "completed"
    },
    "tags": []
   },
   "source": [
    "**Looks like this model performs approximately the same way when comparing ROC AUC, however it looks significantly better based on f-1 score and confusion matrix. Therefore, let's use this set of hyperparameters for submission**"
   ]
  },
  {
   "cell_type": "markdown",
   "metadata": {
    "papermill": {
     "duration": 0.09372,
     "end_time": "2020-11-30T14:48:28.118645",
     "exception": false,
     "start_time": "2020-11-30T14:48:28.024925",
     "status": "completed"
    },
    "tags": []
   },
   "source": [
    "# Submission"
   ]
  },
  {
   "cell_type": "code",
   "execution_count": 40,
   "metadata": {
    "execution": {
     "iopub.execute_input": "2020-11-30T14:48:28.321290Z",
     "iopub.status.busy": "2020-11-30T14:48:28.320499Z",
     "iopub.status.idle": "2020-11-30T14:48:28.333653Z",
     "shell.execute_reply": "2020-11-30T14:48:28.333020Z"
    },
    "papermill": {
     "duration": 0.122808,
     "end_time": "2020-11-30T14:48:28.333792",
     "exception": false,
     "start_time": "2020-11-30T14:48:28.210984",
     "status": "completed"
    },
    "tags": []
   },
   "outputs": [],
   "source": [
    "X_train = train.drop('default', axis=1, inplace=False)\n",
    "y_train = train['default']\n",
    "X_test = test.drop('default', axis=1, inplace=False)\n",
    "y_test = test['default']"
   ]
  },
  {
   "cell_type": "code",
   "execution_count": 41,
   "metadata": {
    "execution": {
     "iopub.execute_input": "2020-11-30T14:48:28.537529Z",
     "iopub.status.busy": "2020-11-30T14:48:28.536280Z",
     "iopub.status.idle": "2020-11-30T14:48:32.451106Z",
     "shell.execute_reply": "2020-11-30T14:48:32.450381Z"
    },
    "papermill": {
     "duration": 4.023759,
     "end_time": "2020-11-30T14:48:32.451273",
     "exception": false,
     "start_time": "2020-11-30T14:48:28.427514",
     "status": "completed"
    },
    "tags": []
   },
   "outputs": [],
   "source": [
    "model_final = LogisticRegression(C=0.1, penalty='l2', solver='newton-cg', multi_class = 'multinomial', class_weight = 'balanced')\n",
    "model_final.fit(X_train, y_train)\n",
    "submit = pd.DataFrame(X_test['client_id'])\n",
    "X_test.drop('client_id', axis=1, inplace=True)\n",
    "y_pred = model_final.predict_proba(X_test)\n",
    "y_predict_proba = y_pred[:,1]\n",
    "y_predict_values = model_final.predict(X_test)"
   ]
  },
  {
   "cell_type": "code",
   "execution_count": 42,
   "metadata": {
    "execution": {
     "iopub.execute_input": "2020-11-30T14:48:32.655582Z",
     "iopub.status.busy": "2020-11-30T14:48:32.653910Z",
     "iopub.status.idle": "2020-11-30T14:48:32.660390Z",
     "shell.execute_reply": "2020-11-30T14:48:32.659496Z"
    },
    "papermill": {
     "duration": 0.11017,
     "end_time": "2020-11-30T14:48:32.660542",
     "exception": false,
     "start_time": "2020-11-30T14:48:32.550372",
     "status": "completed"
    },
    "tags": []
   },
   "outputs": [],
   "source": [
    "submit['default']=y_predict_proba"
   ]
  },
  {
   "cell_type": "code",
   "execution_count": 43,
   "metadata": {
    "execution": {
     "iopub.execute_input": "2020-11-30T14:48:32.869350Z",
     "iopub.status.busy": "2020-11-30T14:48:32.868510Z",
     "iopub.status.idle": "2020-11-30T14:48:33.449013Z",
     "shell.execute_reply": "2020-11-30T14:48:33.448155Z"
    },
    "papermill": {
     "duration": 0.688104,
     "end_time": "2020-11-30T14:48:33.449174",
     "exception": false,
     "start_time": "2020-11-30T14:48:32.761070",
     "status": "completed"
    },
    "tags": []
   },
   "outputs": [],
   "source": [
    "submit.to_csv('submission.csv', index=False)"
   ]
  },
  {
   "cell_type": "code",
   "execution_count": 44,
   "metadata": {
    "execution": {
     "iopub.execute_input": "2020-11-30T14:48:33.668028Z",
     "iopub.status.busy": "2020-11-30T14:48:33.666923Z",
     "iopub.status.idle": "2020-11-30T14:48:33.673137Z",
     "shell.execute_reply": "2020-11-30T14:48:33.672359Z"
    },
    "papermill": {
     "duration": 0.123341,
     "end_time": "2020-11-30T14:48:33.673282",
     "exception": false,
     "start_time": "2020-11-30T14:48:33.549941",
     "status": "completed"
    },
    "tags": []
   },
   "outputs": [
    {
     "data": {
      "text/html": [
       "<div>\n",
       "<style scoped>\n",
       "    .dataframe tbody tr th:only-of-type {\n",
       "        vertical-align: middle;\n",
       "    }\n",
       "\n",
       "    .dataframe tbody tr th {\n",
       "        vertical-align: top;\n",
       "    }\n",
       "\n",
       "    .dataframe thead th {\n",
       "        text-align: right;\n",
       "    }\n",
       "</style>\n",
       "<table border=\"1\" class=\"dataframe\">\n",
       "  <thead>\n",
       "    <tr style=\"text-align: right;\">\n",
       "      <th></th>\n",
       "      <th>client_id</th>\n",
       "      <th>default</th>\n",
       "    </tr>\n",
       "  </thead>\n",
       "  <tbody>\n",
       "    <tr>\n",
       "      <th>0</th>\n",
       "      <td>74835</td>\n",
       "      <td>0.194598</td>\n",
       "    </tr>\n",
       "    <tr>\n",
       "      <th>1</th>\n",
       "      <td>17527</td>\n",
       "      <td>0.802504</td>\n",
       "    </tr>\n",
       "    <tr>\n",
       "      <th>2</th>\n",
       "      <td>75683</td>\n",
       "      <td>0.299005</td>\n",
       "    </tr>\n",
       "    <tr>\n",
       "      <th>3</th>\n",
       "      <td>26883</td>\n",
       "      <td>0.343918</td>\n",
       "    </tr>\n",
       "    <tr>\n",
       "      <th>4</th>\n",
       "      <td>28862</td>\n",
       "      <td>0.175832</td>\n",
       "    </tr>\n",
       "    <tr>\n",
       "      <th>...</th>\n",
       "      <td>...</td>\n",
       "      <td>...</td>\n",
       "    </tr>\n",
       "    <tr>\n",
       "      <th>36344</th>\n",
       "      <td>83775</td>\n",
       "      <td>0.788497</td>\n",
       "    </tr>\n",
       "    <tr>\n",
       "      <th>36345</th>\n",
       "      <td>106254</td>\n",
       "      <td>0.123771</td>\n",
       "    </tr>\n",
       "    <tr>\n",
       "      <th>36346</th>\n",
       "      <td>81852</td>\n",
       "      <td>0.763024</td>\n",
       "    </tr>\n",
       "    <tr>\n",
       "      <th>36347</th>\n",
       "      <td>1971</td>\n",
       "      <td>0.602377</td>\n",
       "    </tr>\n",
       "    <tr>\n",
       "      <th>36348</th>\n",
       "      <td>69044</td>\n",
       "      <td>0.664257</td>\n",
       "    </tr>\n",
       "  </tbody>\n",
       "</table>\n",
       "<p>36349 rows × 2 columns</p>\n",
       "</div>"
      ],
      "text/plain": [
       "       client_id   default\n",
       "0          74835  0.194598\n",
       "1          17527  0.802504\n",
       "2          75683  0.299005\n",
       "3          26883  0.343918\n",
       "4          28862  0.175832\n",
       "...          ...       ...\n",
       "36344      83775  0.788497\n",
       "36345     106254  0.123771\n",
       "36346      81852  0.763024\n",
       "36347       1971  0.602377\n",
       "36348      69044  0.664257\n",
       "\n",
       "[36349 rows x 2 columns]"
      ]
     },
     "execution_count": 44,
     "metadata": {},
     "output_type": "execute_result"
    }
   ],
   "source": [
    "submit"
   ]
  },
  {
   "cell_type": "markdown",
   "metadata": {
    "papermill": {
     "duration": 0.096052,
     "end_time": "2020-11-30T14:48:33.871601",
     "exception": false,
     "start_time": "2020-11-30T14:48:33.775549",
     "status": "completed"
    },
    "tags": []
   },
   "source": [
    "# Conclusions\n",
    "\n",
    "1) I definitely managed to improve the original model both based on ROC AUC and on f1-score.\n",
    "\n",
    "2) Unfortunately, I don't have more time to spend on this task. Therefore, the existing score will be my final result.\n",
    "\n",
    "3) Hyperparameters can definitely make a difference when trying to improve model performance.\n",
    "\n",
    "4) Avoiding data leaks between training and testing sets is extremely important!"
   ]
  },
  {
   "cell_type": "code",
   "execution_count": null,
   "metadata": {
    "papermill": {
     "duration": 0.097666,
     "end_time": "2020-11-30T14:48:34.063518",
     "exception": false,
     "start_time": "2020-11-30T14:48:33.965852",
     "status": "completed"
    },
    "tags": []
   },
   "outputs": [],
   "source": []
  }
 ],
 "metadata": {
  "kernelspec": {
   "display_name": "Python 3",
   "language": "python",
   "name": "python3"
  },
  "language_info": {
   "codemirror_mode": {
    "name": "ipython",
    "version": 3
   },
   "file_extension": ".py",
   "mimetype": "text/x-python",
   "name": "python",
   "nbconvert_exporter": "python",
   "pygments_lexer": "ipython3",
   "version": "3.8.5"
  },
  "papermill": {
   "duration": 466.927856,
   "end_time": "2020-11-30T14:48:34.283366",
   "environment_variables": {},
   "exception": null,
   "input_path": "__notebook__.ipynb",
   "output_path": "__notebook__.ipynb",
   "parameters": {},
   "start_time": "2020-11-30T14:40:47.355510",
   "version": "2.1.0"
  }
 },
 "nbformat": 4,
 "nbformat_minor": 4
}
